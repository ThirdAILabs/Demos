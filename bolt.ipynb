{
 "cells": [
  {
   "cell_type": "markdown",
   "metadata": {},
   "source": [
    "# Using BOLT\n",
    "## Basics.\n",
    "Let's learn to use the BOLT Python API with an exercise. We'll do a simple image classification task on the MNIST dataset. To perform this task, we'll build a fully connected neural network with the following specifications:\n",
    "* 784 (28 x 28) input dimension\n",
    "* A single 1000-dim hidden layer with ReLU\n",
    "* 10-dim output layer with Softmax"
   ]
  },
  {
   "cell_type": "code",
   "execution_count": null,
   "metadata": {},
   "outputs": [],
   "source": [
    "from thirdai import bolt\n",
    "\n",
    "mnist_layers = [\n",
    "    bolt.LayerConfig(dim=1000, activation_function=bolt.ActivationFunctions.ReLU),\n",
    "    bolt.LayerConfig(dim=10, activation_function=bolt.ActivationFunctions.Softmax)\n",
    "]\n",
    "mnist_network = bolt.Network(layers=mnist_layers, input_dim=784)"
   ]
  },
  {
   "cell_type": "markdown",
   "metadata": {},
   "source": [
    "We now load the mnist dataset with our data loader, imported from the dataset submodule."
   ]
  },
  {
   "cell_type": "code",
   "execution_count": null,
   "metadata": {},
   "outputs": [],
   "source": [
    "from thirdai import dataset\n",
    "\n",
    "print(\"Loading train dataset...\")\n",
    "mnist_train = dataset.load_bolt_svm_dataset(filename=\"datasets/mnist/mnist\", batch_size=256)\n",
    "\n",
    "print(\"Loading test dataset...\")\n",
    "mnist_test = dataset.load_bolt_svm_dataset(filename=\"datasets/mnist/mnist.t\", batch_size=256)\n"
   ]
  },
  {
   "cell_type": "markdown",
   "metadata": {},
   "source": [
    "We now train the network to minimize categorical cross entropy loss and measure our success with the categorical accuracy metric."
   ]
  },
  {
   "cell_type": "code",
   "execution_count": null,
   "metadata": {},
   "outputs": [],
   "source": [
    "mnist_network.train(train_data=mnist_train, loss_fn=bolt.CategoricalCrossEntropyLoss(), learning_rate=0.001, epochs=1)\n",
    "mnist_network.predict(test_data=mnist_test, metrics=[\"categorical_accuracy\"], verbose=True)"
   ]
  },
  {
   "cell_type": "markdown",
   "metadata": {},
   "source": [
    "## What about bigger models?\n",
    "We will now use a 10,000-dimensional hidden layer. Typically, a model of this size takes around 100ms to train per epoch. With BOLT, we can leverage sparsity by passing a `load_factor` argument to the layer configuration."
   ]
  },
  {
   "cell_type": "code",
   "execution_count": null,
   "metadata": {},
   "outputs": [],
   "source": [
    "bigger_layers = [\n",
    "    bolt.LayerConfig(dim=10000, load_factor=0.1, activation_function=bolt.ActivationFunctions.ReLU),\n",
    "    bolt.LayerConfig(dim=151, activation_function=bolt.ActivationFunctions.Softmax)\n",
    "]\n",
    "bigger_network = bolt.Network(layers=bigger_layers, input_dim=5512)"
   ]
  },
  {
   "cell_type": "code",
   "execution_count": null,
   "metadata": {},
   "outputs": [],
   "source": [
    "print(\"Loading train dataset...\")\n",
    "intent_class_train = dataset.load_bolt_svm_dataset(filename=\"datasets/intent_classification/train_shuf.svm\", batch_size=256)\n",
    "\n",
    "print(\"Loading test dataset...\")\n",
    "intent_class_test = dataset.load_bolt_svm_dataset(filename=\"datasets/intent_classification/test_shuf.svm\", batch_size=256)"
   ]
  },
  {
   "cell_type": "markdown",
   "metadata": {},
   "source": [
    "### Sparse inference\n",
    "You can also use sparsity to accelerate inference. Simply call the `enable_sparse_inference()` method. Notice that we call the method before the last training epoch. This freezes the hash functions, effectively locking specialized subnetworks for each input vector, and then fine-tunes these subnetworks."
   ]
  },
  {
   "cell_type": "code",
   "execution_count": null,
   "metadata": {},
   "outputs": [],
   "source": [
    "bigger_network.train(train_data=intent_class_train, loss_fn=bolt.CategoricalCrossEntropyLoss(), learning_rate=0.001, epochs=2)\n",
    "bigger_network.enable_sparse_inference()\n",
    "bigger_network.train(train_data=intent_class_train, loss_fn=bolt.CategoricalCrossEntropyLoss(), learning_rate=0.001, epochs=1)\n",
    "bigger_network.predict(test_data=intent_class_test, metrics=[\"categorical_accuracy\"], verbose=True)"
   ]
  },
  {
   "cell_type": "markdown",
   "metadata": {},
   "source": [
    "## What does this enable?\n",
    "We trained a 200 million parameter model on the Yelp Reviews public dataset. As a benchmark, we fine-tuned RoBERTa on this dataset and got an accuracy of 83%. Let's see how well BOLT does!"
   ]
  },
  {
   "cell_type": "code",
   "execution_count": null,
   "metadata": {},
   "outputs": [],
   "source": [
    "yelp_sentiment_analysis_layers = [\n",
    "    bolt.LayerConfig(dim=2000, \n",
    "        load_factor=0.2, \n",
    "        activation_function=bolt.ActivationFunctions.ReLU,\n",
    "        sampling_config=bolt.SamplingConfig(\n",
    "            hashes_per_table=4,\n",
    "            num_tables=64,\n",
    "            range_pow=4 * 3,\n",
    "            reservoir_size=64,\n",
    "        )),\n",
    "    bolt.LayerConfig(dim=2,\n",
    "        load_factor=1.0, \n",
    "        activation_function=bolt.ActivationFunctions.Softmax,\n",
    "        )     \n",
    "]\n",
    "yelp_sentiment_analysis_network = bolt.Network(layers=yelp_sentiment_analysis_layers, input_dim=100000)"
   ]
  },
  {
   "cell_type": "markdown",
   "metadata": {},
   "source": [
    "### Load & Save\n",
    "BOLT supports loading and saving networks from previous training sessions. \n",
    "\n",
    "To save, call the `save()` method on the trained network. "
   ]
  },
  {
   "cell_type": "code",
   "execution_count": null,
   "metadata": {},
   "outputs": [],
   "source": [
    "train_data = dataset.load_bolt_svm_dataset(\"../sa_demo/text_data/yelp_review_full_2class_train.svm\", 1024)\n",
    "yelp_sentiment_analysis_network.train(train_data,bolt.CategoricalCrossEntropyLoss(), 0.0001, epochs=20, rehash=6400, rebuild=128000,)\n",
    "yelp_sentiment_analysis_network.save(filename=\"yelp_sentiment_analysis_cp\")"
   ]
  },
  {
   "cell_type": "markdown",
   "metadata": {},
   "source": [
    "To load a trained model, call the `bolt.Network.load()` static method."
   ]
  },
  {
   "cell_type": "code",
   "execution_count": null,
   "metadata": {},
   "outputs": [],
   "source": [
    "test_data = dataset.load_bolt_svm_dataset(\"../sa_demo/text_data/yelp_review_full_2class_test.svm\", 256)\n",
    "yelp_sentiment_analysis_network = bolt.Network.load(filename=\"yelp_sentiment_analysis_cp\")\n",
    "res = yelp_sentiment_analysis_network.predict(test_data, metrics=[\"categorical_accuracy\"], verbose=True)"
   ]
  },
  {
   "cell_type": "markdown",
   "metadata": {},
   "source": [
    "We also trained an even larger 2 billion parameter model on a larger text corpus to build an interactive sentiment analysis demo. We first load the trained model."
   ]
  },
  {
   "cell_type": "code",
   "execution_count": null,
   "metadata": {},
   "outputs": [],
   "source": [
    "sentiment_analysis_network = bolt.Network.load(\"interactive_demo_cp\")"
   ]
  },
  {
   "cell_type": "markdown",
   "metadata": {},
   "source": [
    "Let's load the demo to get a feel of what this network can do!"
   ]
  },
  {
   "cell_type": "code",
   "execution_count": null,
   "metadata": {},
   "outputs": [],
   "source": [
    "import interactive_sentiment_analysis\n",
    "interactive_sentiment_analysis.demo(sentiment_analysis_network, verbose=False)"
   ]
  },
  {
   "cell_type": "markdown",
   "metadata": {},
   "source": [
    "### Let's talk speed."
   ]
  },
  {
   "cell_type": "code",
   "execution_count": null,
   "metadata": {},
   "outputs": [],
   "source": [
    "import time\n",
    "from transformers import pipeline\n",
    "sentiment_analysis = pipeline(\"sentiment-analysis\",model=\"siebert/sentiment-roberta-large-english\")\n",
    "t1 = time.time()\n",
    "out = sentiment_analysis(\"I love chocolate.\")\n",
    "t2 = time.time()\n",
    "print(out, flush=True)\n",
    "print('time elapsed: ',str(t2-t1),'s', flush=True)"
   ]
  },
  {
   "cell_type": "code",
   "execution_count": null,
   "metadata": {},
   "outputs": [],
   "source": [
    "# TODO: Make the accuracy disappear when doing interactive demo \n",
    "# TODO: Write scripts to download datasets and saved models\n",
    "# TODO: Clean up the interactive sentiment demo code"
   ]
  }
 ],
 "metadata": {
  "interpreter": {
   "hash": "31f2aee4e71d21fbe5cf8b01ff0e069b9275f58929596ceb00d14d90e3e16cd6"
  },
  "kernelspec": {
   "display_name": "Python 3 (ipykernel)",
   "language": "python",
   "name": "python3"
  },
  "language_info": {
   "codemirror_mode": {
    "name": "ipython",
    "version": 3
   },
   "file_extension": ".py",
   "mimetype": "text/x-python",
   "name": "python",
   "nbconvert_exporter": "python",
   "pygments_lexer": "ipython3",
   "version": "3.8.10"
  }
 },
 "nbformat": 4,
 "nbformat_minor": 2
}
