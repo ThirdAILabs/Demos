{
 "cells": [
  {
   "cell_type": "markdown",
   "metadata": {},
   "source": [
    "## **How to use BOLT,**<br> **fast training,**<br> **benefits of large sparse models,**<br> **and fast inference.**"
   ]
  },
  {
   "cell_type": "markdown",
   "metadata": {},
   "source": [
    "### Learning the syntax with simple exercise: MNIST"
   ]
  },
  {
   "cell_type": "code",
   "execution_count": 9,
   "metadata": {},
   "outputs": [
    {
     "name": "stdout",
     "output_type": "stream",
     "text": [
      "Read 60000 vectors from datasets/mnist/mnist_train.svm in 1 seconds\n",
      "Read 10000 vectors from datasets/mnist/mnist_test.svm in 0 seconds\n"
     ]
    }
   ],
   "source": [
    "from thirdai import dataset\n",
    "\n",
    "mnist_train = dataset.load_bolt_svm_dataset(\n",
    "    filename=\"datasets/mnist/mnist_train.svm\", \n",
    "    batch_size=256)\n",
    "\n",
    "mnist_test = dataset.load_bolt_svm_dataset(\n",
    "    filename=\"datasets/mnist/mnist_test.svm\", \n",
    "    batch_size=256)\n"
   ]
  },
  {
   "cell_type": "markdown",
   "metadata": {},
   "source": [
    "### We'll use a simple neural network with 784-dim input, 1000-dim hidden layer with ReLU, and 10-dim output layer with Softmax."
   ]
  },
  {
   "cell_type": "markdown",
   "metadata": {},
   "source": [
    "#### **Keras**"
   ]
  },
  {
   "cell_type": "code",
   "execution_count": null,
   "metadata": {},
   "outputs": [],
   "source": [
    "from tensorflow import keras\n",
    "\n",
    "keras_layers = [\n",
    "    keras.layers.Dense(\n",
    "        units=1000, \n",
    "        activation='relu', \n",
    "        input_shape=(784,)),\n",
    "        \n",
    "    keras.layers.Dense(\n",
    "        units=10, \n",
    "        activation='softmax')\n",
    "]\n",
    "\n",
    "keras_model = keras.Sequential(layers=keras_layers)"
   ]
  },
  {
   "cell_type": "markdown",
   "metadata": {},
   "source": [
    "#### **BOLT**"
   ]
  },
  {
   "cell_type": "code",
   "execution_count": 10,
   "metadata": {},
   "outputs": [
    {
     "name": "stdout",
     "output_type": "stream",
     "text": [
      "====== Building Fully Connected Network ======\n",
      "Layer: dim=1000, load_factor=1, act_func=ReLU\n",
      "Layer: dim=10, load_factor=1, act_func=Softmax\n",
      "Initialized Network in 0 seconds\n",
      "==============================\n"
     ]
    }
   ],
   "source": [
    "from thirdai import bolt\n",
    "\n",
    "mnist_layers = [\n",
    "    bolt.LayerConfig(\n",
    "        dim=1000, \n",
    "        activation_function=bolt.ActivationFunctions.ReLU),\n",
    "    \n",
    "    bolt.LayerConfig(\n",
    "        dim=10, \n",
    "        activation_function=bolt.ActivationFunctions.Softmax)\n",
    "]\n",
    "\n",
    "mnist_network = bolt.Network(\n",
    "    layers=mnist_layers, \n",
    "    input_dim=784)"
   ]
  },
  {
   "cell_type": "markdown",
   "metadata": {},
   "source": [
    "### We now train the network with categorical cross entropy loss function. <br> We'll measure how we do with the categorical accuracy metric."
   ]
  },
  {
   "cell_type": "code",
   "execution_count": 11,
   "metadata": {},
   "outputs": [
    {
     "name": "stdout",
     "output_type": "stream",
     "text": [
      "\n",
      "Epoch 1:\n",
      "[==================================================] 100%\n",
      "Processed 235 training batches in 17 seconds\n",
      "[==================================================] 100%\n",
      "Processed 40 test batches in 1139 milliseconds\n",
      "Accuracy: 0.957 (9570/10000)\n"
     ]
    },
    {
     "data": {
      "text/plain": [
       "({'test_time': [1139.0], 'categorical_accuracy': [0.957]},\n",
       " array([[2.0203961e-13, 6.6950145e-15, 8.7631264e-08, ..., 9.9999976e-01,\n",
       "         7.3752809e-12, 1.9612491e-08],\n",
       "        [6.2531448e-08, 1.0634946e-02, 9.8455715e-01, ..., 3.8345314e-13,\n",
       "         9.0156909e-06, 1.3750822e-13],\n",
       "        [9.8563596e-08, 9.9975282e-01, 1.5101575e-04, ..., 9.0950416e-05,\n",
       "         1.5711990e-06, 5.5146881e-08],\n",
       "        ...,\n",
       "        [3.6730616e-10, 2.7345276e-10, 3.0686084e-07, ..., 2.9980873e-07,\n",
       "         4.4744602e-06, 3.7992781e-05],\n",
       "        [1.5296929e-07, 3.3367795e-10, 5.6572174e-09, ..., 3.7851692e-08,\n",
       "         1.4965596e-05, 2.9628275e-10],\n",
       "        [9.5305452e-08, 2.1538201e-08, 2.2893113e-07, ..., 1.3075585e-13,\n",
       "         2.5810456e-09, 7.9025836e-10]], dtype=float32))"
      ]
     },
     "execution_count": 11,
     "metadata": {},
     "output_type": "execute_result"
    }
   ],
   "source": [
    "mnist_network.train(\n",
    "    train_data=mnist_train, \n",
    "    loss_fn=bolt.CategoricalCrossEntropyLoss(), \n",
    "    learning_rate=0.001, \n",
    "    epochs=1)\n",
    "\n",
    "mnist_network.predict(\n",
    "    test_data=mnist_test, \n",
    "    metrics=[\"categorical_accuracy\"], \n",
    "    verbose=True)"
   ]
  },
  {
   "cell_type": "markdown",
   "metadata": {},
   "source": [
    "### A more challenging task: <br> **Intent classification with CLINC150.**"
   ]
  },
  {
   "cell_type": "code",
   "execution_count": 12,
   "metadata": {},
   "outputs": [
    {
     "name": "stdout",
     "output_type": "stream",
     "text": [
      "Read 18100 vectors from datasets/intent_classification/intent_classification_train.svm in 4 seconds\n",
      "Read 5500 vectors from datasets/intent_classification/intent_classification_test.svm in 1 seconds\n"
     ]
    }
   ],
   "source": [
    "intent_class_train = dataset.load_bolt_svm_dataset(\n",
    "    filename=\"datasets/intent_classification/intent_classification_train.svm\", \n",
    "    batch_size=256)\n",
    "\n",
    "intent_class_test = dataset.load_bolt_svm_dataset(\n",
    "    filename=\"datasets/intent_classification/intent_classification_test.svm\", \n",
    "    batch_size=256)"
   ]
  },
  {
   "cell_type": "markdown",
   "metadata": {},
   "source": [
    "### Use `load_factor` to set the computational budget. <br> BOLT curates the best small network for each sample."
   ]
  },
  {
   "cell_type": "code",
   "execution_count": 13,
   "metadata": {},
   "outputs": [
    {
     "name": "stdout",
     "output_type": "stream",
     "text": [
      "====== Building Fully Connected Network ======\n",
      "Layer: dim=10000, load_factor=0.05, act_func=ReLU, sampling: {hashes_per_table=4, num_tables=256, range_pow=12, reservoir_size=9}\n",
      "Layer: dim=151, load_factor=1, act_func=Softmax\n",
      "Initialized Network in 3 seconds\n",
      "==============================\n"
     ]
    }
   ],
   "source": [
    "bigger_layers = [\n",
    "    bolt.LayerConfig(\n",
    "        dim=10000, \n",
    "        load_factor=0.05, \n",
    "        activation_function=bolt.ActivationFunctions.ReLU),\n",
    "    \n",
    "    bolt.LayerConfig(\n",
    "        dim=151, \n",
    "        activation_function=bolt.ActivationFunctions.Softmax)\n",
    "]\n",
    "\n",
    "bigger_network = bolt.Network(\n",
    "    layers=bigger_layers, \n",
    "    input_dim=5512)"
   ]
  },
  {
   "cell_type": "markdown",
   "metadata": {},
   "source": [
    "### You can also use sparsity to accelerate inference using `enable_sparse_inference()`."
   ]
  },
  {
   "cell_type": "code",
   "execution_count": 21,
   "metadata": {},
   "outputs": [
    {
     "name": "stdout",
     "output_type": "stream",
     "text": [
      "\n",
      "Epoch 7:\n",
      "[==================================================] 100%\n",
      "Processed 71 training batches in 12 seconds\n",
      "\n",
      "Epoch 8:\n",
      "[==================================================] 100%\n",
      "Processed 71 training batches in 12 seconds\n",
      "\n",
      "Epoch 9:\n",
      "[==================================================] 100%\n",
      "Processed 71 training batches in 12 seconds\n",
      "[==================================================] 100%\n",
      "Processed 22 test batches in 985 milliseconds\n",
      "Accuracy: 0.854545 (4700/5500)\n"
     ]
    },
    {
     "data": {
      "text/plain": [
       "({'test_time': [985.0], 'categorical_accuracy': [0.8545454545454545]},\n",
       " array([[4.2461420e-06, 1.7440190e-05, 8.6290788e-07, ..., 2.0201784e-05,\n",
       "         2.3369166e-06, 9.5637098e-08],\n",
       "        [3.9852392e-11, 2.0612914e-13, 1.7484965e-11, ..., 5.9651194e-11,\n",
       "         3.7956438e-09, 3.1947812e-07],\n",
       "        [3.5286228e-06, 1.8471538e-06, 1.5664868e-05, ..., 6.5738773e-06,\n",
       "         4.6795899e-06, 2.4628860e-05],\n",
       "        ...,\n",
       "        [5.7611720e-07, 2.4970962e-08, 2.9466128e-07, ..., 4.4146751e-07,\n",
       "         5.1395896e-06, 1.5663216e-05],\n",
       "        [2.2780972e-05, 5.7303455e-06, 6.1208934e-06, ..., 1.0568605e-05,\n",
       "         6.6681046e-06, 6.5553064e-07],\n",
       "        [6.4627606e-08, 2.2056440e-08, 7.1469043e-07, ..., 1.6240283e-07,\n",
       "         5.9759479e-08, 8.3421163e-08]], dtype=float32))"
      ]
     },
     "execution_count": 21,
     "metadata": {},
     "output_type": "execute_result"
    }
   ],
   "source": [
    "bigger_network.train(\n",
    "    train_data=intent_class_train, \n",
    "    loss_fn=bolt.CategoricalCrossEntropyLoss(), \n",
    "    learning_rate=0.001, \n",
    "    epochs=2)\n",
    "\n",
    "bigger_network.enable_sparse_inference()\n",
    "\n",
    "bigger_network.train(\n",
    "    train_data=intent_class_train, \n",
    "    loss_fn=bolt.CategoricalCrossEntropyLoss(), \n",
    "    learning_rate=0.001, \n",
    "    epochs=1)\n",
    "\n",
    "bigger_network.predict(\n",
    "    test_data=intent_class_test, \n",
    "    metrics=[\"categorical_accuracy\"], \n",
    "    verbose=True)"
   ]
  },
  {
   "cell_type": "markdown",
   "metadata": {},
   "source": [
    "### Even **larger** model for sentiment classification with **state-of-the-art accuracy.**"
   ]
  },
  {
   "cell_type": "code",
   "execution_count": 16,
   "metadata": {},
   "outputs": [
    {
     "name": "stdout",
     "output_type": "stream",
     "text": [
      "Read 520000 vectors from datasets/yelp_review/yelp_review_train.svm in 6 seconds\n",
      "Read 40000 vectors from datasets/yelp_review/yelp_review_test.svm in 0 seconds\n"
     ]
    }
   ],
   "source": [
    "train_data = dataset.load_bolt_svm_dataset(\n",
    "    filename=\"datasets/yelp_review/yelp_review_train.svm\", \n",
    "    batch_size=1024)\n",
    "\n",
    "test_data = dataset.load_bolt_svm_dataset(\n",
    "    filename=\"datasets/yelp_review/yelp_review_test.svm\", \n",
    "    batch_size=256)"
   ]
  },
  {
   "cell_type": "markdown",
   "metadata": {},
   "source": [
    "### Rich sparse features. <br> Configurable load factor. <br> **Train from scratch at any budget.**"
   ]
  },
  {
   "cell_type": "code",
   "execution_count": null,
   "metadata": {},
   "outputs": [],
   "source": [
    "yelp_sentiment_analysis_layers = [\n",
    "    \n",
    "    bolt.LayerConfig(dim=2000, \n",
    "        load_factor=0.2, \n",
    "        activation_function=bolt.ActivationFunctions.ReLU),\n",
    "    \n",
    "    bolt.LayerConfig(dim=2,\n",
    "        load_factor=1.0, \n",
    "        activation_function=bolt.ActivationFunctions.Softmax)     \n",
    "]\n",
    "\n",
    "yelp_sentiment_analysis_network = bolt.Network(\n",
    "    layers=yelp_sentiment_analysis_layers, \n",
    "    input_dim=100000)"
   ]
  },
  {
   "cell_type": "markdown",
   "metadata": {},
   "source": [
    "### Train a model once and save it for later with `save()`."
   ]
  },
  {
   "cell_type": "code",
   "execution_count": null,
   "metadata": {},
   "outputs": [],
   "source": [
    "yelp_sentiment_analysis_network.train(\n",
    "    train_data=train_data,\n",
    "    loss_fn=bolt.CategoricalCrossEntropyLoss(), \n",
    "    learning_rate=0.0001, \n",
    "    epochs=20, \n",
    "    rehash=6400, \n",
    "    rebuild=128000)\n",
    "\n",
    "yelp_sentiment_analysis_network.save(filename=\"saved_models/yelp_sentiment_analysis_savefile_2\")"
   ]
  },
  {
   "cell_type": "markdown",
   "metadata": {},
   "source": [
    "### Use the saved model with `load()`."
   ]
  },
  {
   "cell_type": "code",
   "execution_count": 17,
   "metadata": {},
   "outputs": [],
   "source": [
    "yelp_sentiment_analysis_network = bolt.Network.load(filename=\"saved_models/yelp_sentiment_analysis_savefile\")"
   ]
  },
  {
   "cell_type": "markdown",
   "metadata": {},
   "source": [
    "### RoBERTa: 83% accurate. Let's see how BOLT does!"
   ]
  },
  {
   "cell_type": "code",
   "execution_count": 18,
   "metadata": {},
   "outputs": [
    {
     "name": "stdout",
     "output_type": "stream",
     "text": [
      "[==================================================] 100%\n",
      "Processed 157 test batches in 16130 milliseconds\n",
      "Accuracy: 0.93095 (37238/40000)\n"
     ]
    }
   ],
   "source": [
    "res = yelp_sentiment_analysis_network.predict(\n",
    "    test_data=test_data, \n",
    "    metrics=[\"categorical_accuracy\"], \n",
    "    verbose=True)"
   ]
  },
  {
   "cell_type": "markdown",
   "metadata": {},
   "source": [
    "### We also trained an even larger **1 billion parameter** model on a large text corpus to build an interactive sentiment analysis demo."
   ]
  },
  {
   "cell_type": "code",
   "execution_count": 19,
   "metadata": {},
   "outputs": [],
   "source": [
    "sentiment_analysis_network = bolt.Network.load(filename=\"saved_models/interactive_demo_savefile\")"
   ]
  },
  {
   "cell_type": "markdown",
   "metadata": {},
   "source": [
    "### Let's run this!"
   ]
  },
  {
   "cell_type": "code",
   "execution_count": 20,
   "metadata": {},
   "outputs": [
    {
     "name": "stdout",
     "output_type": "stream",
     "text": [
      "PREDICTION RESULT: POSITIVE\n",
      "Predicted in 11.0 milliseconds.\n",
      "\n",
      "PREDICTION RESULT: NEGATIVE\n",
      "Predicted in 42.0 milliseconds.\n",
      "\n",
      "PREDICTION RESULT: NEGATIVE\n",
      "Predicted in 54.0 milliseconds.\n",
      "\n",
      "PREDICTION RESULT: NEGATIVE\n",
      "Predicted in 20.0 milliseconds.\n",
      "\n",
      "PREDICTION RESULT: POSITIVE\n",
      "Predicted in 19.0 milliseconds.\n",
      "\n",
      "PREDICTION RESULT: POSITIVE\n",
      "Predicted in 24.0 milliseconds.\n",
      "\n",
      "Exiting demo...\n"
     ]
    }
   ],
   "source": [
    "import interactive_sentiment_analysis\n",
    "interactive_sentiment_analysis.demo(sentiment_analysis_network, verbose=False)"
   ]
  },
  {
   "cell_type": "markdown",
   "metadata": {},
   "source": [
    "### Let's talk speed. How much faster is BOLT compared to RoBERTa?"
   ]
  },
  {
   "cell_type": "code",
   "execution_count": 12,
   "metadata": {},
   "outputs": [
    {
     "ename": "ModuleNotFoundError",
     "evalue": "No module named 'transformers'",
     "output_type": "error",
     "traceback": [
      "\u001b[0;31m---------------------------------------------------------------------------\u001b[0m",
      "\u001b[0;31mModuleNotFoundError\u001b[0m                       Traceback (most recent call last)",
      "\u001b[1;32m/home/benito/Demos/bolt.ipynb Cell 32'\u001b[0m in \u001b[0;36m<cell line: 2>\u001b[0;34m()\u001b[0m\n\u001b[1;32m      <a href='vscode-notebook-cell://ssh-remote%2Bremote10/home/benito/Demos/bolt.ipynb#ch0000031vscode-remote?line=0'>1</a>\u001b[0m \u001b[39mimport\u001b[39;00m \u001b[39mtime\u001b[39;00m\n\u001b[0;32m----> <a href='vscode-notebook-cell://ssh-remote%2Bremote10/home/benito/Demos/bolt.ipynb#ch0000031vscode-remote?line=1'>2</a>\u001b[0m \u001b[39mfrom\u001b[39;00m \u001b[39mtransformers\u001b[39;00m \u001b[39mimport\u001b[39;00m pipeline\n\u001b[1;32m      <a href='vscode-notebook-cell://ssh-remote%2Bremote10/home/benito/Demos/bolt.ipynb#ch0000031vscode-remote?line=2'>3</a>\u001b[0m sentiment_analysis \u001b[39m=\u001b[39m pipeline(\u001b[39m\"\u001b[39m\u001b[39msentiment-analysis\u001b[39m\u001b[39m\"\u001b[39m,model\u001b[39m=\u001b[39m\u001b[39m\"\u001b[39m\u001b[39msiebert/sentiment-roberta-large-english\u001b[39m\u001b[39m\"\u001b[39m)\n\u001b[1;32m      <a href='vscode-notebook-cell://ssh-remote%2Bremote10/home/benito/Demos/bolt.ipynb#ch0000031vscode-remote?line=3'>4</a>\u001b[0m t1 \u001b[39m=\u001b[39m time\u001b[39m.\u001b[39mtime()\n",
      "\u001b[0;31mModuleNotFoundError\u001b[0m: No module named 'transformers'"
     ]
    }
   ],
   "source": [
    "import time\n",
    "from transformers import pipeline\n",
    "sentiment_analysis = pipeline(\"sentiment-analysis\",model=\"siebert/sentiment-roberta-large-english\")\n",
    "t1 = time.time()\n",
    "out = sentiment_analysis(\"I love chocolate.\")\n",
    "t2 = time.time()\n",
    "print(out, flush=True)\n",
    "print('time elapsed: ',str(t2-t1),'s', flush=True)"
   ]
  }
 ],
 "metadata": {
  "interpreter": {
   "hash": "31f2aee4e71d21fbe5cf8b01ff0e069b9275f58929596ceb00d14d90e3e16cd6"
  },
  "kernelspec": {
   "display_name": "Python 3 (ipykernel)",
   "language": "python",
   "name": "python3"
  },
  "language_info": {
   "codemirror_mode": {
    "name": "ipython",
    "version": 3
   },
   "file_extension": ".py",
   "mimetype": "text/x-python",
   "name": "python",
   "nbconvert_exporter": "python",
   "pygments_lexer": "ipython3",
   "version": "3.8.10"
  }
 },
 "nbformat": 4,
 "nbformat_minor": 2
}
