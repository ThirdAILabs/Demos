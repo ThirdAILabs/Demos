{
 "cells": [
  {
   "cell_type": "markdown",
   "metadata": {},
   "source": [
    "# **IMPORTANT**\n",
    "For anything in this notebook to work, you need to install the ThirdAI package by signing up [here](https://www.thirdai.com/try-bolt/)."
   ]
  },
  {
   "cell_type": "markdown",
   "metadata": {},
   "source": [
    "## **Sentiment analysis with BOLT**\n",
    "\n",
    "We will walk through the entire process of building a sentiment analysis model with BOLT from data preprocessing all the way to inference. This notebook is structured as follows:\n",
    "1. Selecting and preprocessing the dataset\n",
    "2. Defining the BOLT network\n",
    "3. Training the network\n",
    "4. Inference"
   ]
  },
  {
   "cell_type": "markdown",
   "metadata": {},
   "source": [
    "### **1. Choosing and preprocessing the dataset**\n",
    "Let's start with the Yelp Reviews dataset. As the name suggests, it's a dataset containing reviews on Yelp, each labeled with a number between 0 to 4, inclusive, representing 1 to 5 star ratings. "
   ]
  },
  {
   "cell_type": "code",
   "execution_count": null,
   "metadata": {},
   "outputs": [],
   "source": [
    "# TODO: Introduce the datasets\n",
    "# TODO: Write the preprocessing script\n",
    "# TODO: Include the preprocessing script\n",
    "# TODO: WRITE INSTRUCTIONS FOR DOWNLOADING UNIVERSE / MAKE IT CLEAR THAT THEY NEED UNIVERSE\n",
    "from thirdai import dataset\n",
    "\n",
    "train_data = dataset.load_bolt_svm_dataset(\n",
    "    filename=\"/path/to/preprocessed_data_train.svm\", \n",
    "    batch_size=256)\n",
    "\n",
    "test_data = dataset.load_bolt_svm_dataset(\n",
    "    filename=\"/path/to/preprocessed_data_test.svm\", \n",
    "    batch_size=256)\n"
   ]
  },
  {
   "cell_type": "markdown",
   "metadata": {},
   "source": [
    "### **2. Defining the BOLT network**\n",
    "We want to define the network as follows:\n",
    "* 2000-dimensional hidden layer with ReLU activation function to introduce non-linearity.\n",
    "* 2-dimensional output layer with Softmax activation function to classify between \"positive\" and \"negative\" sentiments.\n",
    "\n",
    "\n",
    "In this demo version, we only support three activation functions: `ReLU`, `Softmax` and `Linear`."
   ]
  },
  {
   "cell_type": "code",
   "execution_count": null,
   "metadata": {},
   "outputs": [],
   "source": [
    "# TODO: Explain our choice of parameters in the markdown.\n",
    "# TODO: Explain LayerConfig and bolt.Network in markdown.\n",
    "from thirdai import bolt\n",
    "\n",
    "layers = [\n",
    "    \n",
    "    bolt.LayerConfig(\n",
    "        dim=2000, \n",
    "        load_factor=0.2, \n",
    "        activation_function=bolt.ActivationFunctions.ReLU),\n",
    "        \n",
    "    bolt.LayerConfig(\n",
    "        dim=2,\n",
    "        load_factor=1.0, \n",
    "        activation_function=bolt.ActivationFunctions.Softmax)     \n",
    "]\n",
    "\n",
    "network = bolt.Network(\n",
    "    layers=layers, \n",
    "    input_dim=100000)"
   ]
  },
  {
   "cell_type": "markdown",
   "metadata": {},
   "source": [
    "### 3. Training\n",
    "**The train() method**\n",
    "\n",
    "Train the BOLT network by calling the `train()` method, which accepts the following arguments:\n",
    "* `train_data`: BOLT dataset - The training dataset in a format returned by `dataset.load_bolt_svm_dataset()`.\n",
    "* `loss_fn`: BOLT loss function - The loss function to minimize. In this demo version, we only support the `bolt.CategoricalCrossEntropyLoss()` loss function.\n",
    "* `learning_rate`: Float - The learning rate for gradient descent. The default value is 0.0001.\n",
    "* `epochs`: Int - The number of training epochs (a full cycle through the dataset).\n",
    "* `verbose` (Optional): Boolean - Set to `True` to print a progress bar, accuracy, and elapsed time for each training epoch. Set to `False` otherwise. `True` by default.\n",
    "\n",
    "It then returns a dictionary that contains the loss value and elapsed time for each training epoch.\n",
    "\n",
    "\n",
    "**Training with sparse inference in mind**\n",
    "\n",
    "Call the `enable_sparse_inference()` method if you plan to use sparse inference. We recommend training the network for at least one more epoch after calling this method.\n",
    "\n",
    "\n",
    "**Saving a trained model**\n",
    "\n",
    "Simply call the `save()` method, passing in the location of the save file."
   ]
  },
  {
   "cell_type": "code",
   "execution_count": null,
   "metadata": {},
   "outputs": [],
   "source": [
    "# TODO: Explain enable sparse inference call.\n",
    "network.train(\n",
    "    train_data=train_data,\n",
    "    loss_fn=bolt.CategoricalCrossEntropyLoss(), \n",
    "    learning_rate=0.0001, \n",
    "    epochs=20, \n",
    "    verbose=True)\n",
    "\n",
    "network.enable_sparse_inference()\n",
    "\n",
    "network.train(\n",
    "    train_data=train_data,\n",
    "    loss_fn=bolt.CategoricalCrossEntropyLoss(), \n",
    "    learning_rate=0.0001, \n",
    "    epochs=1,\n",
    "    verbose=True)\n",
    "\n",
    "network.save(filename=\"path/to/savefile\") # Don't forget to change the filename parameter!"
   ]
  },
  {
   "cell_type": "markdown",
   "metadata": {},
   "source": [
    "### **4. Inference**\n",
    "**The predict() method**\n",
    "\n",
    "You can do inference by calling the `predict()` method, which accepts the following arguments:\n",
    "* `test_data`: BOLT dataset - The test dataset in a format returned by `dataset.load_bolt_svm_dataset()`.\n",
    "* `metrics`: List of strings - Metric to evaluate our prediction. In this demo version, we only support the `\"categorical_accuracy\"` metric.\n",
    "* `verbose` (Optional): Boolean - Set to `True` to print a progress bar, accuracy, and inference time. Set to `False` otherwise. `True` by default.\n",
    "\n",
    "It then returns a tuple of `(predictions, metric_results)`:\n",
    "* `predictions`: 2-dimensional Numpy array where - The i-th row is the output of the network for the i-th example in the dataset.\n",
    "* `metric_results`: Dictionary - A dictionary mapping each metric name in `metrics` to a list of values for that metric for each epoch (only one entry if returned by `predict()` method). An \"epoch_times\" metric is included by default.\n",
    "\n",
    "**Loading a saved model**\n",
    "\n",
    "To load a saved model, call the `bolt.Network.load()` method. We commented it out by default so you can just continue from the previous cell, but you can always uncomment it so you don't have to retrain the model the next time you visit this notebook!"
   ]
  },
  {
   "cell_type": "code",
   "execution_count": null,
   "metadata": {},
   "outputs": [],
   "source": [
    "# Uncomment the next line to load a saved model. Don't forget to change the filename parameter to the right path!\n",
    "# network = bolt.Network.load(filename=\"path/to/savefile\") \n",
    "\n",
    "predictions, metric_results = network.predict(\n",
    "    test_data=test_data, \n",
    "    metrics=[\"categorical_accuracy\"], \n",
    "    verbose=True)\n",
    "\n",
    "print(predictions)\n",
    "print(metric_results)"
   ]
  },
  {
   "cell_type": "markdown",
   "metadata": {},
   "source": [
    "### **Congratulations! You just mastered BOLT.**\n",
    "If you face any issue running this notebook, please reach out to us by posting about it on [GitHub Issues](https://github.com/ThirdAILabs/Demos/issues)."
   ]
  }
 ],
 "metadata": {
  "interpreter": {
   "hash": "31f2aee4e71d21fbe5cf8b01ff0e069b9275f58929596ceb00d14d90e3e16cd6"
  },
  "kernelspec": {
   "display_name": "Python 3 (ipykernel)",
   "language": "python",
   "name": "python3"
  },
  "language_info": {
   "codemirror_mode": {
    "name": "ipython",
    "version": 3
   },
   "file_extension": ".py",
   "mimetype": "text/x-python",
   "name": "python",
   "nbconvert_exporter": "python",
   "pygments_lexer": "ipython3",
   "version": "3.9.10"
  }
 },
 "nbformat": 4,
 "nbformat_minor": 2
}
