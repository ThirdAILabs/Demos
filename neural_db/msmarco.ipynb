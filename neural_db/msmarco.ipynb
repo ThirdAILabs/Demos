{
 "cells": [
  {
   "cell_type": "markdown",
   "metadata": {},
   "source": [
    "# SOTA Q&A over MSMarco text (~9M chunks) in 4 minutes on Laptop\n",
    "\n",
    "With ThirdAI we can build a Q&A system on MSMarco, the largest BEIR Benchmark — achieving SoTA accuracy in 4 minutes using just a Laptop."
   ]
  },
  {
   "cell_type": "code",
   "execution_count": 1,
   "metadata": {},
   "outputs": [
    {
     "name": "stdout",
     "output_type": "stream",
     "text": [
      "Defaulting to user installation because normal site-packages is not writeable\n",
      "Requirement already satisfied: thirdai>=0.7.40 in /home/pratik/.local/lib/python3.10/site-packages (0.7.41)\n",
      "Requirement already satisfied: SQLAlchemy>=2.0.0 in /home/pratik/.local/lib/python3.10/site-packages (from thirdai>=0.7.40) (2.0.23)\n",
      "Requirement already satisfied: PyTrie in /home/pratik/.local/lib/python3.10/site-packages (from thirdai>=0.7.40) (0.4.0)\n",
      "Requirement already satisfied: pydantic<2.5 in /home/pratik/.local/lib/python3.10/site-packages (from thirdai>=0.7.40) (2.4.2)\n",
      "Requirement already satisfied: nltk in /home/pratik/.local/lib/python3.10/site-packages (from thirdai>=0.7.40) (3.8.1)\n",
      "Requirement already satisfied: langchain in /home/pratik/.local/lib/python3.10/site-packages (from thirdai>=0.7.40) (0.0.350)\n",
      "Requirement already satisfied: simple-salesforce==1.12.5 in /home/pratik/.local/lib/python3.10/site-packages (from thirdai>=0.7.40) (1.12.5)\n",
      "Requirement already satisfied: pdfplumber in /home/pratik/.local/lib/python3.10/site-packages (from thirdai>=0.7.40) (0.10.3)\n",
      "Requirement already satisfied: url-normalize in /home/pratik/.local/lib/python3.10/site-packages (from thirdai>=0.7.40) (1.4.3)\n",
      "Requirement already satisfied: ipython in /home/pratik/.local/lib/python3.10/site-packages (from thirdai>=0.7.40) (8.14.0)\n",
      "Requirement already satisfied: python-docx in /home/pratik/.local/lib/python3.10/site-packages (from thirdai>=0.7.40) (1.1.0)\n",
      "Requirement already satisfied: sortedcontainers in /home/pratik/.local/lib/python3.10/site-packages (from thirdai>=0.7.40) (2.4.0)\n",
      "Requirement already satisfied: trafilatura in /home/pratik/.local/lib/python3.10/site-packages (from thirdai>=0.7.40) (1.6.3)\n",
      "Requirement already satisfied: pandas<=2.1.4,>=2.0.0 in /home/pratik/.local/lib/python3.10/site-packages (from thirdai>=0.7.40) (2.1.4)\n",
      "Requirement already satisfied: PyMuPDF==1.23.26 in /home/pratik/.local/lib/python3.10/site-packages (from thirdai>=0.7.40) (1.23.26)\n",
      "Requirement already satisfied: Office365-REST-Python-Client==2.5.1 in /home/pratik/.local/lib/python3.10/site-packages (from thirdai>=0.7.40) (2.5.1)\n",
      "Requirement already satisfied: bs4 in /home/pratik/.local/lib/python3.10/site-packages (from thirdai>=0.7.40) (0.0.1)\n",
      "Requirement already satisfied: lxml[html_clean] in /home/pratik/.local/lib/python3.10/site-packages (from thirdai>=0.7.40) (4.9.3)\n",
      "\u001b[33m  WARNING: lxml 4.9.3 does not provide the extra 'html_clean'\u001b[0m\n",
      "Requirement already satisfied: typing-extensions in /home/pratik/.local/lib/python3.10/site-packages (from thirdai>=0.7.40) (4.10.0)\n",
      "Requirement already satisfied: numpy in /home/pratik/.local/lib/python3.10/site-packages (from thirdai>=0.7.40) (1.26.4)\n",
      "Requirement already satisfied: requests in /home/pratik/.local/lib/python3.10/site-packages (from thirdai>=0.7.40) (2.31.0)\n",
      "Requirement already satisfied: scikit-learn in /home/pratik/.local/lib/python3.10/site-packages (from thirdai>=0.7.40) (1.3.2)\n",
      "Requirement already satisfied: unidecode in /home/pratik/.local/lib/python3.10/site-packages (from thirdai>=0.7.40) (1.3.7)\n",
      "Requirement already satisfied: greenlet!=0.4.17; platform_machine == \"aarch64\" or (platform_machine == \"ppc64le\" or (platform_machine == \"x86_64\" or (platform_machine == \"amd64\" or (platform_machine == \"AMD64\" or (platform_machine == \"win32\" or platform_machine == \"WIN32\"))))) in /home/pratik/.local/lib/python3.10/site-packages (from SQLAlchemy>=2.0.0->thirdai>=0.7.40) (3.0.1)\n",
      "Requirement already satisfied: pydantic-core==2.10.1 in /home/pratik/.local/lib/python3.10/site-packages (from pydantic<2.5->thirdai>=0.7.40) (2.10.1)\n",
      "Requirement already satisfied: annotated-types>=0.4.0 in /home/pratik/.local/lib/python3.10/site-packages (from pydantic<2.5->thirdai>=0.7.40) (0.6.0)\n",
      "Requirement already satisfied: joblib in /home/pratik/.local/lib/python3.10/site-packages (from nltk->thirdai>=0.7.40) (1.3.2)\n",
      "Requirement already satisfied: regex>=2021.8.3 in /home/pratik/.local/lib/python3.10/site-packages (from nltk->thirdai>=0.7.40) (2023.10.3)\n",
      "Requirement already satisfied: click in /home/pratik/.local/lib/python3.10/site-packages (from nltk->thirdai>=0.7.40) (8.1.7)\n",
      "Requirement already satisfied: tqdm in /home/pratik/.local/lib/python3.10/site-packages (from nltk->thirdai>=0.7.40) (4.66.1)\n",
      "Requirement already satisfied: langchain-core<0.2,>=0.1 in /home/pratik/.local/lib/python3.10/site-packages (from langchain->thirdai>=0.7.40) (0.1.0)\n",
      "Requirement already satisfied: async-timeout<5.0.0,>=4.0.0; python_version < \"3.11\" in /home/pratik/.local/lib/python3.10/site-packages (from langchain->thirdai>=0.7.40) (4.0.3)\n",
      "Requirement already satisfied: aiohttp<4.0.0,>=3.8.3 in /home/pratik/.local/lib/python3.10/site-packages (from langchain->thirdai>=0.7.40) (3.9.1)\n",
      "Requirement already satisfied: langchain-community<0.1,>=0.0.2 in /home/pratik/.local/lib/python3.10/site-packages (from langchain->thirdai>=0.7.40) (0.0.3)\n",
      "Requirement already satisfied: PyYAML>=5.3 in /home/pratik/.local/lib/python3.10/site-packages (from langchain->thirdai>=0.7.40) (6.0.1)\n",
      "Requirement already satisfied: jsonpatch<2.0,>=1.33 in /home/pratik/.local/lib/python3.10/site-packages (from langchain->thirdai>=0.7.40) (1.33)\n",
      "Requirement already satisfied: tenacity<9.0.0,>=8.1.0 in /home/pratik/.local/lib/python3.10/site-packages (from langchain->thirdai>=0.7.40) (8.2.3)\n",
      "Requirement already satisfied: dataclasses-json<0.7,>=0.5.7 in /home/pratik/.local/lib/python3.10/site-packages (from langchain->thirdai>=0.7.40) (0.6.3)\n",
      "Requirement already satisfied: langsmith<0.1.0,>=0.0.63 in /home/pratik/.local/lib/python3.10/site-packages (from langchain->thirdai>=0.7.40) (0.0.70)\n",
      "Requirement already satisfied: zeep in /home/pratik/.local/lib/python3.10/site-packages (from simple-salesforce==1.12.5->thirdai>=0.7.40) (4.2.1)\n",
      "Requirement already satisfied: pyjwt in /usr/lib/python3/dist-packages (from simple-salesforce==1.12.5->thirdai>=0.7.40) (1.7.1)\n",
      "Requirement already satisfied: cryptography in /home/pratik/.local/lib/python3.10/site-packages (from simple-salesforce==1.12.5->thirdai>=0.7.40) (41.0.7)\n",
      "Requirement already satisfied: more-itertools in /usr/lib/python3/dist-packages (from simple-salesforce==1.12.5->thirdai>=0.7.40) (4.2.0)\n",
      "Requirement already satisfied: pendulum in /home/pratik/.local/lib/python3.10/site-packages (from simple-salesforce==1.12.5->thirdai>=0.7.40) (2.1.2)\n",
      "Requirement already satisfied: pdfminer.six==20221105 in /home/pratik/.local/lib/python3.10/site-packages (from pdfplumber->thirdai>=0.7.40) (20221105)\n",
      "Requirement already satisfied: pypdfium2>=4.18.0 in /home/pratik/.local/lib/python3.10/site-packages (from pdfplumber->thirdai>=0.7.40) (4.25.0)\n",
      "Requirement already satisfied: Pillow>=9.1 in /home/pratik/.local/lib/python3.10/site-packages (from pdfplumber->thirdai>=0.7.40) (10.1.0)\n",
      "Requirement already satisfied: six in /home/pratik/.local/lib/python3.10/site-packages (from url-normalize->thirdai>=0.7.40) (1.16.0)\n",
      "Requirement already satisfied: decorator in /home/pratik/.local/lib/python3.10/site-packages (from ipython->thirdai>=0.7.40) (5.1.1)\n",
      "Requirement already satisfied: prompt-toolkit!=3.0.37,<3.1.0,>=3.0.30 in /home/pratik/.local/lib/python3.10/site-packages (from ipython->thirdai>=0.7.40) (3.0.39)\n",
      "Requirement already satisfied: pygments>=2.4.0 in /home/pratik/.local/lib/python3.10/site-packages (from ipython->thirdai>=0.7.40) (2.16.1)\n",
      "Requirement already satisfied: pickleshare in /home/pratik/.local/lib/python3.10/site-packages (from ipython->thirdai>=0.7.40) (0.7.5)\n",
      "Requirement already satisfied: matplotlib-inline in /home/pratik/.local/lib/python3.10/site-packages (from ipython->thirdai>=0.7.40) (0.1.6)\n",
      "Requirement already satisfied: stack-data in /home/pratik/.local/lib/python3.10/site-packages (from ipython->thirdai>=0.7.40) (0.6.2)\n",
      "Requirement already satisfied: jedi>=0.16 in /home/pratik/.local/lib/python3.10/site-packages (from ipython->thirdai>=0.7.40) (0.19.0)\n",
      "Requirement already satisfied: backcall in /home/pratik/.local/lib/python3.10/site-packages (from ipython->thirdai>=0.7.40) (0.2.0)\n",
      "Requirement already satisfied: traitlets>=5 in /home/pratik/.local/lib/python3.10/site-packages (from ipython->thirdai>=0.7.40) (5.9.0)\n",
      "Requirement already satisfied: pexpect>4.3; sys_platform != \"win32\" in /usr/lib/python3/dist-packages (from ipython->thirdai>=0.7.40) (4.6.0)\n",
      "Requirement already satisfied: urllib3<3,>=1.26; python_version >= \"3.7\" in /home/pratik/.local/lib/python3.10/site-packages (from trafilatura->thirdai>=0.7.40) (2.1.0)\n",
      "Requirement already satisfied: certifi in /home/pratik/.local/lib/python3.10/site-packages (from trafilatura->thirdai>=0.7.40) (2024.2.2)\n",
      "Requirement already satisfied: justext>=3.0.0 in /home/pratik/.local/lib/python3.10/site-packages (from trafilatura->thirdai>=0.7.40) (3.0.0)\n",
      "Requirement already satisfied: htmldate>=1.6.0 in /home/pratik/.local/lib/python3.10/site-packages (from trafilatura->thirdai>=0.7.40) (1.6.0)\n",
      "Requirement already satisfied: charset-normalizer>=3.2.0; python_version >= \"3.7\" in /home/pratik/.local/lib/python3.10/site-packages (from trafilatura->thirdai>=0.7.40) (3.3.2)\n",
      "Requirement already satisfied: courlan>=0.9.5 in /home/pratik/.local/lib/python3.10/site-packages (from trafilatura->thirdai>=0.7.40) (0.9.5)\n",
      "Requirement already satisfied: pytz>=2020.1 in /home/pratik/.local/lib/python3.10/site-packages (from pandas<=2.1.4,>=2.0.0->thirdai>=0.7.40) (2024.1)\n",
      "Requirement already satisfied: python-dateutil>=2.8.2 in /home/pratik/.local/lib/python3.10/site-packages (from pandas<=2.1.4,>=2.0.0->thirdai>=0.7.40) (2.9.0.post0)\n",
      "Requirement already satisfied: tzdata>=2022.1 in /home/pratik/.local/lib/python3.10/site-packages (from pandas<=2.1.4,>=2.0.0->thirdai>=0.7.40) (2024.1)\n",
      "Requirement already satisfied: PyMuPDFb==1.23.22 in /home/pratik/.local/lib/python3.10/site-packages (from PyMuPDF==1.23.26->thirdai>=0.7.40) (1.23.22)\n",
      "Requirement already satisfied: msal in /home/pratik/.local/lib/python3.10/site-packages (from Office365-REST-Python-Client==2.5.1->thirdai>=0.7.40) (1.26.0)\n",
      "Requirement already satisfied: beautifulsoup4 in /home/pratik/.local/lib/python3.10/site-packages (from bs4->thirdai>=0.7.40) (4.12.2)\n",
      "Requirement already satisfied: idna<4,>=2.5 in /home/pratik/.local/lib/python3.10/site-packages (from requests->thirdai>=0.7.40) (3.6)\n",
      "Requirement already satisfied: scipy>=1.5.0 in /home/pratik/.local/lib/python3.10/site-packages (from scikit-learn->thirdai>=0.7.40) (1.11.4)\n",
      "Requirement already satisfied: threadpoolctl>=2.0.0 in /home/pratik/.local/lib/python3.10/site-packages (from scikit-learn->thirdai>=0.7.40) (3.2.0)\n",
      "Requirement already satisfied: packaging<24.0,>=23.2 in /home/pratik/.local/lib/python3.10/site-packages (from langchain-core<0.2,>=0.1->langchain->thirdai>=0.7.40) (23.2)\n",
      "Requirement already satisfied: anyio<5,>=3 in /home/pratik/.local/lib/python3.10/site-packages (from langchain-core<0.2,>=0.1->langchain->thirdai>=0.7.40) (4.1.0)\n",
      "Requirement already satisfied: aiosignal>=1.1.2 in /home/pratik/.local/lib/python3.10/site-packages (from aiohttp<4.0.0,>=3.8.3->langchain->thirdai>=0.7.40) (1.3.1)\n",
      "Requirement already satisfied: multidict<7.0,>=4.5 in /home/pratik/.local/lib/python3.10/site-packages (from aiohttp<4.0.0,>=3.8.3->langchain->thirdai>=0.7.40) (6.0.4)\n",
      "Requirement already satisfied: attrs>=17.3.0 in /home/pratik/.local/lib/python3.10/site-packages (from aiohttp<4.0.0,>=3.8.3->langchain->thirdai>=0.7.40) (23.1.0)\n",
      "Requirement already satisfied: frozenlist>=1.1.1 in /home/pratik/.local/lib/python3.10/site-packages (from aiohttp<4.0.0,>=3.8.3->langchain->thirdai>=0.7.40) (1.4.0)\n",
      "Requirement already satisfied: yarl<2.0,>=1.0 in /home/pratik/.local/lib/python3.10/site-packages (from aiohttp<4.0.0,>=3.8.3->langchain->thirdai>=0.7.40) (1.9.4)\n",
      "Requirement already satisfied: jsonpointer>=1.9 in /usr/lib/python3/dist-packages (from jsonpatch<2.0,>=1.33->langchain->thirdai>=0.7.40) (2.0)\n",
      "Requirement already satisfied: marshmallow<4.0.0,>=3.18.0 in /home/pratik/.local/lib/python3.10/site-packages (from dataclasses-json<0.7,>=0.5.7->langchain->thirdai>=0.7.40) (3.20.1)\n",
      "Requirement already satisfied: typing-inspect<1,>=0.4.0 in /home/pratik/.local/lib/python3.10/site-packages (from dataclasses-json<0.7,>=0.5.7->langchain->thirdai>=0.7.40) (0.9.0)\n",
      "Requirement already satisfied: requests-file>=1.5.1 in /home/pratik/.local/lib/python3.10/site-packages (from zeep->simple-salesforce==1.12.5->thirdai>=0.7.40) (1.5.1)\n",
      "Requirement already satisfied: isodate>=0.5.4 in /home/pratik/.local/lib/python3.10/site-packages (from zeep->simple-salesforce==1.12.5->thirdai>=0.7.40) (0.6.1)\n",
      "Requirement already satisfied: platformdirs>=1.4.0 in /home/pratik/.local/lib/python3.10/site-packages (from zeep->simple-salesforce==1.12.5->thirdai>=0.7.40) (3.10.0)\n",
      "Requirement already satisfied: requests-toolbelt>=0.7.1 in /home/pratik/.local/lib/python3.10/site-packages (from zeep->simple-salesforce==1.12.5->thirdai>=0.7.40) (1.0.0)\n",
      "Requirement already satisfied: cffi>=1.12 in /home/pratik/.local/lib/python3.10/site-packages (from cryptography->simple-salesforce==1.12.5->thirdai>=0.7.40) (1.16.0)\n",
      "Requirement already satisfied: pytzdata>=2020.1 in /home/pratik/.local/lib/python3.10/site-packages (from pendulum->simple-salesforce==1.12.5->thirdai>=0.7.40) (2020.1)\n",
      "Requirement already satisfied: wcwidth in /home/pratik/.local/lib/python3.10/site-packages (from prompt-toolkit!=3.0.37,<3.1.0,>=3.0.30->ipython->thirdai>=0.7.40) (0.2.13)\n",
      "Requirement already satisfied: pure-eval in /home/pratik/.local/lib/python3.10/site-packages (from stack-data->ipython->thirdai>=0.7.40) (0.2.2)\n",
      "Requirement already satisfied: asttokens>=2.1.0 in /home/pratik/.local/lib/python3.10/site-packages (from stack-data->ipython->thirdai>=0.7.40) (2.2.1)\n",
      "Requirement already satisfied: executing>=1.2.0 in /home/pratik/.local/lib/python3.10/site-packages (from stack-data->ipython->thirdai>=0.7.40) (1.2.0)\n",
      "Requirement already satisfied: parso<0.9.0,>=0.8.3 in /home/pratik/.local/lib/python3.10/site-packages (from jedi>=0.16->ipython->thirdai>=0.7.40) (0.8.3)\n",
      "Requirement already satisfied: dateparser>=1.1.2 in /home/pratik/.local/lib/python3.10/site-packages (from htmldate>=1.6.0->trafilatura->thirdai>=0.7.40) (1.2.0)\n",
      "Requirement already satisfied: tld>=0.13; python_version >= \"3.7\" in /home/pratik/.local/lib/python3.10/site-packages (from courlan>=0.9.5->trafilatura->thirdai>=0.7.40) (0.13)\n",
      "Requirement already satisfied: langcodes>=3.3.0 in /home/pratik/.local/lib/python3.10/site-packages (from courlan>=0.9.5->trafilatura->thirdai>=0.7.40) (3.3.0)\n",
      "Requirement already satisfied: soupsieve>1.2 in /home/pratik/.local/lib/python3.10/site-packages (from beautifulsoup4->bs4->thirdai>=0.7.40) (2.5)\n",
      "Requirement already satisfied: exceptiongroup>=1.0.2; python_version < \"3.11\" in /home/pratik/.local/lib/python3.10/site-packages (from anyio<5,>=3->langchain-core<0.2,>=0.1->langchain->thirdai>=0.7.40) (1.2.0)\n",
      "Requirement already satisfied: sniffio>=1.1 in /home/pratik/.local/lib/python3.10/site-packages (from anyio<5,>=3->langchain-core<0.2,>=0.1->langchain->thirdai>=0.7.40) (1.3.0)\n",
      "Requirement already satisfied: mypy-extensions>=0.3.0 in /home/pratik/.local/lib/python3.10/site-packages (from typing-inspect<1,>=0.4.0->dataclasses-json<0.7,>=0.5.7->langchain->thirdai>=0.7.40) (1.0.0)\n",
      "Requirement already satisfied: pycparser in /home/pratik/.local/lib/python3.10/site-packages (from cffi>=1.12->cryptography->simple-salesforce==1.12.5->thirdai>=0.7.40) (2.21)\n",
      "Requirement already satisfied: tzlocal in /home/pratik/.local/lib/python3.10/site-packages (from dateparser>=1.1.2->htmldate>=1.6.0->trafilatura->thirdai>=0.7.40) (5.2)\n",
      "Defaulting to user installation because normal site-packages is not writeable\n",
      "Collecting beir\n",
      "  Downloading beir-2.0.0.tar.gz (53 kB)\n",
      "\u001b[K     |████████████████████████████████| 53 kB 2.8 MB/s eta 0:00:011\n",
      "\u001b[?25hRequirement already satisfied: datasets in /home/pratik/.local/lib/python3.10/site-packages (from beir) (2.15.0)\n",
      "Requirement already satisfied: elasticsearch==7.9.1 in /home/pratik/.local/lib/python3.10/site-packages (from beir) (7.9.1)\n",
      "Requirement already satisfied: faiss_cpu in /home/pratik/.local/lib/python3.10/site-packages (from beir) (1.7.4)\n",
      "Requirement already satisfied: pytrec_eval in /home/pratik/.local/lib/python3.10/site-packages (from beir) (0.5)\n",
      "Requirement already satisfied: sentence-transformers in /home/pratik/.local/lib/python3.10/site-packages (from beir) (2.2.2)\n",
      "Requirement already satisfied: pandas in /home/pratik/.local/lib/python3.10/site-packages (from datasets->beir) (2.1.4)\n",
      "Requirement already satisfied: numpy>=1.17 in /home/pratik/.local/lib/python3.10/site-packages (from datasets->beir) (1.26.4)\n",
      "Requirement already satisfied: dill<0.3.8,>=0.3.0 in /home/pratik/.local/lib/python3.10/site-packages (from datasets->beir) (0.3.7)\n",
      "Requirement already satisfied: packaging in /home/pratik/.local/lib/python3.10/site-packages (from datasets->beir) (23.2)\n",
      "Requirement already satisfied: pyarrow>=8.0.0 in /home/pratik/.local/lib/python3.10/site-packages (from datasets->beir) (14.0.1)\n",
      "Requirement already satisfied: requests>=2.19.0 in /home/pratik/.local/lib/python3.10/site-packages (from datasets->beir) (2.31.0)\n",
      "Requirement already satisfied: tqdm>=4.62.1 in /home/pratik/.local/lib/python3.10/site-packages (from datasets->beir) (4.66.1)\n",
      "Requirement already satisfied: aiohttp in /home/pratik/.local/lib/python3.10/site-packages (from datasets->beir) (3.9.1)\n",
      "Requirement already satisfied: pyyaml>=5.1 in /home/pratik/.local/lib/python3.10/site-packages (from datasets->beir) (6.0.1)\n",
      "Requirement already satisfied: multiprocess in /home/pratik/.local/lib/python3.10/site-packages (from datasets->beir) (0.70.15)\n",
      "Requirement already satisfied: pyarrow-hotfix in /home/pratik/.local/lib/python3.10/site-packages (from datasets->beir) (0.6)\n",
      "Requirement already satisfied: huggingface-hub>=0.18.0 in /home/pratik/.local/lib/python3.10/site-packages (from datasets->beir) (0.19.4)\n",
      "Requirement already satisfied: fsspec[http]<=2023.10.0,>=2023.1.0 in /home/pratik/.local/lib/python3.10/site-packages (from datasets->beir) (2023.10.0)\n",
      "Requirement already satisfied: xxhash in /home/pratik/.local/lib/python3.10/site-packages (from datasets->beir) (3.4.1)\n",
      "Requirement already satisfied: certifi in /home/pratik/.local/lib/python3.10/site-packages (from elasticsearch==7.9.1->beir) (2024.2.2)\n",
      "Requirement already satisfied: urllib3>=1.21.1 in /home/pratik/.local/lib/python3.10/site-packages (from elasticsearch==7.9.1->beir) (2.1.0)\n",
      "Requirement already satisfied: scikit-learn in /home/pratik/.local/lib/python3.10/site-packages (from sentence-transformers->beir) (1.3.2)\n",
      "Requirement already satisfied: nltk in /home/pratik/.local/lib/python3.10/site-packages (from sentence-transformers->beir) (3.8.1)\n",
      "Requirement already satisfied: torchvision in /home/pratik/.local/lib/python3.10/site-packages (from sentence-transformers->beir) (0.16.1)\n",
      "Requirement already satisfied: transformers<5.0.0,>=4.6.0 in /home/pratik/.local/lib/python3.10/site-packages (from sentence-transformers->beir) (4.18.0)\n",
      "Requirement already satisfied: sentencepiece in /home/pratik/.local/lib/python3.10/site-packages (from sentence-transformers->beir) (0.1.99)\n",
      "Requirement already satisfied: torch>=1.6.0 in /home/pratik/.local/lib/python3.10/site-packages (from sentence-transformers->beir) (2.1.1)\n",
      "Requirement already satisfied: scipy in /home/pratik/.local/lib/python3.10/site-packages (from sentence-transformers->beir) (1.11.4)\n",
      "Requirement already satisfied: tzdata>=2022.1 in /home/pratik/.local/lib/python3.10/site-packages (from pandas->datasets->beir) (2024.1)\n",
      "Requirement already satisfied: pytz>=2020.1 in /home/pratik/.local/lib/python3.10/site-packages (from pandas->datasets->beir) (2024.1)\n",
      "Requirement already satisfied: python-dateutil>=2.8.2 in /home/pratik/.local/lib/python3.10/site-packages (from pandas->datasets->beir) (2.9.0.post0)\n",
      "Requirement already satisfied: idna<4,>=2.5 in /home/pratik/.local/lib/python3.10/site-packages (from requests>=2.19.0->datasets->beir) (3.6)\n",
      "Requirement already satisfied: charset-normalizer<4,>=2 in /home/pratik/.local/lib/python3.10/site-packages (from requests>=2.19.0->datasets->beir) (3.3.2)\n",
      "Requirement already satisfied: frozenlist>=1.1.1 in /home/pratik/.local/lib/python3.10/site-packages (from aiohttp->datasets->beir) (1.4.0)\n",
      "Requirement already satisfied: async-timeout<5.0,>=4.0; python_version < \"3.11\" in /home/pratik/.local/lib/python3.10/site-packages (from aiohttp->datasets->beir) (4.0.3)\n",
      "Requirement already satisfied: multidict<7.0,>=4.5 in /home/pratik/.local/lib/python3.10/site-packages (from aiohttp->datasets->beir) (6.0.4)\n",
      "Requirement already satisfied: yarl<2.0,>=1.0 in /home/pratik/.local/lib/python3.10/site-packages (from aiohttp->datasets->beir) (1.9.4)\n",
      "Requirement already satisfied: aiosignal>=1.1.2 in /home/pratik/.local/lib/python3.10/site-packages (from aiohttp->datasets->beir) (1.3.1)\n",
      "Requirement already satisfied: attrs>=17.3.0 in /home/pratik/.local/lib/python3.10/site-packages (from aiohttp->datasets->beir) (23.1.0)\n",
      "Requirement already satisfied: filelock in /home/pratik/.local/lib/python3.10/site-packages (from huggingface-hub>=0.18.0->datasets->beir) (3.13.1)\n",
      "Requirement already satisfied: typing-extensions>=3.7.4.3 in /home/pratik/.local/lib/python3.10/site-packages (from huggingface-hub>=0.18.0->datasets->beir) (4.10.0)\n",
      "Requirement already satisfied: joblib>=1.1.1 in /home/pratik/.local/lib/python3.10/site-packages (from scikit-learn->sentence-transformers->beir) (1.3.2)\n",
      "Requirement already satisfied: threadpoolctl>=2.0.0 in /home/pratik/.local/lib/python3.10/site-packages (from scikit-learn->sentence-transformers->beir) (3.2.0)\n",
      "Requirement already satisfied: click in /home/pratik/.local/lib/python3.10/site-packages (from nltk->sentence-transformers->beir) (8.1.7)\n",
      "Requirement already satisfied: regex>=2021.8.3 in /home/pratik/.local/lib/python3.10/site-packages (from nltk->sentence-transformers->beir) (2023.10.3)\n",
      "Requirement already satisfied: pillow!=8.3.*,>=5.3.0 in /home/pratik/.local/lib/python3.10/site-packages (from torchvision->sentence-transformers->beir) (10.1.0)\n",
      "Requirement already satisfied: tokenizers!=0.11.3,<0.13,>=0.11.1 in /home/pratik/.local/lib/python3.10/site-packages (from transformers<5.0.0,>=4.6.0->sentence-transformers->beir) (0.12.1)\n",
      "Requirement already satisfied: sacremoses in /home/pratik/.local/lib/python3.10/site-packages (from transformers<5.0.0,>=4.6.0->sentence-transformers->beir) (0.1.1)\n",
      "Requirement already satisfied: nvidia-cufft-cu12==11.0.2.54; platform_system == \"Linux\" and platform_machine == \"x86_64\" in /home/pratik/.local/lib/python3.10/site-packages (from torch>=1.6.0->sentence-transformers->beir) (11.0.2.54)\n",
      "Requirement already satisfied: nvidia-nccl-cu12==2.18.1; platform_system == \"Linux\" and platform_machine == \"x86_64\" in /home/pratik/.local/lib/python3.10/site-packages (from torch>=1.6.0->sentence-transformers->beir) (2.18.1)\n",
      "Requirement already satisfied: networkx in /home/pratik/.local/lib/python3.10/site-packages (from torch>=1.6.0->sentence-transformers->beir) (3.2.1)\n",
      "Requirement already satisfied: nvidia-cusparse-cu12==12.1.0.106; platform_system == \"Linux\" and platform_machine == \"x86_64\" in /home/pratik/.local/lib/python3.10/site-packages (from torch>=1.6.0->sentence-transformers->beir) (12.1.0.106)\n",
      "Requirement already satisfied: nvidia-cuda-runtime-cu12==12.1.105; platform_system == \"Linux\" and platform_machine == \"x86_64\" in /home/pratik/.local/lib/python3.10/site-packages (from torch>=1.6.0->sentence-transformers->beir) (12.1.105)\n",
      "Requirement already satisfied: nvidia-cuda-cupti-cu12==12.1.105; platform_system == \"Linux\" and platform_machine == \"x86_64\" in /home/pratik/.local/lib/python3.10/site-packages (from torch>=1.6.0->sentence-transformers->beir) (12.1.105)\n",
      "Requirement already satisfied: nvidia-cudnn-cu12==8.9.2.26; platform_system == \"Linux\" and platform_machine == \"x86_64\" in /home/pratik/.local/lib/python3.10/site-packages (from torch>=1.6.0->sentence-transformers->beir) (8.9.2.26)\n",
      "Requirement already satisfied: nvidia-cuda-nvrtc-cu12==12.1.105; platform_system == \"Linux\" and platform_machine == \"x86_64\" in /home/pratik/.local/lib/python3.10/site-packages (from torch>=1.6.0->sentence-transformers->beir) (12.1.105)\n",
      "Requirement already satisfied: jinja2 in /home/pratik/.local/lib/python3.10/site-packages (from torch>=1.6.0->sentence-transformers->beir) (3.1.2)\n",
      "Requirement already satisfied: nvidia-cublas-cu12==12.1.3.1; platform_system == \"Linux\" and platform_machine == \"x86_64\" in /home/pratik/.local/lib/python3.10/site-packages (from torch>=1.6.0->sentence-transformers->beir) (12.1.3.1)\n",
      "Requirement already satisfied: nvidia-cusolver-cu12==11.4.5.107; platform_system == \"Linux\" and platform_machine == \"x86_64\" in /home/pratik/.local/lib/python3.10/site-packages (from torch>=1.6.0->sentence-transformers->beir) (11.4.5.107)\n",
      "Requirement already satisfied: nvidia-nvtx-cu12==12.1.105; platform_system == \"Linux\" and platform_machine == \"x86_64\" in /home/pratik/.local/lib/python3.10/site-packages (from torch>=1.6.0->sentence-transformers->beir) (12.1.105)\n",
      "Requirement already satisfied: triton==2.1.0; platform_system == \"Linux\" and platform_machine == \"x86_64\" in /home/pratik/.local/lib/python3.10/site-packages (from torch>=1.6.0->sentence-transformers->beir) (2.1.0)\n",
      "Requirement already satisfied: sympy in /home/pratik/.local/lib/python3.10/site-packages (from torch>=1.6.0->sentence-transformers->beir) (1.12)\n",
      "Requirement already satisfied: nvidia-curand-cu12==10.3.2.106; platform_system == \"Linux\" and platform_machine == \"x86_64\" in /home/pratik/.local/lib/python3.10/site-packages (from torch>=1.6.0->sentence-transformers->beir) (10.3.2.106)\n",
      "Requirement already satisfied: six>=1.5 in /home/pratik/.local/lib/python3.10/site-packages (from python-dateutil>=2.8.2->pandas->datasets->beir) (1.16.0)\n",
      "Requirement already satisfied: nvidia-nvjitlink-cu12 in /home/pratik/.local/lib/python3.10/site-packages (from nvidia-cusparse-cu12==12.1.0.106; platform_system == \"Linux\" and platform_machine == \"x86_64\"->torch>=1.6.0->sentence-transformers->beir) (12.3.101)\n",
      "Requirement already satisfied: MarkupSafe>=2.0 in /home/pratik/.local/lib/python3.10/site-packages (from jinja2->torch>=1.6.0->sentence-transformers->beir) (2.1.3)\n",
      "Requirement already satisfied: mpmath>=0.19 in /home/pratik/.local/lib/python3.10/site-packages (from sympy->torch>=1.6.0->sentence-transformers->beir) (1.3.0)\n",
      "Building wheels for collected packages: beir\n",
      "  Building wheel for beir (setup.py) ... \u001b[?25ldone\n",
      "\u001b[?25h  Created wheel for beir: filename=beir-2.0.0-py3-none-any.whl size=63552 sha256=aab5b1e4b70b36305c1a5a2c58fe3cb9d411b18160e6885d16fc42a079cfa8bf\n",
      "  Stored in directory: /home/pratik/.cache/pip/wheels/1c/14/96/c606ede3c10e9300ef771a6183af09d389459195ff5f854862\n",
      "Successfully built beir\n",
      "Installing collected packages: beir\n",
      "Successfully installed beir-2.0.0\n"
     ]
    }
   ],
   "source": [
    "!pip3 install pip==20.0.2\n",
    "!pip3 install \"thirdai>=0.7.40\"\n",
    "!pip3 install beir"
   ]
  },
  {
   "cell_type": "markdown",
   "metadata": {},
   "source": [
    "### 1. Getting Started\n",
    "\n",
    "First let's import the library and download the dataset."
   ]
  },
  {
   "cell_type": "code",
   "execution_count": 2,
   "metadata": {},
   "outputs": [
    {
     "name": "stderr",
     "output_type": "stream",
     "text": [
      "[nltk_data] Downloading package punkt to /home/pratik/nltk_data...\n",
      "[nltk_data]   Package punkt is already up-to-date!\n"
     ]
    },
    {
     "ename": "RuntimeError",
     "evalue": "The license was found to be invalid: The licensing check failed with the response HTTP error code 400 and body {\"meta\":{\"id\":\"c87b4d49-5b2e-497b-9ace-d1f930ab9d42\"},\"errors\":[{\"title\":\"Bad request\",\"detail\":\"cannot be blank\",\"source\":{\"pointer\":\"/meta/key\"}}]}",
     "output_type": "error",
     "traceback": [
      "\u001b[0;31m---------------------------------------------------------------------------\u001b[0m",
      "\u001b[0;31mRuntimeError\u001b[0m                              Traceback (most recent call last)",
      "Cell \u001b[0;32mIn[2], line 10\u001b[0m\n\u001b[1;32m      8\u001b[0m     licensing\u001b[38;5;241m.\u001b[39mactivate(os\u001b[38;5;241m.\u001b[39menviron[\u001b[38;5;124m\"\u001b[39m\u001b[38;5;124mTHIRDAI_KEY\u001b[39m\u001b[38;5;124m\"\u001b[39m])\n\u001b[1;32m      9\u001b[0m \u001b[38;5;28;01melse\u001b[39;00m:\n\u001b[0;32m---> 10\u001b[0m     \u001b[43mlicensing\u001b[49m\u001b[38;5;241;43m.\u001b[39;49m\u001b[43mactivate\u001b[49m\u001b[43m(\u001b[49m\u001b[38;5;124;43m\"\u001b[39;49m\u001b[38;5;124;43m\"\u001b[39;49m\u001b[43m)\u001b[49m  \u001b[38;5;66;03m# Enter your ThirdAI key here\u001b[39;00m\n\u001b[1;32m     12\u001b[0m \u001b[38;5;66;03m# Downloads msmarco and puts all of the documents into a csv file.\u001b[39;00m\n\u001b[1;32m     13\u001b[0m documents, train_queries, test_queries, _ \u001b[38;5;241m=\u001b[39m demos\u001b[38;5;241m.\u001b[39mdownload_beir_dataset(\u001b[38;5;124m\"\u001b[39m\u001b[38;5;124mmsmarco\u001b[39m\u001b[38;5;124m\"\u001b[39m)\n",
      "\u001b[0;31mRuntimeError\u001b[0m: The license was found to be invalid: The licensing check failed with the response HTTP error code 400 and body {\"meta\":{\"id\":\"c87b4d49-5b2e-497b-9ace-d1f930ab9d42\"},\"errors\":[{\"title\":\"Bad request\",\"detail\":\"cannot be blank\",\"source\":{\"pointer\":\"/meta/key\"}}]}"
     ]
    }
   ],
   "source": [
    "from thirdai import neural_db as ndb\n",
    "from thirdai import demos, licensing\n",
    "import pandas as pd\n",
    "import time\n",
    "\n",
    "import os\n",
    "if \"THIRDAI_KEY\" in os.environ:\n",
    "    licensing.activate(os.environ[\"THIRDAI_KEY\"])\n",
    "else:\n",
    "    licensing.activate(\"\")  # Enter your ThirdAI key here\n",
    "\n",
    "# Downloads msmarco and puts all of the documents into a csv file.\n",
    "documents, train_queries, test_queries, _ = demos.download_beir_dataset(\"msmarco\")"
   ]
  },
  {
   "cell_type": "markdown",
   "metadata": {},
   "source": [
    "### 2. Building the System"
   ]
  },
  {
   "cell_type": "code",
   "execution_count": null,
   "metadata": {},
   "outputs": [],
   "source": [
    "qna_model = ndb.NeuralDB(low_memory=True)\n",
    "\n",
    "start = time.perf_counter()\n",
    "\n",
    "qna_model.insert([\n",
    "\tndb.CSV(\n",
    "        documents,\n",
    "        id_column=\"DOC_ID\",        # Indicates which column stores the document ids.\n",
    "        strong_columns=[\"TITLE\"],  # Indicates which column contains the title.\n",
    "        weak_columns=[\"TEXT\"],     # Indicates which column contains the text.\n",
    ")])\n",
    "\n",
    "end = time.perf_counter()\n",
    "print(f\"Completed in {end-start:.3f} s\")"
   ]
  },
  {
   "cell_type": "markdown",
   "metadata": {},
   "source": [
    "### 3. Evaluation"
   ]
  },
  {
   "cell_type": "code",
   "execution_count": null,
   "metadata": {},
   "outputs": [],
   "source": [
    "def parse_labels(labels):\n",
    "    return list(map(int, labels.split(\":\")))\n",
    "\n",
    "\n",
    "def evaluate(qna_model, test_queries):\n",
    "    test_df = pd.read_csv(test_queries)\n",
    "    test_df[\"DOC_ID\"] = test_df[\"DOC_ID\"].map(parse_labels)\n",
    "\n",
    "    true_positives = 0\n",
    "    start = time.perf_counter()\n",
    "    for _, row in test_df.iterrows():\n",
    "        result = qna_model.search(row[\"QUERY\"], top_k=5)\n",
    "        if len(result) and result[0].id in row[\"DOC_ID\"]:\n",
    "            true_positives += 1\n",
    "    end = time.perf_counter()\n",
    "\n",
    "    precision = true_positives / len(test_df)\n",
    "    print(f\"precision@1={precision:.3f}\")\n",
    "    avg_time = (end - start) / len(test_df) * 1000\n",
    "    print(f\"average query time: {avg_time:.3f} ms\")"
   ]
  },
  {
   "cell_type": "code",
   "execution_count": null,
   "metadata": {},
   "outputs": [],
   "source": [
    "evaluate(qna_model=qna_model, test_queries=test_queries)"
   ]
  },
  {
   "cell_type": "markdown",
   "metadata": {},
   "source": [
    "So how does this compare to other systems?\n",
    "\n",
    "| Model/System | precision@1 |\n",
    "| --- | --- |\n",
    "| Elastic Search  | 0.65 |\n",
    "| Google T5-Base | 0.56 |\n",
    "| Open AI Ada | 0.81 |\n",
    "| ThirdAI | 0.79 |"
   ]
  },
  {
   "cell_type": "markdown",
   "metadata": {},
   "source": [
    "### 4. Domain Specialization\n",
    "\n",
    "While this system already achieves a comparable accuracy to the best Embedding Models, what if we want to improve it further? One of the defining characteristics of successful production search systems is their ability to continually improve based on user interactions. For example, say a company uses the custom acronym IDD to mean “initial design document”. Since this acronym doesn't appear in the training data used to create the LLMs in the search system, user queries like the “summarize the IDD for project xyz” will fail since the system doesn't understand the acronym used. With domain specialization the system can adapt to understand these relationships and answer queries like this correctly. These user interactions allow the underlying system to learn patterns/trends in user preferences that aren't present in the raw documents. "
   ]
  },
  {
   "cell_type": "code",
   "execution_count": null,
   "metadata": {},
   "outputs": [],
   "source": [
    "train_df = pd.read_csv(train_queries)\n",
    "train_df[\"DOC_ID\"] = train_df[\"DOC_ID\"].map(parse_labels)\n",
    "\n",
    "start = time.perf_counter()\n",
    "\n",
    "qna_model.supervised_train_with_ref_ids(\n",
    "    queries=train_df[\"QUERY\"].to_list(), labels=train_df[\"DOC_ID\"].to_list()\n",
    ")\n",
    "\n",
    "end = time.perf_counter()\n",
    "print(f\"finetuned in {end-start:.3f} s\")"
   ]
  },
  {
   "cell_type": "markdown",
   "metadata": {},
   "source": [
    "Now if we rerun the evaluation we see that the precision@1 has improved to 0.814 just by feeding sample user interactions into the system. "
   ]
  },
  {
   "cell_type": "code",
   "execution_count": null,
   "metadata": {},
   "outputs": [],
   "source": [
    "evaluate(qna_model=qna_model, test_queries=test_queries)"
   ]
  },
  {
   "cell_type": "markdown",
   "metadata": {},
   "source": [
    "### Energy Efficient AI\n",
    "\n",
    "Another point of emphasis should be the environmental impact. While new advances in AI are undoubtably impressive and revolutionary, the energy requirements are enormous. The next generation of Nvidia H100 GPUs in production are alone projected to surpass the energy usage of a small nation. Finding energy efficient alternatives is essential as this technology continues to develop. A system like ThirdAI that uses only a fraction of the computing resources and requires no hardware accelerators offers a path to significantly less energy usage when deploying generative AI systems."
   ]
  }
 ],
 "metadata": {
  "kernelspec": {
   "display_name": "Python 3",
   "language": "python",
   "name": "python3"
  },
  "language_info": {
   "codemirror_mode": {
    "name": "ipython",
    "version": 3
   },
   "file_extension": ".py",
   "mimetype": "text/x-python",
   "name": "python",
   "nbconvert_exporter": "python",
   "pygments_lexer": "ipython3",
   "version": "3.10.13"
  }
 },
 "nbformat": 4,
 "nbformat_minor": 2
}
