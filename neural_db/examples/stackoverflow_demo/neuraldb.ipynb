{
 "cells": [
  {
   "cell_type": "code",
   "execution_count": null,
   "metadata": {},
   "outputs": [],
   "source": [
    "!pip3 install thirdai --upgrade\n",
    "!pip3 install \"thirdai[neural_db]\"  # You may have to unquote this"
   ]
  },
  {
   "cell_type": "code",
   "execution_count": 1,
   "metadata": {},
   "outputs": [
    {
     "name": "stderr",
     "output_type": "stream",
     "text": [
      "[nltk_data] Downloading package punkt to /home/pratyush/nltk_data...\n",
      "[nltk_data]   Package punkt is already up-to-date!\n",
      "[nltk_data] Downloading package punkt to /home/pratyush/nltk_data...\n",
      "[nltk_data]   Package punkt is already up-to-date!\n",
      "WARNING: calling 'licensing.activate' on package built without license checks enabled.\n"
     ]
    }
   ],
   "source": [
    "from thirdai import licensing, neural_db as ndb\n",
    "\n",
    "import nltk\n",
    "nltk.download(\"punkt\")\n",
    "\n",
    "\n",
    "import os\n",
    "if \"THIRDAI_KEY\" in os.environ:\n",
    "    licensing.activate(os.environ[\"THIRDAI_KEY\"])\n",
    "else:\n",
    "    licensing.activate(\"\")  # Enter your ThirdAI key here\n",
    "    \n",
    "import pandas as pd\n",
    "import textwrap\n",
    "import os"
   ]
  },
  {
   "attachments": {},
   "cell_type": "markdown",
   "metadata": {},
   "source": [
    "### Download data"
   ]
  },
  {
   "cell_type": "code",
   "execution_count": 2,
   "metadata": {},
   "outputs": [
    {
     "name": "stderr",
     "output_type": "stream",
     "text": [
      "2024-04-01 15:05:56 URL:https://ucf1e07618567c31b464743abe43.dl.dropboxusercontent.com/cd/0/inline/CQOIbjTqiSGmC1mtm6SZMtqeP_ImoAoKY91oosW0SQf8XeVxdDEW0qrMZMgwAjjk0FKgzkkjqozm0_xMThtpFfUZgTxIQgLjh73b3h-uVOawSnu1vZRudUyFGDuKHVbKP774uosFZUjnYje6sef1wVPX/file [216786183/216786183] -> \"./data/train.csv\" [1]\n",
      "2024-04-01 15:05:59 URL:https://uc9eed4732a185b67d99c6369491.dl.dropboxusercontent.com/cd/0/inline/CQMqXtrs0B7NzVASOSa4wO80fVkK8CZokoA046Zw-LdRbIY3Nn3453KU0dRpVk-wM19NVeqXc30z9eAy62npLDvFVw8FZRNK8Hbaq2ubz3dSxohuK_tvLAH2LBjt1sEhlCTlUBSPpeVGx33BjkUYX6Ob/file [1510895/1510895] -> \"./data/test.csv\" [1]\n"
     ]
    },
    {
     "data": {
      "text/plain": [
       "0"
      ]
     },
     "execution_count": 2,
     "metadata": {},
     "output_type": "execute_result"
    }
   ],
   "source": [
    "data_dir = \"./data/\"\n",
    "if not os.path.isdir(data_dir):\n",
    "    os.system(\"mkdir \"+data_dir)\n",
    "\n",
    "os.system(\"wget -nv -O \"+data_dir+\"train.csv 'https://www.dropbox.com/scl/fi/e98v27l171otn75x8woe3/train_large.csv?rlkey=6irpgini3g8gwcn78zwu253pp&dl=0'\")\n",
    "os.system(\"wget -nv -O \"+data_dir+\"test.csv 'https://www.dropbox.com/scl/fi/56r5rrrlm2l7oz9gb7tm9/test_large.csv?rlkey=a0rqjdmhsizxlh0uuyft7vi65&dl=0'\")"
   ]
  },
  {
   "cell_type": "code",
   "execution_count": 3,
   "metadata": {},
   "outputs": [],
   "source": [
    "train_file = data_dir+\"train.csv\"\n",
    "test_file = data_dir+\"test.csv\""
   ]
  },
  {
   "attachments": {},
   "cell_type": "markdown",
   "metadata": {},
   "source": [
    "### Initialize NeuralDB"
   ]
  },
  {
   "cell_type": "code",
   "execution_count": 4,
   "metadata": {},
   "outputs": [],
   "source": [
    "db = ndb.NeuralDB(fhr=160_000, \n",
    "                  embedding_dimension=4096,\n",
    "                  extreme_output_dim=10_000,\n",
    "                  num_models_per_shard=4,\n",
    "                  extreme_num_hashes=1, \n",
    "                  use_inverted_index=False)"
   ]
  },
  {
   "attachments": {},
   "cell_type": "markdown",
   "metadata": {},
   "source": [
    "### Evaluate metrics\n",
    "\n",
    "-   Relevance denotes that model predicts a revalant answer to query\n",
    "-   Helpfulness denotes that model predicts the highest scoring answer"
   ]
  },
  {
   "cell_type": "code",
   "execution_count": 5,
   "metadata": {},
   "outputs": [],
   "source": [
    "def test(db):\n",
    "    def precision_at_k(predicted, original, k):\n",
    "        total_precision = 0\n",
    "        for pred_instance, orig_instance in zip(predicted, original):\n",
    "            total_precision += len(set(pred_instance[:k]) & set(orig_instance)) / k\n",
    "        return total_precision / len(predicted) \n",
    "    test_df = pd.read_csv(test_file)\n",
    "    questions = test_df['query'].to_list()\n",
    "    true_labels_all = list(map(lambda x: list(map(int, x.split(\",\"))), test_df['ids'].to_list()))\n",
    "    predicted_all, original_all, original_top  = [], [], []\n",
    "    results = db.search_batch(questions, top_k=1, label_probing=True)\n",
    "    for result, true_labels in list(zip(results, true_labels_all)):\n",
    "        predicted_labels = [res.metadata['id'] for res in result]\n",
    "        predicted_all.append(predicted_labels)\n",
    "        original_all.append(true_labels)\n",
    "        original_top.append(true_labels[:1])\n",
    "    print(\"Relevance Precision@1 =\", precision_at_k(predicted_all, original_all, 1)) \n",
    "    print(\"Helpfulness Precision@1 =\", precision_at_k(predicted_all, original_top, 1)) "
   ]
  },
  {
   "attachments": {},
   "cell_type": "markdown",
   "metadata": {},
   "source": [
    "### Unsupervised training on answer and titles"
   ]
  },
  {
   "cell_type": "code",
   "execution_count": null,
   "metadata": {},
   "outputs": [],
   "source": [
    "csv_file = ndb.CSV(train_file, id_column=\"id\", strong_columns=['title', 'answer'])\n",
    "source_ids = db.insert([csv_file], train=True, learning_rate=0.001)"
   ]
  },
  {
   "cell_type": "code",
   "execution_count": 7,
   "metadata": {},
   "outputs": [
    {
     "name": "stdout",
     "output_type": "stream",
     "text": [
      "Relevance Precision@1 = 0.117\n",
      "Helpfulness Precision@1 = 0.031\n"
     ]
    }
   ],
   "source": [
    "test(db)"
   ]
  },
  {
   "attachments": {},
   "cell_type": "markdown",
   "metadata": {},
   "source": [
    "### Supervised training on questions"
   ]
  },
  {
   "cell_type": "code",
   "execution_count": null,
   "metadata": {},
   "outputs": [],
   "source": [
    "sup_data = ndb.Sup(\n",
    "            train_file,\n",
    "            query_column=\"query\",\n",
    "            id_delimiter=\"\",\n",
    "            id_column=\"id\",\n",
    "            source_id=source_ids[0],\n",
    "        )\n",
    "db.supervised_train([sup_data], learning_rate=0.001, epochs=10)"
   ]
  },
  {
   "cell_type": "code",
   "execution_count": 9,
   "metadata": {},
   "outputs": [
    {
     "name": "stdout",
     "output_type": "stream",
     "text": [
      "Relevance Precision@1 = 0.982\n",
      "Helpfulness Precision@1 = 0.241\n"
     ]
    }
   ],
   "source": [
    "test(db)"
   ]
  },
  {
   "attachments": {},
   "cell_type": "markdown",
   "metadata": {},
   "source": [
    "### Upvoting highest scoring answers"
   ]
  },
  {
   "cell_type": "code",
   "execution_count": 10,
   "metadata": {},
   "outputs": [],
   "source": [
    "train_df = pd.read_csv(train_file)\n",
    "train_df = train_df.sort_values('score', ascending=False).groupby('query').first().reset_index()\n",
    "batches_to_upvote=[(row.query, row.id) for row in train_df.itertuples()]"
   ]
  },
  {
   "cell_type": "code",
   "execution_count": null,
   "metadata": {},
   "outputs": [],
   "source": [
    "import random\n",
    "random.shuffle(batches_to_upvote)\n",
    "\n",
    "db.text_to_result_batch(batches_to_upvote, n_balancing_samples=1, n_upvote_samples=1, epochs=3)"
   ]
  },
  {
   "cell_type": "code",
   "execution_count": 12,
   "metadata": {},
   "outputs": [
    {
     "name": "stdout",
     "output_type": "stream",
     "text": [
      "Relevance Precision@1 = 0.997\n",
      "Helpfulness Precision@1 = 0.9185\n"
     ]
    }
   ],
   "source": [
    "test(db)"
   ]
  },
  {
   "attachments": {},
   "cell_type": "markdown",
   "metadata": {},
   "source": [
    "### Let's ask"
   ]
  },
  {
   "cell_type": "code",
   "execution_count": 13,
   "metadata": {},
   "outputs": [],
   "source": [
    "wrapper = textwrap.TextWrapper(width=100)"
   ]
  },
  {
   "cell_type": "code",
   "execution_count": 52,
   "metadata": {},
   "outputs": [
    {
     "name": "stdout",
     "output_type": "stream",
     "text": [
      " For a quick solution, just use hash tables, as has been mentioned before. However, if you prefer a\n",
      "more principled approach, you can take a look at FSet , which is “a functional set-theoretic\n",
      "collections library”. Among others, it contains classes and operations for sets and bags. (EDIT:)\n",
      "The cleanest way would probably be to define your set-oriented operations as generic functions. A\n",
      "set of generic functions is basically equivalent to a Java interface, after all. You can simply\n",
      "implement methods on the standard HASH-TABLE class as a first prototype and allow other\n",
      "implementations as well.\n",
      "\n"
     ]
    }
   ],
   "source": [
    "query = 'I require something similar, a collection of elements without any duplicates. Does Common Lisp, specifically SBCL, offer anything of this sort?'\n",
    "\n",
    "results = db.search(query,top_k=1, label_probing=True)\n",
    "for result in results:\n",
    "    answer = result.metadata['answer']\n",
    "    wrapped_text = wrapper.wrap(text = answer)\n",
    "    for element in wrapped_text:\n",
    "        print(element)\n",
    "    print()"
   ]
  },
  {
   "cell_type": "code",
   "execution_count": 54,
   "metadata": {},
   "outputs": [
    {
     "name": "stdout",
     "output_type": "stream",
     "text": [
      " This is a good article about the subject. To summarize, Managed code is not compiled to machine\n",
      "code but to an intermediate language which is interpreted and executed by some service on a machine\n",
      "and is therefore operating within a (hopefully!) secure framework which handles dangerous things\n",
      "like memory and threads for you. In modern usage this frequently means .NET but does not have to. An\n",
      "application program that is executed within a runtime engine installed in the same machine. The\n",
      "application cannot run without it. The runtime environment provides the general library of software\n",
      "routines that the program uses and typically performs memory management. It may also provide just-\n",
      "in-time (JIT) conversion from source code to executable code or from an intermediate language to\n",
      "executable code. Java, Visual Basic and .NET's Common Language Runtime (CLR) are examples of runtime\n",
      "engines. ( Read more ) Unmanaged code is compiled to machine code and therefore executed by the OS\n",
      "directly. It therefore has the ability to do damaging/powerful things Managed code does not. This is\n",
      "how everything used to work, so typically it's associated with old stuff like .dlls. An executable\n",
      "program that runs by itself. Launched from the operating system, the program calls upon and uses the\n",
      "software routines in the operating system, but does not require another software system to be used.\n",
      "Assembly language programs that have been assembled into machine language and C/C++ programs\n",
      "compiled into machine language for a particular platform are examples of unmanaged code.( Read more\n",
      ") Native code is often synonymous with Unmanaged, but is not identical.\n",
      "\n"
     ]
    }
   ],
   "source": [
    "query = 'I am utilizing a particular command in my C# code, which functions properly. However, it is reported to malfunction in \"unmanaged\" code. What is managed or unmanaged code?'\n",
    "\n",
    "results = db.search(query,top_k=1, label_probing=True)\n",
    "for result in results:\n",
    "    answer = result.metadata['answer']\n",
    "    wrapped_text = wrapper.wrap(text = answer)\n",
    "    for element in wrapped_text:\n",
    "        print(element)\n",
    "    print()"
   ]
  }
 ],
 "metadata": {
  "kernelspec": {
   "display_name": "Python 3",
   "language": "python",
   "name": "python3"
  },
  "language_info": {
   "codemirror_mode": {
    "name": "ipython",
    "version": 3
   },
   "file_extension": ".py",
   "mimetype": "text/x-python",
   "name": "python",
   "nbconvert_exporter": "python",
   "pygments_lexer": "ipython3",
   "version": "3.8.10"
  },
  "orig_nbformat": 4
 },
 "nbformat": 4,
 "nbformat_minor": 2
}
