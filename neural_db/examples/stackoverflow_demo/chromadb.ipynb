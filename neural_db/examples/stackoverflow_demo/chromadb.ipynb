{
 "cells": [
  {
   "cell_type": "code",
   "execution_count": null,
   "metadata": {},
   "outputs": [],
   "source": [
    "!pip3 install chromadb"
   ]
  },
  {
   "cell_type": "code",
   "execution_count": 4,
   "metadata": {},
   "outputs": [],
   "source": [
    "import chromadb\n",
    "\n",
    "import textwrap\n",
    "import os"
   ]
  },
  {
   "cell_type": "code",
   "execution_count": 5,
   "metadata": {},
   "outputs": [
    {
     "name": "stderr",
     "output_type": "stream",
     "text": [
      "Failed to send telemetry event ClientStartEvent: module 'chromadb' has no attribute 'get_settings'\n"
     ]
    }
   ],
   "source": [
    "client = chromadb.Client()"
   ]
  },
  {
   "cell_type": "code",
   "execution_count": 6,
   "metadata": {},
   "outputs": [
    {
     "name": "stderr",
     "output_type": "stream",
     "text": [
      "Failed to send telemetry event ClientCreateCollectionEvent: module 'chromadb' has no attribute 'get_settings'\n"
     ]
    }
   ],
   "source": [
    "collection = client.create_collection(name=\"demo\")"
   ]
  },
  {
   "attachments": {},
   "cell_type": "markdown",
   "metadata": {},
   "source": [
    "### Download data"
   ]
  },
  {
   "cell_type": "code",
   "execution_count": 7,
   "metadata": {},
   "outputs": [
    {
     "name": "stderr",
     "output_type": "stream",
     "text": [
      "2024-04-01 15:02:45 URL:https://ucd0c4c275ff93c76e637dfe1d8c.dl.dropboxusercontent.com/cd/0/inline/CQPR1_8pT_xOBoS3fz16hH0V64cSuF0Piy6Y58rZfzUo03j_5r4dWvWyXp3WmeNhnJ4aoYmS1KMPDYyScu0WGJ4EJgAaRcXatZmploX13tBiZ4ued_VzFntYaVSXcshr3Ek7BPkA5UwMTX12StdzYOUw/file [216786183/216786183] -> \"./data/train.csv\" [1]\n",
      "2024-04-01 15:02:46 URL:https://uc6f6da7bd7f7b7762bf71dd1bf5.dl.dropboxusercontent.com/cd/0/inline/CQPmWBcEPMXcwPKb0HkRp-_FhPq5TbUuq7xBYNq7MLuWINPFDADx0rq4H1gMa0OQvFgjpcWLtlLZXrGlLYYkgnYF85X-_UUMvNKT0359PGk_RrZGeNn4WsaSQcuWp-VxmhKGyay7gN3OLAV6c1audMTF/file [1510895/1510895] -> \"./data/test.csv\" [1]\n"
     ]
    },
    {
     "data": {
      "text/plain": [
       "0"
      ]
     },
     "execution_count": 7,
     "metadata": {},
     "output_type": "execute_result"
    }
   ],
   "source": [
    "data_dir = \"./data/\"\n",
    "if not os.path.isdir(data_dir):\n",
    "    os.system(\"mkdir \"+data_dir)\n",
    "\n",
    "os.system(\"wget -nv -O \"+data_dir+\"train.csv 'https://www.dropbox.com/scl/fi/e98v27l171otn75x8woe3/train_large.csv?rlkey=6irpgini3g8gwcn78zwu253pp&dl=0'\")\n",
    "os.system(\"wget -nv -O \"+data_dir+\"test.csv 'https://www.dropbox.com/scl/fi/56r5rrrlm2l7oz9gb7tm9/test_large.csv?rlkey=a0rqjdmhsizxlh0uuyft7vi65&dl=0'\")"
   ]
  },
  {
   "cell_type": "code",
   "execution_count": 8,
   "metadata": {},
   "outputs": [],
   "source": [
    "train_file = data_dir+\"train.csv\"\n",
    "test_file = data_dir+\"test.csv\""
   ]
  },
  {
   "cell_type": "code",
   "execution_count": 9,
   "metadata": {},
   "outputs": [],
   "source": [
    "import pandas as pd\n",
    "train_df = pd.read_csv(train_file)\n",
    "test_df = pd.read_csv(test_file)"
   ]
  },
  {
   "cell_type": "code",
   "execution_count": 11,
   "metadata": {},
   "outputs": [
    {
     "name": "stdout",
     "output_type": "stream",
     "text": [
      "162402\n"
     ]
    }
   ],
   "source": [
    "train_answers = train_df['answer'].to_list()\n",
    "answer_ids = train_df['id'].to_list()\n",
    "print(len(train_answers))"
   ]
  },
  {
   "attachments": {},
   "cell_type": "markdown",
   "metadata": {},
   "source": [
    "### Add documents"
   ]
  },
  {
   "cell_type": "code",
   "execution_count": 12,
   "metadata": {},
   "outputs": [
    {
     "name": "stderr",
     "output_type": "stream",
     "text": [
      "  0%|          | 0/318 [00:00<?, ?it/s]Failed to send telemetry event CollectionAddEvent: module 'chromadb' has no attribute 'get_settings'\n",
      "100%|██████████| 318/318 [1:07:55<00:00, 12.82s/it]\n"
     ]
    }
   ],
   "source": [
    "from tqdm import tqdm\n",
    "total_docs = len(train_answers)\n",
    "max_batch_size = 512  \n",
    "for start_idx in tqdm(range(0, total_docs, max_batch_size)):\n",
    "    end_idx = min(start_idx + max_batch_size, total_docs)\n",
    "    batch_documents = train_answers[start_idx:end_idx]\n",
    "    batch_ids = answer_ids[start_idx:end_idx]\n",
    "    collection.add(documents=batch_documents, ids=list(map(str, batch_ids)))"
   ]
  },
  {
   "attachments": {},
   "cell_type": "markdown",
   "metadata": {},
   "source": [
    "### Evaluate metrics\n",
    "\n",
    "-   Relevance denotes that model predicts a revalant answer to query\n",
    "-   Helpfulness denotes that model predicts the highest scoring answer"
   ]
  },
  {
   "cell_type": "code",
   "execution_count": 13,
   "metadata": {},
   "outputs": [
    {
     "name": "stderr",
     "output_type": "stream",
     "text": [
      "Failed to send telemetry event CollectionQueryEvent: module 'chromadb' has no attribute 'get_settings'\n"
     ]
    },
    {
     "name": "stdout",
     "output_type": "stream",
     "text": [
      "Relevance Precision@1 = 0.5035\n",
      "Helpfulness Precision@1 = 0.1605\n"
     ]
    }
   ],
   "source": [
    "def precision_at_k(predicted, original, k):\n",
    "    total_precision = 0\n",
    "    for pred_instance, orig_instance in zip(predicted, original):\n",
    "        total_precision += len(set(pred_instance[:k]) & set(orig_instance)) / k\n",
    "    return total_precision / len(predicted) \n",
    "questions = test_df['query'].to_list()\n",
    "true_labels_all = list(map(lambda x: list(map(int, x.split(\",\"))), test_df['ids'].to_list()))\n",
    "predicted_all, original_all, original_top  = [], [], []\n",
    "results = collection.query(query_texts=questions,n_results=5)['ids']\n",
    "for result, true_labels in list(zip(results, true_labels_all)):\n",
    "    predicted_all.append(list(map(int, result)))\n",
    "    original_all.append(true_labels)\n",
    "    original_top.append(true_labels[:1])\n",
    "print(\"Relevance Precision@1 =\", precision_at_k(predicted_all, original_all, 1)) \n",
    "print(\"Helpfulness Precision@1 =\", precision_at_k(predicted_all, original_top, 1)) "
   ]
  },
  {
   "cell_type": "code",
   "execution_count": 14,
   "metadata": {},
   "outputs": [],
   "source": [
    "wrapper = textwrap.TextWrapper(width=100)"
   ]
  },
  {
   "cell_type": "code",
   "execution_count": 20,
   "metadata": {},
   "outputs": [
    {
     "name": "stdout",
     "output_type": "stream",
     "text": [
      " See Common Lisp Implementations: A Survey by Daniel Weinreb.\n",
      "\n"
     ]
    }
   ],
   "source": [
    "query = 'I require something similar, a collection of elements without any duplicates. Does Common Lisp, specifically SBCL, offer anything of this sort?'\n",
    "\n",
    "\n",
    "results = collection.query(query_texts=[query],n_results=1)\n",
    "for answer in results['documents'][0]:\n",
    "    wrapped_text = wrapper.wrap(text = answer)\n",
    "    for element in wrapped_text:\n",
    "        print(element)\n",
    "    print()"
   ]
  },
  {
   "cell_type": "code",
   "execution_count": 16,
   "metadata": {},
   "outputs": [
    {
     "name": "stdout",
     "output_type": "stream",
     "text": [
      " If you already wrote tests for replaceit() and changeit() the test for modify would simply check\n",
      "that different results are returned depending on the value of 'value'. However you will simply be\n",
      "reimplementing the logic of the method in the test, which is a little absurd. In this case I\n",
      "wouldn't test modify until it has more complex logic, or better - is used by another method that is\n",
      "more significant to test.\n",
      "\n"
     ]
    }
   ],
   "source": [
    "query = 'I am utilizing a particular command in my C# code, which functions properly. However, it is reported to malfunction in \"unmanaged\" code. What is managed or unmanaged code?'\n",
    "\n",
    "\n",
    "results = collection.query(query_texts=[query],n_results=1)\n",
    "for answer in results['documents'][0]:\n",
    "    wrapped_text = wrapper.wrap(text = answer)\n",
    "    for element in wrapped_text:\n",
    "        print(element)\n",
    "    print()"
   ]
  }
 ],
 "metadata": {
  "kernelspec": {
   "display_name": "Python 3",
   "language": "python",
   "name": "python3"
  },
  "language_info": {
   "codemirror_mode": {
    "name": "ipython",
    "version": 3
   },
   "file_extension": ".py",
   "mimetype": "text/x-python",
   "name": "python",
   "nbconvert_exporter": "python",
   "pygments_lexer": "ipython3",
   "version": "3.10.13"
  },
  "orig_nbformat": 4
 },
 "nbformat": 4,
 "nbformat_minor": 2
}
