{
 "cells": [
  {
   "cell_type": "markdown",
   "metadata": {},
   "source": [
    "# **Enforcing Access Permissions with Document Metadata and Constrained Search**\n",
    "Large organizations have many documents and members. Not every member can access all documents. For example, they may only have access to:\n",
    "- documents within their department\n",
    "- documents with matching authorization levels tied to their position in the organization\n",
    "- a fine-grained set of documents\n",
    "\n",
    "This notebook demonstrates how you can use NeuralDB's document metadata and constrained search to enforce these restrictions. At a high level, the process is as follows:\n",
    "1. Index each document with metadata containing its ID, department, and authorization level.\n",
    "2. When a user fires a query, get the user's department, authorization level, and set of allowed files.\n",
    "3. Constrain the search results to only include documents that match the user's department, authorization level, or allowed files set.\n",
    "\n",
    "We will use the CUAD V1 dataset, a collection of 510 contracts spanning three parts and 17 contract types, which we will use as proxies for \"authorization level\" and \"department\" respectively."
   ]
  },
  {
   "cell_type": "markdown",
   "metadata": {},
   "source": [
    "### Downloading CUAD V1\n",
    "Note: This dataset may take around an hour to download and unzip."
   ]
  },
  {
   "cell_type": "code",
   "execution_count": 1,
   "metadata": {},
   "outputs": [],
   "source": [
    "import os\n",
    "\n",
    "cuad_path = \"CUAD_v1\"\n",
    "\n",
    "if not os.path.exists(cuad_path):\n",
    "    os.system(f\"wget -O {cuad_path}.zip 'https://zenodo.org/record/4595826/files/CUAD_v1.zip?download=1'\")\n",
    "    os.system(f\"unzip {cuad_path}.zip -d .\")"
   ]
  },
  {
   "cell_type": "markdown",
   "metadata": {},
   "source": [
    "### Document Metadata\n",
    "Let's curate IDs, permission levels, and departments for each document. The following command collects the paths to all contract files."
   ]
  },
  {
   "cell_type": "code",
   "execution_count": 2,
   "metadata": {},
   "outputs": [
    {
     "name": "stdout",
     "output_type": "stream",
     "text": [
      "CUAD_v1/full_contract_pdf/Part_II/Promotion/MIDDLEBROOKPHARMACEUTICALS,INC_03_18_2010-EX-10.1-PROMOTION AGREEMENT.PDF\n"
     ]
    }
   ],
   "source": [
    "import glob\n",
    "\n",
    "contract_paths = glob.glob(cuad_path + \"/full_contract_pdf/*/*/*\")\n",
    "\n",
    "print(contract_paths[0])"
   ]
  },
  {
   "cell_type": "markdown",
   "metadata": {},
   "source": [
    "When we print the paths, we can see that the last three segments are \"Part\", contract type, and contract file name. We will treat the \"Part\" as the permission level and treat the contract type as the department. "
   ]
  },
  {
   "cell_type": "code",
   "execution_count": null,
   "metadata": {},
   "outputs": [],
   "source": [
    "auth_levels = {\n",
    "    \"Part_I\": 0,\n",
    "    \"Part_II\": 1,\n",
    "    \"Part_III\": 2,\n",
    "}\n",
    "path_segments = [path.split('/') for path in contract_paths]\n",
    "contract_parts = [segments[-3] for segments in path_segments]\n",
    "contract_auths = [auth_levels[part] for part in contract_parts]\n",
    "\n",
    "contract_depts = [segments[-2] for segments in path_segments]\n",
    "\n",
    "contract_ids = list(range(len(contract_paths)))"
   ]
  },
  {
   "cell_type": "markdown",
   "metadata": {},
   "source": [
    "### Inserting to NeuralDB\n",
    "Insert the documents into NeuralDB with metadata containing the document's ID, department, and authorization level."
   ]
  },
  {
   "cell_type": "code",
   "execution_count": null,
   "metadata": {},
   "outputs": [],
   "source": [
    "from thirdai import neural_db as ndb\n",
    "\n",
    "db = ndb.NeuralDB()\n",
    "\n",
    "documents = [\n",
    "    ndb.PDF(path, metadata={\"id\": iden, \"dept\": dept, \"auth\": auth}) \n",
    "    for path, iden, dept, auth in zip(contract_paths, contract_ids, contract_depts, contract_auths)\n",
    "]\n",
    "\n",
    "db.insert(documents, train=False);"
   ]
  },
  {
   "cell_type": "markdown",
   "metadata": {},
   "source": [
    "### Constrained Search\n",
    "To apply constraints to your search results, pass a `constraints` kwarg to the `search()`` method like this:"
   ]
  },
  {
   "cell_type": "code",
   "execution_count": null,
   "metadata": {},
   "outputs": [],
   "source": [
    "db.search(\n",
    "    \"hello world\", \n",
    "    constraints={\n",
    "        \"auth\": 1,\n",
    "        \"dept\": \"Affiliate_Agreements\",\n",
    "    },\n",
    ")"
   ]
  },
  {
   "cell_type": "markdown",
   "metadata": {},
   "source": [
    "You can also use range constraints"
   ]
  },
  {
   "cell_type": "code",
   "execution_count": null,
   "metadata": {},
   "outputs": [],
   "source": [
    "db.search(\n",
    "    \"hello world\",\n",
    "    constraints={\n",
    "        \"auth\": ndb.LessThan(1, include_equal=True),\n",
    "        \"dept\": ndb.AnyOf([\"Affiliate_Agreements\", \"Co_Branding\", \"Maintenance\"])\n",
    "    },\n",
    ")"
   ]
  },
  {
   "cell_type": "markdown",
   "metadata": {},
   "source": [
    "## **Permission-Constrained Search Service**\n",
    "Imagine you need to build a search system for your organization. Each user should only get search results from documents that they have permission to access. To build this system, we will assume that there are services we can use to get a user's permissions.\n",
    "\n",
    "The following block of code simulates a service for getting a user's permissions."
   ]
  },
  {
   "cell_type": "code",
   "execution_count": null,
   "metadata": {},
   "outputs": [],
   "source": [
    "user_registry = {\n",
    "    \"user_with_auth_2_in_select_departments\": {\n",
    "        \"auth\": 2,\n",
    "        \"dept\": [\"Affiliate_Agreements\", \"Co_Branding\", \"Maintenance\"],\n",
    "    },\n",
    "    \"user_with_auth_2_in_all_departments\": {\n",
    "        \"auth\": 2,\n",
    "    },\n",
    "    \"user_with_auth_1_in_select_departments\": {\n",
    "        \"auth\": 1,\n",
    "        \"dept\": [\"Affiliate_Agreements\", \"Co_Branding\", \"Maintenance\"],\n",
    "    },\n",
    "    \"user_with_specific_document_permissions\": {\n",
    "        \"id\": [5, 302, 602],\n",
    "    },\n",
    "}\n",
    "\n",
    "def user_auth_level(user_id: str):\n",
    "    if user_id in user_registry:\n",
    "        if \"auth\" in user_registry[user_id]:\n",
    "            return user_registry[user_id][\"auth\"]\n",
    "        # This user does not have auth level constraints\n",
    "        return None\n",
    "    raise ValueError(f\"User {user_id} cannot be found in the registry.\")\n",
    "\n",
    "def user_departments(user_id: str):\n",
    "    if user_id in user_registry:\n",
    "        if \"dept\" in user_registry[user_id]:\n",
    "            return user_registry[user_id][\"dept\"]\n",
    "        # This user does not have departmental constraints\n",
    "        return None\n",
    "    raise ValueError(f\"User {user_id} cannot be found in the registry.\")\n",
    "\n",
    "def user_allowed_documents(user_id: str):\n",
    "    if user_id in user_registry:\n",
    "        if \"id\" in user_registry[user_id]:\n",
    "            return user_registry[user_id][\"id\"]\n",
    "        # This user does not have document-specific permissions\n",
    "        return None\n",
    "    raise ValueError(f\"User {user_id} cannot be found in the registry.\")"
   ]
  },
  {
   "cell_type": "markdown",
   "metadata": {},
   "source": [
    "Finally, we can use these services and NeuralDB's constrained search to define a secure search endpoint. We assume that this code runs on a remote server, the user cannot access the NeuralDB instance except through this endpoint, and the user ID is provided by an authentication layer."
   ]
  },
  {
   "cell_type": "code",
   "execution_count": null,
   "metadata": {},
   "outputs": [],
   "source": [
    "def search_endpoint(query: str, user_id: str, top_k: int):\n",
    "    auth_level = user_auth_level(user_id)\n",
    "    departments = user_departments(user_id)\n",
    "    allowed_documents = user_allowed_documents(user_id)\n",
    "\n",
    "    # The keys of the constraint dictionary matches the keys of the document \n",
    "    # metadata.\n",
    "    constraints = {}\n",
    "    if auth_level is not None:\n",
    "        # Match any document with auth <= user's auth level.\n",
    "        constraints[\"auth\"] = ndb.LessThan(auth_level, include_equal=True)\n",
    "    if departments is not None:\n",
    "        constraints[\"dept\"] = ndb.AnyOf(departments)\n",
    "    if allowed_documents is not None:\n",
    "        constraints[\"id\"] = ndb.AnyOf(allowed_documents)\n",
    "    \n",
    "    results = db.search(query, top_k=top_k, constraints=constraints)\n",
    "\n",
    "    print(\"Auth level constraints\", auth_level, \"or below\" if auth_level else \"\")\n",
    "    print(\"Department constraints\", departments)\n",
    "    print(\"Document-level constraints:\", allowed_documents)\n",
    "    print(\"\")\n",
    "    print(\"Results:\")\n",
    "    print(\"====================================================\")\n",
    "    for r in results:\n",
    "        print(\"Content:\", r.text)\n",
    "        print(\"Auth level:\", r.metadata[\"auth\"])\n",
    "        print(\"Department:\", r.metadata[\"dept\"])\n",
    "        print(\"Document ID:\", r.metadata[\"id\"])\n",
    "        print(\"====================================================\")\n",
    "    return "
   ]
  },
  {
   "cell_type": "markdown",
   "metadata": {},
   "source": [
    "Let's see it in action. In the first example, the user has the highest auth level (level 2) but is restricted to a few departments. Notice that our search results span multiple permission levels but only contain results from \"Affiliate_Agreements\", \"Co_Branding\", and \"Maintenance\"."
   ]
  },
  {
   "cell_type": "code",
   "execution_count": null,
   "metadata": {},
   "outputs": [],
   "source": [
    "search_endpoint(\"Term of agreement\", user_id=\"user_with_auth_2_in_select_departments\", top_k=10)"
   ]
  },
  {
   "cell_type": "markdown",
   "metadata": {},
   "source": [
    "Without departmental restrictions, we now get results from other departments as well."
   ]
  },
  {
   "cell_type": "code",
   "execution_count": null,
   "metadata": {},
   "outputs": [],
   "source": [
    "search_endpoint(\"Term of agreement\", user_id=\"user_with_auth_2_in_all_departments\", top_k=10)"
   ]
  },
  {
   "cell_type": "markdown",
   "metadata": {},
   "source": [
    "On the contrary, if the user has auth level 1, then we no longer get results from documents with auth level 2."
   ]
  },
  {
   "cell_type": "code",
   "execution_count": null,
   "metadata": {},
   "outputs": [],
   "source": [
    "search_endpoint(\"Term of agreement\", user_id=\"user_with_auth_1_in_select_departments\", top_k=10)"
   ]
  },
  {
   "cell_type": "markdown",
   "metadata": {},
   "source": [
    "Finally, if the user does not have auth restrictions or departmental restrictions and instead has document-specific permissions, we will only get results from those documents."
   ]
  },
  {
   "cell_type": "code",
   "execution_count": null,
   "metadata": {},
   "outputs": [],
   "source": [
    "search_endpoint(\"Terms of the agreement\", user_id=\"user_with_specific_document_permissions\", top_k=10)"
   ]
  },
  {
   "cell_type": "markdown",
   "metadata": {},
   "source": [
    "## Row-level Constraints for CSVs\n",
    "When inserting a database in the form of a CSV file, constraints aren't limited to the document level. To demonstrate this, we will insert a CSV file that contains population data from different countries."
   ]
  },
  {
   "cell_type": "code",
   "execution_count": 1,
   "metadata": {},
   "outputs": [],
   "source": [
    "from thirdai import neural_db as ndb\n",
    "\n",
    "db = ndb.NeuralDB()\n"
   ]
  },
  {
   "cell_type": "code",
   "execution_count": 2,
   "metadata": {},
   "outputs": [
    {
     "name": "stdout",
     "output_type": "stream",
     "text": [
      "loading data | source 'Documents:\n",
      "country_populations.csv'\n",
      "loaded data | source 'Documents:\n",
      "country_populations.csv' | vectors 468 | batches 1 | time 0.002s | complete\n",
      "\n",
      "train | epoch 0 | train_steps 1 | train_hash_precision@5=0.017094  | train_batches 1 | time 1.135s\n",
      "\n",
      "train | epoch 1 | train_steps 2 | train_hash_precision@5=0.278205  | train_batches 1 | time 0.228s\n",
      "\n",
      "train | epoch 2 | train_steps 3 | train_hash_precision@5=0.160684  | train_batches 1 | time 0.204s\n",
      "\n",
      "train | epoch 3 | train_steps 4 | train_hash_precision@5=0.125641  | train_batches 1 | time 0.194s\n",
      "\n",
      "train | epoch 4 | train_steps 5 | train_hash_precision@5=0.125214  | train_batches 1 | time 0.192s\n",
      "\n",
      "train | epoch 5 | train_steps 6 | train_hash_precision@5=0.144444  | train_batches 1 | time 0.197s\n",
      "\n",
      "train | epoch 6 | train_steps 7 | train_hash_precision@5=0.181624  | train_batches 1 | time 0.192s\n",
      "\n",
      "train | epoch 7 | train_steps 8 | train_hash_precision@5=0.212821  | train_batches 1 | time 0.195s\n",
      "\n",
      "train | epoch 8 | train_steps 9 | train_hash_precision@5=0.282906  | train_batches 1 | time 0.198s\n",
      "\n",
      "train | epoch 9 | train_steps 10 | train_hash_precision@5=0.438889  | train_batches 1 | time 0.257s\n",
      "\n",
      "train | epoch 10 | train_steps 11 | train_hash_precision@5=0.571795  | train_batches 1 | time 0.221s\n",
      "\n",
      "train | epoch 11 | train_steps 12 | train_hash_precision@5=0.735897  | train_batches 1 | time 0.221s\n",
      "\n",
      "train | epoch 12 | train_steps 13 | train_hash_precision@5=0.843162  | train_batches 1 | time 0.225s\n",
      "\n",
      "train | epoch 13 | train_steps 14 | train_hash_precision@5=0.893162  | train_batches 1 | time 0.244s\n",
      "\n",
      "train | epoch 14 | train_steps 15 | train_hash_precision@5=0.933333  | train_batches 1 | time 0.226s\n",
      "\n"
     ]
    },
    {
     "data": {
      "text/plain": [
       "['60e929dc9d59d2f07b3d6971222ab8b1b0aa5615']"
      ]
     },
     "execution_count": 2,
     "metadata": {},
     "output_type": "execute_result"
    }
   ],
   "source": [
    "populations = ndb.CSV(\n",
    "    path=\"country_populations.csv\",\n",
    "    id_column=\"id\",\n",
    "    strong_columns=[\"Region/Country/Area\"],\n",
    "    weak_columns=[\"Dummy Description\"],\n",
    "    reference_columns=[\"Region/Country/Area\"],\n",
    "    # IMPORTANT: you have to pass the columns that will be used for \n",
    "    # constrained search to the index_columns argument.\n",
    "    index_columns=[\n",
    "        \"Region/Country/Area\",\n",
    "        \"Population aged 0 to 14 years old (percentage)\",\n",
    "        \"Population aged 60+ years old (percentage)\",\n",
    "        \"Population density\",\n",
    "        \"Population mid-year estimates (millions)\",\n",
    "        \"Population mid-year estimates for females (millions)\",\n",
    "        \"Population mid-year estimates for males (millions)\",\n",
    "        \"Sex ratio (males per 100 females)\"\n",
    "    ]\n",
    ")\n",
    "\n",
    "db.insert([populations], train=True)"
   ]
  },
  {
   "cell_type": "code",
   "execution_count": 6,
   "metadata": {},
   "outputs": [
    {
     "name": "stdout",
     "output_type": "stream",
     "text": [
      "Region/Country/Area: Benin\n",
      "{'id': 21, 'Region/Country/Area': 'Benin', 'Population aged 0 to 14 years old (percentage)': 42.4, 'Population aged 60+ years old (percentage)': 4.9, 'Population density': 118.4, 'Population mid-year estimates (millions)': 13.35, 'Population mid-year estimates for females (millions)': 6.66, 'Population mid-year estimates for males (millions)': 6.69, 'Sex ratio (males per 100 females)': 100.4, 'Dummy Description': 'Benin is a country in the UN populations dataset.'}\n",
      "\n",
      "Region/Country/Area: Czechia\n",
      "{'id': 54, 'Region/Country/Area': 'Czechia', 'Population aged 0 to 14 years old (percentage)': 16.0, 'Population aged 60+ years old (percentage)': 26.3, 'Population density': 135.9, 'Population mid-year estimates (millions)': 10.49, 'Population mid-year estimates for females (millions)': 5.32, 'Population mid-year estimates for males (millions)': 5.17, 'Sex ratio (males per 100 females)': 97.1, 'Dummy Description': 'Czechia is a country in the UN populations dataset.'}\n",
      "\n",
      "Region/Country/Area: Cuba\n",
      "{'id': 51, 'Region/Country/Area': 'Cuba', 'Population aged 0 to 14 years old (percentage)': 15.7, 'Population aged 60+ years old (percentage)': 22.0, 'Population density': 105.0, 'Population mid-year estimates (millions)': 11.21, 'Population mid-year estimates for females (millions)': 5.65, 'Population mid-year estimates for males (millions)': 5.56, 'Sex ratio (males per 100 females)': 98.5, 'Dummy Description': 'Cuba is a country in the UN populations dataset.'}\n",
      "\n",
      "Region/Country/Area: Belgium\n",
      "{'id': 19, 'Region/Country/Area': 'Belgium', 'Population aged 0 to 14 years old (percentage)': 16.5, 'Population aged 60+ years old (percentage)': 26.2, 'Population density': 385.0, 'Population mid-year estimates (millions)': 11.66, 'Population mid-year estimates for females (millions)': 5.9, 'Population mid-year estimates for males (millions)': 5.76, 'Sex ratio (males per 100 females)': 97.7, 'Dummy Description': 'Belgium is a country in the UN populations dataset.'}\n",
      "\n",
      "Region/Country/Area: Azerbaijan\n",
      "{'id': 13, 'Region/Country/Area': 'Azerbaijan', 'Population aged 0 to 14 years old (percentage)': 23.5, 'Population aged 60+ years old (percentage)': 12.5, 'Population density': 125.3, 'Population mid-year estimates (millions)': 10.36, 'Population mid-year estimates for females (millions)': 5.25, 'Population mid-year estimates for males (millions)': 5.11, 'Sex ratio (males per 100 females)': 97.4, 'Dummy Description': 'Azerbaijan is a country in the UN populations dataset.'}\n",
      "\n",
      "Region/Country/Area: Burundi\n",
      "{'id': 33, 'Region/Country/Area': 'Burundi', 'Population aged 0 to 14 years old (percentage)': 45.8, 'Population aged 60+ years old (percentage)': 3.8, 'Population density': 496.7, 'Population mid-year estimates (millions)': 12.89, 'Population mid-year estimates for females (millions)': 6.49, 'Population mid-year estimates for males (millions)': 6.4, 'Sex ratio (males per 100 females)': 98.6, 'Dummy Description': 'Burundi is a country in the UN populations dataset.'}\n",
      "\n",
      "Region/Country/Area: Dominican Republic\n",
      "{'id': 61, 'Region/Country/Area': 'Dominican Republic', 'Population aged 0 to 14 years old (percentage)': 27.1, 'Population aged 60+ years old (percentage)': 11.2, 'Population density': 232.4, 'Population mid-year estimates (millions)': 11.23, 'Population mid-year estimates for females (millions)': 5.59, 'Population mid-year estimates for males (millions)': 5.63, 'Sex ratio (males per 100 females)': 100.7, 'Dummy Description': 'Dominican Republic is a country in the UN populations dataset.'}\n",
      "\n"
     ]
    }
   ],
   "source": [
    "results = db.search(\n",
    "    query=\"A country\", \n",
    "    top_k=10,\n",
    "    constraints={\n",
    "        \"Region/Country/Area\": ndb.InRange(\"A\", \"F\"),\n",
    "        \"Population density\": ndb.GreaterThan(100),\n",
    "        \"Population aged 0 to 14 years old (percentage)\": ndb.LessThan(50),\n",
    "        \"Population mid-year estimates (millions)\": ndb.InRange(10, 20),\n",
    "    },\n",
    ")\n",
    "\n",
    "import json\n",
    "for result in results:\n",
    "    print(result.text)\n",
    "    print(result.metadata)\n",
    "    print(\"\")"
   ]
  },
  {
   "cell_type": "code",
   "execution_count": null,
   "metadata": {},
   "outputs": [],
   "source": []
  }
 ],
 "metadata": {
  "kernelspec": {
   "display_name": "Python 3",
   "language": "python",
   "name": "python3"
  },
  "language_info": {
   "codemirror_mode": {
    "name": "ipython",
    "version": 3
   },
   "file_extension": ".py",
   "mimetype": "text/x-python",
   "name": "python",
   "nbconvert_exporter": "python",
   "pygments_lexer": "ipython3",
   "version": "3.11.5"
  },
  "orig_nbformat": 4
 },
 "nbformat": 4,
 "nbformat_minor": 2
}
