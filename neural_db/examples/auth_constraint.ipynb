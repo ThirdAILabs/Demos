{
 "cells": [
  {
   "cell_type": "markdown",
   "metadata": {},
   "source": [
    "# **Enforcing Access Permissions with Document Metadata and Constrained Search**\n",
    "Large organizations have many documents and members. Not every member can access all documents. For example, they may only have access to:\n",
    "- documents within their department\n",
    "- documents with matching authorization levels tied to their position in the organization\n",
    "- a fine-grained set of documents\n",
    "\n",
    "This notebook demonstrates how you can use NeuralDB's document metadata and constrained search to enforce these restrictions. At a high level, the process is as follows:\n",
    "1. Index each document with metadata containing its ID, department, and authorization level.\n",
    "2. When a user fires a query, get the user's department, authorization level, and set of allowed files.\n",
    "3. Constrain the search results to only include documents that match the user's department, authorization level, or allowed files set.\n",
    "\n",
    "We will use the CUAD V1 dataset, a collection of 510 contracts spanning three parts and 17 contract types, which we will use as proxies for \"authorization level\" and \"department\" respectively."
   ]
  },
  {
   "cell_type": "markdown",
   "metadata": {},
   "source": [
    "### Downloading CUAD V1\n",
    "Note: This dataset may take around an hour to download and unzip."
   ]
  },
  {
   "cell_type": "code",
   "execution_count": null,
   "metadata": {},
   "outputs": [],
   "source": [
    "import os\n",
    "\n",
    "cuad_path = \"CUAD_v1\"\n",
    "\n",
    "if not os.path.exists(cuad_path):\n",
    "    os.system(f\"wget -O {cuad_path}.zip 'https://zenodo.org/record/4595826/files/CUAD_v1.zip?download=1'\")\n",
    "    os.system(f\"unzip {cuad_path}.zip -d .\")"
   ]
  },
  {
   "cell_type": "markdown",
   "metadata": {},
   "source": [
    "### Document Metadata\n",
    "Let's curate IDs, permission levels, and departments for each document. The following command collects the paths to all contract files."
   ]
  },
  {
   "cell_type": "code",
   "execution_count": null,
   "metadata": {},
   "outputs": [],
   "source": [
    "import glob\n",
    "\n",
    "contract_paths = glob.glob(cuad_path + \"/full_contract_pdf/*/*/*\")\n",
    "\n",
    "print(contract_paths[0])"
   ]
  },
  {
   "cell_type": "markdown",
   "metadata": {},
   "source": [
    "When we print the paths, we can see that the last three segments are \"Part\", contract type, and contract file name. We will treat the \"Part\" as the permission level and treat the contract type as the department. "
   ]
  },
  {
   "cell_type": "code",
   "execution_count": null,
   "metadata": {},
   "outputs": [],
   "source": [
    "auth_levels = {\n",
    "    \"Part_I\": 0,\n",
    "    \"Part_II\": 1,\n",
    "    \"Part_III\": 2,\n",
    "}\n",
    "path_segments = [path.split('/') for path in contract_paths]\n",
    "contract_parts = [segments[-3] for segments in path_segments]\n",
    "contract_auths = [auth_levels[part] for part in contract_parts]\n",
    "\n",
    "contract_depts = [segments[-2] for segments in path_segments]\n",
    "\n",
    "contract_ids = list(range(len(contract_paths)))"
   ]
  },
  {
   "cell_type": "markdown",
   "metadata": {},
   "source": [
    "### Inserting to NeuralDB\n",
    "Insert the documents into NeuralDB with metadata containing the document's ID, department, and authorization level."
   ]
  },
  {
   "cell_type": "code",
   "execution_count": null,
   "metadata": {},
   "outputs": [],
   "source": [
    "from thirdai import neural_db as ndb\n",
    "\n",
    "db = ndb.NeuralDB()\n",
    "\n",
    "documents = [\n",
    "    ndb.PDF(path, metadata={\"id\": iden, \"dept\": dept, \"auth\": auth}) \n",
    "    for path, iden, dept, auth in zip(contract_paths, contract_ids, contract_depts, contract_auths)\n",
    "]\n",
    "\n",
    "db.insert(documents, train=False);"
   ]
  },
  {
   "cell_type": "markdown",
   "metadata": {},
   "source": [
    "### Constrained Search\n",
    "To apply constraints to your search results, pass a `constraints` kwarg to the `search()`` method like this:"
   ]
  },
  {
   "cell_type": "code",
   "execution_count": null,
   "metadata": {},
   "outputs": [],
   "source": [
    "db.search(\n",
    "    \"hello world\", \n",
    "    constraints={\n",
    "        \"auth\": 1,\n",
    "        \"dept\": \"Affiliate_Agreements\",\n",
    "    },\n",
    ")"
   ]
  },
  {
   "cell_type": "markdown",
   "metadata": {},
   "source": [
    "You can also use range constraints"
   ]
  },
  {
   "cell_type": "code",
   "execution_count": null,
   "metadata": {},
   "outputs": [],
   "source": [
    "db.search(\n",
    "    \"hello world\",\n",
    "    constraints={\n",
    "        \"auth\": ndb.LessThan(1, include_equal=True),\n",
    "        \"dept\": ndb.AnyOf([\"Affiliate_Agreements\", \"Co_Branding\", \"Maintenance\"])\n",
    "    },\n",
    ")"
   ]
  },
  {
   "cell_type": "markdown",
   "metadata": {},
   "source": [
    "## **Permission-Constrained Search Service**\n",
    "Imagine you need to build a search system for your organization. Each user should only get search results from documents that they have permission to access. To build this system, we will assume that there are services we can use to get a user's permissions.\n",
    "\n",
    "The following block of code simulates a service for getting a user's permissions."
   ]
  },
  {
   "cell_type": "code",
   "execution_count": null,
   "metadata": {},
   "outputs": [],
   "source": [
    "user_registry = {\n",
    "    \"user_with_auth_2_in_select_departments\": {\n",
    "        \"auth\": 2,\n",
    "        \"dept\": [\"Affiliate_Agreements\", \"Co_Branding\", \"Maintenance\"],\n",
    "    },\n",
    "    \"user_with_auth_2_in_all_departments\": {\n",
    "        \"auth\": 2,\n",
    "    },\n",
    "    \"user_with_auth_1_in_select_departments\": {\n",
    "        \"auth\": 1,\n",
    "        \"dept\": [\"Affiliate_Agreements\", \"Co_Branding\", \"Maintenance\"],\n",
    "    },\n",
    "    \"user_with_specific_document_permissions\": {\n",
    "        \"id\": [5, 302, 602],\n",
    "    },\n",
    "}\n",
    "\n",
    "def user_auth_level(user_id: str):\n",
    "    if user_id in user_registry:\n",
    "        if \"auth\" in user_registry[user_id]:\n",
    "            return user_registry[user_id][\"auth\"]\n",
    "        # This user does not have auth level constraints\n",
    "        return None\n",
    "    raise ValueError(f\"User {user_id} cannot be found in the registry.\")\n",
    "\n",
    "def user_departments(user_id: str):\n",
    "    if user_id in user_registry:\n",
    "        if \"dept\" in user_registry[user_id]:\n",
    "            return user_registry[user_id][\"dept\"]\n",
    "        # This user does not have departmental constraints\n",
    "        return None\n",
    "    raise ValueError(f\"User {user_id} cannot be found in the registry.\")\n",
    "\n",
    "def user_allowed_documents(user_id: str):\n",
    "    if user_id in user_registry:\n",
    "        if \"id\" in user_registry[user_id]:\n",
    "            return user_registry[user_id][\"id\"]\n",
    "        # This user does not have document-specific permissions\n",
    "        return None\n",
    "    raise ValueError(f\"User {user_id} cannot be found in the registry.\")"
   ]
  },
  {
   "cell_type": "markdown",
   "metadata": {},
   "source": [
    "Finally, we can use these services and NeuralDB's constrained search to define a secure search endpoint. We assume that this code runs on a remote server, the user cannot access the NeuralDB instance except through this endpoint, and the user ID is provided by an authentication layer."
   ]
  },
  {
   "cell_type": "code",
   "execution_count": null,
   "metadata": {},
   "outputs": [],
   "source": [
    "def search_endpoint(query: str, user_id: str, top_k: int):\n",
    "    auth_level = user_auth_level(user_id)\n",
    "    departments = user_departments(user_id)\n",
    "    allowed_documents = user_allowed_documents(user_id)\n",
    "\n",
    "    # The keys of the constraint dictionary matches the keys of the document \n",
    "    # metadata.\n",
    "    constraints = {}\n",
    "    if auth_level is not None:\n",
    "        # Match any document with auth <= user's auth level.\n",
    "        constraints[\"auth\"] = ndb.LessThan(auth_level, include_equal=True)\n",
    "    if departments is not None:\n",
    "        constraints[\"dept\"] = ndb.AnyOf(departments)\n",
    "    if allowed_documents is not None:\n",
    "        constraints[\"id\"] = ndb.AnyOf(allowed_documents)\n",
    "    \n",
    "    results = db.search(query, top_k=top_k, constraints=constraints)\n",
    "\n",
    "    print(\"Auth level constraints\", auth_level, \"or below\" if auth_level else \"\")\n",
    "    print(\"Department constraints\", departments)\n",
    "    print(\"Document-level constraints:\", allowed_documents)\n",
    "    print(\"\")\n",
    "    print(\"Results:\")\n",
    "    print(\"====================================================\")\n",
    "    for r in results:\n",
    "        print(\"Content:\", r.text)\n",
    "        print(\"Auth level:\", r.metadata[\"auth\"])\n",
    "        print(\"Department:\", r.metadata[\"dept\"])\n",
    "        print(\"Document ID:\", r.metadata[\"id\"])\n",
    "        print(\"====================================================\")\n",
    "    return "
   ]
  },
  {
   "cell_type": "markdown",
   "metadata": {},
   "source": [
    "Let's see it in action. In the first example, the user has the highest auth level (level 2) but is restricted to a few departments. Notice that our search results span multiple permission levels but only contain results from \"Affiliate_Agreements\", \"Co_Branding\", and \"Maintenance\"."
   ]
  },
  {
   "cell_type": "code",
   "execution_count": null,
   "metadata": {},
   "outputs": [],
   "source": [
    "search_endpoint(\"Term of agreement\", user_id=\"user_with_auth_2_in_select_departments\", top_k=10)"
   ]
  },
  {
   "cell_type": "markdown",
   "metadata": {},
   "source": [
    "Without departmental restrictions, we now get results from other departments as well."
   ]
  },
  {
   "cell_type": "code",
   "execution_count": null,
   "metadata": {},
   "outputs": [],
   "source": [
    "search_endpoint(\"Term of agreement\", user_id=\"user_with_auth_2_in_all_departments\", top_k=10)"
   ]
  },
  {
   "cell_type": "markdown",
   "metadata": {},
   "source": [
    "On the contrary, if the user has auth level 1, then we no longer get results from documents with auth level 2."
   ]
  },
  {
   "cell_type": "code",
   "execution_count": null,
   "metadata": {},
   "outputs": [],
   "source": [
    "search_endpoint(\"Term of agreement\", user_id=\"user_with_auth_1_in_select_departments\", top_k=10)"
   ]
  },
  {
   "cell_type": "markdown",
   "metadata": {},
   "source": [
    "Finally, if the user does not have auth restrictions or departmental restrictions and instead has document-specific permissions, we will only get results from those documents."
   ]
  },
  {
   "cell_type": "code",
   "execution_count": null,
   "metadata": {},
   "outputs": [],
   "source": [
    "search_endpoint(\"Terms of the agreement\", user_id=\"user_with_specific_document_permissions\", top_k=10)"
   ]
  }
 ],
 "metadata": {
  "kernelspec": {
   "display_name": "Python 3",
   "language": "python",
   "name": "python3"
  },
  "language_info": {
   "codemirror_mode": {
    "name": "ipython",
    "version": 3
   },
   "file_extension": ".py",
   "mimetype": "text/x-python",
   "name": "python",
   "nbconvert_exporter": "python",
   "pygments_lexer": "ipython3",
   "version": "3.11.5"
  },
  "orig_nbformat": 4
 },
 "nbformat": 4,
 "nbformat_minor": 2
}
