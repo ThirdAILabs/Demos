{
 "cells": [
  {
   "attachments": {},
   "cell_type": "markdown",
   "metadata": {},
   "source": [
    "## RAG Challenge (Online-Tuning)\n",
    "\n",
    "In this notebook, we will show the benefits of Online Finetuning with NeuralDB on a dataset called Amazon-50K. This notebook shows that users search preferences are very task specific and embedding models and vector DBs cannot capture all these nuances. NeuralDB is the only solution if you want to customize your retrieval for your task.\n",
    "\n",
    "This dataset is curated by taking the common products between \n",
    "\n",
    "1. [AmazonTitles-1.3MM](https://drive.google.com/file/d/12zH4mL2RX8iSvH0VCNnd3QxO4DzuHWnK/view) dataset from [Extreme Classification Repository](http://manikvarma.org/downloads/XC/XMLRepository.html) repository.\n",
    "2. [3 million Amazon product catalog](https://www.kaggle.com/datasets/piyushjain16/amazon-product-data) from Kaggle."
   ]
  },
  {
   "cell_type": "code",
   "execution_count": null,
   "metadata": {},
   "outputs": [],
   "source": [
    "!pip3 install thirdai\n",
    "!pip3 install thirdai[neural_db]"
   ]
  },
  {
   "cell_type": "code",
   "execution_count": null,
   "metadata": {},
   "outputs": [],
   "source": [
    "import pandas as pd\n",
    "from thirdai import neural_db as ndb, licensing\n",
    "\n",
    "import nltk\n",
    "nltk.download(\"punkt\")\n",
    "\n",
    "import os\n",
    "\n",
    "if \"THIRDAI_KEY\" in os.environ:\n",
    "    licensing.activate(os.environ[\"THIRDAI_KEY\"])\n",
    "else:\n",
    "    licensing.activate(\"\")  # Enter your ThirdAI key here"
   ]
  },
  {
   "attachments": {},
   "cell_type": "markdown",
   "metadata": {},
   "source": [
    "### Download Dataset"
   ]
  },
  {
   "cell_type": "code",
   "execution_count": null,
   "metadata": {},
   "outputs": [],
   "source": [
    "data_dir = \"./amazon-50K/\"\n",
    "if not os.path.isdir(data_dir):\n",
    "    os.system(\"mkdir \"+data_dir)\n",
    "\n",
    "os.system(\"wget -O \"+data_dir+\"unsup.csv https://www.dropbox.com/scl/fi/0ouziv3n4cf5xfo9zyd2x/unsup.csv?rlkey=7qgnyj6ye6o293oc2t9du2d5o&dl=0\")\n",
    "os.system(\"wget -O \"+data_dir+\"trn_sup.csv https://www.dropbox.com/scl/fi/66xpkhj6jt6lmx6kmrquk/trn_sup.csv?rlkey=mitkjdxp6pts5xtdu9w5o7wqf&dl=0\")\n",
    "os.system(\"wget -O \"+data_dir+\"tst_sup.csv https://www.dropbox.com/scl/fi/o268pp6y6ynmtlgpolfk6/tst_sup_trimmed.csv?rlkey=bjeimrmv0l1rq6a3go5pl4os6&dl=0\")"
   ]
  },
  {
   "attachments": {},
   "cell_type": "markdown",
   "metadata": {},
   "source": [
    "### Initialize a NeuralDB"
   ]
  },
  {
   "cell_type": "code",
   "execution_count": null,
   "metadata": {},
   "outputs": [],
   "source": [
    "db = ndb.NeuralDB(id_delimiter=\":\")"
   ]
  },
  {
   "attachments": {},
   "cell_type": "markdown",
   "metadata": {},
   "source": [
    "### Load a document"
   ]
  },
  {
   "cell_type": "code",
   "execution_count": null,
   "metadata": {},
   "outputs": [],
   "source": [
    "doc = ndb.CSV(data_dir+\"unsup.csv\", id_column=\"DOC_ID\", strong_columns=[\"TITLE\"], weak_columns=[\"DESCRIPTION\"])"
   ]
  },
  {
   "attachments": {},
   "cell_type": "markdown",
   "metadata": {},
   "source": [
    "### Insert the document into NeuralDB"
   ]
  },
  {
   "cell_type": "code",
   "execution_count": null,
   "metadata": {},
   "outputs": [],
   "source": [
    "source_ids = db.insert([doc], train=True)"
   ]
  },
  {
   "attachments": {},
   "cell_type": "markdown",
   "metadata": {},
   "source": [
    "In the previous step, by setting train=True, the NeuralDB will tune directly on the products based on the past responses. We will now show how to do feedbackdriven tuning.\n",
    "\n",
    "### Load the Feedback Data"
   ]
  },
  {
   "cell_type": "code",
   "execution_count": null,
   "metadata": {},
   "outputs": [],
   "source": [
    "sup_doc = ndb.Sup(\n",
    "    data_dir+\"trn_sup.csv\",\n",
    "    query_column=\"QUERY\",\n",
    "    id_column=\"DOC_ID\",\n",
    "    id_delimiter=\":\",\n",
    "    source_id=source_ids[0],\n",
    ")"
   ]
  },
  {
   "attachments": {},
   "cell_type": "markdown",
   "metadata": {},
   "source": [
    "### Train the DB with the feedback data"
   ]
  },
  {
   "cell_type": "code",
   "execution_count": null,
   "metadata": {},
   "outputs": [],
   "source": [
    "db.supervised_train([sup_doc], learning_rate=0.001, epochs=10)"
   ]
  },
  {
   "attachments": {},
   "cell_type": "markdown",
   "metadata": {},
   "source": [
    "### Make Predictions and calculate metrics"
   ]
  },
  {
   "cell_type": "code",
   "execution_count": null,
   "metadata": {},
   "outputs": [],
   "source": [
    "import time\n",
    "\n",
    "\n",
    "df_test = pd.read_csv(data_dir+\"tst_sup.csv\")\n",
    "\n",
    "all_preds = []\n",
    "for i in range(df_test.shape[0]):\n",
    "    results = db.search(df_test['query'][0], top_k=1)\n",
    "    top_pred = results[0].id\n",
    "    all_preds.append(top_pred)\n",
    "\n"
   ]
  },
  {
   "attachments": {},
   "cell_type": "markdown",
   "metadata": {},
   "source": [
    "### Comparisons\n",
    "\n",
    "| text | Precision@1 |\n",
    "| --- | --- |\n",
    "| Elastic Search | 6.6% |\n",
    "| ChromaDB (all-mini-LM6-v2) | 9.98 %|\n",
    "| NeuralDB (with  Online tuning) | 42% | "
   ]
  }
 ],
 "metadata": {
  "language_info": {
   "name": "python"
  },
  "orig_nbformat": 4
 },
 "nbformat": 4,
 "nbformat_minor": 2
}
