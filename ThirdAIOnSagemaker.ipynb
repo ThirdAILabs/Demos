{
 "cells": [
  {
   "cell_type": "markdown",
   "id": "3d3c0d12",
   "metadata": {},
   "source": [
    "# Integrating ThirdAI with Sagemaker\n",
    "\n",
    "In this demo, we will see how we can integrate ThirdAI with Amazon Sagemaker and make use of the estimation and deployment pipeline of Sagemaker for end-to-end model training and deployment. \n",
    "\n",
    "We will train a ThirdAI Universal Deep Transformer model on amazon polarity dataset. The training and deployment is a 3 step process:\n",
    "\n",
    "1. Initializing an Estimator for the ThirdAI UDT container\n",
    "2. Training the model on own dataset.\n",
    "3. Deploying the model"
   ]
  },
  {
   "cell_type": "code",
   "execution_count": 1,
   "id": "ca933359",
   "metadata": {},
   "outputs": [],
   "source": [
    "import sagemaker\n",
    "import boto3\n",
    "\n",
    "from sagemaker.estimator import Estimator\n",
    "from sagemaker.predictor import Predictor"
   ]
  },
  {
   "cell_type": "markdown",
   "id": "177e7bfb",
   "metadata": {},
   "source": [
    "Permissions Required: \n",
    "Sagemaker notebook instance must have access to ECR and S3 bucket to load and store data. To change the permissions attached to the sagemaker role, follow the commands: \n",
    "\n",
    "1. Select your notebook from the **Notebook Instances** in Sagemaker menu \n",
    "2. Go to **Permissions and Encryption** and click on the **IAM role ARN** ( a new tab should pop-up )\n",
    "3. In the new tab, go to **Permissions** and Click on **Add Permissions**\n",
    "4. Search **Registry** in the **Menu**\n",
    "5. Add the policies \n",
    "    * AmazonElasticContainerRegistryPublicFullAccess \n",
    "    * AmazonEC2ContainerRegistryFullAccess\n",
    "    * AmazonS3FullAccess\n",
    "    * AmazonSageMakerFullAccess \n",
    " \n",
    " \n",
    "Estimators use a private ECR repository for serving your model. Hence, we will first pull the image from the ThirdAI public repository and then push the image to your private ECR registry. \n",
    "\n",
    "Run the following bash commands for setting up your private registry\n"
   ]
  },
  {
   "cell_type": "code",
   "execution_count": null,
   "id": "fd8151a7",
   "metadata": {},
   "outputs": [],
   "source": [
    "%%bash\n",
    "# pulling the public image to your device\n",
    "aws ecr-public get-login-password --region us-east-1 | docker login --username AWS --password-stdin public.ecr.aws/s5n2a0h0\n",
    "docker pull public.ecr.aws/s5n2a0h0/thirdai_udt:latest\n",
    "\n",
    "# getting your account name and region for pushing the docker image\n",
    "image=\"thirdai_udt_demo\"\n",
    "region=$(aws configure get region)\n",
    "account=$(aws sts get-caller-identity --query Account --output text)\n",
    "imagename=\"${account}.dkr.ecr.${region}.amazonaws.com/${image}:latest\"\n",
    "\n",
    "# if the repository doesn't exist, we will create it\n",
    "aws ecr describe-repositories --repository-names \"${image}\" > /dev/null 2>&1\n",
    "if [ $? -ne 0 ]\n",
    "then\n",
    "    echo \"Doesn't exist\"\n",
    "    aws ecr create-repository --repository-name \"${image}\" > /dev/null\n",
    "fi\n",
    "\n",
    "# tag the public image with your private image name\n",
    "docker tag public.ecr.aws/s5n2a0h0/thirdai_udt:latest ${imagename}\n",
    "echo $imagename\n",
    "\n",
    "# login to your private repository and push the docker container\n",
    "aws ecr get-login-password --region us-east-1 | docker login --username AWS --password-stdin ${account}.dkr.ecr.${region}.amazonaws.com\n",
    "docker push ${imagename}\n",
    "\n",
    "# imagename is your ECR ARN (resource number)"
   ]
  },
  {
   "cell_type": "code",
   "execution_count": 3,
   "id": "a63dba94",
   "metadata": {},
   "outputs": [],
   "source": [
    "default_bucket = \"mlflow-trial-delete-later\" #put your bucket name here\n",
    "role=sagemaker.get_execution_role()\n",
    "boto_session = boto3.Session()\n",
    "\n",
    "sagemaker_session = sagemaker.Session(\n",
    "        boto_session = boto_session,\n",
    "        default_bucket = default_bucket\n",
    ")\n",
    "\n",
    "#put the imagename from the above bash script here.\n",
    "ecr_image = \"your_imagename\"  \n",
    "\n",
    "job_name=\"amazon-polarity-demo\"\n",
    "output_path=f\"sagemaker/thirdai/demo/{job_name}\"\n",
    "\n",
    "dataset_folder=\"datasets/amazon_polarity\"\n",
    "license_folder=\"license_file\""
   ]
  },
  {
   "cell_type": "markdown",
   "id": "381aceb9",
   "metadata": {},
   "source": [
    "Store the dataset in your s3 bucket and set the train_file_path and test_file_path. You also need to provide a license_file_path. Reach out to us at contact@thirdai.com for getting a license file.\n",
    "\n",
    "Note that the name of the license file should be license.serialized"
   ]
  },
  {
   "cell_type": "code",
   "execution_count": 4,
   "id": "08c7089b",
   "metadata": {},
   "outputs": [],
   "source": [
    "train_file_path=f\"s3://{default_bucket}/{dataset_folder}/train.csv\"\n",
    "test_file_path=f\"s3://{default_bucket}/{dataset_folder}/test.csv\"\n",
    "license_file_path=f\"s3://{default_bucket}/{license_folder}/license.serialized\""
   ]
  },
  {
   "cell_type": "markdown",
   "id": "6db58037",
   "metadata": {},
   "source": [
    "Hyperparameters:\n",
    "\n",
    "* Required: \n",
    "    1. epochs\n",
    "    2. learning-rate\n",
    "    3. train-file-name\n",
    "\n",
    "\n",
    "* Optional:\n",
    "    1. test-file-name : If provided, the model will be evaluated on the test set\n",
    "    2. udt_args : Arguments provided to UDT. data_types is automatically inferred from the training file. \n",
    "    3. model-file-name : If provided, udt_args are ignored.\n",
    "\n",
    "Note: Atleast one of udt_args or model-file-name have to be provided. "
   ]
  },
  {
   "cell_type": "code",
   "execution_count": 5,
   "id": "8841668a",
   "metadata": {},
   "outputs": [],
   "source": [
    "hyperparameters={\n",
    "    \"train-file-name\":\"train.csv\", \n",
    "    \"epochs\":1,\n",
    "    \"learning-rate\":0.01,\n",
    "    \"udt_args\":\"{'target': 'label', 'n_target_classes': 2, 'delimiter': ','}\"\n",
    "}\n",
    "data_channels={\n",
    "    \"train\":train_file_path,\n",
    "    \"test\": test_file_path,\n",
    "    \"license\": license_file_path,\n",
    "}"
   ]
  },
  {
   "cell_type": "code",
   "execution_count": 6,
   "id": "88e8b5f1",
   "metadata": {},
   "outputs": [],
   "source": [
    "estimator=Estimator(\n",
    "    role=role,\n",
    "    sagemaker_session=sagemaker_session,\n",
    "    instance_count=1,\n",
    "    instance_type=\"ml.m4.2xlarge\",\n",
    "    image_uri=ecr_image,\n",
    "    base_job_name=job_name,\n",
    "    hyperparameters=hyperparameters,\n",
    "    output_path=f\"s3://{default_bucket}/{output_path}/model\"\n",
    ")"
   ]
  },
  {
   "cell_type": "markdown",
   "id": "12abd7da",
   "metadata": {},
   "source": [
    "The model and the related artifacts are stored in your S3 bucket at the location **output_path**. Sagemaker stores teh model artifacts as **model.tar.gz**. To train a new estimator from an existing estimator, specify **model_uri** in the Estimator function as\n",
    "\n",
    "\n",
    "<code>   estimator = Estimator(\n",
    "        model_uri=\"path_to_model_artifacts\"\n",
    "    )\n",
    "</code>"
   ]
  },
  {
   "cell_type": "code",
   "execution_count": 7,
   "id": "08ad8c1e",
   "metadata": {},
   "outputs": [
    {
     "data": {
      "text/plain": [
       "{'train-file-name': 'train.csv',\n",
       " 'epochs': 1,\n",
       " 'learning-rate': 0.01,\n",
       " 'udt_args': \"{'target': 'label', 'n_target_classes': 2, 'delimiter': ','}\"}"
      ]
     },
     "execution_count": 7,
     "metadata": {},
     "output_type": "execute_result"
    }
   ],
   "source": [
    "estimator.hyperparameters()"
   ]
  },
  {
   "cell_type": "code",
   "execution_count": null,
   "id": "71afaf58",
   "metadata": {},
   "outputs": [],
   "source": [
    "estimator.fit(data_channels, wait=True)"
   ]
  },
  {
   "cell_type": "markdown",
   "id": "e7ed30fd",
   "metadata": {},
   "source": [
    "Since, the model has been trained using Sagemaker's Estimator Pipeline, it supports all the niceties of Sageamaker. To deploy the model, just type <code>estimator.deploy()</code>.\n",
    "\n",
    "All ThirdAI models run on CPUs and have faster inference and training times. Hence, Sagemaker estimators can be deployed on **CPU** only instances. "
   ]
  },
  {
   "cell_type": "code",
   "execution_count": 9,
   "id": "9b1ccaa3",
   "metadata": {},
   "outputs": [
    {
     "name": "stdout",
     "output_type": "stream",
     "text": [
      "----------!"
     ]
    }
   ],
   "source": [
    "predictor = estimator.deploy(\n",
    "    initial_instance_count = 1,\n",
    "    instance_type = \"ml.t2.medium\",\n",
    ")"
   ]
  },
  {
   "cell_type": "code",
   "execution_count": 10,
   "id": "3d7cdeb2",
   "metadata": {},
   "outputs": [],
   "source": [
    "from sagemaker.serializers import JSONSerializer"
   ]
  },
  {
   "cell_type": "code",
   "execution_count": 15,
   "id": "6c95575f",
   "metadata": {},
   "outputs": [],
   "source": [
    "data={\"title\":\"The product is very good\"}\n",
    "stdata=JSONSerializer().serialize(data)"
   ]
  },
  {
   "cell_type": "code",
   "execution_count": 16,
   "id": "d4f241cf",
   "metadata": {},
   "outputs": [
    {
     "data": {
      "text/plain": [
       "'1'"
      ]
     },
     "execution_count": 16,
     "metadata": {},
     "output_type": "execute_result"
    }
   ],
   "source": [
    "predictor.predict(stdata).decode()"
   ]
  },
  {
   "cell_type": "code",
   "execution_count": null,
   "id": "2e3caaa4",
   "metadata": {},
   "outputs": [],
   "source": []
  }
 ],
 "metadata": {
  "kernelspec": {
   "display_name": "conda_python3",
   "language": "python",
   "name": "conda_python3"
  },
  "language_info": {
   "codemirror_mode": {
    "name": "ipython",
    "version": 3
   },
   "file_extension": ".py",
   "mimetype": "text/x-python",
   "name": "python",
   "nbconvert_exporter": "python",
   "pygments_lexer": "ipython3",
   "version": "3.8.12"
  }
 },
 "nbformat": 4,
 "nbformat_minor": 5
}
