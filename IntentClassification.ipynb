{
 "cells": [
  {
   "cell_type": "code",
   "execution_count": 1,
   "metadata": {},
   "outputs": [],
   "source": [
    "!pip3 install thirdai\n",
    "!pip3 install pandas # Needed by the datasets module to convert datasets to CSV format\n",
    "!pip3 install numpy\n",
    "\n",
    "import datasets\n",
    "\n",
    "train_filename, test_filename, inference_batch = datasets.download_clinc()"
   ]
  },
  {
   "cell_type": "code",
   "execution_count": 2,
   "metadata": {},
   "outputs": [
    {
     "name": "stdout",
     "output_type": "stream",
     "text": [
      "\n",
      "======================= Bolt Model =======================\n",
      "input_1 (Input): dim=200000\n",
      "input_1 -> fc_1 (FullyConnected): dim=512, sparsity=1, act_func=ReLU\n",
      "fc_1 -> fc_2 (FullyConnected): dim=151, sparsity=1, act_func=Softmax\n",
      "============================================================\n",
      "\n"
     ]
    }
   ],
   "source": [
    "from thirdai import bolt\n",
    "\n",
    "model = bolt.UniversalDeepTransformer(\n",
    "    data_types={\n",
    "        \"text\": bolt.types.text(),\n",
    "        \"category\": bolt.types.categorical(n_unique_classes=151)\n",
    "    },\n",
    "    target=\"category\"\n",
    ")"
   ]
  },
  {
   "cell_type": "code",
   "execution_count": 3,
   "metadata": {},
   "outputs": [
    {
     "name": "stdout",
     "output_type": "stream",
     "text": [
      "Loading vectors from './clinc_train.csv'\n",
      "Loaded 15000 vectors from './clinc_train.csv' in 0 seconds.\n",
      "train epoch 0:\n",
      "\n",
      "[==================================================] 100%\n",
      "\n",
      "train | epoch 0 | updates 8 | {categorical_accuracy: 0.3792} | batches 8 | time 0s | complete\n",
      "\n",
      "train epoch 1:\n",
      "\n",
      "[==================================================] 100%\n",
      "\n",
      "train | epoch 1 | updates 16 | {categorical_accuracy: 0.857133} | batches 8 | time 0s | complete\n",
      "\n",
      "train epoch 2:\n",
      "\n",
      "[==================================================] 100%\n",
      "\n",
      "train | epoch 2 | updates 24 | {categorical_accuracy: 0.930467} | batches 8 | time 0s | complete\n",
      "\n",
      "train epoch 3:\n",
      "\n",
      "[==================================================] 100%\n",
      "\n",
      "train | epoch 3 | updates 32 | {categorical_accuracy: 0.968533} | batches 8 | time 0s | complete\n",
      "\n",
      "train epoch 4:\n",
      "\n",
      "[==================================================] 100%===========================      ] 87%\n",
      "\n",
      "train | epoch 4 | updates 40 | {categorical_accuracy: 0.987133} | batches 8 | time 0s | complete\n",
      "\n",
      "Loading vectors from './clinc_test.csv'\n",
      "Loaded 4500 vectors from './clinc_test.csv' in 0 seconds.\n",
      "test:\n",
      "\n",
      "[==================================================] 100%\n",
      "\n",
      "predict | epoch 5 | updates 40 | {categorical_accuracy: 0.908667} | batches 3 | time 27ms\n",
      "\n"
     ]
    },
    {
     "data": {
      "text/plain": [
       "array([[9.9385816e-01, 4.7021664e-11, 3.1668950e-08, ..., 2.4105037e-10,\n",
       "        3.3457324e-11, 1.1335135e-19],\n",
       "       [9.0282941e-01, 3.7333148e-10, 8.0230443e-08, ..., 4.7793971e-08,\n",
       "        2.8450900e-10, 5.4974688e-18],\n",
       "       [9.9930882e-01, 6.6613226e-10, 2.5294650e-08, ..., 1.7064009e-08,\n",
       "        5.9939049e-09, 1.3808543e-17],\n",
       "       ...,\n",
       "       [2.2775976e-11, 5.3681096e-12, 6.4077227e-13, ..., 5.9045919e-09,\n",
       "        9.9916208e-01, 4.8098624e-22],\n",
       "       [1.3998407e-06, 1.3461320e-09, 1.7499859e-10, ..., 1.6464426e-07,\n",
       "        2.1315204e-01, 2.3931525e-17],\n",
       "       [2.0083364e-08, 8.9741592e-10, 1.2640340e-10, ..., 3.6856754e-08,\n",
       "        9.9675447e-01, 6.1367484e-17]], dtype=float32)"
      ]
     },
     "execution_count": 3,
     "metadata": {},
     "output_type": "execute_result"
    }
   ],
   "source": [
    "train_config = (bolt.TrainConfig(epochs=5, learning_rate=0.01)\n",
    "                    .with_metrics([\"categorical_accuracy\"]))\n",
    "\n",
    "model.train(train_filename, train_config)\n",
    "\n",
    "test_config = (bolt.EvalConfig()\n",
    "                   .with_metrics([\"categorical_accuracy\"]))\n",
    "\n",
    "model.evaluate(test_filename, test_config)"
   ]
  },
  {
   "cell_type": "code",
   "execution_count": 4,
   "metadata": {},
   "outputs": [
    {
     "name": "stdout",
     "output_type": "stream",
     "text": [
      "[{'text': 'can you please do a simulated coin flip for me ai'}, {'text': 'would you call yourself a human or a computer'}, {'text': 'would it be ok to use butter instead of oil'}, {'text': 'how much do i have available on my visa card'}, {'text': 'how long does pizza take'}]\n"
     ]
    }
   ],
   "source": [
    "print(inference_batch)"
   ]
  },
  {
   "cell_type": "code",
   "execution_count": 5,
   "metadata": {},
   "outputs": [
    {
     "name": "stdout",
     "output_type": "stream",
     "text": [
      "flip_coin\n"
     ]
    }
   ],
   "source": [
    "import numpy as np\n",
    "\n",
    "prediction = model.predict(inference_batch[0])\n",
    "prediction_batch = model.predict_batch(inference_batch)\n",
    "\n",
    "print(model.class_name(np.argmax(prediction)))"
   ]
  },
  {
   "cell_type": "code",
   "execution_count": null,
   "metadata": {},
   "outputs": [],
   "source": []
  }
 ],
 "metadata": {
  "kernelspec": {
   "display_name": "Python 3.10.6 64-bit",
   "language": "python",
   "name": "python3"
  },
  "language_info": {
   "codemirror_mode": {
    "name": "ipython",
    "version": 3
   },
   "file_extension": ".py",
   "mimetype": "text/x-python",
   "name": "python",
   "nbconvert_exporter": "python",
   "pygments_lexer": "ipython3",
   "version": "3.10.6"
  },
  "orig_nbformat": 4,
  "vscode": {
   "interpreter": {
    "hash": "b0fa6594d8f4cbf19f97940f81e996739fb7646882a419484c72d19e05852a7e"
   }
  }
 },
 "nbformat": 4,
 "nbformat_minor": 2
}
