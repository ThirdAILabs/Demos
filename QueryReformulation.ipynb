{
 "cells": [
  {
   "cell_type": "markdown",
   "metadata": {},
   "source": [
    "\n",
    "# Query Reformulation using the UniversalDeepTransformer API\n",
    "\n",
    "This notebook shows how to build a query reformulation model with ThirdAI's Universal Deep Transformer (UDT) model, our all-purpose API for classification tasks on tabular datasets and query reformulation. In this demo, we will train and evaluate the model on a spelling correction dataset.\n",
    "\n",
    "To run this notebook, you will need to obtain a ThirdAI license at the following link if you have not already: https://www.thirdai.com/try-bolt/"
   ]
  },
  {
   "cell_type": "markdown",
   "metadata": {},
   "source": []
  },
  {
   "cell_type": "code",
   "execution_count": 1,
   "metadata": {},
   "outputs": [
    {
     "name": "stdout",
     "output_type": "stream",
     "text": [
      "\u001b[33mWARNING: Ignoring invalid distribution -mpy (/Users/blaisethirdai/.pyenv/versions/3.9.5/lib/python3.9/site-packages)\u001b[0m\u001b[33m\n",
      "\u001b[0m\u001b[33mWARNING: Ignoring invalid distribution -irdai (/Users/blaisethirdai/.pyenv/versions/3.9.5/lib/python3.9/site-packages)\u001b[0m\u001b[33m\n",
      "\u001b[0m\u001b[33mWARNING: Ignoring invalid distribution -umpy (/Users/blaisethirdai/.pyenv/versions/3.9.5/lib/python3.9/site-packages)\u001b[0m\u001b[33m\n",
      "\u001b[0m\u001b[33mWARNING: Ignoring invalid distribution -irdai (/Users/blaisethirdai/.pyenv/versions/3.9.5/lib/python3.9/site-packages)\u001b[0m\u001b[33m\n",
      "\u001b[0m\u001b[33mWARNING: Ignoring invalid distribution -hirdai (/Users/blaisethirdai/.pyenv/versions/3.9.5/lib/python3.9/site-packages)\u001b[0m\u001b[33m\n",
      "\u001b[0m\u001b[33mWARNING: Ignoring invalid distribution - (/Users/blaisethirdai/.pyenv/versions/3.9.5/lib/python3.9/site-packages)\u001b[0m\u001b[33m\n",
      "\u001b[0m\u001b[33mWARNING: Ignoring invalid distribution -mpy (/Users/blaisethirdai/.pyenv/versions/3.9.5/lib/python3.9/site-packages)\u001b[0m\u001b[33m\n",
      "\u001b[0m\u001b[33mWARNING: Ignoring invalid distribution -irdai (/Users/blaisethirdai/.pyenv/versions/3.9.5/lib/python3.9/site-packages)\u001b[0m\u001b[33m\n",
      "\u001b[0m\u001b[33mWARNING: Ignoring invalid distribution -umpy (/Users/blaisethirdai/.pyenv/versions/3.9.5/lib/python3.9/site-packages)\u001b[0m\u001b[33m\n",
      "\u001b[0m\u001b[33mWARNING: Ignoring invalid distribution -irdai (/Users/blaisethirdai/.pyenv/versions/3.9.5/lib/python3.9/site-packages)\u001b[0m\u001b[33m\n",
      "\u001b[0m\u001b[33mWARNING: Ignoring invalid distribution -hirdai (/Users/blaisethirdai/.pyenv/versions/3.9.5/lib/python3.9/site-packages)\u001b[0m\u001b[33m\n",
      "\u001b[0m\u001b[33mWARNING: Ignoring invalid distribution - (/Users/blaisethirdai/.pyenv/versions/3.9.5/lib/python3.9/site-packages)\u001b[0m\u001b[33m\n",
      "\u001b[0mRequirement already satisfied: thirdai==0.5.4 in /Users/blaisethirdai/.pyenv/versions/3.9.5/lib/python3.9/site-packages (0.5.4)\n",
      "Requirement already satisfied: typing-extensions in /Users/blaisethirdai/.pyenv/versions/3.9.5/lib/python3.9/site-packages (from thirdai==0.5.4) (4.3.0)\n",
      "Requirement already satisfied: pandas in /Users/blaisethirdai/.pyenv/versions/3.9.5/lib/python3.9/site-packages (from thirdai==0.5.4) (1.4.3)\n",
      "Requirement already satisfied: numpy in /Users/blaisethirdai/.pyenv/versions/3.9.5/lib/python3.9/site-packages (from thirdai==0.5.4) (1.23.2)\n",
      "Requirement already satisfied: pytz>=2020.1 in /Users/blaisethirdai/.pyenv/versions/3.9.5/lib/python3.9/site-packages (from pandas->thirdai==0.5.4) (2022.1)\n",
      "Requirement already satisfied: python-dateutil>=2.8.1 in /Users/blaisethirdai/.pyenv/versions/3.9.5/lib/python3.9/site-packages (from pandas->thirdai==0.5.4) (2.8.2)\n",
      "Requirement already satisfied: six>=1.5 in /Users/blaisethirdai/.pyenv/versions/3.9.5/lib/python3.9/site-packages (from python-dateutil>=2.8.1->pandas->thirdai==0.5.4) (1.16.0)\n",
      "\u001b[33mWARNING: Ignoring invalid distribution -mpy (/Users/blaisethirdai/.pyenv/versions/3.9.5/lib/python3.9/site-packages)\u001b[0m\u001b[33m\n",
      "\u001b[0m\u001b[33mWARNING: Ignoring invalid distribution -irdai (/Users/blaisethirdai/.pyenv/versions/3.9.5/lib/python3.9/site-packages)\u001b[0m\u001b[33m\n",
      "\u001b[0m\u001b[33mWARNING: Ignoring invalid distribution -umpy (/Users/blaisethirdai/.pyenv/versions/3.9.5/lib/python3.9/site-packages)\u001b[0m\u001b[33m\n",
      "\u001b[0m\u001b[33mWARNING: Ignoring invalid distribution -irdai (/Users/blaisethirdai/.pyenv/versions/3.9.5/lib/python3.9/site-packages)\u001b[0m\u001b[33m\n",
      "\u001b[0m\u001b[33mWARNING: Ignoring invalid distribution -hirdai (/Users/blaisethirdai/.pyenv/versions/3.9.5/lib/python3.9/site-packages)\u001b[0m\u001b[33m\n",
      "\u001b[0m\u001b[33mWARNING: Ignoring invalid distribution - (/Users/blaisethirdai/.pyenv/versions/3.9.5/lib/python3.9/site-packages)\u001b[0m\u001b[33m\n",
      "\u001b[0m\u001b[33mWARNING: Ignoring invalid distribution -mpy (/Users/blaisethirdai/.pyenv/versions/3.9.5/lib/python3.9/site-packages)\u001b[0m\u001b[33m\n",
      "\u001b[0m\u001b[33mWARNING: Ignoring invalid distribution -irdai (/Users/blaisethirdai/.pyenv/versions/3.9.5/lib/python3.9/site-packages)\u001b[0m\u001b[33m\n",
      "\u001b[0m\u001b[33mWARNING: Ignoring invalid distribution -umpy (/Users/blaisethirdai/.pyenv/versions/3.9.5/lib/python3.9/site-packages)\u001b[0m\u001b[33m\n",
      "\u001b[0m\u001b[33mWARNING: Ignoring invalid distribution -irdai (/Users/blaisethirdai/.pyenv/versions/3.9.5/lib/python3.9/site-packages)\u001b[0m\u001b[33m\n",
      "\u001b[0m\u001b[33mWARNING: Ignoring invalid distribution -hirdai (/Users/blaisethirdai/.pyenv/versions/3.9.5/lib/python3.9/site-packages)\u001b[0m\u001b[33m\n",
      "\u001b[0m\u001b[33mWARNING: Ignoring invalid distribution - (/Users/blaisethirdai/.pyenv/versions/3.9.5/lib/python3.9/site-packages)\u001b[0m\u001b[33m\n",
      "\u001b[0m\u001b[33mWARNING: Ignoring invalid distribution -mpy (/Users/blaisethirdai/.pyenv/versions/3.9.5/lib/python3.9/site-packages)\u001b[0m\u001b[33m\n",
      "\u001b[0m\u001b[33mWARNING: Ignoring invalid distribution -irdai (/Users/blaisethirdai/.pyenv/versions/3.9.5/lib/python3.9/site-packages)\u001b[0m\u001b[33m\n",
      "\u001b[0m\u001b[33mWARNING: Ignoring invalid distribution -umpy (/Users/blaisethirdai/.pyenv/versions/3.9.5/lib/python3.9/site-packages)\u001b[0m\u001b[33m\n",
      "\u001b[0m\u001b[33mWARNING: Ignoring invalid distribution -irdai (/Users/blaisethirdai/.pyenv/versions/3.9.5/lib/python3.9/site-packages)\u001b[0m\u001b[33m\n",
      "\u001b[0m\u001b[33mWARNING: Ignoring invalid distribution -hirdai (/Users/blaisethirdai/.pyenv/versions/3.9.5/lib/python3.9/site-packages)\u001b[0m\u001b[33m\n",
      "\u001b[0m\u001b[33mWARNING: Ignoring invalid distribution - (/Users/blaisethirdai/.pyenv/versions/3.9.5/lib/python3.9/site-packages)\u001b[0m\u001b[33m\n",
      "\u001b[0m\u001b[33mWARNING: Ignoring invalid distribution -mpy (/Users/blaisethirdai/.pyenv/versions/3.9.5/lib/python3.9/site-packages)\u001b[0m\u001b[33m\n",
      "\u001b[0m\u001b[33mWARNING: Ignoring invalid distribution -irdai (/Users/blaisethirdai/.pyenv/versions/3.9.5/lib/python3.9/site-packages)\u001b[0m\u001b[33m\n",
      "\u001b[0m\u001b[33mWARNING: Ignoring invalid distribution -umpy (/Users/blaisethirdai/.pyenv/versions/3.9.5/lib/python3.9/site-packages)\u001b[0m\u001b[33m\n",
      "\u001b[0m\u001b[33mWARNING: Ignoring invalid distribution -irdai (/Users/blaisethirdai/.pyenv/versions/3.9.5/lib/python3.9/site-packages)\u001b[0m\u001b[33m\n",
      "\u001b[0m\u001b[33mWARNING: Ignoring invalid distribution -hirdai (/Users/blaisethirdai/.pyenv/versions/3.9.5/lib/python3.9/site-packages)\u001b[0m\u001b[33m\n",
      "\u001b[0m\u001b[33mWARNING: Ignoring invalid distribution - (/Users/blaisethirdai/.pyenv/versions/3.9.5/lib/python3.9/site-packages)\u001b[0m\u001b[33m\n",
      "\u001b[0m\n",
      "\u001b[1m[\u001b[0m\u001b[34;49mnotice\u001b[0m\u001b[1;39;49m]\u001b[0m\u001b[39;49m A new release of pip available: \u001b[0m\u001b[31;49m22.2.2\u001b[0m\u001b[39;49m -> \u001b[0m\u001b[32;49m22.3.1\u001b[0m\n",
      "\u001b[1m[\u001b[0m\u001b[34;49mnotice\u001b[0m\u001b[1;39;49m]\u001b[0m\u001b[39;49m To update, run: \u001b[0m\u001b[32;49mpip install --upgrade pip\u001b[0m\n",
      "\u001b[33mWARNING: Ignoring invalid distribution -mpy (/Users/blaisethirdai/.pyenv/versions/3.9.5/lib/python3.9/site-packages)\u001b[0m\u001b[33m\n",
      "\u001b[0m\u001b[33mWARNING: Ignoring invalid distribution -irdai (/Users/blaisethirdai/.pyenv/versions/3.9.5/lib/python3.9/site-packages)\u001b[0m\u001b[33m\n",
      "\u001b[0m\u001b[33mWARNING: Ignoring invalid distribution -umpy (/Users/blaisethirdai/.pyenv/versions/3.9.5/lib/python3.9/site-packages)\u001b[0m\u001b[33m\n",
      "\u001b[0m\u001b[33mWARNING: Ignoring invalid distribution -irdai (/Users/blaisethirdai/.pyenv/versions/3.9.5/lib/python3.9/site-packages)\u001b[0m\u001b[33m\n",
      "\u001b[0m\u001b[33mWARNING: Ignoring invalid distribution -hirdai (/Users/blaisethirdai/.pyenv/versions/3.9.5/lib/python3.9/site-packages)\u001b[0m\u001b[33m\n",
      "\u001b[0m\u001b[33mWARNING: Ignoring invalid distribution - (/Users/blaisethirdai/.pyenv/versions/3.9.5/lib/python3.9/site-packages)\u001b[0m\u001b[33m\n",
      "\u001b[0m\u001b[33mWARNING: Ignoring invalid distribution -mpy (/Users/blaisethirdai/.pyenv/versions/3.9.5/lib/python3.9/site-packages)\u001b[0m\u001b[33m\n",
      "\u001b[0m\u001b[33mWARNING: Ignoring invalid distribution -irdai (/Users/blaisethirdai/.pyenv/versions/3.9.5/lib/python3.9/site-packages)\u001b[0m\u001b[33m\n",
      "\u001b[0m\u001b[33mWARNING: Ignoring invalid distribution -umpy (/Users/blaisethirdai/.pyenv/versions/3.9.5/lib/python3.9/site-packages)\u001b[0m\u001b[33m\n",
      "\u001b[0m\u001b[33mWARNING: Ignoring invalid distribution -irdai (/Users/blaisethirdai/.pyenv/versions/3.9.5/lib/python3.9/site-packages)\u001b[0m\u001b[33m\n",
      "\u001b[0m\u001b[33mWARNING: Ignoring invalid distribution -hirdai (/Users/blaisethirdai/.pyenv/versions/3.9.5/lib/python3.9/site-packages)\u001b[0m\u001b[33m\n",
      "\u001b[0m\u001b[33mWARNING: Ignoring invalid distribution - (/Users/blaisethirdai/.pyenv/versions/3.9.5/lib/python3.9/site-packages)\u001b[0m\u001b[33m\n",
      "\u001b[0mRequirement already satisfied: pandas in /Users/blaisethirdai/.pyenv/versions/3.9.5/lib/python3.9/site-packages (1.4.3)\n",
      "Requirement already satisfied: pytz>=2020.1 in /Users/blaisethirdai/.pyenv/versions/3.9.5/lib/python3.9/site-packages (from pandas) (2022.1)\n",
      "Requirement already satisfied: numpy>=1.20.0 in /Users/blaisethirdai/.pyenv/versions/3.9.5/lib/python3.9/site-packages (from pandas) (1.23.2)\n",
      "Requirement already satisfied: python-dateutil>=2.8.1 in /Users/blaisethirdai/.pyenv/versions/3.9.5/lib/python3.9/site-packages (from pandas) (2.8.2)\n",
      "Requirement already satisfied: six>=1.5 in /Users/blaisethirdai/.pyenv/versions/3.9.5/lib/python3.9/site-packages (from python-dateutil>=2.8.1->pandas) (1.16.0)\n",
      "\u001b[33mWARNING: Ignoring invalid distribution -mpy (/Users/blaisethirdai/.pyenv/versions/3.9.5/lib/python3.9/site-packages)\u001b[0m\u001b[33m\n",
      "\u001b[0m\u001b[33mWARNING: Ignoring invalid distribution -irdai (/Users/blaisethirdai/.pyenv/versions/3.9.5/lib/python3.9/site-packages)\u001b[0m\u001b[33m\n",
      "\u001b[0m\u001b[33mWARNING: Ignoring invalid distribution -umpy (/Users/blaisethirdai/.pyenv/versions/3.9.5/lib/python3.9/site-packages)\u001b[0m\u001b[33m\n",
      "\u001b[0m\u001b[33mWARNING: Ignoring invalid distribution -irdai (/Users/blaisethirdai/.pyenv/versions/3.9.5/lib/python3.9/site-packages)\u001b[0m\u001b[33m\n",
      "\u001b[0m\u001b[33mWARNING: Ignoring invalid distribution -hirdai (/Users/blaisethirdai/.pyenv/versions/3.9.5/lib/python3.9/site-packages)\u001b[0m\u001b[33m\n",
      "\u001b[0m\u001b[33mWARNING: Ignoring invalid distribution - (/Users/blaisethirdai/.pyenv/versions/3.9.5/lib/python3.9/site-packages)\u001b[0m\u001b[33m\n",
      "\u001b[0m\u001b[33mWARNING: Ignoring invalid distribution -mpy (/Users/blaisethirdai/.pyenv/versions/3.9.5/lib/python3.9/site-packages)\u001b[0m\u001b[33m\n",
      "\u001b[0m\u001b[33mWARNING: Ignoring invalid distribution -irdai (/Users/blaisethirdai/.pyenv/versions/3.9.5/lib/python3.9/site-packages)\u001b[0m\u001b[33m\n",
      "\u001b[0m\u001b[33mWARNING: Ignoring invalid distribution -umpy (/Users/blaisethirdai/.pyenv/versions/3.9.5/lib/python3.9/site-packages)\u001b[0m\u001b[33m\n",
      "\u001b[0m\u001b[33mWARNING: Ignoring invalid distribution -irdai (/Users/blaisethirdai/.pyenv/versions/3.9.5/lib/python3.9/site-packages)\u001b[0m\u001b[33m\n",
      "\u001b[0m\u001b[33mWARNING: Ignoring invalid distribution -hirdai (/Users/blaisethirdai/.pyenv/versions/3.9.5/lib/python3.9/site-packages)\u001b[0m\u001b[33m\n",
      "\u001b[0m\u001b[33mWARNING: Ignoring invalid distribution - (/Users/blaisethirdai/.pyenv/versions/3.9.5/lib/python3.9/site-packages)\u001b[0m\u001b[33m\n",
      "\u001b[0m\u001b[33mWARNING: Ignoring invalid distribution -mpy (/Users/blaisethirdai/.pyenv/versions/3.9.5/lib/python3.9/site-packages)\u001b[0m\u001b[33m\n",
      "\u001b[0m\u001b[33mWARNING: Ignoring invalid distribution -irdai (/Users/blaisethirdai/.pyenv/versions/3.9.5/lib/python3.9/site-packages)\u001b[0m\u001b[33m\n",
      "\u001b[0m\u001b[33mWARNING: Ignoring invalid distribution -umpy (/Users/blaisethirdai/.pyenv/versions/3.9.5/lib/python3.9/site-packages)\u001b[0m\u001b[33m\n",
      "\u001b[0m\u001b[33mWARNING: Ignoring invalid distribution -irdai (/Users/blaisethirdai/.pyenv/versions/3.9.5/lib/python3.9/site-packages)\u001b[0m\u001b[33m\n",
      "\u001b[0m\u001b[33mWARNING: Ignoring invalid distribution -hirdai (/Users/blaisethirdai/.pyenv/versions/3.9.5/lib/python3.9/site-packages)\u001b[0m\u001b[33m\n",
      "\u001b[0m\u001b[33mWARNING: Ignoring invalid distribution - (/Users/blaisethirdai/.pyenv/versions/3.9.5/lib/python3.9/site-packages)\u001b[0m\u001b[33m\n",
      "\u001b[0m\u001b[33mWARNING: Ignoring invalid distribution -mpy (/Users/blaisethirdai/.pyenv/versions/3.9.5/lib/python3.9/site-packages)\u001b[0m\u001b[33m\n",
      "\u001b[0m\u001b[33mWARNING: Ignoring invalid distribution -irdai (/Users/blaisethirdai/.pyenv/versions/3.9.5/lib/python3.9/site-packages)\u001b[0m\u001b[33m\n",
      "\u001b[0m\u001b[33mWARNING: Ignoring invalid distribution -umpy (/Users/blaisethirdai/.pyenv/versions/3.9.5/lib/python3.9/site-packages)\u001b[0m\u001b[33m\n",
      "\u001b[0m\u001b[33mWARNING: Ignoring invalid distribution -irdai (/Users/blaisethirdai/.pyenv/versions/3.9.5/lib/python3.9/site-packages)\u001b[0m\u001b[33m\n",
      "\u001b[0m\u001b[33mWARNING: Ignoring invalid distribution -hirdai (/Users/blaisethirdai/.pyenv/versions/3.9.5/lib/python3.9/site-packages)\u001b[0m\u001b[33m\n",
      "\u001b[0m\u001b[33mWARNING: Ignoring invalid distribution - (/Users/blaisethirdai/.pyenv/versions/3.9.5/lib/python3.9/site-packages)\u001b[0m\u001b[33m\n",
      "\u001b[0m\n",
      "\u001b[1m[\u001b[0m\u001b[34;49mnotice\u001b[0m\u001b[1;39;49m]\u001b[0m\u001b[39;49m A new release of pip available: \u001b[0m\u001b[31;49m22.2.2\u001b[0m\u001b[39;49m -> \u001b[0m\u001b[32;49m22.3.1\u001b[0m\n",
      "\u001b[1m[\u001b[0m\u001b[34;49mnotice\u001b[0m\u001b[1;39;49m]\u001b[0m\u001b[39;49m To update, run: \u001b[0m\u001b[32;49mpip install --upgrade pip\u001b[0m\n",
      "\u001b[33mWARNING: Ignoring invalid distribution -mpy (/Users/blaisethirdai/.pyenv/versions/3.9.5/lib/python3.9/site-packages)\u001b[0m\u001b[33m\n",
      "\u001b[0m\u001b[33mWARNING: Ignoring invalid distribution -irdai (/Users/blaisethirdai/.pyenv/versions/3.9.5/lib/python3.9/site-packages)\u001b[0m\u001b[33m\n",
      "\u001b[0m\u001b[33mWARNING: Ignoring invalid distribution -umpy (/Users/blaisethirdai/.pyenv/versions/3.9.5/lib/python3.9/site-packages)\u001b[0m\u001b[33m\n",
      "\u001b[0m\u001b[33mWARNING: Ignoring invalid distribution -irdai (/Users/blaisethirdai/.pyenv/versions/3.9.5/lib/python3.9/site-packages)\u001b[0m\u001b[33m\n",
      "\u001b[0m\u001b[33mWARNING: Ignoring invalid distribution -hirdai (/Users/blaisethirdai/.pyenv/versions/3.9.5/lib/python3.9/site-packages)\u001b[0m\u001b[33m\n",
      "\u001b[0m\u001b[33mWARNING: Ignoring invalid distribution - (/Users/blaisethirdai/.pyenv/versions/3.9.5/lib/python3.9/site-packages)\u001b[0m\u001b[33m\n",
      "\u001b[0m\u001b[33mWARNING: Ignoring invalid distribution -mpy (/Users/blaisethirdai/.pyenv/versions/3.9.5/lib/python3.9/site-packages)\u001b[0m\u001b[33m\n",
      "\u001b[0m\u001b[33mWARNING: Ignoring invalid distribution -irdai (/Users/blaisethirdai/.pyenv/versions/3.9.5/lib/python3.9/site-packages)\u001b[0m\u001b[33m\n",
      "\u001b[0m\u001b[33mWARNING: Ignoring invalid distribution -umpy (/Users/blaisethirdai/.pyenv/versions/3.9.5/lib/python3.9/site-packages)\u001b[0m\u001b[33m\n",
      "\u001b[0m\u001b[33mWARNING: Ignoring invalid distribution -irdai (/Users/blaisethirdai/.pyenv/versions/3.9.5/lib/python3.9/site-packages)\u001b[0m\u001b[33m\n",
      "\u001b[0m\u001b[33mWARNING: Ignoring invalid distribution -hirdai (/Users/blaisethirdai/.pyenv/versions/3.9.5/lib/python3.9/site-packages)\u001b[0m\u001b[33m\n",
      "\u001b[0m\u001b[33mWARNING: Ignoring invalid distribution - (/Users/blaisethirdai/.pyenv/versions/3.9.5/lib/python3.9/site-packages)\u001b[0m\u001b[33m\n",
      "\u001b[0mRequirement already satisfied: numpy in /Users/blaisethirdai/.pyenv/versions/3.9.5/lib/python3.9/site-packages (1.23.2)\n",
      "\u001b[33mWARNING: Ignoring invalid distribution -mpy (/Users/blaisethirdai/.pyenv/versions/3.9.5/lib/python3.9/site-packages)\u001b[0m\u001b[33m\n",
      "\u001b[0m\u001b[33mWARNING: Ignoring invalid distribution -irdai (/Users/blaisethirdai/.pyenv/versions/3.9.5/lib/python3.9/site-packages)\u001b[0m\u001b[33m\n",
      "\u001b[0m\u001b[33mWARNING: Ignoring invalid distribution -umpy (/Users/blaisethirdai/.pyenv/versions/3.9.5/lib/python3.9/site-packages)\u001b[0m\u001b[33m\n",
      "\u001b[0m\u001b[33mWARNING: Ignoring invalid distribution -irdai (/Users/blaisethirdai/.pyenv/versions/3.9.5/lib/python3.9/site-packages)\u001b[0m\u001b[33m\n",
      "\u001b[0m\u001b[33mWARNING: Ignoring invalid distribution -hirdai (/Users/blaisethirdai/.pyenv/versions/3.9.5/lib/python3.9/site-packages)\u001b[0m\u001b[33m\n",
      "\u001b[0m\u001b[33mWARNING: Ignoring invalid distribution - (/Users/blaisethirdai/.pyenv/versions/3.9.5/lib/python3.9/site-packages)\u001b[0m\u001b[33m\n",
      "\u001b[0m\u001b[33mWARNING: Ignoring invalid distribution -mpy (/Users/blaisethirdai/.pyenv/versions/3.9.5/lib/python3.9/site-packages)\u001b[0m\u001b[33m\n",
      "\u001b[0m\u001b[33mWARNING: Ignoring invalid distribution -irdai (/Users/blaisethirdai/.pyenv/versions/3.9.5/lib/python3.9/site-packages)\u001b[0m\u001b[33m\n",
      "\u001b[0m\u001b[33mWARNING: Ignoring invalid distribution -umpy (/Users/blaisethirdai/.pyenv/versions/3.9.5/lib/python3.9/site-packages)\u001b[0m\u001b[33m\n",
      "\u001b[0m\u001b[33mWARNING: Ignoring invalid distribution -irdai (/Users/blaisethirdai/.pyenv/versions/3.9.5/lib/python3.9/site-packages)\u001b[0m\u001b[33m\n",
      "\u001b[0m\u001b[33mWARNING: Ignoring invalid distribution -hirdai (/Users/blaisethirdai/.pyenv/versions/3.9.5/lib/python3.9/site-packages)\u001b[0m\u001b[33m\n",
      "\u001b[0m\u001b[33mWARNING: Ignoring invalid distribution - (/Users/blaisethirdai/.pyenv/versions/3.9.5/lib/python3.9/site-packages)\u001b[0m\u001b[33m\n",
      "\u001b[0m\u001b[33mWARNING: Ignoring invalid distribution -mpy (/Users/blaisethirdai/.pyenv/versions/3.9.5/lib/python3.9/site-packages)\u001b[0m\u001b[33m\n",
      "\u001b[0m\u001b[33mWARNING: Ignoring invalid distribution -irdai (/Users/blaisethirdai/.pyenv/versions/3.9.5/lib/python3.9/site-packages)\u001b[0m\u001b[33m\n",
      "\u001b[0m\u001b[33mWARNING: Ignoring invalid distribution -umpy (/Users/blaisethirdai/.pyenv/versions/3.9.5/lib/python3.9/site-packages)\u001b[0m\u001b[33m\n",
      "\u001b[0m\u001b[33mWARNING: Ignoring invalid distribution -irdai (/Users/blaisethirdai/.pyenv/versions/3.9.5/lib/python3.9/site-packages)\u001b[0m\u001b[33m\n",
      "\u001b[0m\u001b[33mWARNING: Ignoring invalid distribution -hirdai (/Users/blaisethirdai/.pyenv/versions/3.9.5/lib/python3.9/site-packages)\u001b[0m\u001b[33m\n",
      "\u001b[0m\u001b[33mWARNING: Ignoring invalid distribution - (/Users/blaisethirdai/.pyenv/versions/3.9.5/lib/python3.9/site-packages)\u001b[0m\u001b[33m\n",
      "\u001b[0m\u001b[33mWARNING: Ignoring invalid distribution -mpy (/Users/blaisethirdai/.pyenv/versions/3.9.5/lib/python3.9/site-packages)\u001b[0m\u001b[33m\n",
      "\u001b[0m\u001b[33mWARNING: Ignoring invalid distribution -irdai (/Users/blaisethirdai/.pyenv/versions/3.9.5/lib/python3.9/site-packages)\u001b[0m\u001b[33m\n",
      "\u001b[0m\u001b[33mWARNING: Ignoring invalid distribution -umpy (/Users/blaisethirdai/.pyenv/versions/3.9.5/lib/python3.9/site-packages)\u001b[0m\u001b[33m\n",
      "\u001b[0m\u001b[33mWARNING: Ignoring invalid distribution -irdai (/Users/blaisethirdai/.pyenv/versions/3.9.5/lib/python3.9/site-packages)\u001b[0m\u001b[33m\n",
      "\u001b[0m\u001b[33mWARNING: Ignoring invalid distribution -hirdai (/Users/blaisethirdai/.pyenv/versions/3.9.5/lib/python3.9/site-packages)\u001b[0m\u001b[33m\n",
      "\u001b[0m\u001b[33mWARNING: Ignoring invalid distribution - (/Users/blaisethirdai/.pyenv/versions/3.9.5/lib/python3.9/site-packages)\u001b[0m\u001b[33m\n",
      "\u001b[0m\n",
      "\u001b[1m[\u001b[0m\u001b[34;49mnotice\u001b[0m\u001b[1;39;49m]\u001b[0m\u001b[39;49m A new release of pip available: \u001b[0m\u001b[31;49m22.2.2\u001b[0m\u001b[39;49m -> \u001b[0m\u001b[32;49m22.3.1\u001b[0m\n",
      "\u001b[1m[\u001b[0m\u001b[34;49mnotice\u001b[0m\u001b[1;39;49m]\u001b[0m\u001b[39;49m To update, run: \u001b[0m\u001b[32;49mpip install --upgrade pip\u001b[0m\n"
     ]
    }
   ],
   "source": [
    "!pip3 install thirdai==0.5.4\n",
    "!pip3 install pandas\n",
    "!pip3 install numpy"
   ]
  },
  {
   "cell_type": "markdown",
   "metadata": {},
   "source": [
    "## Dataset Download\n",
    "\n",
    "We will use the utils module in this repository to download and pre-process a dataset from HuggingFace. The dataset we will use from HuggingFace is typically used for semantic sentence similarity. We will pre-process it by adding noise so that it is suitable for query reformulation. You can replace this step and the next with a UDT initialization that is specific for your dataset - as long as your input dataset consists of a column with incorrect queries and a column with their target reformulations. "
   ]
  },
  {
   "cell_type": "code",
   "execution_count": 2,
   "metadata": {},
   "outputs": [
    {
     "name": "stderr",
     "output_type": "stream",
     "text": [
      "Using custom data configuration embedding-data--sentence-compression-05ca3d220d185946\n",
      "Reusing dataset json (/Users/blaisethirdai/.cache/huggingface/datasets/embedding-data___json/embedding-data--sentence-compression-05ca3d220d185946/0.0.0/da492aad5680612e4028e7f6ddc04b1dfcec4b64db470ed7cc5f2bb265b9b6b5)\n"
     ]
    },
    {
     "data": {
      "application/vnd.jupyter.widget-view+json": {
       "model_id": "4333eb0002964aafadf314be741d0fc8",
       "version_major": 2,
       "version_minor": 0
      },
      "text/plain": [
       "  0%|          | 0/1 [00:00<?, ?it/s]"
      ]
     },
     "metadata": {},
     "output_type": "display_data"
    }
   ],
   "source": [
    "from utils import QueryReformulationDataProcessor\n",
    "import pandas as pd\n",
    "\n",
    "TRAIN_FILE_PATH = \"queries.csv\"\n",
    "\n",
    "data_processor = QueryReformulationDataProcessor(\n",
    "    dataset_name=\"embedding-data/sentence-compression\"\n",
    ")\n",
    "\n",
    "# The perturbed dataset consists of one column with incorrect queries\n",
    "# formed by adding noise to the original text.\n",
    "perturbed_dataset = data_processor.perturb_dataset()\n",
    "\n",
    "# Add file header since the \"train\" and \"evaluate\" methods assume the\n",
    "# input CSV file has a header.\n",
    "perturbed_dataset.columns = [\"target_column\", \"source_column\"]\n",
    "perturbed_dataset.to_csv(TRAIN_FILE_PATH, index=False)"
   ]
  },
  {
   "cell_type": "code",
   "execution_count": 3,
   "metadata": {},
   "outputs": [
    {
     "data": {
      "text/html": [
       "<div>\n",
       "<style scoped>\n",
       "    .dataframe tbody tr th:only-of-type {\n",
       "        vertical-align: middle;\n",
       "    }\n",
       "\n",
       "    .dataframe tbody tr th {\n",
       "        vertical-align: top;\n",
       "    }\n",
       "\n",
       "    .dataframe thead th {\n",
       "        text-align: right;\n",
       "    }\n",
       "</style>\n",
       "<table border=\"1\" class=\"dataframe\">\n",
       "  <thead>\n",
       "    <tr style=\"text-align: right;\">\n",
       "      <th></th>\n",
       "      <th>target_column</th>\n",
       "      <th>source_column</th>\n",
       "    </tr>\n",
       "  </thead>\n",
       "  <tbody>\n",
       "    <tr>\n",
       "      <th>0</th>\n",
       "      <td>Two most annoying forms of musical expression ...</td>\n",
       "      <td>Two most annoying forms of musical expression ...</td>\n",
       "    </tr>\n",
       "  </tbody>\n",
       "</table>\n",
       "</div>"
      ],
      "text/plain": [
       "                                       target_column  \\\n",
       "0  Two most annoying forms of musical expression ...   \n",
       "\n",
       "                                       source_column  \n",
       "0  Two most annoying forms of musical expression ...  "
      ]
     },
     "execution_count": 3,
     "metadata": {},
     "output_type": "execute_result"
    }
   ],
   "source": [
    "perturbed_dataset"
   ]
  },
  {
   "cell_type": "markdown",
   "metadata": {},
   "source": [
    "## UDT Initialization\n",
    "\n",
    "We can create a UDT model specific for query reformulation by specifying the name of the source column (column containing queries to be reformulated) and the name of the target column (correct reformulations) and a dataset size parameter. The size of the input dataset can be configured to be either \"small\", \"medium\" or \"large\". We configure different model parameters depending on the size of the input dataset. "
   ]
  },
  {
   "cell_type": "code",
   "execution_count": 3,
   "metadata": {},
   "outputs": [],
   "source": [
    "from thirdai import bolt\n",
    "\n",
    "model = bolt.UniversalDeepTransformer(\n",
    "    source_column=\"source_column\", target_column=\"target_column\", dataset_size=\"medium\"\n",
    ")"
   ]
  },
  {
   "cell_type": "markdown",
   "metadata": {},
   "source": [
    "## Training\n",
    "\n",
    "We can now train our model in just one line of code. You just have to specify the path to the training file. "
   ]
  },
  {
   "cell_type": "code",
   "execution_count": 4,
   "metadata": {},
   "outputs": [
    {
     "name": "stdout",
     "output_type": "stream",
     "text": [
      "Loading vectors from 'queries.csv'\n",
      "Loaded 180000 vectors from 'queries.csv' in 0 seconds.\n"
     ]
    },
    {
     "ename": "RuntimeError",
     "evalue": "The license was found to be invalid: could not find any license file (tried the following locations: /Users/blaisethirdai/license.serialized, /Users/blaisethirdai/Desktop/Demos/license.serialized, ). Go to https://thirdai.com/try-bolt to get a license.",
     "output_type": "error",
     "traceback": [
      "\u001b[0;31m---------------------------------------------------------------------------\u001b[0m",
      "\u001b[0;31mRuntimeError\u001b[0m                              Traceback (most recent call last)",
      "\u001b[1;32m/Users/blaisethirdai/Desktop/Demos/QueryReformulation.ipynb Cell 9'\u001b[0m in \u001b[0;36m<cell line: 1>\u001b[0;34m()\u001b[0m\n\u001b[0;32m----> <a href='vscode-notebook-cell:/Users/blaisethirdai/Desktop/Demos/QueryReformulation.ipynb#ch0000007?line=0'>1</a>\u001b[0m model\u001b[39m.\u001b[39;49mtrain(filename\u001b[39m=\u001b[39;49mTRAIN_FILE_PATH)\n",
      "\u001b[0;31mRuntimeError\u001b[0m: The license was found to be invalid: could not find any license file (tried the following locations: /Users/blaisethirdai/license.serialized, /Users/blaisethirdai/Desktop/Demos/license.serialized, ). Go to https://thirdai.com/try-bolt to get a license."
     ]
    }
   ],
   "source": [
    "model.train(filename=TRAIN_FILE_PATH)"
   ]
  },
  {
   "cell_type": "markdown",
   "metadata": {},
   "source": [
    "## Evaluation \n",
    "\n",
    "Evaluating the UDT model is also just one line of code. Since this UDT model is specific for query reformulation, you need to provide the number of suggested candidate queries that the UDT model generates. For instance, if you want to see the top 10 suggested query reformulations of the input query, set the top_k parameter to 10. Evaluating this model will also print out recall @k. "
   ]
  },
  {
   "cell_type": "code",
   "execution_count": 5,
   "metadata": {},
   "outputs": [
    {
     "ename": "RuntimeError",
     "evalue": "Query Candidate Generator Exception: Attempting to Evaluate the Generator without Training.",
     "output_type": "error",
     "traceback": [
      "\u001b[0;31m---------------------------------------------------------------------------\u001b[0m",
      "\u001b[0;31mRuntimeError\u001b[0m                              Traceback (most recent call last)",
      "\u001b[1;32m/Users/blaisethirdai/Desktop/Demos/QueryReformulation.ipynb Cell 11'\u001b[0m in \u001b[0;36m<cell line: 1>\u001b[0;34m()\u001b[0m\n\u001b[0;32m----> <a href='vscode-notebook-cell:/Users/blaisethirdai/Desktop/Demos/QueryReformulation.ipynb#ch0000013?line=0'>1</a>\u001b[0m query_reformulations \u001b[39m=\u001b[39m model\u001b[39m.\u001b[39;49mevaluate(filename\u001b[39m=\u001b[39;49mTRAIN_FILE_PATH, top_k\u001b[39m=\u001b[39;49m\u001b[39m5\u001b[39;49m)\n",
      "\u001b[0;31mRuntimeError\u001b[0m: Query Candidate Generator Exception: Attempting to Evaluate the Generator without Training."
     ]
    }
   ],
   "source": [
    "query_reformulations = model.evaluate(filename=TRAIN_FILE_PATH, top_k=5)"
   ]
  },
  {
   "cell_type": "markdown",
   "metadata": {},
   "source": [
    "## Saving and Loading\n",
    "\n",
    "Saving and loading a trained UDT model to disk is also extremely straight forward. "
   ]
  },
  {
   "cell_type": "code",
   "execution_count": null,
   "metadata": {},
   "outputs": [],
   "source": [
    "model_location = \"query_reformulation.model\"\n",
    "\n",
    "# Saving\n",
    "model.save(model_location = \"query_reformulation.model\"\n",
    ")\n",
    "\n",
    "# Loading\n",
    "model = bolt.UniversalDeepTransformer.load(model_location)"
   ]
  },
  {
   "cell_type": "markdown",
   "metadata": {},
   "source": [
    "## Testing Predictions \n",
    "\n",
    "The evaluation method is great for testing, but it requires labels, which don't exist in a production environment. We also provide a predict method that can take a list of queries or a single query, which allows for easy integration into production pipelines. "
   ]
  },
  {
   "cell_type": "code",
   "execution_count": null,
   "metadata": {},
   "outputs": [],
   "source": [
    "incorrect_queries_list = [\n",
    "    \"ehT Beatles almost dformde while they were all still elive\",\n",
    "    \"Muslim poplatio to growe at twice the rate\",\n",
    "    \"Pakintan begins predesential poll process\"\n",
    "]\n",
    "predictions = model.predict_batch(queries=incorrect_queries_list, top_k=5)\n",
    "\n"
   ]
  },
  {
   "cell_type": "code",
   "execution_count": null,
   "metadata": {},
   "outputs": [],
   "source": [
    "# Remove the created training file\n",
    "import os\n",
    "\n",
    "os.remove(TRAIN_FILE_PATH)"
   ]
  }
 ],
 "metadata": {
  "kernelspec": {
   "display_name": "Python 3.9.5 64-bit ('3.9.5')",
   "language": "python",
   "name": "python3"
  },
  "language_info": {
   "codemirror_mode": {
    "name": "ipython",
    "version": 3
   },
   "file_extension": ".py",
   "mimetype": "text/x-python",
   "name": "python",
   "nbconvert_exporter": "python",
   "pygments_lexer": "ipython3",
   "version": "3.9.5"
  },
  "orig_nbformat": 4,
  "vscode": {
   "interpreter": {
    "hash": "c8573aafd228246904de159cbac3e8b63355dc71223fe3e3d5cbf4d60497d6ac"
   }
  }
 },
 "nbformat": 4,
 "nbformat_minor": 2
}
