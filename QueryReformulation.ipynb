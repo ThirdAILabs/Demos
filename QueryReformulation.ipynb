{
 "cells": [
  {
   "cell_type": "markdown",
   "metadata": {},
   "source": [
    "\n",
    "# Query Reformulation using the UniversalDeepTransformer API\n",
    "\n",
    "This notebook shows how to build a query reformulation model with ThirdAI's Universal Deep Transformer (UDT) model, our all-purpose API for classification tasks on tabular datasets and query reformulation. In this demo, we will train and evaluate the model on a spelling correction dataset.\n",
    "\n",
    "To run this notebook, you will need to obtain a ThirdAI license at the following link if you have not already: https://www.thirdai.com/try-bolt/"
   ]
  },
  {
   "cell_type": "markdown",
   "metadata": {},
   "source": []
  },
  {
   "cell_type": "code",
   "execution_count": 2,
   "metadata": {},
   "outputs": [
    {
     "name": "stdout",
     "output_type": "stream",
     "text": [
      "\u001b[33mWARNING: Ignoring invalid distribution -mpy (/Users/blaisethirdai/.pyenv/versions/3.9.5/lib/python3.9/site-packages)\u001b[0m\u001b[33m\n",
      "\u001b[0m\u001b[33mWARNING: Ignoring invalid distribution -irdai (/Users/blaisethirdai/.pyenv/versions/3.9.5/lib/python3.9/site-packages)\u001b[0m\u001b[33m\n",
      "\u001b[0m\u001b[33mWARNING: Ignoring invalid distribution -umpy (/Users/blaisethirdai/.pyenv/versions/3.9.5/lib/python3.9/site-packages)\u001b[0m\u001b[33m\n",
      "\u001b[0m\u001b[33mWARNING: Ignoring invalid distribution -irdai (/Users/blaisethirdai/.pyenv/versions/3.9.5/lib/python3.9/site-packages)\u001b[0m\u001b[33m\n",
      "\u001b[0m\u001b[33mWARNING: Ignoring invalid distribution -hirdai (/Users/blaisethirdai/.pyenv/versions/3.9.5/lib/python3.9/site-packages)\u001b[0m\u001b[33m\n",
      "\u001b[0m\u001b[33mWARNING: Ignoring invalid distribution - (/Users/blaisethirdai/.pyenv/versions/3.9.5/lib/python3.9/site-packages)\u001b[0m\u001b[33m\n",
      "\u001b[0m\u001b[33mWARNING: Ignoring invalid distribution -mpy (/Users/blaisethirdai/.pyenv/versions/3.9.5/lib/python3.9/site-packages)\u001b[0m\u001b[33m\n",
      "\u001b[0m\u001b[33mWARNING: Ignoring invalid distribution -irdai (/Users/blaisethirdai/.pyenv/versions/3.9.5/lib/python3.9/site-packages)\u001b[0m\u001b[33m\n",
      "\u001b[0m\u001b[33mWARNING: Ignoring invalid distribution -umpy (/Users/blaisethirdai/.pyenv/versions/3.9.5/lib/python3.9/site-packages)\u001b[0m\u001b[33m\n",
      "\u001b[0m\u001b[33mWARNING: Ignoring invalid distribution -irdai (/Users/blaisethirdai/.pyenv/versions/3.9.5/lib/python3.9/site-packages)\u001b[0m\u001b[33m\n",
      "\u001b[0m\u001b[33mWARNING: Ignoring invalid distribution -hirdai (/Users/blaisethirdai/.pyenv/versions/3.9.5/lib/python3.9/site-packages)\u001b[0m\u001b[33m\n",
      "\u001b[0m\u001b[33mWARNING: Ignoring invalid distribution - (/Users/blaisethirdai/.pyenv/versions/3.9.5/lib/python3.9/site-packages)\u001b[0m\u001b[33m\n",
      "\u001b[0mRequirement already satisfied: thirdai==0.5.4 in /Users/blaisethirdai/.pyenv/versions/3.9.5/lib/python3.9/site-packages (0.5.4)\n",
      "Requirement already satisfied: numpy in /Users/blaisethirdai/.pyenv/versions/3.9.5/lib/python3.9/site-packages (from thirdai==0.5.4) (1.23.2)\n",
      "Requirement already satisfied: typing-extensions in /Users/blaisethirdai/.pyenv/versions/3.9.5/lib/python3.9/site-packages (from thirdai==0.5.4) (4.3.0)\n",
      "Requirement already satisfied: pandas in /Users/blaisethirdai/.pyenv/versions/3.9.5/lib/python3.9/site-packages (from thirdai==0.5.4) (1.4.3)\n",
      "Requirement already satisfied: python-dateutil>=2.8.1 in /Users/blaisethirdai/.pyenv/versions/3.9.5/lib/python3.9/site-packages (from pandas->thirdai==0.5.4) (2.8.2)\n",
      "Requirement already satisfied: pytz>=2020.1 in /Users/blaisethirdai/.pyenv/versions/3.9.5/lib/python3.9/site-packages (from pandas->thirdai==0.5.4) (2022.1)\n",
      "Requirement already satisfied: six>=1.5 in /Users/blaisethirdai/.pyenv/versions/3.9.5/lib/python3.9/site-packages (from python-dateutil>=2.8.1->pandas->thirdai==0.5.4) (1.16.0)\n",
      "\u001b[33mWARNING: Ignoring invalid distribution -mpy (/Users/blaisethirdai/.pyenv/versions/3.9.5/lib/python3.9/site-packages)\u001b[0m\u001b[33m\n",
      "\u001b[0m\u001b[33mWARNING: Ignoring invalid distribution -irdai (/Users/blaisethirdai/.pyenv/versions/3.9.5/lib/python3.9/site-packages)\u001b[0m\u001b[33m\n",
      "\u001b[0m\u001b[33mWARNING: Ignoring invalid distribution -umpy (/Users/blaisethirdai/.pyenv/versions/3.9.5/lib/python3.9/site-packages)\u001b[0m\u001b[33m\n",
      "\u001b[0m\u001b[33mWARNING: Ignoring invalid distribution -irdai (/Users/blaisethirdai/.pyenv/versions/3.9.5/lib/python3.9/site-packages)\u001b[0m\u001b[33m\n",
      "\u001b[0m\u001b[33mWARNING: Ignoring invalid distribution -hirdai (/Users/blaisethirdai/.pyenv/versions/3.9.5/lib/python3.9/site-packages)\u001b[0m\u001b[33m\n",
      "\u001b[0m\u001b[33mWARNING: Ignoring invalid distribution - (/Users/blaisethirdai/.pyenv/versions/3.9.5/lib/python3.9/site-packages)\u001b[0m\u001b[33m\n",
      "\u001b[0m\u001b[33mWARNING: Ignoring invalid distribution -mpy (/Users/blaisethirdai/.pyenv/versions/3.9.5/lib/python3.9/site-packages)\u001b[0m\u001b[33m\n",
      "\u001b[0m\u001b[33mWARNING: Ignoring invalid distribution -irdai (/Users/blaisethirdai/.pyenv/versions/3.9.5/lib/python3.9/site-packages)\u001b[0m\u001b[33m\n",
      "\u001b[0m\u001b[33mWARNING: Ignoring invalid distribution -umpy (/Users/blaisethirdai/.pyenv/versions/3.9.5/lib/python3.9/site-packages)\u001b[0m\u001b[33m\n",
      "\u001b[0m\u001b[33mWARNING: Ignoring invalid distribution -irdai (/Users/blaisethirdai/.pyenv/versions/3.9.5/lib/python3.9/site-packages)\u001b[0m\u001b[33m\n",
      "\u001b[0m\u001b[33mWARNING: Ignoring invalid distribution -hirdai (/Users/blaisethirdai/.pyenv/versions/3.9.5/lib/python3.9/site-packages)\u001b[0m\u001b[33m\n",
      "\u001b[0m\u001b[33mWARNING: Ignoring invalid distribution - (/Users/blaisethirdai/.pyenv/versions/3.9.5/lib/python3.9/site-packages)\u001b[0m\u001b[33m\n",
      "\u001b[0m\u001b[33mWARNING: Ignoring invalid distribution -mpy (/Users/blaisethirdai/.pyenv/versions/3.9.5/lib/python3.9/site-packages)\u001b[0m\u001b[33m\n",
      "\u001b[0m\u001b[33mWARNING: Ignoring invalid distribution -irdai (/Users/blaisethirdai/.pyenv/versions/3.9.5/lib/python3.9/site-packages)\u001b[0m\u001b[33m\n",
      "\u001b[0m\u001b[33mWARNING: Ignoring invalid distribution -umpy (/Users/blaisethirdai/.pyenv/versions/3.9.5/lib/python3.9/site-packages)\u001b[0m\u001b[33m\n",
      "\u001b[0m\u001b[33mWARNING: Ignoring invalid distribution -irdai (/Users/blaisethirdai/.pyenv/versions/3.9.5/lib/python3.9/site-packages)\u001b[0m\u001b[33m\n",
      "\u001b[0m\u001b[33mWARNING: Ignoring invalid distribution -hirdai (/Users/blaisethirdai/.pyenv/versions/3.9.5/lib/python3.9/site-packages)\u001b[0m\u001b[33m\n",
      "\u001b[0m\u001b[33mWARNING: Ignoring invalid distribution - (/Users/blaisethirdai/.pyenv/versions/3.9.5/lib/python3.9/site-packages)\u001b[0m\u001b[33m\n",
      "\u001b[0m\u001b[33mWARNING: Ignoring invalid distribution -mpy (/Users/blaisethirdai/.pyenv/versions/3.9.5/lib/python3.9/site-packages)\u001b[0m\u001b[33m\n",
      "\u001b[0m\u001b[33mWARNING: Ignoring invalid distribution -irdai (/Users/blaisethirdai/.pyenv/versions/3.9.5/lib/python3.9/site-packages)\u001b[0m\u001b[33m\n",
      "\u001b[0m\u001b[33mWARNING: Ignoring invalid distribution -umpy (/Users/blaisethirdai/.pyenv/versions/3.9.5/lib/python3.9/site-packages)\u001b[0m\u001b[33m\n",
      "\u001b[0m\u001b[33mWARNING: Ignoring invalid distribution -irdai (/Users/blaisethirdai/.pyenv/versions/3.9.5/lib/python3.9/site-packages)\u001b[0m\u001b[33m\n",
      "\u001b[0m\u001b[33mWARNING: Ignoring invalid distribution -hirdai (/Users/blaisethirdai/.pyenv/versions/3.9.5/lib/python3.9/site-packages)\u001b[0m\u001b[33m\n",
      "\u001b[0m\u001b[33mWARNING: Ignoring invalid distribution - (/Users/blaisethirdai/.pyenv/versions/3.9.5/lib/python3.9/site-packages)\u001b[0m\u001b[33m\n",
      "\u001b[0m\n",
      "\u001b[1m[\u001b[0m\u001b[34;49mnotice\u001b[0m\u001b[1;39;49m]\u001b[0m\u001b[39;49m A new release of pip available: \u001b[0m\u001b[31;49m22.2.2\u001b[0m\u001b[39;49m -> \u001b[0m\u001b[32;49m22.3.1\u001b[0m\n",
      "\u001b[1m[\u001b[0m\u001b[34;49mnotice\u001b[0m\u001b[1;39;49m]\u001b[0m\u001b[39;49m To update, run: \u001b[0m\u001b[32;49mpip install --upgrade pip\u001b[0m\n",
      "\u001b[33mWARNING: Ignoring invalid distribution -mpy (/Users/blaisethirdai/.pyenv/versions/3.9.5/lib/python3.9/site-packages)\u001b[0m\u001b[33m\n",
      "\u001b[0m\u001b[33mWARNING: Ignoring invalid distribution -irdai (/Users/blaisethirdai/.pyenv/versions/3.9.5/lib/python3.9/site-packages)\u001b[0m\u001b[33m\n",
      "\u001b[0m\u001b[33mWARNING: Ignoring invalid distribution -umpy (/Users/blaisethirdai/.pyenv/versions/3.9.5/lib/python3.9/site-packages)\u001b[0m\u001b[33m\n",
      "\u001b[0m\u001b[33mWARNING: Ignoring invalid distribution -irdai (/Users/blaisethirdai/.pyenv/versions/3.9.5/lib/python3.9/site-packages)\u001b[0m\u001b[33m\n",
      "\u001b[0m\u001b[33mWARNING: Ignoring invalid distribution -hirdai (/Users/blaisethirdai/.pyenv/versions/3.9.5/lib/python3.9/site-packages)\u001b[0m\u001b[33m\n",
      "\u001b[0m\u001b[33mWARNING: Ignoring invalid distribution - (/Users/blaisethirdai/.pyenv/versions/3.9.5/lib/python3.9/site-packages)\u001b[0m\u001b[33m\n",
      "\u001b[0m\u001b[33mWARNING: Ignoring invalid distribution -mpy (/Users/blaisethirdai/.pyenv/versions/3.9.5/lib/python3.9/site-packages)\u001b[0m\u001b[33m\n",
      "\u001b[0m\u001b[33mWARNING: Ignoring invalid distribution -irdai (/Users/blaisethirdai/.pyenv/versions/3.9.5/lib/python3.9/site-packages)\u001b[0m\u001b[33m\n",
      "\u001b[0m\u001b[33mWARNING: Ignoring invalid distribution -umpy (/Users/blaisethirdai/.pyenv/versions/3.9.5/lib/python3.9/site-packages)\u001b[0m\u001b[33m\n",
      "\u001b[0m\u001b[33mWARNING: Ignoring invalid distribution -irdai (/Users/blaisethirdai/.pyenv/versions/3.9.5/lib/python3.9/site-packages)\u001b[0m\u001b[33m\n",
      "\u001b[0m\u001b[33mWARNING: Ignoring invalid distribution -hirdai (/Users/blaisethirdai/.pyenv/versions/3.9.5/lib/python3.9/site-packages)\u001b[0m\u001b[33m\n",
      "\u001b[0m\u001b[33mWARNING: Ignoring invalid distribution - (/Users/blaisethirdai/.pyenv/versions/3.9.5/lib/python3.9/site-packages)\u001b[0m\u001b[33m\n",
      "\u001b[0mRequirement already satisfied: pandas in /Users/blaisethirdai/.pyenv/versions/3.9.5/lib/python3.9/site-packages (1.4.3)\n",
      "Requirement already satisfied: pytz>=2020.1 in /Users/blaisethirdai/.pyenv/versions/3.9.5/lib/python3.9/site-packages (from pandas) (2022.1)\n",
      "Requirement already satisfied: python-dateutil>=2.8.1 in /Users/blaisethirdai/.pyenv/versions/3.9.5/lib/python3.9/site-packages (from pandas) (2.8.2)\n",
      "Requirement already satisfied: numpy>=1.20.0 in /Users/blaisethirdai/.pyenv/versions/3.9.5/lib/python3.9/site-packages (from pandas) (1.23.2)\n",
      "Requirement already satisfied: six>=1.5 in /Users/blaisethirdai/.pyenv/versions/3.9.5/lib/python3.9/site-packages (from python-dateutil>=2.8.1->pandas) (1.16.0)\n",
      "\u001b[33mWARNING: Ignoring invalid distribution -mpy (/Users/blaisethirdai/.pyenv/versions/3.9.5/lib/python3.9/site-packages)\u001b[0m\u001b[33m\n",
      "\u001b[0m\u001b[33mWARNING: Ignoring invalid distribution -irdai (/Users/blaisethirdai/.pyenv/versions/3.9.5/lib/python3.9/site-packages)\u001b[0m\u001b[33m\n",
      "\u001b[0m\u001b[33mWARNING: Ignoring invalid distribution -umpy (/Users/blaisethirdai/.pyenv/versions/3.9.5/lib/python3.9/site-packages)\u001b[0m\u001b[33m\n",
      "\u001b[0m\u001b[33mWARNING: Ignoring invalid distribution -irdai (/Users/blaisethirdai/.pyenv/versions/3.9.5/lib/python3.9/site-packages)\u001b[0m\u001b[33m\n",
      "\u001b[0m\u001b[33mWARNING: Ignoring invalid distribution -hirdai (/Users/blaisethirdai/.pyenv/versions/3.9.5/lib/python3.9/site-packages)\u001b[0m\u001b[33m\n",
      "\u001b[0m\u001b[33mWARNING: Ignoring invalid distribution - (/Users/blaisethirdai/.pyenv/versions/3.9.5/lib/python3.9/site-packages)\u001b[0m\u001b[33m\n",
      "\u001b[0m\u001b[33mWARNING: Ignoring invalid distribution -mpy (/Users/blaisethirdai/.pyenv/versions/3.9.5/lib/python3.9/site-packages)\u001b[0m\u001b[33m\n",
      "\u001b[0m\u001b[33mWARNING: Ignoring invalid distribution -irdai (/Users/blaisethirdai/.pyenv/versions/3.9.5/lib/python3.9/site-packages)\u001b[0m\u001b[33m\n",
      "\u001b[0m\u001b[33mWARNING: Ignoring invalid distribution -umpy (/Users/blaisethirdai/.pyenv/versions/3.9.5/lib/python3.9/site-packages)\u001b[0m\u001b[33m\n",
      "\u001b[0m\u001b[33mWARNING: Ignoring invalid distribution -irdai (/Users/blaisethirdai/.pyenv/versions/3.9.5/lib/python3.9/site-packages)\u001b[0m\u001b[33m\n",
      "\u001b[0m\u001b[33mWARNING: Ignoring invalid distribution -hirdai (/Users/blaisethirdai/.pyenv/versions/3.9.5/lib/python3.9/site-packages)\u001b[0m\u001b[33m\n",
      "\u001b[0m\u001b[33mWARNING: Ignoring invalid distribution - (/Users/blaisethirdai/.pyenv/versions/3.9.5/lib/python3.9/site-packages)\u001b[0m\u001b[33m\n",
      "\u001b[0m\u001b[33mWARNING: Ignoring invalid distribution -mpy (/Users/blaisethirdai/.pyenv/versions/3.9.5/lib/python3.9/site-packages)\u001b[0m\u001b[33m\n",
      "\u001b[0m\u001b[33mWARNING: Ignoring invalid distribution -irdai (/Users/blaisethirdai/.pyenv/versions/3.9.5/lib/python3.9/site-packages)\u001b[0m\u001b[33m\n",
      "\u001b[0m\u001b[33mWARNING: Ignoring invalid distribution -umpy (/Users/blaisethirdai/.pyenv/versions/3.9.5/lib/python3.9/site-packages)\u001b[0m\u001b[33m\n",
      "\u001b[0m\u001b[33mWARNING: Ignoring invalid distribution -irdai (/Users/blaisethirdai/.pyenv/versions/3.9.5/lib/python3.9/site-packages)\u001b[0m\u001b[33m\n",
      "\u001b[0m\u001b[33mWARNING: Ignoring invalid distribution -hirdai (/Users/blaisethirdai/.pyenv/versions/3.9.5/lib/python3.9/site-packages)\u001b[0m\u001b[33m\n",
      "\u001b[0m\u001b[33mWARNING: Ignoring invalid distribution - (/Users/blaisethirdai/.pyenv/versions/3.9.5/lib/python3.9/site-packages)\u001b[0m\u001b[33m\n",
      "\u001b[0m\u001b[33mWARNING: Ignoring invalid distribution -mpy (/Users/blaisethirdai/.pyenv/versions/3.9.5/lib/python3.9/site-packages)\u001b[0m\u001b[33m\n",
      "\u001b[0m\u001b[33mWARNING: Ignoring invalid distribution -irdai (/Users/blaisethirdai/.pyenv/versions/3.9.5/lib/python3.9/site-packages)\u001b[0m\u001b[33m\n",
      "\u001b[0m\u001b[33mWARNING: Ignoring invalid distribution -umpy (/Users/blaisethirdai/.pyenv/versions/3.9.5/lib/python3.9/site-packages)\u001b[0m\u001b[33m\n",
      "\u001b[0m\u001b[33mWARNING: Ignoring invalid distribution -irdai (/Users/blaisethirdai/.pyenv/versions/3.9.5/lib/python3.9/site-packages)\u001b[0m\u001b[33m\n",
      "\u001b[0m\u001b[33mWARNING: Ignoring invalid distribution -hirdai (/Users/blaisethirdai/.pyenv/versions/3.9.5/lib/python3.9/site-packages)\u001b[0m\u001b[33m\n",
      "\u001b[0m\u001b[33mWARNING: Ignoring invalid distribution - (/Users/blaisethirdai/.pyenv/versions/3.9.5/lib/python3.9/site-packages)\u001b[0m\u001b[33m\n",
      "\u001b[0m\n",
      "\u001b[1m[\u001b[0m\u001b[34;49mnotice\u001b[0m\u001b[1;39;49m]\u001b[0m\u001b[39;49m A new release of pip available: \u001b[0m\u001b[31;49m22.2.2\u001b[0m\u001b[39;49m -> \u001b[0m\u001b[32;49m22.3.1\u001b[0m\n",
      "\u001b[1m[\u001b[0m\u001b[34;49mnotice\u001b[0m\u001b[1;39;49m]\u001b[0m\u001b[39;49m To update, run: \u001b[0m\u001b[32;49mpip install --upgrade pip\u001b[0m\n",
      "\u001b[33mWARNING: Ignoring invalid distribution -mpy (/Users/blaisethirdai/.pyenv/versions/3.9.5/lib/python3.9/site-packages)\u001b[0m\u001b[33m\n",
      "\u001b[0m\u001b[33mWARNING: Ignoring invalid distribution -irdai (/Users/blaisethirdai/.pyenv/versions/3.9.5/lib/python3.9/site-packages)\u001b[0m\u001b[33m\n",
      "\u001b[0m\u001b[33mWARNING: Ignoring invalid distribution -umpy (/Users/blaisethirdai/.pyenv/versions/3.9.5/lib/python3.9/site-packages)\u001b[0m\u001b[33m\n",
      "\u001b[0m\u001b[33mWARNING: Ignoring invalid distribution -irdai (/Users/blaisethirdai/.pyenv/versions/3.9.5/lib/python3.9/site-packages)\u001b[0m\u001b[33m\n",
      "\u001b[0m\u001b[33mWARNING: Ignoring invalid distribution -hirdai (/Users/blaisethirdai/.pyenv/versions/3.9.5/lib/python3.9/site-packages)\u001b[0m\u001b[33m\n",
      "\u001b[0m\u001b[33mWARNING: Ignoring invalid distribution - (/Users/blaisethirdai/.pyenv/versions/3.9.5/lib/python3.9/site-packages)\u001b[0m\u001b[33m\n",
      "\u001b[0m\u001b[33mWARNING: Ignoring invalid distribution -mpy (/Users/blaisethirdai/.pyenv/versions/3.9.5/lib/python3.9/site-packages)\u001b[0m\u001b[33m\n",
      "\u001b[0m\u001b[33mWARNING: Ignoring invalid distribution -irdai (/Users/blaisethirdai/.pyenv/versions/3.9.5/lib/python3.9/site-packages)\u001b[0m\u001b[33m\n",
      "\u001b[0m\u001b[33mWARNING: Ignoring invalid distribution -umpy (/Users/blaisethirdai/.pyenv/versions/3.9.5/lib/python3.9/site-packages)\u001b[0m\u001b[33m\n",
      "\u001b[0m\u001b[33mWARNING: Ignoring invalid distribution -irdai (/Users/blaisethirdai/.pyenv/versions/3.9.5/lib/python3.9/site-packages)\u001b[0m\u001b[33m\n",
      "\u001b[0m\u001b[33mWARNING: Ignoring invalid distribution -hirdai (/Users/blaisethirdai/.pyenv/versions/3.9.5/lib/python3.9/site-packages)\u001b[0m\u001b[33m\n",
      "\u001b[0m\u001b[33mWARNING: Ignoring invalid distribution - (/Users/blaisethirdai/.pyenv/versions/3.9.5/lib/python3.9/site-packages)\u001b[0m\u001b[33m\n",
      "\u001b[0mRequirement already satisfied: datasets in /Users/blaisethirdai/.pyenv/versions/3.9.5/lib/python3.9/site-packages (2.3.2)\n",
      "Requirement already satisfied: numpy>=1.17 in /Users/blaisethirdai/.pyenv/versions/3.9.5/lib/python3.9/site-packages (from datasets) (1.23.2)\n",
      "Requirement already satisfied: huggingface-hub<1.0.0,>=0.1.0 in /Users/blaisethirdai/.pyenv/versions/3.9.5/lib/python3.9/site-packages (from datasets) (0.8.1)\n",
      "Requirement already satisfied: xxhash in /Users/blaisethirdai/.pyenv/versions/3.9.5/lib/python3.9/site-packages (from datasets) (3.0.0)\n",
      "Requirement already satisfied: dill<0.3.6 in /Users/blaisethirdai/.pyenv/versions/3.9.5/lib/python3.9/site-packages (from datasets) (0.3.5.1)\n",
      "Requirement already satisfied: packaging in /Users/blaisethirdai/.pyenv/versions/3.9.5/lib/python3.9/site-packages (from datasets) (21.3)\n",
      "Requirement already satisfied: aiohttp in /Users/blaisethirdai/.pyenv/versions/3.9.5/lib/python3.9/site-packages (from datasets) (3.8.1)\n",
      "Requirement already satisfied: pandas in /Users/blaisethirdai/.pyenv/versions/3.9.5/lib/python3.9/site-packages (from datasets) (1.4.3)\n",
      "Requirement already satisfied: requests>=2.19.0 in /Users/blaisethirdai/.pyenv/versions/3.9.5/lib/python3.9/site-packages (from datasets) (2.28.1)\n",
      "Requirement already satisfied: fsspec[http]>=2021.05.0 in /Users/blaisethirdai/.pyenv/versions/3.9.5/lib/python3.9/site-packages (from datasets) (2022.5.0)\n",
      "Requirement already satisfied: pyarrow>=6.0.0 in /Users/blaisethirdai/.pyenv/versions/3.9.5/lib/python3.9/site-packages (from datasets) (8.0.0)\n",
      "Requirement already satisfied: multiprocess in /Users/blaisethirdai/.pyenv/versions/3.9.5/lib/python3.9/site-packages (from datasets) (0.70.13)\n",
      "Requirement already satisfied: tqdm>=4.62.1 in /Users/blaisethirdai/.pyenv/versions/3.9.5/lib/python3.9/site-packages (from datasets) (4.64.0)\n",
      "Requirement already satisfied: responses<0.19 in /Users/blaisethirdai/.pyenv/versions/3.9.5/lib/python3.9/site-packages (from datasets) (0.18.0)\n",
      "Requirement already satisfied: pyyaml>=5.1 in /Users/blaisethirdai/.pyenv/versions/3.9.5/lib/python3.9/site-packages (from huggingface-hub<1.0.0,>=0.1.0->datasets) (6.0)\n",
      "Requirement already satisfied: typing-extensions>=3.7.4.3 in /Users/blaisethirdai/.pyenv/versions/3.9.5/lib/python3.9/site-packages (from huggingface-hub<1.0.0,>=0.1.0->datasets) (4.3.0)\n",
      "Requirement already satisfied: filelock in /Users/blaisethirdai/.pyenv/versions/3.9.5/lib/python3.9/site-packages (from huggingface-hub<1.0.0,>=0.1.0->datasets) (3.7.1)\n",
      "Requirement already satisfied: pyparsing!=3.0.5,>=2.0.2 in /Users/blaisethirdai/.pyenv/versions/3.9.5/lib/python3.9/site-packages (from packaging->datasets) (3.0.9)\n",
      "Requirement already satisfied: idna<4,>=2.5 in /Users/blaisethirdai/.pyenv/versions/3.9.5/lib/python3.9/site-packages (from requests>=2.19.0->datasets) (3.3)\n",
      "Requirement already satisfied: certifi>=2017.4.17 in /Users/blaisethirdai/.pyenv/versions/3.9.5/lib/python3.9/site-packages (from requests>=2.19.0->datasets) (2022.6.15)\n",
      "Requirement already satisfied: charset-normalizer<3,>=2 in /Users/blaisethirdai/.pyenv/versions/3.9.5/lib/python3.9/site-packages (from requests>=2.19.0->datasets) (2.1.0)\n",
      "Requirement already satisfied: urllib3<1.27,>=1.21.1 in /Users/blaisethirdai/.pyenv/versions/3.9.5/lib/python3.9/site-packages (from requests>=2.19.0->datasets) (1.26.10)\n",
      "Requirement already satisfied: async-timeout<5.0,>=4.0.0a3 in /Users/blaisethirdai/.pyenv/versions/3.9.5/lib/python3.9/site-packages (from aiohttp->datasets) (4.0.2)\n",
      "Requirement already satisfied: yarl<2.0,>=1.0 in /Users/blaisethirdai/.pyenv/versions/3.9.5/lib/python3.9/site-packages (from aiohttp->datasets) (1.7.2)\n",
      "Requirement already satisfied: frozenlist>=1.1.1 in /Users/blaisethirdai/.pyenv/versions/3.9.5/lib/python3.9/site-packages (from aiohttp->datasets) (1.3.0)\n",
      "Requirement already satisfied: multidict<7.0,>=4.5 in /Users/blaisethirdai/.pyenv/versions/3.9.5/lib/python3.9/site-packages (from aiohttp->datasets) (6.0.2)\n",
      "Requirement already satisfied: attrs>=17.3.0 in /Users/blaisethirdai/.pyenv/versions/3.9.5/lib/python3.9/site-packages (from aiohttp->datasets) (21.4.0)\n",
      "Requirement already satisfied: aiosignal>=1.1.2 in /Users/blaisethirdai/.pyenv/versions/3.9.5/lib/python3.9/site-packages (from aiohttp->datasets) (1.2.0)\n",
      "Requirement already satisfied: python-dateutil>=2.8.1 in /Users/blaisethirdai/.pyenv/versions/3.9.5/lib/python3.9/site-packages (from pandas->datasets) (2.8.2)\n",
      "Requirement already satisfied: pytz>=2020.1 in /Users/blaisethirdai/.pyenv/versions/3.9.5/lib/python3.9/site-packages (from pandas->datasets) (2022.1)\n",
      "Requirement already satisfied: six>=1.5 in /Users/blaisethirdai/.pyenv/versions/3.9.5/lib/python3.9/site-packages (from python-dateutil>=2.8.1->pandas->datasets) (1.16.0)\n",
      "\u001b[33mWARNING: Ignoring invalid distribution -mpy (/Users/blaisethirdai/.pyenv/versions/3.9.5/lib/python3.9/site-packages)\u001b[0m\u001b[33m\n",
      "\u001b[0m\u001b[33mWARNING: Ignoring invalid distribution -irdai (/Users/blaisethirdai/.pyenv/versions/3.9.5/lib/python3.9/site-packages)\u001b[0m\u001b[33m\n",
      "\u001b[0m\u001b[33mWARNING: Ignoring invalid distribution -umpy (/Users/blaisethirdai/.pyenv/versions/3.9.5/lib/python3.9/site-packages)\u001b[0m\u001b[33m\n",
      "\u001b[0m\u001b[33mWARNING: Ignoring invalid distribution -irdai (/Users/blaisethirdai/.pyenv/versions/3.9.5/lib/python3.9/site-packages)\u001b[0m\u001b[33m\n",
      "\u001b[0m\u001b[33mWARNING: Ignoring invalid distribution -hirdai (/Users/blaisethirdai/.pyenv/versions/3.9.5/lib/python3.9/site-packages)\u001b[0m\u001b[33m\n",
      "\u001b[0m\u001b[33mWARNING: Ignoring invalid distribution - (/Users/blaisethirdai/.pyenv/versions/3.9.5/lib/python3.9/site-packages)\u001b[0m\u001b[33m\n",
      "\u001b[0m\u001b[33mWARNING: Ignoring invalid distribution -mpy (/Users/blaisethirdai/.pyenv/versions/3.9.5/lib/python3.9/site-packages)\u001b[0m\u001b[33m\n",
      "\u001b[0m\u001b[33mWARNING: Ignoring invalid distribution -irdai (/Users/blaisethirdai/.pyenv/versions/3.9.5/lib/python3.9/site-packages)\u001b[0m\u001b[33m\n",
      "\u001b[0m\u001b[33mWARNING: Ignoring invalid distribution -umpy (/Users/blaisethirdai/.pyenv/versions/3.9.5/lib/python3.9/site-packages)\u001b[0m\u001b[33m\n",
      "\u001b[0m\u001b[33mWARNING: Ignoring invalid distribution -irdai (/Users/blaisethirdai/.pyenv/versions/3.9.5/lib/python3.9/site-packages)\u001b[0m\u001b[33m\n",
      "\u001b[0m\u001b[33mWARNING: Ignoring invalid distribution -hirdai (/Users/blaisethirdai/.pyenv/versions/3.9.5/lib/python3.9/site-packages)\u001b[0m\u001b[33m\n",
      "\u001b[0m\u001b[33mWARNING: Ignoring invalid distribution - (/Users/blaisethirdai/.pyenv/versions/3.9.5/lib/python3.9/site-packages)\u001b[0m\u001b[33m\n",
      "\u001b[0m\u001b[33mWARNING: Ignoring invalid distribution -mpy (/Users/blaisethirdai/.pyenv/versions/3.9.5/lib/python3.9/site-packages)\u001b[0m\u001b[33m\n",
      "\u001b[0m\u001b[33mWARNING: Ignoring invalid distribution -irdai (/Users/blaisethirdai/.pyenv/versions/3.9.5/lib/python3.9/site-packages)\u001b[0m\u001b[33m\n",
      "\u001b[0m\u001b[33mWARNING: Ignoring invalid distribution -umpy (/Users/blaisethirdai/.pyenv/versions/3.9.5/lib/python3.9/site-packages)\u001b[0m\u001b[33m\n",
      "\u001b[0m\u001b[33mWARNING: Ignoring invalid distribution -irdai (/Users/blaisethirdai/.pyenv/versions/3.9.5/lib/python3.9/site-packages)\u001b[0m\u001b[33m\n",
      "\u001b[0m\u001b[33mWARNING: Ignoring invalid distribution -hirdai (/Users/blaisethirdai/.pyenv/versions/3.9.5/lib/python3.9/site-packages)\u001b[0m\u001b[33m\n",
      "\u001b[0m\u001b[33mWARNING: Ignoring invalid distribution - (/Users/blaisethirdai/.pyenv/versions/3.9.5/lib/python3.9/site-packages)\u001b[0m\u001b[33m\n",
      "\u001b[0m\u001b[33mWARNING: Ignoring invalid distribution -mpy (/Users/blaisethirdai/.pyenv/versions/3.9.5/lib/python3.9/site-packages)\u001b[0m\u001b[33m\n",
      "\u001b[0m\u001b[33mWARNING: Ignoring invalid distribution -irdai (/Users/blaisethirdai/.pyenv/versions/3.9.5/lib/python3.9/site-packages)\u001b[0m\u001b[33m\n",
      "\u001b[0m\u001b[33mWARNING: Ignoring invalid distribution -umpy (/Users/blaisethirdai/.pyenv/versions/3.9.5/lib/python3.9/site-packages)\u001b[0m\u001b[33m\n",
      "\u001b[0m\u001b[33mWARNING: Ignoring invalid distribution -irdai (/Users/blaisethirdai/.pyenv/versions/3.9.5/lib/python3.9/site-packages)\u001b[0m\u001b[33m\n",
      "\u001b[0m\u001b[33mWARNING: Ignoring invalid distribution -hirdai (/Users/blaisethirdai/.pyenv/versions/3.9.5/lib/python3.9/site-packages)\u001b[0m\u001b[33m\n",
      "\u001b[0m\u001b[33mWARNING: Ignoring invalid distribution - (/Users/blaisethirdai/.pyenv/versions/3.9.5/lib/python3.9/site-packages)\u001b[0m\u001b[33m\n",
      "\u001b[0m\n",
      "\u001b[1m[\u001b[0m\u001b[34;49mnotice\u001b[0m\u001b[1;39;49m]\u001b[0m\u001b[39;49m A new release of pip available: \u001b[0m\u001b[31;49m22.2.2\u001b[0m\u001b[39;49m -> \u001b[0m\u001b[32;49m22.3.1\u001b[0m\n",
      "\u001b[1m[\u001b[0m\u001b[34;49mnotice\u001b[0m\u001b[1;39;49m]\u001b[0m\u001b[39;49m To update, run: \u001b[0m\u001b[32;49mpip install --upgrade pip\u001b[0m\n"
     ]
    }
   ],
   "source": [
    "!pip3 install thirdai==0.5.4\n",
    "!pip3 install pandas\n",
    "!pip3 install datasets "
   ]
  },
  {
   "cell_type": "markdown",
   "metadata": {},
   "source": [
    "## Dataset Download\n",
    "\n",
    "We will use the utils module in this repository to download and pre-process a dataset from HuggingFace. The dataset we will use from HuggingFace is typically used for semantic sentence similarity. We will pre-process it by adding noise so that it is suitable for query reformulation. You can replace this step and the next with a UDT initialization that is specific for your dataset - as long as your input dataset consists of a column with incorrect queries and a column with their target reformulations. "
   ]
  },
  {
   "cell_type": "code",
   "execution_count": 3,
   "metadata": {},
   "outputs": [
    {
     "name": "stderr",
     "output_type": "stream",
     "text": [
      "Using custom data configuration embedding-data--sentence-compression-05ca3d220d185946\n",
      "Reusing dataset json (/Users/blaisethirdai/.cache/huggingface/datasets/embedding-data___json/embedding-data--sentence-compression-05ca3d220d185946/0.0.0/da492aad5680612e4028e7f6ddc04b1dfcec4b64db470ed7cc5f2bb265b9b6b5)\n"
     ]
    },
    {
     "data": {
      "application/vnd.jupyter.widget-view+json": {
       "model_id": "9402056e990347298082a23d100804ab",
       "version_major": 2,
       "version_minor": 0
      },
      "text/plain": [
       "  0%|          | 0/1 [00:00<?, ?it/s]"
      ]
     },
     "metadata": {},
     "output_type": "display_data"
    }
   ],
   "source": [
    "from utils import prepare_query_reformulation_data\n",
    "import pandas as pd\n",
    "\n",
    "train_filename, test_filename, inference_batch = prepare_query_reformulation_data()\n"
   ]
  },
  {
   "cell_type": "markdown",
   "metadata": {},
   "source": [
    "## UDT Initialization\n",
    "\n",
    "We can create a UDT model specific for query reformulation by specifying the name of the source column (column containing queries to be reformulated) and the name of the target column (correct reformulations) and a dataset size parameter. The size of the input dataset can be configured to be either \"small\" (size < 1M), \"medium\"(size < 10M) or \"large\" (size >= 10M). We configure different model parameters depending on the size of the input dataset. "
   ]
  },
  {
   "cell_type": "code",
   "execution_count": 4,
   "metadata": {},
   "outputs": [],
   "source": [
    "from thirdai import bolt\n",
    "\n",
    "model = bolt.UniversalDeepTransformer(\n",
    "    source_column=\"source_queries\", target_column=\"target_queries\", dataset_size=\"medium\"\n",
    ")"
   ]
  },
  {
   "cell_type": "markdown",
   "metadata": {},
   "source": [
    "## Training\n",
    "\n",
    "We can now train our model in just one line of code. You just have to specify the path to the training file. "
   ]
  },
  {
   "cell_type": "code",
   "execution_count": 5,
   "metadata": {},
   "outputs": [
    {
     "name": "stdout",
     "output_type": "stream",
     "text": [
      "Loading vectors from 'train_file.csv'\n",
      "Loaded 630000 vectors from 'train_file.csv' in 2 seconds.\n"
     ]
    }
   ],
   "source": [
    "model.train(filename=train_filename)"
   ]
  },
  {
   "cell_type": "markdown",
   "metadata": {},
   "source": [
    "## Evaluation \n",
    "\n",
    "Evaluating the UDT model is also just one line of code. Since this UDT model is specific for query reformulation, you need to provide the number of suggested candidate queries that the UDT model generates. For instance, if you want to see the top 10 suggested query reformulations of the input query, set the top_k parameter to 10. Evaluating this model will also print out recall @k. "
   ]
  },
  {
   "cell_type": "code",
   "execution_count": null,
   "metadata": {},
   "outputs": [],
   "source": [
    "query_reformulations = model.evaluate(filename=test_filename, top_k=5)"
   ]
  },
  {
   "cell_type": "markdown",
   "metadata": {},
   "source": [
    "## Saving and Loading\n",
    "\n",
    "Saving and loading a trained UDT model to disk is also extremely straight forward. "
   ]
  },
  {
   "cell_type": "code",
   "execution_count": null,
   "metadata": {},
   "outputs": [],
   "source": [
    "model_location = \"query_reformulation.model\"\n",
    "\n",
    "# Saving\n",
    "model.save(filename=model_location)\n",
    "\n",
    "# Loading\n",
    "model = bolt.UniversalDeepTransformer.load(model_location)"
   ]
  },
  {
   "cell_type": "markdown",
   "metadata": {},
   "source": [
    "## Testing Predictions \n",
    "\n",
    "The evaluation method is great for testing, but it requires labels, which don't exist in a production environment. We also provide a predict method that can take a list of queries or a single query, which allows for easy integration into production pipelines. "
   ]
  },
  {
   "cell_type": "code",
   "execution_count": null,
   "metadata": {},
   "outputs": [],
   "source": []
  },
  {
   "cell_type": "code",
   "execution_count": null,
   "metadata": {},
   "outputs": [],
   "source": [
    "\n",
    "predictions = model.predict_batch(queries=inference_batch, top_k=5)\n",
    "\n"
   ]
  },
  {
   "cell_type": "code",
   "execution_count": null,
   "metadata": {},
   "outputs": [],
   "source": [
    "# Remove the created training and test file\n",
    "import os\n",
    "\n",
    "os.remove(train_filename)\n",
    "os.remove(test_filename)"
   ]
  }
 ],
 "metadata": {
  "kernelspec": {
   "display_name": "Python 3.9.5 64-bit ('3.9.5')",
   "language": "python",
   "name": "python3"
  },
  "language_info": {
   "codemirror_mode": {
    "name": "ipython",
    "version": 3
   },
   "file_extension": ".py",
   "mimetype": "text/x-python",
   "name": "python",
   "nbconvert_exporter": "python",
   "pygments_lexer": "ipython3",
   "version": "3.9.5"
  },
  "orig_nbformat": 4,
  "vscode": {
   "interpreter": {
    "hash": "c8573aafd228246904de159cbac3e8b63355dc71223fe3e3d5cbf4d60497d6ac"
   }
  }
 },
 "nbformat": 4,
 "nbformat_minor": 2
}
