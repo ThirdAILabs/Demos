{
 "cells": [
  {
   "cell_type": "markdown",
   "metadata": {},
   "source": [
    "# Bolt TextClassifier Demo\n",
    "\n",
    "The bolt TextClassifier is an easy way to quickly develop, train, and test a model to perform classification and categorization of text data. "
   ]
  },
  {
   "cell_type": "markdown",
   "metadata": {},
   "source": [
    "# Step 0: Setup \n",
    "### Optional: Install thirdai, datasets (if not already on system)"
   ]
  },
  {
   "cell_type": "code",
   "execution_count": null,
   "metadata": {},
   "outputs": [],
   "source": [
    "!pip3 install thirdai\n",
    "!pip3 install datasets"
   ]
  },
  {
   "cell_type": "markdown",
   "metadata": {},
   "source": [
    "### Import libraries"
   ]
  },
  {
   "cell_type": "code",
   "execution_count": null,
   "metadata": {},
   "outputs": [],
   "source": [
    "from thirdai import bolt\n",
    "import datasets\n",
    "import random\n",
    "import os"
   ]
  },
  {
   "cell_type": "markdown",
   "metadata": {},
   "source": [
    "### Define Helper Functions"
   ]
  },
  {
   "cell_type": "code",
   "execution_count": null,
   "metadata": {},
   "outputs": [],
   "source": [
    "def write_dataset_to_csv(dataset, filename, return_labels=False):\n",
    "    label_names = dataset.features[\"intent\"].names\n",
    "\n",
    "    data = []\n",
    "    for item in dataset:\n",
    "        sentence = item[\"text\"]\n",
    "        label = item[\"intent\"]\n",
    "        label_name = label_names[label]\n",
    "        data.append((sentence, label_name))\n",
    "\n",
    "    random.shuffle(data)\n",
    "\n",
    "    with open(filename, \"w\") as file:\n",
    "        file.write('\"text\",\"category\"\\n')\n",
    "        lines = [f'\"{sentence}\",\"{label_name}\"\\n' for sentence, label_name in data]\n",
    "        file.writelines(lines)\n",
    "\n",
    "    if return_labels:\n",
    "        labels = [x[1] for x in data]\n",
    "        return labels\n",
    "\n",
    "\n",
    "def download_clinc_dataset(train_filename, test_filename):\n",
    "    clinc_dataset = datasets.load_dataset(\"clinc_oos\", \"plus\")\n",
    "    write_dataset_to_csv(clinc_dataset[\"train\"], train_filename)\n",
    "    labels = write_dataset_to_csv(clinc_dataset[\"test\"], test_filename, return_labels=True)\n",
    "\n",
    "    return (clinc_dataset[\"train\"].features[\"intent\"].num_classes, labels)\n",
    "\n",
    "\n",
    "\n",
    "def compute_accuracy(test_labels, pred_file):\n",
    "    with open(pred_file) as pred:\n",
    "        predictions = pred.readlines()\n",
    "\n",
    "    correct = 0\n",
    "    total = 0\n",
    "    assert len(predictions) == len(test_labels)\n",
    "    for (prediction, answer) in zip(predictions, test_labels):\n",
    "        if prediction[:-1] == answer:\n",
    "            correct += 1\n",
    "        total += 1\n",
    "\n",
    "    return correct / total"
   ]
  },
  {
   "cell_type": "markdown",
   "metadata": {},
   "source": [
    "### Download the Dataset"
   ]
  },
  {
   "cell_type": "code",
   "execution_count": null,
   "metadata": {},
   "outputs": [],
   "source": [
    "TRAIN_FILE = \"./clinc_train.csv\"\n",
    "TEST_FILE = \"./clinc_test.csv\"\n",
    "PREDICTION_FILE = \"./clinc_predictions.txt\"\n",
    "\n",
    "(n_classes, test_labels) = download_clinc_dataset(TRAIN_FILE, TEST_FILE)"
   ]
  },
  {
   "cell_type": "markdown",
   "metadata": {},
   "source": [
    "# Step 1: Defining the TextClassifier model\n",
    "\n",
    "### Arguments\n",
    "- `model_size`: Controls how big the model is. Options are ‘small’, ‘medium’,  ‘large’, or a target model size in gigabytes, i.e. “4 Gb” or “4Gb”.\n",
    "- `n_classes`: How many output classes are in the dataset."
   ]
  },
  {
   "cell_type": "code",
   "execution_count": null,
   "metadata": {},
   "outputs": [],
   "source": [
    "classifier = bolt.TextClassifier(model_size=\"2Gb\", n_classes=n_classes)"
   ]
  },
  {
   "cell_type": "markdown",
   "metadata": {},
   "source": [
    "# Step 2: Training the TextClassifier\n",
    "\n",
    "### Arguments\n",
    "- `train_file`: The dataset to train on. The expected format is a csv file with two columns. The columns should be named “text” and “category”. The category column will contain the labels, the “text” column should contain the sentence. The columns should be comma separated. The TextClassifier also does not attempt to shuffle the dataset, the user should shuffle the dataset before calling train if necessary. Example:    \n",
    "    ```\n",
    "    “text”,”category”\n",
    "    “the red dog ran up the hill”,”action\"\n",
    "    ```\n",
    "    \n",
    "- `epochs`: This determines the number of epochs to train on. If there is 1 epoch then it uses a streaming dataset, otherwise it loads the dataset into memory and trains for the specified number of epochs.\n",
    "- `learning_rate`: Determines the learning_rate for training."
   ]
  },
  {
   "cell_type": "code",
   "execution_count": null,
   "metadata": {},
   "outputs": [],
   "source": [
    "classifier.train(train_file=TRAIN_FILE, epochs=7, learning_rate=0.01)"
   ]
  },
  {
   "cell_type": "markdown",
   "metadata": {},
   "source": [
    "# Step 3: Testing The Classifier\n",
    "### Arguments\n",
    "- `test_file`: The test dataset to run. The expected format is the same as train file in the train method.\n",
    "- `output_file`: This is an optional parameter. If it is specified then as the data is processed it writes the names of the predicted classes into this file. Each predicted class name is on its own line."
   ]
  },
  {
   "cell_type": "code",
   "execution_count": null,
   "metadata": {},
   "outputs": [],
   "source": [
    "classifier.predict(test_file=TEST_FILE, output_file=PREDICTION_FILE)\n",
    "\n",
    "# Alternatively, if no output file is desired\n",
    "# classifier.predict(test_file=TEST_FILE)"
   ]
  },
  {
   "cell_type": "markdown",
   "metadata": {},
   "source": [
    "## Running Evaluations on the Predictions\n",
    "Here we are just recomputing the accuracy to demonstrate use of the output file."
   ]
  },
  {
   "cell_type": "code",
   "execution_count": null,
   "metadata": {},
   "outputs": [],
   "source": [
    "compute_accuracy(test_labels, PREDICTION_FILE)"
   ]
  },
  {
   "cell_type": "code",
   "execution_count": null,
   "metadata": {},
   "outputs": [],
   "source": [
    "# Cleanup files\n",
    "os.remove(TRAIN_FILE)\n",
    "os.remove(TEST_FILE)\n",
    "os.remove(PREDICTION_FILE)"
   ]
  }
 ],
 "metadata": {
  "interpreter": {
   "hash": "b0fa6594d8f4cbf19f97940f81e996739fb7646882a419484c72d19e05852a7e"
  },
  "kernelspec": {
   "display_name": "Python 3.9.10 64-bit",
   "language": "python",
   "name": "python3"
  },
  "language_info": {
   "codemirror_mode": {
    "name": "ipython",
    "version": 3
   },
   "file_extension": ".py",
   "mimetype": "text/x-python",
   "name": "python",
   "nbconvert_exporter": "python",
   "pygments_lexer": "ipython3",
   "version": "3.9.10"
  },
  "orig_nbformat": 4
 },
 "nbformat": 4,
 "nbformat_minor": 2
}
