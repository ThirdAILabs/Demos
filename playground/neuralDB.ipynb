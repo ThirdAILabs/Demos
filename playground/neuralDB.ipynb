{
 "cells": [
  {
   "attachments": {},
   "cell_type": "markdown",
   "metadata": {},
   "source": [
    "## ThirdAI's NeuralDB\n",
    "\n",
    "In this notebook, we will show \n",
    "\n",
    "1. How to easily build a Neural Database to do QnA on all your documents with ThirdAI's BOLT engine.\n",
    "\n",
    "2. (Optional) How to use your OpenAI key to get retrieval augmented answers from OpenAI.\n",
    "\n",
    "3. How to teach you DB with RLHF to correct any retrieval failures.\n",
    "\n",
    "To unlock additional features exporting the DB to ThirdAI's Playground for interactive QnA and teaching, please reach out to contact@thirdai.com"
   ]
  },
  {
   "cell_type": "code",
   "execution_count": null,
   "metadata": {},
   "outputs": [],
   "source": [
    "!pip3 install -r requirements.txt"
   ]
  },
  {
   "cell_type": "code",
   "execution_count": null,
   "metadata": {},
   "outputs": [],
   "source": [
    "# thirdai's license activation\n",
    "\n",
    "import thirdai\n",
    "try:\n",
    "    thirdai.licensing.activate(\"\")\n",
    "except:\n",
    "    print(\"You need a license key to use ThirdAI's library. Please request a trial license at https://www.thirdai.com/try-bolt/\")\n",
    "\n",
    "thirdai.set_seed(7)"
   ]
  },
  {
   "cell_type": "code",
   "execution_count": 4,
   "metadata": {},
   "outputs": [],
   "source": [
    "from thirdai import bolt\n",
    "import os\n",
    "import nltk\n",
    "nltk.data.path.append(\"./data/\")\n",
    "from pathlib import Path\n",
    "import pickle\n",
    "from doc_utils import documents"
   ]
  },
  {
   "attachments": {},
   "cell_type": "markdown",
   "metadata": {},
   "source": [
    "### Load your files\n",
    "\n",
    "You can load a mix of csv, pdf and docx files. If you want to insert and train on a CSV file, set the target_column_name variable below to the ID column of the CSV file. The ID column must contain consecutive integers from 0 to num_ids - 1.\n",
    "\n",
    "Also, if you're loading from a pre-trained NeuralDB, the query_col_name and target_col_name should match the ones used for that model. For the starter DBs that ThirdAI provides, we standardize the query_column_name to \"QUERY\" and the target_column_name to \"DOC_ID\"."
   ]
  },
  {
   "cell_type": "code",
   "execution_count": 5,
   "metadata": {},
   "outputs": [],
   "source": [
    "query_column_name = \"QUERY\"\n",
    "target_column_name = \"DOC_ID\"\n",
    "\n",
    "combined_pdfs = None\n",
    "combined_docxs = None\n",
    "csv_doc = None\n",
    "\n",
    "# This object does the book-keeping for managing multiple documents\n",
    "doclist = documents.DocList()"
   ]
  },
  {
   "attachments": {},
   "cell_type": "markdown",
   "metadata": {},
   "source": [
    "#### Option 1: CSV files"
   ]
  },
  {
   "cell_type": "code",
   "execution_count": 6,
   "metadata": {},
   "outputs": [
    {
     "name": "stdout",
     "output_type": "stream",
     "text": [
      "DOC_ID                                                                                                                                                                                                                                                                                                                                                                                                                                                                                                                                                                                                                                                                                                                                     0\n",
      "TITLE                                                                                                                                                                                                                                                                                                                                                                                                                                                                                                                                                                                                              Command 3M Small Kitchen Hooks; White; Decorate Damage Free; Easy On; Easy Off; 9 Hooks; 12 Strips; Multi-Pack - 17067-VP\n",
      "DESCRIPTION                                                                                                                                                                                                                                                                                                                                                                                                                                                                                                                                                                                                                                                                                                                  Sale Unit: PACK\n",
      "BULLET_POINTS    INCLUDES - 9 hooks and 12 small indoor strips; 1 hook holds 1/2 lb;ORGANIZE DAMAGE-FREE - Say goodbye to holes; marks; or sticky residue on your walls; doors; cabinets; or closets; Command Hooks by 3M are easy to use and help keep your walls looking beautiful;NO TOOLS REQUIRED- Hang hats; calendars; keys; measuring spoons; cleaning tools; jewelry; and accessories where you want without nails or a hammer. Includes metal wire toggle feature for versatile hanging;STRONG AND VERSATILE- Command Wire Hooks include hold strongly on a variety of indoor surfaces including painted walls; smooth ceilings; finished wood; glass; tile; metal; and other smooth surfaces;REMOVES CLEANLY- Reorganize when ...\n",
      "BRAND                                                                                                                                                                                                                                                                                                                                                                                                                                                                                                                                                                                                                                                                                                                                Command\n",
      "Name: 0, dtype: object\n"
     ]
    }
   ],
   "source": [
    "csv_file = \"sample_catalog.csv\"\n",
    "\n",
    "# Visualize the dataframe and get the column names in the csv_file.\n",
    "# Your target column (id_col) name has to match the target column in the model defined above (we are using target_column_name across the notebook)\n",
    "# You will have to pick your choice of strong_columns and weak_columns for the insert and train step shown next.\n",
    "# Strong columns are usually the most important ones like titles of documents, keywords, categories etc\n",
    "# Weak columns are usually the long descriptions\n",
    "\n",
    "import pandas as pd\n",
    "pd.options.display.max_colwidth = 700\n",
    "\n",
    "df = pd.read_csv(csv_file)\n",
    "print(df.iloc[0])"
   ]
  },
  {
   "cell_type": "code",
   "execution_count": null,
   "metadata": {},
   "outputs": [],
   "source": [
    "csv_doc = documents.CSV(\n",
    "    path=csv_file,\n",
    "    id_col=target_column_name,\n",
    "    strong_cols=['TITLE', 'BRAND'],\n",
    "    weak_cols=['DESCRIPTION'],\n",
    "    display_cols=['TITLE','DESCRIPTION'],\n",
    ")\n",
    "\n",
    "doclist.add_document(csv_doc)"
   ]
  },
  {
   "attachments": {},
   "cell_type": "markdown",
   "metadata": {},
   "source": [
    "#### Option 2: PDF or DOCX files"
   ]
  },
  {
   "cell_type": "code",
   "execution_count": null,
   "metadata": {},
   "outputs": [],
   "source": [
    "filenames = ['mutual_nda_teamplate_for_testing.pdf']\n",
    "\n",
    "pdfs = [name for name in filenames if name.endswith(\".pdf\")]\n",
    "docxs = [name for name in filenames if name.endswith(\".docx\")]\n",
    "\n",
    "if len(pdfs)>0:\n",
    "    combined_pdfs = documents.PDF(\n",
    "        files=pdfs, \n",
    "        expected_id_col=target_column_name,\n",
    "        hash_to_id_offset=doclist.get_source_hash_to_id_offset_map(),\n",
    "        next_id_offset=doclist.get_n_new_ids(),\n",
    "    )\n",
    "    doclist.add_document(combined_pdfs)\n",
    "\n",
    "if len(docxs)>0:\n",
    "    combined_docxs = documents.DOCX(\n",
    "        files=docxs, \n",
    "        expected_id_col=target_column_name,\n",
    "        hash_to_id_offset=doclist.get_source_hash_to_id_offset_map(),\n",
    "        next_id_offset=doclist.get_n_new_ids(),\n",
    "    )\n",
    "    doclist.add_document(combined_docxs)"
   ]
  },
  {
   "attachments": {},
   "cell_type": "markdown",
   "metadata": {},
   "source": [
    "### Initialize your NeuralDB\n",
    "#### Option 1: Initialize from scratch"
   ]
  },
  {
   "cell_type": "code",
   "execution_count": null,
   "metadata": {},
   "outputs": [],
   "source": [
    "ndb = bolt.UniversalDeepTransformer(\n",
    "    data_types = {\n",
    "        query_column_name: bolt.types.text(tokenizer=\"char-4\"),\n",
    "        target_column_name: bolt.types.categorical(delimiter=\":\"),\n",
    "    },\n",
    "    target=target_column_name,\n",
    "    n_target_classes=doclist.get_n_new_ids(),\n",
    "    integer_target=True,\n",
    "    options={\"neural_db\": True}\n",
    ")"
   ]
  },
  {
   "attachments": {},
   "cell_type": "markdown",
   "metadata": {},
   "source": [
    "#### Option 2: Load from a checkpoint"
   ]
  },
  {
   "cell_type": "code",
   "execution_count": null,
   "metadata": {},
   "outputs": [],
   "source": [
    "import os\n",
    "\n",
    "checkpoint = \"msmarco.bolt\"\n",
    "\n",
    "if not os.path.exists(checkpoint):\n",
    "    os.system(\"wget -O msmarco.bolt https://www.dropbox.com/s/sd1vxsg8v6d2u2r/msmarco_0_reindexes.bolt?dl=0\")\n",
    "\n",
    "ndb = bolt.UniversalDeepTransformer.load(checkpoint)\n",
    "\n",
    "ndb.clear_index()\n",
    "\n",
    "for doc in [csv_doc, combined_pdfs, combined_docxs]:\n",
    "    if doc:\n",
    "        doc_config = doc.get_config()\n",
    "        doc_config_ = {\n",
    "                        'filename':doc_config.introduction_dataset,\n",
    "                        'strong_column_names':doc_config.strong_cols,\n",
    "                        'weak_column_names':[],\n",
    "                        'num_buckets_to_sample':16,\n",
    "                       }\n",
    "        ndb.insert_into_neural_db(**doc_config_) ## TODO make doc_config return dictionary, confirm the name for insert_text"
   ]
  },
  {
   "attachments": {},
   "cell_type": "markdown",
   "metadata": {},
   "source": [
    "### Pre-train the DB with the inserted documents"
   ]
  },
  {
   "cell_type": "code",
   "execution_count": null,
   "metadata": {},
   "outputs": [],
   "source": [
    "for doc in [csv_doc, combined_pdfs, combined_docxs]:\n",
    "    if doc:\n",
    "        doc_config = combined_pdfs.get_config()\n",
    "        ndb.pretrain_neural_db(doc) ## TODO: confirm naming here too"
   ]
  },
  {
   "attachments": {},
   "cell_type": "markdown",
   "metadata": {},
   "source": [
    "### Train the DB with supervised data"
   ]
  },
  {
   "cell_type": "code",
   "execution_count": null,
   "metadata": {},
   "outputs": [],
   "source": [
    "ndb.train_neural_db()"
   ]
  },
  {
   "cell_type": "code",
   "execution_count": null,
   "metadata": {},
   "outputs": [],
   "source": [
    "# how many search results do you want to retrieve from your files for every query\n",
    "N_REFERENCES = 2\n",
    "\n",
    "ndb.set_decode_params(min(doclist.get_n_new_ids(), N_REFERENCES), min(doclist.get_n_new_ids(), 100))"
   ]
  },
  {
   "attachments": {},
   "cell_type": "markdown",
   "metadata": {},
   "source": [
    "### Get Answers from OpenAI\n",
    "\n",
    "In this section, we will show how to use LangChain and query OpenAI's QnA module to generate an answer from the references that you retrieve from the NeuralDB you just built. You'll have to specify your own OpenAI key for this module to work. You can replace this segment with any open-source model of your choice (like MPT or Dolly) for answer generation with the same prompt that you use with OpenAI."
   ]
  },
  {
   "cell_type": "code",
   "execution_count": null,
   "metadata": {},
   "outputs": [],
   "source": [
    "from langchain.chat_models import ChatOpenAI\n",
    "from paperqa.qaprompts import qa_prompt, make_chain\n",
    "\n",
    "your_openai_key = \"\"\n",
    "\n",
    "llm = ChatOpenAI(\n",
    "    model_name='gpt-3.5-turbo', \n",
    "    temperature=0.1, \n",
    "    openai_api_key=your_openai_key,\n",
    ")\n",
    "\n",
    "qa_chain = make_chain(prompt=qa_prompt, llm=llm)"
   ]
  },
  {
   "cell_type": "code",
   "execution_count": null,
   "metadata": {},
   "outputs": [],
   "source": [
    "def get_references(query):\n",
    "    reference_ids = ndb.predict({\"QUERY\":query}) # TODO: use query instead od predict if required\n",
    "    reference_ids = [itm[0] for itm in reference_ids]\n",
    "    references = [doclist.get_new_display_items().iloc[p] for p in reference_ids]\n",
    "    return references\n",
    "\n",
    "def get_answer(query, references):\n",
    "    return qa_chain.run(question=query, context_str='\\n\\n'.join(references[:3]), length=\"abt 50 words\")"
   ]
  },
  {
   "cell_type": "code",
   "execution_count": 3,
   "metadata": {},
   "outputs": [
    {
     "name": "stdout",
     "output_type": "stream",
     "text": [
      "['CONFIDENTIALITY AGREEMENT This Confidentiality Agreement (the “Agreement”) is made by and between ACME. dba ToTheMoon Inc. with offices at 2025 Guadalupe St. Suite 260 Austin TX 78705 and StarWars dba ToTheMars with offices at the forest moon of Endor and entered as of May 3 2023 (“Effective Date”).', 'In consideration of the business discussions disclosure of Confidential Information and any future business relationship between the parties it is hereby agreed as follows: 1. CONFIDENTIAL INFORMATION. For purposes of this Agreement the term “Confidential Information” shall mean any information business plan concept idea know-how process technique program design formula algorithm or work-in-process Request for Proposal (RFP) or Request for Information (RFI) and any responses thereto engineering manufacturing marketing technical financial data or sales information or information regarding suppliers customers employees investors or business operations and other information or materials whether disclosed in written graphic oral or electronic form whether tangible or intangible and in whatever form or medium provided or which is learned or disclosed in the course of discussions studies or other work undertaken between the parties prior to or after the Effective Date.', '12. ENTIRE AGREEMENT. This Agreement constitutes the entire agreement with respect to the subject matter hereof and supersedes all prior agreements and understandings between the parties (whether written or oral) relating to the subject matter and may not be amended or modified except in a writing signed by an authorized representative of both parties. The terms of this Agreement relating to the confidentiality and non-use of Confidential Information shall continue after the termination of this Agreement for a period of the longer of (i) five (5) years or (ii) when the Confidential Information no longer qualifies as a trade secret under applicable law.', '2. NEED TO KNOW. The receiving party shall limit its disclosure of the other party’s Confidential Information to those of its officers and employees and subcontractors (i) to which such disclosure is necessary for purposes of the discussions contemplated by this Agreement and (ii) who have agreed in writing to be bound by provisions no less restrictive than those set forth in this Agreement.', 'IN WITNESS WHEREOF this Agreement has been duly executed by the parties hereto as of the latest date set forth below: Acme Inc. StarWars Inc. By: By: Name: Bugs Bunny Name: Luke Skywalker Title: CEO Title: CEO Date: May 5 2023 Date: May 7 2023']\n"
     ]
    }
   ],
   "source": [
    "query = \"what is the effective date of this agreement?\"\n",
    "\n",
    "references = get_references(query)\n",
    "print(references)"
   ]
  },
  {
   "cell_type": "code",
   "execution_count": 1,
   "metadata": {},
   "outputs": [
    {
     "name": "stdout",
     "output_type": "stream",
     "text": [
      "The effective date of this Confidentiality Agreement is May 3, 2023 (ACME dba ToTheMoon Inc. and StarWars dba ToTheMars, 2023).\n"
     ]
    }
   ],
   "source": [
    "answer = get_answer(query, references)\n",
    "\n",
    "print(answer)"
   ]
  },
  {
   "attachments": {},
   "cell_type": "markdown",
   "metadata": {},
   "source": [
    "Now, let's ask a query that the model gets it wrong. Subsequently, let's teach the model to correct itself using our RLHF methods."
   ]
  },
  {
   "cell_type": "code",
   "execution_count": 2,
   "metadata": {},
   "outputs": [
    {
     "name": "stdout",
     "output_type": "stream",
     "text": [
      "The context provides insufficient information to determine the parties involved in this agreement.\n"
     ]
    }
   ],
   "source": [
    "query = \"who are the parties involved in this agreement?\"\n",
    "\n",
    "references = get_references(query)\n",
    "answer = get_answer(query, references)\n",
    "print(answer)"
   ]
  },
  {
   "attachments": {},
   "cell_type": "markdown",
   "metadata": {},
   "source": [
    "### How to teach your model (RLHF)\n",
    "\n",
    "This is one of the marquee features that we provide. Thanks to our efficient training capabilties, we can offer you to teach the DB to correct itself in the event of it not being able to get the relevant paragraphs from the database. \n",
    "\n",
    "Also, the RLHF teachings done a NeuralDB will generalize beyond the current documents if we run *ndb.clear_index()* and insert new documents.\n",
    "\n",
    "To do RLHF, we provide two functions:\n",
    "\n",
    "1. Associate: Using this function, you can associate two phrases to give similar results. For examples, assume you're in the contract review domain. And you're interested in asking a question like \"who are the parties involved in this contract?\". However, most contracts have the phrase \"made by and between\" to suggest the parties involved in the contracts (like \"this agreement is made by and between company A and company B\"). In this scenario, you can simply call *ndb.teach_concept_association([\"parties involved\",\"made by and between\"])* and the model would learn the relation. In the subsequent documents, you're more likely to retrieve the passage containing the correct information.\n",
    "\n",
    "2. Upvote: Let's say you searched for a query \"is there a limited liability clause?\" and you got 5 search results (along with their passage IDs). If you know that the correct result is actually the 2nd one instead of the first one. Then you can simply call *ndb.upvote(\"is there a limited liability clause\",passage_id_of_the_best_search_result)*."
   ]
  },
  {
   "attachments": {},
   "cell_type": "markdown",
   "metadata": {},
   "source": [
    "### RLHF using function calls \n",
    "\n",
    "In the above example, the DB could not understand that the phrase \"date of signing\". But if you are an expert in contracts, you know that \"date of signing\" usually goes with phrases like \"duly executed\" (for example, \"this Agreement has been duly executed by the parties hereto as of the latest date set forth below ...\"). So, let's teach the DB that these two phrases should retrieve similar passages."
   ]
  },
  {
   "cell_type": "code",
   "execution_count": null,
   "metadata": {},
   "outputs": [],
   "source": [
    "rlhf_samples = [({\"QUERY\":\"parties involved\"},{\"QUERY\":\"made by and between\"})]\n",
    "\n",
    "ndb.associate(rlhf_samples, 7) # TODO: perhaps use teach_concept_association() instead of associate()"
   ]
  },
  {
   "attachments": {},
   "cell_type": "markdown",
   "metadata": {},
   "source": [
    "Now, let's query the model again"
   ]
  },
  {
   "cell_type": "code",
   "execution_count": 3,
   "metadata": {},
   "outputs": [
    {
     "name": "stdout",
     "output_type": "stream",
     "text": [
      "The parties involved in this agreement are ACME, dba ToTheMoon Inc. with offices at 2025 Guadalupe St. Suite 260 Austin TX 78705 and StarWars dba ToTheMars with offices at the forest moon of Endor (Confidentiality Agreement).\n"
     ]
    }
   ],
   "source": [
    "query = \"who are the parties involved in this agreement?\"\n",
    "\n",
    "references = get_references(query)\n",
    "answer = get_answer(query, references)\n",
    "print(answer)"
   ]
  },
  {
   "attachments": {},
   "cell_type": "markdown",
   "metadata": {},
   "source": [
    "There you go!"
   ]
  }
 ],
 "metadata": {
  "kernelspec": {
   "display_name": "base",
   "language": "python",
   "name": "python3"
  },
  "language_info": {
   "codemirror_mode": {
    "name": "ipython",
    "version": 3
   },
   "file_extension": ".py",
   "mimetype": "text/x-python",
   "name": "python",
   "nbconvert_exporter": "python",
   "pygments_lexer": "ipython3",
   "version": "3.10.10"
  },
  "orig_nbformat": 4
 },
 "nbformat": 4,
 "nbformat_minor": 2
}
