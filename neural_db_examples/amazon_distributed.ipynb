{
 "cells": [
  {
   "cell_type": "markdown",
   "metadata": {},
   "source": [
    "## Neural DB distributed training\n",
    "\n",
    "In this notebook, you will be able to train ThirdAI's Neural DB on 10k Amazon datapoints in a distributed fashion."
   ]
  },
  {
   "cell_type": "code",
   "execution_count": 1,
   "metadata": {},
   "outputs": [
    {
     "name": "stderr",
     "output_type": "stream",
     "text": [
      "/home/mritunjay/.local/lib/python3.8/site-packages/tqdm/auto.py:21: TqdmWarning: IProgress not found. Please update jupyter and ipywidgets. See https://ipywidgets.readthedocs.io/en/stable/user_install.html\n",
      "  from .autonotebook import tqdm as notebook_tqdm\n",
      "2023-08-21 08:53:41,518\tINFO util.py:159 -- Missing packages: ['ipywidgets']. Run `pip install -U ipywidgets`, then restart the notebook server for rich notebook output.\n",
      "2023-08-21 08:53:44,455\tINFO util.py:159 -- Missing packages: ['ipywidgets']. Run `pip install -U ipywidgets`, then restart the notebook server for rich notebook output.\n",
      "2023-08-21 08:53:44,655\tINFO util.py:159 -- Missing packages: ['ipywidgets']. Run `pip install -U ipywidgets`, then restart the notebook server for rich notebook output.\n"
     ]
    }
   ],
   "source": [
    "!pip3 install thirdai --upgrade\n",
    "!pip3 install thirdai[neural_db]\n",
    "!pip3 install ray\n",
    "!pip3 install torch\n",
    "\n",
    "from thirdai import neural_db\n",
    "import thirdai.distributed_bolt as dist"
   ]
  },
  {
   "cell_type": "code",
   "execution_count": null,
   "metadata": {},
   "outputs": [],
   "source": [
    "## Activate your license here.\n",
    "\n",
    "from thirdai import licensing\n",
    "licensing.activate(\"your-license-key-here\")"
   ]
  },
  {
   "cell_type": "code",
   "execution_count": 2,
   "metadata": {},
   "outputs": [
    {
     "name": "stderr",
     "output_type": "stream",
     "text": [
      "--2023-08-21 08:53:50--  https://www.dropbox.com/scl/fi/97utx7ukp0rb37f8d98ia/amazon_10k.csv?rlkey=aq8yq42o54tcj62u9q3op0m80&dl=0\n",
      "Resolving www.dropbox.com (www.dropbox.com)... 2620:100:601b:18::a27d:812, 162.125.8.18\n",
      "Connecting to www.dropbox.com (www.dropbox.com)|2620:100:601b:18::a27d:812|:443... connected.\n",
      "HTTP request sent, awaiting response... 302 Found\n",
      "Location: https://www.dropbox.com/e/scl/fi/97utx7ukp0rb37f8d98ia/amazon_10k.csv?dl=0&rlkey=aq8yq42o54tcj62u9q3op0m80 [following]\n",
      "--2023-08-21 08:53:50--  https://www.dropbox.com/e/scl/fi/97utx7ukp0rb37f8d98ia/amazon_10k.csv?dl=0&rlkey=aq8yq42o54tcj62u9q3op0m80\n",
      "Reusing existing connection to [www.dropbox.com]:443.\n",
      "HTTP request sent, awaiting response... 302 Found\n",
      "Location: https://uc5dd8cd2b16134e7c3a448659a0.dl.dropboxusercontent.com/cd/0/get/CCOUzKUIKqCZlGpLPb17N85kjx1XyWRhMJxmuk0n9voK0peJeVdT7FpoKJcYYVedcQumSpj4nDfIoLKnyrNyAd_jZxh8PKiGmjjUbRSZ1dZBYYFj6WTyRTC9aYmhFC7f2y2ydJ3nEWNQG80-tyF1qpUs/file# [following]\n",
      "--2023-08-21 08:53:51--  https://uc5dd8cd2b16134e7c3a448659a0.dl.dropboxusercontent.com/cd/0/get/CCOUzKUIKqCZlGpLPb17N85kjx1XyWRhMJxmuk0n9voK0peJeVdT7FpoKJcYYVedcQumSpj4nDfIoLKnyrNyAd_jZxh8PKiGmjjUbRSZ1dZBYYFj6WTyRTC9aYmhFC7f2y2ydJ3nEWNQG80-tyF1qpUs/file\n",
      "Resolving uc5dd8cd2b16134e7c3a448659a0.dl.dropboxusercontent.com (uc5dd8cd2b16134e7c3a448659a0.dl.dropboxusercontent.com)... 2620:100:601b:15::a27d:80f, 162.125.8.15\n",
      "Connecting to uc5dd8cd2b16134e7c3a448659a0.dl.dropboxusercontent.com (uc5dd8cd2b16134e7c3a448659a0.dl.dropboxusercontent.com)|2620:100:601b:15::a27d:80f|:443... connected.\n",
      "HTTP request sent, awaiting response... 200 OK\n",
      "Length: 7274973 (6.9M) [application/binary]\n",
      "Saving to: ‘amazon_10k.csv’\n",
      "\n",
      "     0K .......... .......... .......... .......... ..........  0% 3.85M 2s\n",
      "    50K .......... .......... .......... .......... ..........  1% 7.76M 1s\n",
      "   100K .......... .......... .......... .......... ..........  2% 12.1M 1s\n",
      "   150K .......... .......... .......... .......... ..........  2% 18.8M 1s\n",
      "   200K .......... .......... .......... .......... ..........  3% 28.3M 1s\n",
      "   250K .......... .......... .......... .......... ..........  4% 20.8M 1s\n",
      "   300K .......... .......... .......... .......... ..........  4% 26.3M 1s\n",
      "   350K .......... .......... .......... .......... ..........  5% 47.8M 1s\n",
      "   400K .......... .......... .......... .......... ..........  6% 26.7M 1s\n",
      "   450K .......... .......... .......... .......... ..........  7% 61.4M 0s\n",
      "   500K .......... .......... .......... .......... ..........  7% 42.8M 0s\n",
      "   550K .......... .......... .......... .......... ..........  8% 22.8M 0s\n",
      "   600K .......... .......... .......... .......... ..........  9%  104M 0s\n",
      "   650K .......... .......... .......... .......... ..........  9% 84.0M 0s\n",
      "   700K .......... .......... .......... .......... .......... 10% 59.2M 0s\n",
      "   750K .......... .......... .......... .......... .......... 11% 51.5M 0s\n",
      "   800K .......... .......... .......... .......... .......... 11%  100M 0s\n",
      "   850K .......... .......... .......... .......... .......... 12% 59.8M 0s\n",
      "   900K .......... .......... .......... .......... .......... 13%  121M 0s\n",
      "   950K .......... .......... .......... .......... .......... 14%  106M 0s\n",
      "  1000K .......... .......... .......... .......... .......... 14% 66.4M 0s\n",
      "  1050K .......... .......... .......... .......... .......... 15%  109M 0s\n",
      "  1100K .......... .......... .......... .......... .......... 16%  106M 0s\n",
      "  1150K .......... .......... .......... .......... .......... 16% 31.0M 0s\n",
      "  1200K .......... .......... .......... .......... .......... 17% 97.6M 0s\n",
      "  1250K .......... .......... .......... .......... .......... 18%  112M 0s\n",
      "  1300K .......... .......... .......... .......... .......... 19%  115M 0s\n",
      "  1350K .......... .......... .......... .......... .......... 19%  102M 0s\n",
      "  1400K .......... .......... .......... .......... .......... 20%  113M 0s\n",
      "  1450K .......... .......... .......... .......... .......... 21%  122M 0s\n",
      "  1500K .......... .......... .......... .......... .......... 21%  109M 0s\n",
      "  1550K .......... .......... .......... .......... .......... 22%  115M 0s\n",
      "  1600K .......... .......... .......... .......... .......... 23% 88.3M 0s\n",
      "  1650K .......... .......... .......... .......... .......... 23%  111M 0s\n",
      "  1700K .......... .......... .......... .......... .......... 24%  121M 0s\n",
      "  1750K .......... .......... .......... .......... .......... 25%  110M 0s\n",
      "  1800K .......... .......... .......... .......... .......... 26%  115M 0s\n",
      "  1850K .......... .......... .......... .......... .......... 26%  108M 0s\n",
      "  1900K .......... .......... .......... .......... .......... 27%  120M 0s\n",
      "  1950K .......... .......... .......... .......... .......... 28%  115M 0s\n",
      "  2000K .......... .......... .......... .......... .......... 28% 83.3M 0s\n",
      "  2050K .......... .......... .......... .......... .......... 29%  136M 0s\n",
      "  2100K .......... .......... .......... .......... .......... 30%  109M 0s\n",
      "  2150K .......... .......... .......... .......... .......... 30%  122M 0s\n",
      "  2200K .......... .......... .......... .......... .......... 31% 96.3M 0s\n",
      "  2250K .......... .......... .......... .......... .......... 32%  108M 0s\n",
      "  2300K .......... .......... .......... .......... .......... 33%  124M 0s\n",
      "  2350K .......... .......... .......... .......... .......... 33%  111M 0s\n",
      "  2400K .......... .......... .......... .......... .......... 34% 91.3M 0s\n",
      "  2450K .......... .......... .......... .......... .......... 35%  128M 0s\n",
      "  2500K .......... .......... .......... .......... .......... 35%  107M 0s\n",
      "  2550K .......... .......... .......... .......... .......... 36%  125M 0s\n",
      "  2600K .......... .......... .......... .......... .......... 37%  101M 0s\n",
      "  2650K .......... .......... .......... .......... .......... 38%  101M 0s\n",
      "  2700K .......... .......... .......... .......... .......... 38%  115M 0s\n",
      "  2750K .......... .......... .......... .......... .......... 39%  140M 0s\n",
      "  2800K .......... .......... .......... .......... .......... 40% 91.0M 0s\n",
      "  2850K .......... .......... .......... .......... .......... 40%  117M 0s\n",
      "  2900K .......... .......... .......... .......... .......... 41%  105M 0s\n",
      "  2950K .......... .......... .......... .......... .......... 42%  105M 0s\n",
      "  3000K .......... .......... .......... .......... .......... 42%  126M 0s\n",
      "  3050K .......... .......... .......... .......... .......... 43% 99.0M 0s\n",
      "  3100K .......... .......... .......... .......... .......... 44%  112M 0s\n",
      "  3150K .......... .......... .......... .......... .......... 45%  107M 0s\n",
      "  3200K .......... .......... .......... .......... .......... 45%  105M 0s\n",
      "  3250K .......... .......... .......... .......... .......... 46%  123M 0s\n",
      "  3300K .......... .......... .......... .......... .......... 47%  115M 0s\n",
      "  3350K .......... .......... .......... .......... .......... 47%  116M 0s\n",
      "  3400K .......... .......... .......... .......... .......... 48%  100M 0s\n",
      "  3450K .......... .......... .......... .......... .......... 49%  121M 0s\n",
      "  3500K .......... .......... .......... .......... .......... 49%  110M 0s\n",
      "  3550K .......... .......... .......... .......... .......... 50%  104M 0s\n",
      "  3600K .......... .......... .......... .......... .......... 51%  103M 0s\n",
      "  3650K .......... .......... .......... .......... .......... 52%  111M 0s\n",
      "  3700K .......... .......... .......... .......... .......... 52%  115M 0s\n",
      "  3750K .......... .......... .......... .......... .......... 53%  108M 0s\n",
      "  3800K .......... .......... .......... .......... .......... 54%  107M 0s\n",
      "  3850K .......... .......... .......... .......... .......... 54%  119M 0s\n",
      "  3900K .......... .......... .......... .......... .......... 55%  100M 0s\n",
      "  3950K .......... .......... .......... .......... .......... 56%  132M 0s\n",
      "  4000K .......... .......... .......... .......... .......... 57% 95.2M 0s\n",
      "  4050K .......... .......... .......... .......... .......... 57%  112M 0s\n",
      "  4100K .......... .......... .......... .......... .......... 58%  116M 0s\n",
      "  4150K .......... .......... .......... .......... .......... 59%  104M 0s\n",
      "  4200K .......... .......... .......... .......... .......... 59%  116M 0s\n",
      "  4250K .......... .......... .......... .......... .......... 60%  106M 0s\n",
      "  4300K .......... .......... .......... .......... .......... 61%  120M 0s\n",
      "  4350K .......... .......... .......... .......... .......... 61%  113M 0s\n",
      "  4400K .......... .......... .......... .......... .......... 62% 83.9M 0s\n",
      "  4450K .......... .......... .......... .......... .......... 63%  137M 0s\n",
      "  4500K .......... .......... .......... .......... .......... 64% 99.1M 0s\n",
      "  4550K .......... .......... .......... .......... .......... 64%  114M 0s\n",
      "  4600K .......... .......... .......... .......... .......... 65%  128M 0s\n",
      "  4650K .......... .......... .......... .......... .......... 66%  101M 0s\n",
      "  4700K .......... .......... .......... .......... .......... 66%  118M 0s\n",
      "  4750K .......... .......... .......... .......... .......... 67%  119M 0s\n",
      "  4800K .......... .......... .......... .......... .......... 68% 90.3M 0s\n",
      "  4850K .......... .......... .......... .......... .......... 68%  116M 0s\n",
      "  4900K .......... .......... .......... .......... .......... 69%  113M 0s\n",
      "  4950K .......... .......... .......... .......... .......... 70%  117M 0s\n",
      "  5000K .......... .......... .......... .......... .......... 71%  104M 0s\n",
      "  5050K .......... .......... .......... .......... .......... 71%  118M 0s\n",
      "  5100K .......... .......... .......... .......... .......... 72%  101M 0s\n",
      "  5150K .......... .......... .......... .......... .......... 73%  129M 0s\n",
      "  5200K .......... .......... .......... .......... .......... 73% 91.4M 0s\n",
      "  5250K .......... .......... .......... .......... .......... 74%  103M 0s\n",
      "  5300K .......... .......... .......... .......... .......... 75%  128M 0s\n",
      "  5350K .......... .......... .......... .......... .......... 76%  106M 0s\n",
      "  5400K .......... .......... .......... .......... .......... 76%  116M 0s\n",
      "  5450K .......... .......... .......... .......... .......... 77%  111M 0s\n",
      "  5500K .......... .......... .......... .......... .......... 78% 99.5M 0s\n",
      "  5550K .......... .......... .......... .......... .......... 78%  114M 0s\n",
      "  5600K .......... .......... .......... .......... .......... 79%  101M 0s\n",
      "  5650K .......... .......... .......... .......... .......... 80%  121M 0s\n",
      "  5700K .......... .......... .......... .......... .......... 80%  118M 0s\n",
      "  5750K .......... .......... .......... .......... .......... 81%  101M 0s\n",
      "  5800K .......... .......... .......... .......... .......... 82%  122M 0s\n",
      "  5850K .......... .......... .......... .......... .......... 83% 96.7M 0s\n",
      "  5900K .......... .......... .......... .......... .......... 83%  114M 0s\n",
      "  5950K .......... .......... .......... .......... .......... 84%  134M 0s\n",
      "  6000K .......... .......... .......... .......... .......... 85% 87.7M 0s\n",
      "  6050K .......... .......... .......... .......... .......... 85%  117M 0s\n",
      "  6100K .......... .......... .......... .......... .......... 86%  111M 0s\n",
      "  6150K .......... .......... .......... .......... .......... 87%  117M 0s\n",
      "  6200K .......... .......... .......... .......... .......... 87% 96.9M 0s\n",
      "  6250K .......... .......... .......... .......... .......... 88%  118M 0s\n",
      "  6300K .......... .......... .......... .......... .......... 89%  111M 0s\n",
      "  6350K .......... .......... .......... .......... .......... 90%  133M 0s\n",
      "  6400K .......... .......... .......... .......... .......... 90% 92.6M 0s\n",
      "  6450K .......... .......... .......... .......... .......... 91%  115M 0s\n",
      "  6500K .......... .......... .......... .......... .......... 92% 98.1M 0s\n",
      "  6550K .......... .......... .......... .......... .......... 92%  130M 0s\n",
      "  6600K .......... .......... .......... .......... .......... 93%  112M 0s\n",
      "  6650K .......... .......... .......... .......... .......... 94%  112M 0s\n",
      "  6700K .......... .......... .......... .......... .......... 95%  103M 0s\n",
      "  6750K .......... .......... .......... .......... .......... 95%  119M 0s\n",
      "  6800K .......... .......... .......... .......... .......... 96% 91.2M 0s\n",
      "  6850K .......... .......... .......... .......... .......... 97%  115M 0s\n",
      "  6900K .......... .......... .......... .......... .......... 97%  104M 0s\n",
      "  6950K .......... .......... .......... .......... .......... 98%  138M 0s\n",
      "  7000K .......... .......... .......... .......... .......... 99%  104M 0s\n",
      "  7050K .......... .......... .......... .......... .......... 99%  110M 0s\n",
      "  7100K ....                                                  100%  121M=0.1s\n",
      "\n",
      "2023-08-21 08:53:51 (70.0 MB/s) - ‘amazon_10k.csv’ saved [7274973/7274973]\n",
      "\n"
     ]
    },
    {
     "data": {
      "text/plain": [
       "0"
      ]
     },
     "execution_count": 2,
     "metadata": {},
     "output_type": "execute_result"
    }
   ],
   "source": [
    "## Download the data file\n",
    "\n",
    "import os\n",
    "\n",
    "filename = \"amazon_10k.csv\"\n",
    "os.system(f\"wget -O {filename} 'https://www.dropbox.com/scl/fi/97utx7ukp0rb37f8d98ia/amazon_10k.csv?rlkey=aq8yq42o54tcj62u9q3op0m80&dl=0'\")"
   ]
  },
  {
   "cell_type": "code",
   "execution_count": 3,
   "metadata": {},
   "outputs": [],
   "source": [
    "ndb = neural_db.NeuralDB(\"my_user\") # you can use any username, in the future, this username will let you push models to the model bazaar\n",
    "\n",
    "doc = neural_db.CSV(\n",
    "    filename,\n",
    "    id_column=\"id\",\n",
    "    strong_columns=[\"TITLE\", \"BULLET_POINTS\"],\n",
    "    weak_columns=[\"DESCRIPTION\"],\n",
    "    reference_columns=[\"TITLE\"],\n",
    ")"
   ]
  },
  {
   "cell_type": "code",
   "execution_count": 4,
   "metadata": {},
   "outputs": [
    {
     "data": {
      "text/plain": [
       "['64d270ee5d54cbeba6fde01e97096840fb540263']"
      ]
     },
     "execution_count": 4,
     "metadata": {},
     "output_type": "execute_result"
    }
   ],
   "source": [
    "## Insert the document to be indexed\n",
    "\n",
    "ndb.insert(sources=[doc], train=False)"
   ]
  },
  {
   "cell_type": "code",
   "execution_count": 5,
   "metadata": {},
   "outputs": [
    {
     "name": "stderr",
     "output_type": "stream",
     "text": [
      "2023-08-21 08:54:14,278\tINFO worker.py:1612 -- Started a local Ray instance. View the dashboard at \u001b[1m\u001b[32mhttp://127.0.0.1:8265 \u001b[39m\u001b[22m\n"
     ]
    }
   ],
   "source": [
    "## We initialize a two-node ray cluster\n",
    "\n",
    "import ray\n",
    "from ray.air import ScalingConfig, session\n",
    "\n",
    "cpus_per_node = (dist.get_num_cpus() - 1) // 2\n",
    "\n",
    "ray.init(ignore_reinit_error=True, runtime_env={\"env_vars\": {\"OMP_NUM_THREADS\": f\"{cpus_per_node}\"}})\n",
    "scaling_config = ScalingConfig(\n",
    "    num_workers=2,\n",
    "    use_gpu=False,\n",
    "    trainer_resources={\"CPU\": 1},\n",
    "    resources_per_worker={\"CPU\": cpus_per_node},\n",
    "    placement_strategy=\"PACK\",\n",
    ")"
   ]
  },
  {
   "cell_type": "code",
   "execution_count": 7,
   "metadata": {},
   "outputs": [
    {
     "data": {
      "text/html": [
       "<div class=\"tuneStatus\">\n",
       "  <div style=\"display: flex;flex-direction: row\">\n",
       "    <div style=\"display: flex;flex-direction: column;\">\n",
       "      <h3>Tune Status</h3>\n",
       "      <table>\n",
       "<tbody>\n",
       "<tr><td>Current time:</td><td>2023-08-21 09:00:25</td></tr>\n",
       "<tr><td>Running for: </td><td>00:02:16.21        </td></tr>\n",
       "<tr><td>Memory:      </td><td>53.8/251.7 GiB     </td></tr>\n",
       "</tbody>\n",
       "</table>\n",
       "    </div>\n",
       "    <div class=\"vDivider\"></div>\n",
       "    <div class=\"systemInfo\">\n",
       "      <h3>System Info</h3>\n",
       "      Using FIFO scheduling algorithm.<br>Logical resource usage: 47.0/48 CPUs, 0/0 GPUs\n",
       "    </div>\n",
       "    \n",
       "  </div>\n",
       "  <div class=\"hDivider\"></div>\n",
       "  <div class=\"trialStatus\">\n",
       "    <h3>Trial Status</h3>\n",
       "    <table>\n",
       "<thead>\n",
       "<tr><th>Trial name             </th><th>status    </th><th>loc                </th><th style=\"text-align: right;\">  iter</th><th style=\"text-align: right;\">  total time (s)</th></tr>\n",
       "</thead>\n",
       "<tbody>\n",
       "<tr><td>BoltTrainer_d9bcd_00000</td><td>TERMINATED</td><td>192.168.1.6:2507942</td><td style=\"text-align: right;\">     1</td><td style=\"text-align: right;\">         125.974</td></tr>\n",
       "</tbody>\n",
       "</table>\n",
       "  </div>\n",
       "</div>\n",
       "<style>\n",
       ".tuneStatus {\n",
       "  color: var(--jp-ui-font-color1);\n",
       "}\n",
       ".tuneStatus .systemInfo {\n",
       "  display: flex;\n",
       "  flex-direction: column;\n",
       "}\n",
       ".tuneStatus td {\n",
       "  white-space: nowrap;\n",
       "}\n",
       ".tuneStatus .trialStatus {\n",
       "  display: flex;\n",
       "  flex-direction: column;\n",
       "}\n",
       ".tuneStatus h3 {\n",
       "  font-weight: bold;\n",
       "}\n",
       ".tuneStatus .hDivider {\n",
       "  border-bottom-width: var(--jp-border-width);\n",
       "  border-bottom-color: var(--jp-border-color0);\n",
       "  border-bottom-style: solid;\n",
       "}\n",
       ".tuneStatus .vDivider {\n",
       "  border-left-width: var(--jp-border-width);\n",
       "  border-left-color: var(--jp-border-color0);\n",
       "  border-left-style: solid;\n",
       "  margin: 0.5em 1em 0.5em 1em;\n",
       "}\n",
       "</style>\n"
      ],
      "text/plain": [
       "<IPython.core.display.HTML object>"
      ]
     },
     "metadata": {},
     "output_type": "display_data"
    },
    {
     "name": "stderr",
     "output_type": "stream",
     "text": [
      "\u001b[2m\u001b[36m(BoltTrainer pid=2507942)\u001b[0m Starting distributed worker processes: ['2508027 (192.168.1.6)', '2508028 (192.168.1.6)']\n",
      "\u001b[2m\u001b[36m(RayTrainWorker pid=2508027)\u001b[0m Setting up process group for: env:// [rank=0, world_size=2]\n",
      "\u001b[2m\u001b[36m(SplitCoordinator pid=2508195)\u001b[0m Auto configuring locality_with_output=['2cb6a39f8b218a12d29aadfd29f53ebd2d422140f3f0c1b4141b5d31', '2cb6a39f8b218a12d29aadfd29f53ebd2d422140f3f0c1b4141b5d31']\n",
      "\u001b[2m\u001b[36m(SplitCoordinator pid=2508195)\u001b[0m Executing DAG InputDataBuffer[Input] -> TaskPoolMapOperator[ReadCSV->SplitBlocks(96)] -> OutputSplitter[split(2, equal=True)]\n",
      "\u001b[2m\u001b[36m(SplitCoordinator pid=2508195)\u001b[0m Execution config: ExecutionOptions(resource_limits=ExecutionResources(cpu=None, gpu=None, object_store_memory=2000000000.0), locality_with_output=['2cb6a39f8b218a12d29aadfd29f53ebd2d422140f3f0c1b4141b5d31', '2cb6a39f8b218a12d29aadfd29f53ebd2d422140f3f0c1b4141b5d31'], preserve_order=False, actor_locality_enabled=True, verbose_progress=False)\n",
      "\u001b[2m\u001b[36m(SplitCoordinator pid=2508195)\u001b[0m Tip: For detailed progress reporting, run `ray.data.DataContext.get_current().execution_options.verbose_progress = True`\n",
      "                                                                                                                                         \r"
     ]
    },
    {
     "name": "stdout",
     "output_type": "stream",
     "text": [
      "\u001b[2m\u001b[36m(RayTrainWorker pid=2508028)\u001b[0m loading data | source 'ray-dataset-sources'\n",
      "\u001b[2m\u001b[36m(RayTrainWorker pid=2508028)\u001b[0m loaded data | source 'ray-dataset-sources' | vectors 33178 | batches 17 | time 0.223s | complete\n",
      "\u001b[2m\u001b[36m(RayTrainWorker pid=2508028)\u001b[0m \n",
      "train: [                                                  ] 0%          \n",
      "train: [===                                               ] 5%\n",
      "\u001b[2m\u001b[36m(RayTrainWorker pid=2508027)\u001b[0m loading data | source 'ray-dataset-sources'\n",
      "\u001b[2m\u001b[36m(RayTrainWorker pid=2508027)\u001b[0m loaded data | source 'ray-dataset-sources' | vectors 33948 | batches 17 | time 0.237s | complete\n",
      "\u001b[2m\u001b[36m(RayTrainWorker pid=2508027)\u001b[0m \n",
      "train: [                                                  ] 0%          \n",
      "train: [======                                            ] 11%\n",
      "train: [=========                                         ] 17%\n",
      "train: [===                                               ] 5%\n",
      "train: [============                                      ] 23%\n",
      "train: [======                                            ] 11%\n",
      "train: [===============                                   ] 29%\n",
      "train: [=========                                         ] 17%\n",
      "train: [==================                                ] 35%\n",
      "train: [============                                      ] 23%\n",
      "train: [=====================                             ] 41%\n",
      "train: [===============                                   ] 29%\n",
      "train: [========================                          ] 47%\n",
      "train: [==================                                ] 35%\n",
      "train: [=====================                             ] 41%\n",
      "train: [==========================                        ] 52%\n",
      "train: [=============================                     ] 58%\n",
      "train: [========================                          ] 47%\n",
      "train: [================================                  ] 64%\n",
      "train: [==========================                        ] 52%\n",
      "train: [===================================               ] 70%\n",
      "train: [=============================                     ] 58%\n",
      "train: [======================================            ] 76%\n",
      "train: [================================                  ] 64%\n",
      "train: [=========================================         ] 82%\n",
      "train: [===================================               ] 70%\n",
      "train: [============================================      ] 88%\n",
      "train: [======================================            ] 76%\n",
      "train: [===============================================   ] 94%\n",
      "train: [=========================================         ] 82%\n",
      "train | epoch 0 | train_steps 17 |  | train_batches 17 | time 70.973s\n",
      "\u001b[2m\u001b[36m(RayTrainWorker pid=2508027)\u001b[0m \n",
      "train: [============================================      ] 88%\n"
     ]
    },
    {
     "name": "stderr",
     "output_type": "stream",
     "text": [
      "2023-08-21 09:00:25,451\tINFO tune.py:1148 -- Total run time: 136.43 seconds (136.21 seconds for the tuning loop).\n"
     ]
    }
   ],
   "source": [
    "## Runs distributed training on the document\n",
    "\n",
    "ndb.pretrain_distributed(documents=[doc], scaling_config=scaling_config, epochs=5)"
   ]
  },
  {
   "cell_type": "markdown",
   "metadata": {},
   "source": [
    "### Let's ask!"
   ]
  },
  {
   "cell_type": "code",
   "execution_count": 8,
   "metadata": {},
   "outputs": [],
   "source": [
    "search_results = ndb.search(query=\"Modern Contemporary Three Level Rotating Coffee Table for Living Room\", top_k=3)"
   ]
  },
  {
   "cell_type": "code",
   "execution_count": 9,
   "metadata": {},
   "outputs": [
    {
     "name": "stdout",
     "output_type": "stream",
     "text": [
      "TITLE: Zivite Armor Shockproof Soft TPU and Hard PC Back Cover Case with Magnetic Ring Holder for Oppo A3s - Armor Grey\n",
      "/home/mritunjay/Demos/neural_db_examples/amazon_10k.csv\n",
      "************\n",
      "TITLE: Atlanta Post Caps 4x4 Post Cap | Brown England Pyramid Style Square Top for Outdoor Fences, Mailboxes & Decks\n",
      "/home/mritunjay/Demos/neural_db_examples/amazon_10k.csv\n",
      "************\n",
      "TITLE: Ignition Coil Tester, Coil On Plug Tester, Battery Powered, Durable Accurate And Reliable Factory Maintenance Worker for Home Laboratory\n",
      "/home/mritunjay/Demos/neural_db_examples/amazon_10k.csv\n",
      "************\n"
     ]
    }
   ],
   "source": [
    "for result in search_results:\n",
    "    print(result.text)\n",
    "    #print(result.source)\n",
    "    print('************')"
   ]
  },
  {
   "cell_type": "code",
   "execution_count": null,
   "metadata": {},
   "outputs": [],
   "source": [
    "## Terminate the ray cluster\n",
    "\n",
    "ray.shutdown()"
   ]
  }
 ],
 "metadata": {
  "kernelspec": {
   "display_name": "base",
   "language": "python",
   "name": "python3"
  },
  "language_info": {
   "codemirror_mode": {
    "name": "ipython",
    "version": 3
   },
   "file_extension": ".py",
   "mimetype": "text/x-python",
   "name": "python",
   "nbconvert_exporter": "python",
   "pygments_lexer": "ipython3",
   "version": "3.8.17"
  },
  "orig_nbformat": 4
 },
 "nbformat": 4,
 "nbformat_minor": 2
}
