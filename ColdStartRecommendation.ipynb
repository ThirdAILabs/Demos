{
 "cells": [
  {
   "attachments": {},
   "cell_type": "markdown",
   "metadata": {},
   "source": [
    "# Cold Start Product Recommendation using ThirdAI's UDT\n",
    "\n",
    "Cold Start is a common problem that most e-commerce companies deal with on a daily basis. In this problem, we want to build an engine for product search where we have a product catalog with titles, descriptions (optional) and metadata (optional), but we do not have any data about what products were purchased for a given query.\n",
    "\n",
    "In this notebook, we show how to use ThirdAI's Universal Deep Transformer (UDT) to train a model using just the product catalog and get good search results without any supervised data about what products were purchased/added-to-cat/clicked for a given query.\n",
    "\n",
    "#### Get Product Embeddings (Optional)\n",
    "Once the cold-start model is trained, we show how you can obtain product vectors (embeddings) for use in other downstream tasks with just a one-line code.\n",
    "\n",
    "#### Finetune on query-product data (Optional)\n",
    "If you have both a product catalog and also query-product data, we also show how easy it is to train on just the catalog first (Cold Start) and then fine-tune on your query-product data for better results. Models pre-trained with cold start converge faster with much less uspervised data compared to models trained from scratch on query-product data."
   ]
  },
  {
   "attachments": {},
   "cell_type": "markdown",
   "metadata": {},
   "source": [
    "## Dataset Download\n",
    "\n",
    "We train the Amazon Kaggle Product Catalog Dataset with 110K products. For the purprose of this demo, we randomly sample just 5% of the products and build a cold-start search engine with UDT. Please download the dataset, extract the downloaded file and specify the filepath as *original_product_catalog_file* below."
   ]
  },
  {
   "cell_type": "code",
   "execution_count": 19,
   "metadata": {},
   "outputs": [],
   "source": [
    "import pandas as pd\n",
    "\n",
    "original_product_catalog_file = \"/share/data/catalog_recommender/amzn-kaggle/reformatted_trn_unsupervised.csv\"\n",
    "\n",
    "## for a quick demo, we are sub-sampling the product catalog to just 5% of the products\n",
    "def subsample_catalog(catalog_file, percentage=0.05):\n",
    "    df = pd.read_csv(catalog_file)\n",
    "    df = df.sample(frac=percentage, random_state=42)\n",
    "    df[\"PRODUCT_ID\"] = [i for i in range(df.shape[0])]\n",
    "\n",
    "    sampled_product_catalog_file = f\"/share/data/catalog_recommender/amzn-kaggle/reformatted_sampled_{percentage}_trn_unsupervised.csv\"\n",
    "    df.to_csv(sampled_product_catalog_file, index=False)\n",
    "\n",
    "    return sampled_product_catalog_file, df\n",
    "\n",
    "sampled_product_catalog_file, dataframe = subsample_catalog()"
   ]
  },
  {
   "cell_type": "code",
   "execution_count": null,
   "metadata": {},
   "outputs": [],
   "source": [
    "## A sample row from the sampled catalog file is printed below. Please ensure that your file has data in the correct format.\n",
    "pd.options.display.max_colwidth = 1000\n",
    "dataframe[dataframe[\"PRODUCT_ID\"] == 300]"
   ]
  },
  {
   "attachments": {},
   "cell_type": "markdown",
   "metadata": {},
   "source": [
    "## UDT Initialization\n",
    "\n",
    "Initialize a UDT model by simply specifying the input/output names. Here, we intend to use the model for query-to-product prediction. Hence, our input is a \"QUERY\" and the output is a \"PRODUCT_ID\". The \"QUERY\" column name can be anything of your choice. However, it has to be consistent with the prediction step (shown later). The \"PRODUCT_ID\" column name has to match with the name in your catalog file (shown above).\n",
    "\n",
    "Note: contextual_encoding has three options, 'local', 'global' and 'none'. If your queries are short in length (~5 tokens per query), 'global' tends to converge to a better accuracy. For longer queries, we would suggest using 'local', although you can experiment with either of them."
   ]
  },
  {
   "cell_type": "code",
   "execution_count": null,
   "metadata": {},
   "outputs": [],
   "source": [
    "from thirdai import bolt\n",
    "\n",
    "model = bolt.UniversalDeepTransformer(\n",
    "    data_types={\n",
    "        \"QUERY\": bolt.types.text(contextual_encoding=\"local\"),\n",
    "        \"PRODUCT_ID\": bolt.types.categorical(),\n",
    "    },\n",
    "    target=\"PRODUCT_ID\",\n",
    "    n_target_classes=dataframe.shape[0],\n",
    "    integer_target=True,\n",
    ")"
   ]
  },
  {
   "attachments": {},
   "cell_type": "markdown",
   "metadata": {},
   "source": [
    "## Cold Start Pretraining\n",
    "\n",
    "TODO: Write up a description for every argument in the *cold_start()* method."
   ]
  },
  {
   "cell_type": "code",
   "execution_count": null,
   "metadata": {},
   "outputs": [],
   "source": [
    "model.cold_start(\n",
    "    filename=sampled_product_catalog_file,\n",
    "    strong_column_names=[\"TITLE\"],\n",
    "    weak_column_names=[\"DESCRIPTION\", \"BULLET_POINTS\", \"BRAND\"],\n",
    "    learning_rate=0.001,\n",
    "    epochs=5,\n",
    "    metrics=[\"f_measure(0.95)\"]\n",
    ")"
   ]
  },
  {
   "cell_type": "markdown",
   "metadata": {},
   "source": [
    "## Prediction"
   ]
  },
  {
   "cell_type": "code",
   "execution_count": null,
   "metadata": {},
   "outputs": [],
   "source": [
    "import time\n",
    "from thirdai import bolt\n",
    "\n",
    "# dataframe = pd.read_csv('/share/data/catalog_recommender/amzn-kaggle/reformatted_trn_unsupervised.csv')\n",
    "# df = dataframe.iloc[:,[1,2]]\n",
    "\n",
    "# model = bolt.UniversalDeepTransformer.load('/home/david/Universe/coldstart_amazon_kaggle.bolt')\n",
    "\n",
    "def top_k_products(query, k):\n",
    "    t1 = time.time()\n",
    "    result = model.predict({\"QUERY\": query})\n",
    "    #\n",
    "    k = min(k, len(result) - 1)\n",
    "    sorted_product_ids = result.argsort()[-k:][::-1]\n",
    "    #\n",
    "    print('***************************************************')\n",
    "    print('******************* STARTS HERE *******************')\n",
    "    print('***************************************************')\n",
    "    for p_id in sorted_product_ids:\n",
    "        print(dict(df.iloc[p_id]))\n",
    "        print('******************************')\n",
    "    #\n",
    "    t2 = time.time()\n",
    "    print('Time Elapsed:', (t2-t1)*1000, 'ms')\n",
    "    print('***************************************************')\n",
    "    print('******************** ENDS HERE ********************')\n",
    "    print('***************************************************')\n",
    "\n",
    "\n",
    "top_k_products('Birthday Party return Gift', 5)"
   ]
  },
  {
   "cell_type": "markdown",
   "metadata": {},
   "source": [
    "## Get Product Embeddings (Optional)"
   ]
  },
  {
   "cell_type": "code",
   "execution_count": null,
   "metadata": {},
   "outputs": [],
   "source": [
    "# get embeddings for all the products\n",
    "product_embeddings = model._get_model().get_layer('fc_2').weights.copy()\n",
    "\n",
    "# save the embeddings\n",
    "np.save('./amazon_kaggle_cold_start_embeddings.npy',product_embeddings)\n",
    "\n",
    "# reload the embeddings\n",
    "product_embeddings = np.load('./amazon_kaggle_cold_start_embeddings.npy')\n"
   ]
  }
 ],
 "metadata": {
  "kernelspec": {
   "display_name": "Python 3.6.9 64-bit",
   "language": "python",
   "name": "python3"
  },
  "language_info": {
   "codemirror_mode": {
    "name": "ipython",
    "version": 3
   },
   "file_extension": ".py",
   "mimetype": "text/x-python",
   "name": "python",
   "nbconvert_exporter": "python",
   "pygments_lexer": "ipython3",
   "version": "3.6.9"
  },
  "orig_nbformat": 4,
  "vscode": {
   "interpreter": {
    "hash": "31f2aee4e71d21fbe5cf8b01ff0e069b9275f58929596ceb00d14d90e3e16cd6"
   }
  }
 },
 "nbformat": 4,
 "nbformat_minor": 2
}
