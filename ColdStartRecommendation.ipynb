{
 "cells": [
  {
   "attachments": {},
   "cell_type": "markdown",
   "metadata": {},
   "source": [
    "# Cold Start Recommendation\n",
    "\n",
    "The cold start recommendation problem involves the question of how we can "
   ]
  },
  {
   "attachments": {},
   "cell_type": "markdown",
   "metadata": {},
   "source": [
    "## Dataset Download"
   ]
  },
  {
   "cell_type": "code",
   "execution_count": 19,
   "metadata": {},
   "outputs": [],
   "source": [
    "import pandas as pd\n",
    "\n",
    "original_product_catalog_file = \"/Users/david/Documents/data/amazon_kaggle_coldstart/reformatted_trn_unsupervised.csv\"\n",
    "\n",
    "def subsample_catalog(percentage=0.05):\n",
    "    df = pd.read_csv(original_product_catalog_file)\n",
    "    df = df.sample(frac=percentage, random_state=42)\n",
    "    df[\"PRODUCT_ID\"] = [i for i in range(df.shape[0])]\n",
    "\n",
    "    sampled_product_catalog_file = f\"/Users/david/Documents/data/amazon_kaggle_coldstart/reformatted_sampled_{percentage}_trn_unsupervised.csv\"\n",
    "    df.to_csv(sampled_product_catalog_file, index=False)\n",
    "\n",
    "    return sampled_product_catalog_file, df\n",
    "\n",
    "sampled_product_catalog_file, dataframe = subsample_catalog()"
   ]
  },
  {
   "attachments": {},
   "cell_type": "markdown",
   "metadata": {},
   "source": [
    "# UDT Initialization\n",
    "\n",
    "TODO explain why we're setting it up as query to product, why product has a delimiter, and what is contextual encoding"
   ]
  },
  {
   "cell_type": "code",
   "execution_count": 20,
   "metadata": {},
   "outputs": [
    {
     "name": "stdout",
     "output_type": "stream",
     "text": [
      "\n",
      "======================= Bolt Model =======================\n",
      "input_1 (Input): dim=100000\n",
      "input_1 -> fc_1 (FullyConnected): dim=512, sparsity=1, act_func=ReLU\n",
      "fc_1 -> fc_2 (FullyConnected): dim=5272, sparsity=0.02, act_func=Softmax\n",
      "============================================================\n",
      "\n"
     ]
    }
   ],
   "source": [
    "from thirdai import bolt\n",
    "\n",
    "model = bolt.UniversalDeepTransformer(\n",
    "    data_types={\n",
    "        \"PRODUCT_ID\": bolt.types.categorical(delimiter=';'),\n",
    "        \"QUERY\": bolt.types.text(contextual_encoding=\"local\"),\n",
    "    },\n",
    "    target=\"PRODUCT_ID\",\n",
    "    n_target_classes=dataframe.shape[0],\n",
    "    integer_target=True,\n",
    ")"
   ]
  },
  {
   "attachments": {},
   "cell_type": "markdown",
   "metadata": {},
   "source": [
    "# Cold Start Pretraining"
   ]
  },
  {
   "cell_type": "code",
   "execution_count": 21,
   "metadata": {},
   "outputs": [
    {
     "name": "stdout",
     "output_type": "stream",
     "text": [
      "loading data | source 'cold_start_column_map'\n",
      "loading data | source 'cold_start_column_map' | vectors 97413 | batches 48 | time 0s | complete\n",
      "\n",
      "train | epoch 0 | train_steps 48 | {precision(t=0.95):0.0624147, recall(t=0.95):0.0624147, f-measure(t=0.95):0.0624147} | train_batches 48 | time 26s | complete\n",
      "\n",
      "train | epoch 1 | train_steps 96 | {precision(t=0.95):0.334185, recall(t=0.95):0.334185, f-measure(t=0.95):0.334185} | train_batches 48 | time 28s | complete\n",
      "\n",
      "train | epoch 2 | train_steps 144 | {precision(t=0.95):0.647696, recall(t=0.95):0.647696, f-measure(t=0.95):0.647696} | train_batches 48 | time 27s | complete\n",
      "\n",
      "train | epoch 3 | train_steps 192 | {precision(t=0.95):0.743884, recall(t=0.95):0.743884, f-measure(t=0.95):0.743884} | train_batches 48 | time 30s | complete\n",
      "\n",
      "train | epoch 4 | train_steps 240 | {precision(t=0.95):0.789874, recall(t=0.95):0.789874, f-measure(t=0.95):0.789874} | train_batches 48 | time 29s | complete\n",
      "\n"
     ]
    }
   ],
   "source": [
    "model.cold_start(\n",
    "    filename=sampled_product_catalog_file,\n",
    "    strong_column_names=[\"TITLE\"],\n",
    "    weak_column_names=[\"DESCRIPTION\", \"BULLET_POINTS\", \"BRAND\"],\n",
    "    learning_rate=0.001,\n",
    "    epochs=5,\n",
    "    metrics=[\"f_measure(0.95)\"]\n",
    ")"
   ]
  },
  {
   "cell_type": "code",
   "execution_count": 22,
   "metadata": {},
   "outputs": [
    {
     "data": {
      "text/html": [
       "<div>\n",
       "<style scoped>\n",
       "    .dataframe tbody tr th:only-of-type {\n",
       "        vertical-align: middle;\n",
       "    }\n",
       "\n",
       "    .dataframe tbody tr th {\n",
       "        vertical-align: top;\n",
       "    }\n",
       "\n",
       "    .dataframe thead th {\n",
       "        text-align: right;\n",
       "    }\n",
       "</style>\n",
       "<table border=\"1\" class=\"dataframe\">\n",
       "  <thead>\n",
       "    <tr style=\"text-align: right;\">\n",
       "      <th></th>\n",
       "      <th>PRODUCT_ID</th>\n",
       "      <th>TITLE</th>\n",
       "      <th>DESCRIPTION</th>\n",
       "      <th>BULLET_POINTS</th>\n",
       "      <th>BRAND</th>\n",
       "    </tr>\n",
       "  </thead>\n",
       "  <tbody>\n",
       "    <tr>\n",
       "      <th>50023</th>\n",
       "      <td>300</td>\n",
       "      <td>Akon Suvice India Pack of 1 Samsung Galaxy M10 5D Tempered; Full Tempered Glass for Samsung Galaxy M10 - Black</td>\n",
       "      <td>Tempered glass edge to edge cover screen protector and ultra safety for samsung galaxy m10 mobile</td>\n",
       "      <td>Brand - Suvice;Ultra Safety;Scratch Resistent;Anti Fingerprint;Pack of 1</td>\n",
       "      <td>AKON SUVICE INDIA</td>\n",
       "    </tr>\n",
       "  </tbody>\n",
       "</table>\n",
       "</div>"
      ],
      "text/plain": [
       "       PRODUCT_ID  \\\n",
       "50023         300   \n",
       "\n",
       "                                                                                                                TITLE  \\\n",
       "50023  Akon Suvice India Pack of 1 Samsung Galaxy M10 5D Tempered; Full Tempered Glass for Samsung Galaxy M10 - Black   \n",
       "\n",
       "                                                                                             DESCRIPTION  \\\n",
       "50023  Tempered glass edge to edge cover screen protector and ultra safety for samsung galaxy m10 mobile   \n",
       "\n",
       "                                                                  BULLET_POINTS  \\\n",
       "50023  Brand - Suvice;Ultra Safety;Scratch Resistent;Anti Fingerprint;Pack of 1   \n",
       "\n",
       "                   BRAND  \n",
       "50023  AKON SUVICE INDIA  "
      ]
     },
     "execution_count": 22,
     "metadata": {},
     "output_type": "execute_result"
    }
   ],
   "source": [
    "pd.options.display.max_colwidth = 1000\n",
    "dataframe[dataframe[\"PRODUCT_ID\"] == 300]"
   ]
  },
  {
   "cell_type": "code",
   "execution_count": 25,
   "metadata": {},
   "outputs": [
    {
     "data": {
      "text/plain": [
       "[{'PRODUCT_ID': 54974    2955\n",
       "  Name: PRODUCT_ID, dtype: int64,\n",
       "  'TITLE': 54974    GrabChoice Doms Wow 9pc Stationery Kit Set | Return Gift | Kids Birthday Party | Pack Of 20pcs\n",
       "  Name: TITLE, dtype: object,\n",
       "  'DESCRIPTION': 54974    You can purchase this kit for your kids or as a Return Gift for a Birthday Party. A perfect return gift for your kid's friends. A quality product from the house of Doms Inds.Doms Wow 9pc Stationery Kit Contains: ►Wax Crayons 6 Shades Pack 1N.►Half Size Color Pencil 6 Shades Pack 1N. ►Water Color Pens 6 Shades pack 1N.►Scale 15cm 1N. ►Neon Eraser 1N.►Extra Long Pencil Sharpener 1N.►Fusion Pencil 2N. ►Sketch Pen 1N.\n",
       "  Name: DESCRIPTION, dtype: object,\n",
       "  'BULLET_POINTS': 54974    20 Pieces;Each pack contains: 9pcs Read description  comes with poly bag with zip;Perfect return gift for kids birthday party\n",
       "  Name: BULLET_POINTS, dtype: object,\n",
       "  'BRAND': 54974    GRABCHOICE\n",
       "  Name: BRAND, dtype: object},\n",
       " {'PRODUCT_ID': 5038    949\n",
       "  Name: PRODUCT_ID, dtype: int64,\n",
       "  'TITLE': 5038    ARVANA Kid's Foldable Sun Glasses Googles Theme Party Decoration Multicolor; Pack of 6\n",
       "  Name: TITLE, dtype: object,\n",
       "  'DESCRIPTION': 5038    ARVANA has wide range of gifts for kids items . Kids folding sunglasses for birthday party gift. Available in multicolour; pack of 6 .\n",
       "  Name: DESCRIPTION, dtype: object,\n",
       "  'BULLET_POINTS': 5038    Kids Folding Sunglasses For Birthday Party return Gift. Christmas gifts for kids;PERFECT RETURN GIFT FOR YOUR KID'S BIRTHDAY PARTY;Assorted Colors and Shapes:Easy to fold and use; safe for kids;Frame - Medium;Lens Width-55mm;Nose Bridge-18mm;Temple length-125mm;Color May Vary As Per Availability\n",
       "  Name: BULLET_POINTS, dtype: object,\n",
       "  'BRAND': 5038    ARVANA\n",
       "  Name: BRAND, dtype: object},\n",
       " {'PRODUCT_ID': 28581    5216\n",
       "  Name: PRODUCT_ID, dtype: int64,\n",
       "  'TITLE': 28581    Party Propz Dinosaur Party Supplies 59pcs Combo for Birthday Decorations / Little Dino Party Decorations Set for Kids / Dinosaur Party Favors Dinosaur Balloons with Card Stock\n",
       "  Name: TITLE, dtype: object,\n",
       "  'DESCRIPTION': 28581    Add a touch of charm to your next celebration with those party themed decorations. This Combo Kit will make a stylish addition to your birthday party. Hang them on a wall or from the ceiling to give any room a burst of color. It will make an excellent backdrop for a food or beverage table; memorial photograph; too.\n",
       "  Name: DESCRIPTION, dtype: object,\n",
       "  'BULLET_POINTS': 28581    ❤️Package Include 1pc birthday banner; 1pc character banner; 8pcs pompom; 25pcs dino balloons; 12pcs swirls and 12pcs cardstock cutout;❤️❤️Everything in your party decorations kit has been thoroughly reviewed and tested to ensure that you are getting the highest quality products for your party. Birthday balloons are made of the highest quality latex and foil for better; stronger & longer lasting seal.;❤️❤️❤️The banner; garlands and balloons come with tools and balloons glue; very easy to assemble. The birthday party set for men and women will bring style and happiness to your next birthday party adding the perfect touch for your celebration.;❤️❤️❤️❤️Dino birthday party decorations are awesome addition to any birthday party. Hang the banner and paper flowers on tables; walls. it is a great table settings for party. They're also fabulous to use as a photography backdrop! Lightweight; easy to hang them on the wall; above the table; in the hallway; on the tree; etc.;🎬🎈❤️ Want to captur...\n",
       "  Name: BULLET_POINTS, dtype: object,\n",
       "  'BRAND': 28581    Party Propz\n",
       "  Name: BRAND, dtype: object},\n",
       " {'PRODUCT_ID': 8053    259\n",
       "  Name: PRODUCT_ID, dtype: int64,\n",
       "  'TITLE': 8053    12 pcs Superhero Thank You Tags for Kids Party Birthday Party Decoration | b'day Party Favours | Return Gift\n",
       "  Name: TITLE, dtype: object,\n",
       "  'DESCRIPTION': 8053    12 pcs superhero thank you tags For Kids Party Birthday Party Decoration | b'day party favours | return gift\n",
       "  Name: DESCRIPTION, dtype: object,\n",
       "  'BULLET_POINTS': 8053    Thank you cards\n",
       "  Name: BULLET_POINTS, dtype: object,\n",
       "  'BRAND': 8053    Fancy Steps\n",
       "  Name: BRAND, dtype: object},\n",
       " {'PRODUCT_ID': 31208    3169\n",
       "  Name: PRODUCT_ID, dtype: int64,\n",
       "  'TITLE': 31208    Festiko Team Bride Paper Straws Rose Gold/Bachelorette Party Supplies/Wedding Decoration/Party Decoration/Birthday Party SuppliesSet of 10pcs Pack of 1\n",
       "  Name: TITLE, dtype: object,\n",
       "  'DESCRIPTION': 31208    It is a Set of 10 pieces team bride high quality paper Straws.\n",
       "  Name: DESCRIPTION, dtype: object,\n",
       "  'BULLET_POINTS': 31208    Material: Paper;high quality Product:Team Bride Drinking Straws;Size: Straw diameter -0.6cm; length -19.7cm;Package Includes: 10pcs Team Bride Drinking Straws;Occasion: Wedding; bachelorette; party;Birthday\n",
       "  Name: BULLET_POINTS, dtype: object,\n",
       "  'BRAND': 31208    Festiko\n",
       "  Name: BRAND, dtype: object}]"
      ]
     },
     "execution_count": 25,
     "metadata": {},
     "output_type": "execute_result"
    }
   ],
   "source": [
    "def top_k_products(query, k):\n",
    "    result = model.predict({\"QUERY\": query})\n",
    "\n",
    "    k = min(k, len(result) - 1)\n",
    "    sorted_product_ids = result.argsort()[-k:][::-1]\n",
    "\n",
    "    products = []\n",
    "    for p_id in sorted_product_ids:\n",
    "        products.append(dict(dataframe[dataframe[\"PRODUCT_ID\"] == p_id]))\n",
    "    \n",
    "    return products\n",
    "\n",
    "top_k_products(\"Birthday Party return Gift\", k=5)"
   ]
  },
  {
   "cell_type": "code",
   "execution_count": null,
   "metadata": {},
   "outputs": [],
   "source": []
  }
 ],
 "metadata": {
  "kernelspec": {
   "display_name": "Python 3",
   "language": "python",
   "name": "python3"
  },
  "language_info": {
   "codemirror_mode": {
    "name": "ipython",
    "version": 3
   },
   "file_extension": ".py",
   "mimetype": "text/x-python",
   "name": "python",
   "nbconvert_exporter": "python",
   "pygments_lexer": "ipython3",
   "version": "3.11.1 (main, Dec 23 2022, 09:28:24) [Clang 14.0.0 (clang-1400.0.29.202)]"
  },
  "orig_nbformat": 4,
  "vscode": {
   "interpreter": {
    "hash": "5c7b89af1651d0b8571dde13640ecdccf7d5a6204171d6ab33e7c296e100e08a"
   }
  }
 },
 "nbformat": 4,
 "nbformat_minor": 2
}
