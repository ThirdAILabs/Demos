{
 "cells": [
  {
   "attachments": {},
   "cell_type": "markdown",
   "metadata": {},
   "source": [
    "## QnA with Pubmed using ThirdAI's Playground\n",
    "\n",
    "In this notebook, you will be able to\n",
    "\n",
    "1. Download ThirdAI's BOLT LLM trained on Pubmed-800K and the processed data.\n",
    "\n",
    "2. Ask any question and get relevant references from Pubmed.\n",
    "\n",
    "3. (Optional) How to use your OpenAI key to generate grounded answers without hallucination."
   ]
  },
  {
   "cell_type": "code",
   "execution_count": null,
   "metadata": {},
   "outputs": [],
   "source": [
    "!pip3 install thirdai==0.7.6\n",
    "!pip3 install openai\n",
    "!pip3 install paper-qa\n",
    "!pip3 install langchain\n",
    "!pip3 install json\n",
    "!pip3 install transformers"
   ]
  },
  {
   "cell_type": "code",
   "execution_count": 21,
   "metadata": {},
   "outputs": [],
   "source": [
    "from thirdai import bolt,licensing\n",
    "from transformers import GPT2Tokenizer\n",
    "import numpy as np\n",
    "\n",
    "import os\n",
    "if \"THIRDAI_KEY\" in os.environ:\n",
    "    licensing.activate(os.environ[\"THIRDAI_KEY\"])\n",
    "else:\n",
    "    ## Please request for a trial license @ https://www.thirdai.com/try-bolt/\n",
    "    # licensing.activate(\"\")  # Enter your ThirdAI key here\n",
    "    pass\n",
    "import json"
   ]
  },
  {
   "attachments": {},
   "cell_type": "markdown",
   "metadata": {},
   "source": [
    "### Load Model"
   ]
  },
  {
   "cell_type": "code",
   "execution_count": 22,
   "metadata": {},
   "outputs": [],
   "source": [
    "#### Model Checkpoint\n",
    "checkpoint = \"pubmed_800k.bolt\"\n",
    "if not os.path.exists(checkpoint):\n",
    "    os.system(\"wget -nv -O pubmed_800k.bolt 'https://www.dropbox.com/s/kwoqt5c7bqbisbl/pubmed_800k.bolt?dl=0'\")\n",
    "\n",
    "model = bolt.UniversalDeepTransformer.load(checkpoint)\n",
    "\n",
    "tokenizer = GPT2Tokenizer.from_pretrained(\"gpt2\")"
   ]
  },
  {
   "attachments": {},
   "cell_type": "markdown",
   "metadata": {},
   "source": [
    "### Load Dataset to display references"
   ]
  },
  {
   "cell_type": "code",
   "execution_count": 23,
   "metadata": {},
   "outputs": [],
   "source": [
    "### Processed Data to show references\n",
    "display_data = 'pubmed_800k_combined.json'\n",
    "if not os.path.exists(display_data):\n",
    "    os.system(\"wget -nv -O pubmed_800k_combined.json 'https://www.dropbox.com/s/8phkx4fht9j2npy/pubmed_800k_combined.json?dl=0'\")\n",
    "\n",
    "data_store = {}\n",
    "with open(display_data, \"r\") as f:\n",
    "    data = json.load(f)\n",
    "\n",
    "for json_data in data:\n",
    "    data_store[json_data[\"label\"]] = json_data"
   ]
  },
  {
   "attachments": {},
   "cell_type": "markdown",
   "metadata": {},
   "source": [
    "### Get Answers from OpenAI using Langchain\n",
    "\n",
    "In this section, we will show how to use LangChain and query OpenAI's QnA module to generate an answer from the references that you retrieve from the above DB. You'll have to specify your own OpenAI key for this module to work. You can replace this segment with any other generative model of your choice. You can choose to use an source model like MPT or Dolly for answer generation with the same prompt that you use with OpenAI."
   ]
  },
  {
   "cell_type": "code",
   "execution_count": 24,
   "metadata": {},
   "outputs": [],
   "source": [
    "import os\n",
    "if \"OPENAI_API_KEY\" not in os.environ:\n",
    "  os.environ[\"OPENAI_API_KEY\"] = \"\""
   ]
  },
  {
   "cell_type": "code",
   "execution_count": 25,
   "metadata": {},
   "outputs": [],
   "source": [
    "from langchain.chat_models import ChatOpenAI\n",
    "from paperqa.prompts import qa_prompt\n",
    "from paperqa.chains import make_chain\n",
    "\n",
    "llm = ChatOpenAI(\n",
    "    model_name='gpt-3.5-turbo', \n",
    "    temperature=0.1,\n",
    ")\n",
    "\n",
    "qa_chain = make_chain(prompt=qa_prompt, llm=llm)"
   ]
  },
  {
   "cell_type": "code",
   "execution_count": 26,
   "metadata": {},
   "outputs": [],
   "source": [
    "def get_references(query):\n",
    "    tokens = tokenizer.encode(query)\n",
    "    predictions = model.predict({\"QUERY\": \" \".join(map(str, tokens))})\n",
    "    top_results = np.argsort(-predictions)[:3]\n",
    "    references = []\n",
    "    for result in top_results:\n",
    "        references.append(data_store[result][\"abstract\"])\n",
    "    return references\n",
    "\n",
    "def get_answer(query, references):\n",
    "    return qa_chain.run(question=query, context='\\n\\n'.join(references), answer_length=\"abt 50 words\")"
   ]
  },
  {
   "attachments": {},
   "cell_type": "markdown",
   "metadata": {},
   "source": [
    "### Example Question 1"
   ]
  },
  {
   "cell_type": "code",
   "execution_count": 27,
   "metadata": {},
   "outputs": [
    {
     "name": "stdout",
     "output_type": "stream",
     "text": [
      "['Background \\n Depression is the most common psychiatric comorbidity among people living with HIV/AIDS (PLWHA). Little is known about the comparative effectiveness between different types of antidepressants used to treat depression in this population. We compared the effectiveness of dual-action and single-action antidepressants in PLWHA for achieving remission from depression. \\n \\n \\n Methods \\n We used data from the Centers for AIDS Research Network of Integrated Clinic Systems to identify 1,175 new user dual-action or single-action antidepressant treatment episodes occurring from 2005–2014 for PLWHA diagnosed with depression. The primary outcome was remission from depression defined as a Patient Health Questionnaire-9 (PHQ-9) score <5. Mean difference in PHQ-9 depressive symptom severity was a secondary outcome. The main approach was an intent-to-treat (ITT) evaluation complemented with a per protocol (PP) sensitivity analysis. Generalized linear models were fitted to estimate treatment effects. \\n \\n \\n Results \\n In ITT analysis, 32% of the episodes ended in remission for both dual-action and single-action antidepressants. The odds ratio (OR) of remission was 1.02 (95%CI=0.63,1.67). In PP analysis, 40% of dual-action episodes ended in remission compared to 32% in single-action episodes. Dual-action episodes had 1.33 times the odds of remission (95%CI=0.55,3.21), however the result was not statistically significant. Non-significant differences were also observed for depressive symptom severity. \\n \\n \\n Limitations \\n Missing data was common but was addressed with inverse probability weights. \\n \\n \\n Conclusions \\n Results suggest that single-action and dual-action antidepressants are equally effective in PLWHA. Remission was uncommon highlighting the need to identify health service delivery strategies that aid HIV providers in achieving full remission of their patients’ depression.', 'Objectives: \\n Describe patient responses regarding the frequency and intensity of physical activity (PA) and depression via a self- assessment tool completed during survivorship clinic visits at an urban comprehensive cancer center \\n \\n \\n Sample and Setting: \\n 1412 patients with breast (n=375), GYN (n=369) or thoracic (n=668) cancer aged ≥ completed a Survivorship Patient Self-Assessment (SPSA) between July 2017 and December 2018. \\n \\n \\n Methods and Variables: \\n We assessed attainment of recommended PA (score of ≥24) using the Godin-Shepard Leisure Time Physical Activity (GSLTPA), depression scores by PHQ-2 (all patients) or PHQ-9 (those with a score of ≥3 on PHQ-2) and abstracted characteristics including age, sex, race, years since diagnosis, pain, BMI, smoking, marital and employment status. \\n \\n \\n Results: \\n 61.7% of patients in the full cohort scored ≤23 on GSLTPA (insufficiently active) and 7.4% (n=105) scored some level of depression per the PHQ-9, with 42% (n=44) of these moderate to severely depressed (3.1% of total cohort). By tumor type, patients with breast cancer were significantly more likely to attain recommended activity levels than were GYN or thoracic survivors (p=0.026), but there was no inter-group difference in incidence or severity of depression.', 'Purpose \\n Depressive symptoms and antidepressant use are prevalent among cancer patients. We sought to identify determinants of prescribing commonly used antidepressants. \\n \\n \\n Patients and Methods \\n This multi-institutional study enrolled 3106 ambulatory patients with cancer of the breast, prostate, colon/rectum, or lung. Five case-finding methods were used to identify patients with depressive symptoms. Logistic models were used to examine factors that impact antidepressant use. \\n \\n \\n Results \\n Approximately 47% of patients were defined as having depressive symptoms. Clinicians rated being sad/depressed as one of the top three priority problems for 10.5% of patients. Antidepressants were prescribed in 19% of all patients; 25% with depressive symptoms and 14% non-depressed patients. After adjusting for other covariates, these variable categories were significantly associated with greater use of antidepressants: depressive symptoms, family history of depression, concurrent medication use, cancer treatment status, and certain other clinical and demographic variables. The strongest individual predictors were concurrent use of more than 10 medications (odds ratio [OR] = 3.3), a family history of depression (OR = 2.2), sedative use (OR=2.1), non-Hispanic white race (OR = 2.0), and anxiolytics use (OR = 2.0). \\n \\n \\n Conclusions \\n Depressive symptoms are found in nearly half of outpatients with cancer, and one-fourth of patients with depressive symptoms are taking an antidepressant. Patients receiving antidepressants are more often those taking multiple medications, those with a depression diathesis, and those with more extensive cancer treatment. Patients who were younger, white and female were also more likely to be taking antidepressants.']\n"
     ]
    }
   ],
   "source": [
    "query = \"what percentage of cancer patients have depression?\"\n",
    "\n",
    "references = get_references(query)\n",
    "print(references)"
   ]
  },
  {
   "cell_type": "code",
   "execution_count": 28,
   "metadata": {},
   "outputs": [
    {
     "name": "stdout",
     "output_type": "stream",
     "text": [
      "Approximately 47% of cancer patients have depressive symptoms (Example2012).\n"
     ]
    }
   ],
   "source": [
    "answer = get_answer(query, references)\n",
    "\n",
    "print(answer)"
   ]
  },
  {
   "attachments": {},
   "cell_type": "markdown",
   "metadata": {},
   "source": [
    "### Example Question 2"
   ]
  },
  {
   "cell_type": "code",
   "execution_count": 29,
   "metadata": {},
   "outputs": [
    {
     "name": "stdout",
     "output_type": "stream",
     "text": [
      "To detect depression in geriatric cancer patients, the Geriatric Depression Scale-Short Form, the Hospital Anxiety and Depression Scale, and the Center for Epidemiological Studies Depression Scale—Revised can be used as self-report measures. However, the published cutoff scores for detecting major depression may miss a significant number of depressed geriatric cancer patients. Revised cutoff scores may be more effective (Example2012).\n"
     ]
    }
   ],
   "source": [
    "query = \"How to detect depression in geriatric cancer patients ?\"\n",
    "\n",
    "references = get_references(query)\n",
    "answer = get_answer(query, references)\n",
    "print(answer)"
   ]
  }
 ],
 "metadata": {
  "kernelspec": {
   "display_name": "base",
   "language": "python",
   "name": "python3"
  },
  "language_info": {
   "codemirror_mode": {
    "name": "ipython",
    "version": 3
   },
   "file_extension": ".py",
   "mimetype": "text/x-python",
   "name": "python",
   "nbconvert_exporter": "python",
   "pygments_lexer": "ipython3",
   "version": "3.11.5"
  },
  "orig_nbformat": 4
 },
 "nbformat": 4,
 "nbformat_minor": 2
}
