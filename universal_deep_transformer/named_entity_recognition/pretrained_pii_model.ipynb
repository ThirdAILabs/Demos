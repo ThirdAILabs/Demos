{
 "cells": [
  {
   "cell_type": "markdown",
   "metadata": {},
   "source": [
    "### PII (Personally Identifiable Information) Detection with a pre-trained BOLT NER model\n",
    "\n",
    "In this notebook, we will show how to use ThirdAI's pre-trained PII detection model on your dataset. This model was trained on a proprietaty synthetic dataset generated from GPT-4. This is a multi-lingual model that was trained on English, French, Spanish and Italian data. It detects the following types of PII:\n",
    "\n",
    "'PHONEIMEI', 'JOBAREA', 'FIRSTNAME', 'VEHICLEVIN', 'AGE', 'GENDER', 'HEIGHT', 'BUILDINGNUMBER', 'MASKEDNUMBER', 'PASSWORD', 'DOB', 'IPV6', 'NEARBYGPSCOORDINATE', 'USERAGENT', 'TIME', 'JOBTITLE', 'COUNTY', 'EMAIL', 'ACCOUNTNUMBER', 'PIN', 'EYECOLOR', 'LASTNAME', 'IPV4', 'DATE', 'STREET', 'CITY', 'PREFIX', 'MIDDLENAME', 'CREDITCARDISSUER', 'CREDITCARDNUMBER', 'STATE', 'VEHICLEVRM', 'ORDINALDIRECTION', 'SEX', 'JOBTYPE', 'CURRENCYCODE', 'CURRENCYSYMBOL', 'AMOUNT', 'ACCOUNTNAME', 'BITCOINADDRESS', 'LITECOINADDRESS', 'PHONENUMBER', 'MAC', 'CURRENCY', 'IBAN', 'COMPANYNAME', 'CURRENCYNAME', 'ZIPCODE', 'SSN', 'URL', 'IP', 'SECONDARYADDRESS', 'USERNAME', 'ETHEREUMADDRESS', 'CREDITCARDCVV', 'BIC'\n",
    "\n",
    "The latter part of the script shows how to load a pretrained model and train it on new PII entities."
   ]
  },
  {
   "cell_type": "code",
   "execution_count": null,
   "metadata": {},
   "outputs": [],
   "source": [
    "!pip3 install thirdai --upgrade"
   ]
  },
  {
   "cell_type": "markdown",
   "metadata": {},
   "source": [
    "### Activate your ThirdAI License Key\n",
    "\n",
    "You can apply for a trial license [here](https://www.thirdai.com/try-bolt/) ."
   ]
  },
  {
   "cell_type": "code",
   "execution_count": null,
   "metadata": {},
   "outputs": [],
   "source": [
    "import os\n",
    "from thirdai import bolt, licensing\n",
    "import utils\n",
    "\n",
    "import os\n",
    "if \"THIRDAI_KEY\" in os.environ:\n",
    "    licensing.activate(os.environ[\"THIRDAI_KEY\"])\n",
    "else:\n",
    "    licensing.activate(\"\")  # Enter your ThirdAI key here"
   ]
  },
  {
   "cell_type": "markdown",
   "metadata": {},
   "source": [
    "### Download the Model"
   ]
  },
  {
   "cell_type": "code",
   "execution_count": null,
   "metadata": {},
   "outputs": [],
   "source": [
    "import os\n",
    "\n",
    "if not os.path.isdir(\"./models/\"):\n",
    "    os.system(\"mkdir ./models/\")\n",
    "\n",
    "if not os.path.exists(\"./models/pretrained_multilingual.model\"):\n",
    "    os.system(\"wget -nv -O ./models/pretrained_multilingual.model 'https://www.dropbox.com/scl/fi/vrh66z78dl460g26ulxli/model_multilingual_unig.bolt?rlkey=p8qc5o9413lg0itgovy5khhpt&st=9t1bustf&dl=0'\")"
   ]
  },
  {
   "cell_type": "markdown",
   "metadata": {},
   "source": [
    "### Load the Model"
   ]
  },
  {
   "cell_type": "code",
   "execution_count": 119,
   "metadata": {},
   "outputs": [],
   "source": [
    "pii_model = bolt.UniversalDeepTransformer.NER.load(\"./models/pretrained_multilingual.model\")"
   ]
  },
  {
   "cell_type": "markdown",
   "metadata": {},
   "source": [
    "### Use Pretrained Model Out of the Box"
   ]
  },
  {
   "cell_type": "code",
   "execution_count": 120,
   "metadata": {},
   "outputs": [],
   "source": [
    "from transformers import BertTokenizer\n",
    "\n",
    "# Initialize the mBERT tokenizer\n",
    "tokenizer = BertTokenizer.from_pretrained('bert-base-multilingual-cased')"
   ]
  },
  {
   "cell_type": "code",
   "execution_count": 131,
   "metadata": {},
   "outputs": [
    {
     "name": "stdout",
     "output_type": "stream",
     "text": [
      "Robert. : FIRSTNAME\n",
      "Engineer : JOBTYPE\n",
      "Houston. : CITY\n",
      "robbie@gmail.com. : EMAIL\n"
     ]
    }
   ],
   "source": [
    "sample_sentence = \"I'm Robert. I work for as an AI Engineer for a startup in Houston. I want to apply for a credit card. My email is robbie@gmail.com.\"\n",
    "\n",
    "tokens = sample_sentence.split()\n",
    "\n",
    "predicted_tags = pii_model.predict(tokens, top_k=1)\n",
    "\n",
    "for i in range(len(tokens)):\n",
    "    if predicted_tags[i][0][0]!='O':\n",
    "        print(tokens[i]+' : '+predicted_tags[i][0][0])"
   ]
  },
  {
   "cell_type": "code",
   "execution_count": 132,
   "metadata": {},
   "outputs": [
    {
     "name": "stdout",
     "output_type": "stream",
     "text": [
      "Siddharth. : FIRSTNAME\n",
      "Mountain : STREET\n",
      "View. : STREET\n",
      "4147202361663155. : CREDITCARDNUMBER\n"
     ]
    }
   ],
   "source": [
    "sample_sentence = \"I'm Siddharth. I work at for a big multinational company in Mountain View. I want to cancel my credit card with number 4147202361663155.\"\n",
    "\n",
    "tokens = sample_sentence.split()\n",
    "\n",
    "predicted_tags = pii_model.predict(tokens, top_k=1)\n",
    " \n",
    "for i in range(len(tokens)):\n",
    "    if predicted_tags[i][0][0]!='O':\n",
    "        print(tokens[i]+' : '+predicted_tags[i][0][0])"
   ]
  },
  {
   "cell_type": "markdown",
   "metadata": {},
   "source": [
    "## Finetune a pretrained model on your own data"
   ]
  },
  {
   "cell_type": "markdown",
   "metadata": {},
   "source": [
    "#### Create a Tag to label Map\n",
    "\n",
    "Tag to Label Map is used to map text entities to their corresponding integer labels while training/inferencing using a model. \n",
    "\n",
    "Note: Ensure that the tags in your dataset should not be outside of TAG_MAP"
   ]
  },
  {
   "cell_type": "code",
   "execution_count": 133,
   "metadata": {},
   "outputs": [],
   "source": [
    "TAG_MAP = {\n",
    "    \"O\": 0,\n",
    "    \"B-PER\": 1,\n",
    "    \"I-PER\": 2,\n",
    "    \"B-ORG\": 3,\n",
    "    \"I-ORG\": 4,\n",
    "    \"B-LOC\": 5,\n",
    "    \"I-LOC\": 6,\n",
    "    \"B-MISC\": 7,\n",
    "    \"I-MISC\": 8,\n",
    "}\n",
    "\n",
    "entries = list(TAG_MAP.keys())"
   ]
  },
  {
   "cell_type": "markdown",
   "metadata": {},
   "source": [
    "### Download and Process the dataset"
   ]
  },
  {
   "cell_type": "code",
   "execution_count": 134,
   "metadata": {},
   "outputs": [],
   "source": [
    "train_file = utils.download_conll_dataset_as_file(\"train\")\n",
    "validation_file = utils.download_conll_dataset_as_file(\"validation\")"
   ]
  },
  {
   "cell_type": "markdown",
   "metadata": {},
   "source": [
    "### Initialize a NER Model"
   ]
  },
  {
   "cell_type": "code",
   "execution_count": 135,
   "metadata": {},
   "outputs": [],
   "source": [
    "ner_model = bolt.UniversalDeepTransformer.NER.from_pretrained(\n",
    "    \"./models/pretrained_multilingual.model\",\n",
    "    tokens_column = \"source\", tags_column = \"target\", tag_to_label = TAG_MAP\n",
    ")"
   ]
  },
  {
   "cell_type": "markdown",
   "metadata": {},
   "source": [
    "Call the train function for the NER model and pass the training file to the function [required]. All other parameters are optional."
   ]
  },
  {
   "cell_type": "code",
   "execution_count": null,
   "metadata": {},
   "outputs": [],
   "source": [
    "ner_model.train(\n",
    "    train_file,\n",
    "    epochs=2,\n",
    "    learning_rate=0.001,\n",
    "    batch_size=1024,\n",
    "    train_metrics=[\"loss\"],\n",
    "    validation_file=validation_file,\n",
    "    val_metrics=[\"loss\"] \n",
    ")"
   ]
  },
  {
   "cell_type": "markdown",
   "metadata": {},
   "source": [
    "### Evaluation Finetuned Model on Own Test Dataset"
   ]
  },
  {
   "cell_type": "code",
   "execution_count": null,
   "metadata": {},
   "outputs": [],
   "source": [
    "test_data = utils.load_dataset(\"conll2003\")[\"test\"]\n",
    "\n",
    "predictions = []\n",
    "actuals = []\n",
    "\n",
    "for example in test_data:\n",
    "    tokens = example[\"tokens\"]\n",
    "    actual_tags = [entries[tag] for tag in example[\"ner_tags\"]]\n",
    "\n",
    "    # Predict and evaluate\n",
    "    predicted_tags = ner_model.predict(tokens, top_k=1)\n",
    "\n",
    "    predictions.extend(predicted_tags)\n",
    "    actuals.extend(actual_tags)\n",
    "\n",
    "correct_predictions = sum(p[0][0] == a for p, a in zip(predictions, actuals))\n",
    "total_predictions = len(predictions)\n",
    "accuracy = correct_predictions / total_predictions\n",
    "print(f\"Accuracy: {accuracy * 100:.2f}%\")"
   ]
  }
 ],
 "metadata": {
  "kernelspec": {
   "display_name": "base",
   "language": "python",
   "name": "python3"
  },
  "language_info": {
   "codemirror_mode": {
    "name": "ipython",
    "version": 3
   },
   "file_extension": ".py",
   "mimetype": "text/x-python",
   "name": "python",
   "nbconvert_exporter": "python",
   "pygments_lexer": "ipython3",
   "version": "3.10.10"
  }
 },
 "nbformat": 4,
 "nbformat_minor": 2
}
