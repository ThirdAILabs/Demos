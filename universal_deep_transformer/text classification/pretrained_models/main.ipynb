{
 "cells": [
  {
   "cell_type": "markdown",
   "metadata": {},
   "source": [
    "# Train your own classifier with our pre-trained model\n",
    "\n",
    "In this notebook, we will show how to train a text classifier on your own data by starting from our pre-trained model. The pre-trained model that we will be using here is multi-lingual. Like with all of ThirdAI's classifiers, the inference latency would still be < 5 ms per sample on a single CPU thread, even when you pass in a text chunk with 5000 tokens!\n",
    "\n",
    "For this notebook, we will be using the CureKart dataset hosted [here](https://github.com/hellohaptik/HINT3/tree/master/dataset/v2). CureKart has 20 unique labels with just 600 training samples.\n",
    "\n",
    "Our model acheives a near SOTA accuracy of 84%, while being an order of magnitude faster than the SOTA models on inference latency."
   ]
  },
  {
   "cell_type": "code",
   "execution_count": null,
   "metadata": {},
   "outputs": [],
   "source": [
    "!pip3 install thirdai --upgrade"
   ]
  },
  {
   "cell_type": "markdown",
   "metadata": {},
   "source": [
    "### Activate ThirdAI's license key"
   ]
  },
  {
   "cell_type": "code",
   "execution_count": null,
   "metadata": {},
   "outputs": [],
   "source": [
    "from thirdai import bolt, licensing\n",
    "import pandas as pd\n",
    "\n",
    "import os\n",
    "if \"THIRDAI_KEY\" in os.environ:\n",
    "    licensing.activate(os.environ[\"THIRDAI_KEY\"])\n",
    "else:\n",
    "    licensing.activate(\"\")  # Enter your ThirdAI key here"
   ]
  },
  {
   "cell_type": "markdown",
   "metadata": {},
   "source": [
    "### Download Pre-trained Model"
   ]
  },
  {
   "cell_type": "code",
   "execution_count": null,
   "metadata": {},
   "outputs": [],
   "source": [
    "import os\n",
    "\n",
    "if not os.path.isdir(\"./models/\"):\n",
    "    os.system(\"mkdir ./models/\")\n",
    "\n",
    "if not os.path.exists(\"./models/pretrained_multilingual.model\"):\n",
    "    os.system(\"wget -nv -O ./models/pretrained_multilingual.model 'https://www.dropbox.com/scl/fi/qem5aqhsh5no6bdb4395a/pretrained_multilingual.model?rlkey=o4cegybi7xc06kj83mhbv8tru&st=8y4v7l9q&dl=0'\")\n"
   ]
  },
  {
   "cell_type": "markdown",
   "metadata": {},
   "source": [
    "### Load the Pre-trained Model"
   ]
  },
  {
   "cell_type": "code",
   "execution_count": null,
   "metadata": {},
   "outputs": [],
   "source": [
    "pretrained_model = bolt.PretrainedBase.load(\"./models/pretrained_multilingual.model\")"
   ]
  },
  {
   "cell_type": "markdown",
   "metadata": {},
   "source": [
    "### Load the Dataset\n",
    "We have bundled the pre-processed train and test csv files in the repo. Like mentioned earlier, the original dataset can be found [here](https://github.com/hellohaptik/HINT3/tree/master/dataset/v2)."
   ]
  },
  {
   "cell_type": "code",
   "execution_count": null,
   "metadata": {},
   "outputs": [],
   "source": [
    "train_file = \"./datasets/curekart/curekart_train.csv\"\n",
    "test_file = \"./datasets/curekart/curekart_test.csv\""
   ]
  },
  {
   "cell_type": "code",
   "execution_count": null,
   "metadata": {},
   "outputs": [],
   "source": [
    "df = pd.read_csv(train_file)\n",
    "n_target_classes = df.label.nunique()"
   ]
  },
  {
   "cell_type": "markdown",
   "metadata": {},
   "source": [
    "### Define a UDT with the pre-trained model"
   ]
  },
  {
   "cell_type": "code",
   "execution_count": null,
   "metadata": {},
   "outputs": [],
   "source": [
    "model = bolt.UniversalDeepTransformer(\n",
    "    data_types={\n",
    "        \"query\": bolt.types.text(),\n",
    "        \"label\": bolt.types.categorical(n_classes=n_target_classes, type=\"int\"),\n",
    "    },\n",
    "    target=\"label\",\n",
    "    pretrained_model=pretrained_model,\n",
    ")"
   ]
  },
  {
   "cell_type": "markdown",
   "metadata": {},
   "source": [
    "### Train the model"
   ]
  },
  {
   "cell_type": "code",
   "execution_count": null,
   "metadata": {},
   "outputs": [],
   "source": [
    "model.train(train_file, epochs=50, learning_rate=0.001, metrics=[\"precision@1\"])"
   ]
  },
  {
   "cell_type": "markdown",
   "metadata": {},
   "source": [
    "### Evaluate the model"
   ]
  },
  {
   "cell_type": "code",
   "execution_count": null,
   "metadata": {},
   "outputs": [],
   "source": [
    "metrics = model.evaluate(test_file, metrics=[\"precision@1\"])\n",
    "print(metrics)"
   ]
  },
  {
   "cell_type": "code",
   "execution_count": null,
   "metadata": {},
   "outputs": [],
   "source": [
    "model.predict({\"query\":\"test query\"})"
   ]
  }
 ],
 "metadata": {
  "kernelspec": {
   "display_name": "Python 3",
   "language": "python",
   "name": "python3"
  },
  "language_info": {
   "codemirror_mode": {
    "name": "ipython",
    "version": 3
   },
   "file_extension": ".py",
   "mimetype": "text/x-python",
   "name": "python",
   "nbconvert_exporter": "python",
   "pygments_lexer": "ipython3",
   "version": "3.11.9"
  },
  "orig_nbformat": 4
 },
 "nbformat": 4,
 "nbformat_minor": 2
}
