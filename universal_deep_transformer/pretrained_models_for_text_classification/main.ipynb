{
 "cells": [
  {
   "cell_type": "markdown",
   "metadata": {},
   "source": [
    "# Train your own classifier with our pre-trained model\n",
    "\n",
    "In this notebook, we will show how to train a text classifier on your own data by starting from our pre-trained model. The pre-trained model that we will be using here is multi-lingual. Like with all of ThirdAI's classifiers, the inference latency would still be < 5 ms per sample on a single CPU thread, even when you pass in a text chunk with 5000 tokens!\n",
    "\n",
    "For this notebook, we will be using the CureKart dataset hosted [here](https://github.com/hellohaptik/HINT3/tree/master/dataset/v2). CureKart has 20 unique labels with just 600 training samples.\n",
    "\n",
    "Our model acheives a near SOTA accuracy of 84%, while being an order of magnitude faster than the SOTA models on inference latency."
   ]
  },
  {
   "cell_type": "code",
   "execution_count": null,
   "metadata": {},
   "outputs": [],
   "source": [
    "!pip3 install thirdai --upgrade"
   ]
  },
  {
   "cell_type": "markdown",
   "metadata": {},
   "source": [
    "### Activate ThirdAI's license key"
   ]
  },
  {
   "cell_type": "code",
   "execution_count": 3,
   "metadata": {},
   "outputs": [],
   "source": [
    "from thirdai import bolt, licensing\n",
    "import pandas as pd\n",
    "\n",
    "import os\n",
    "if \"THIRDAI_KEY\" in os.environ:\n",
    "    licensing.activate(os.environ[\"THIRDAI_KEY\"])\n",
    "else:\n",
    "    licensing.activate(\"\")  # Enter your ThirdAI key here"
   ]
  },
  {
   "cell_type": "markdown",
   "metadata": {},
   "source": [
    "### Download Pre-trained Model"
   ]
  },
  {
   "cell_type": "code",
   "execution_count": 4,
   "metadata": {},
   "outputs": [],
   "source": [
    "import os\n",
    "\n",
    "if not os.path.isdir(\"./models/\"):\n",
    "    os.system(\"mkdir ./models/\")\n",
    "\n",
    "if not os.path.exists(\"./models/pretrained_multilingual.model\"):\n",
    "    os.system(\"wget -nv -O ./models/pretrained_multilingual.model 'https://www.dropbox.com/scl/fi/qem5aqhsh5no6bdb4395a/pretrained_multilingual.model?rlkey=o4cegybi7xc06kj83mhbv8tru&st=8y4v7l9q&dl=0'\")\n"
   ]
  },
  {
   "cell_type": "markdown",
   "metadata": {},
   "source": [
    "### Load the Pre-trained Model"
   ]
  },
  {
   "cell_type": "code",
   "execution_count": 5,
   "metadata": {},
   "outputs": [],
   "source": [
    "pretrained_model = bolt.PretrainedBase.load(\"./models/pretrained_multilingual.model\")"
   ]
  },
  {
   "cell_type": "code",
   "execution_count": 8,
   "metadata": {},
   "outputs": [],
   "source": [
    "train_file = \"./datasets/curekart/curekart_train.csv\"\n",
    "test_file = \"./datasets/curekart/curekart_test.csv\""
   ]
  },
  {
   "cell_type": "code",
   "execution_count": 9,
   "metadata": {},
   "outputs": [],
   "source": [
    "df = pd.read_csv(train_file)\n",
    "n_target_classes = df.label.nunique()"
   ]
  },
  {
   "cell_type": "code",
   "execution_count": 10,
   "metadata": {},
   "outputs": [],
   "source": [
    "model = bolt.UniversalDeepTransformer(\n",
    "        data_types={\n",
    "            \"query\": bolt.types.text(),\n",
    "            \"label\": bolt.types.categorical(),\n",
    "        },\n",
    "        target=\"label\",\n",
    "        n_target_classes=n_target_classes,\n",
    "        integer_target=True,\n",
    "        pretrained_model=pretrained_model,\n",
    "        options={\n",
    "            \"embedding_dimension\": 2000,\n",
    "        },\n",
    "    )"
   ]
  },
  {
   "cell_type": "code",
   "execution_count": 11,
   "metadata": {},
   "outputs": [
    {
     "name": "stdout",
     "output_type": "stream",
     "text": [
      "loading data | source './datasets/curekart/curekart_train.csv'\n",
      "loading data | source './datasets/curekart/curekart_train.csv' | vectors 599 | batches 1 | time 0.072s | complete\n",
      "\n",
      "train | epoch 0 | train_steps 1 | train_precision@1=0.0417362  | train_batches 1 | time 2.339s\n",
      "\n",
      "train | epoch 1 | train_steps 2 | train_precision@1=0.732888  | train_batches 1 | time 0.082s\n",
      "\n",
      "train | epoch 2 | train_steps 3 | train_precision@1=0.796327  | train_batches 1 | time 0.072s\n",
      "\n",
      "train | epoch 3 | train_steps 4 | train_precision@1=0.792988  | train_batches 1 | time 0.062s\n",
      "\n",
      "train | epoch 4 | train_steps 5 | train_precision@1=0.784641  | train_batches 1 | time 0.078s\n",
      "\n",
      "train | epoch 5 | train_steps 6 | train_precision@1=0.784641  | train_batches 1 | time 0.064s\n",
      "\n",
      "train | epoch 6 | train_steps 7 | train_precision@1=0.784641  | train_batches 1 | time 0.071s\n",
      "\n",
      "train | epoch 7 | train_steps 8 | train_precision@1=0.78631  | train_batches 1 | time 0.068s\n",
      "\n",
      "train | epoch 8 | train_steps 9 | train_precision@1=0.808013  | train_batches 1 | time 0.070s\n",
      "\n",
      "train | epoch 9 | train_steps 10 | train_precision@1=0.826377  | train_batches 1 | time 0.079s\n",
      "\n",
      "train | epoch 10 | train_steps 11 | train_precision@1=0.851419  | train_batches 1 | time 0.056s\n",
      "\n",
      "train | epoch 11 | train_steps 12 | train_precision@1=0.884808  | train_batches 1 | time 0.083s\n",
      "\n",
      "train | epoch 12 | train_steps 13 | train_precision@1=0.913189  | train_batches 1 | time 0.084s\n",
      "\n",
      "train | epoch 13 | train_steps 14 | train_precision@1=0.926544  | train_batches 1 | time 0.061s\n",
      "\n",
      "train | epoch 14 | train_steps 15 | train_precision@1=0.943239  | train_batches 1 | time 0.075s\n",
      "\n",
      "train | epoch 15 | train_steps 16 | train_precision@1=0.958264  | train_batches 1 | time 0.073s\n",
      "\n",
      "train | epoch 16 | train_steps 17 | train_precision@1=0.971619  | train_batches 1 | time 0.069s\n",
      "\n",
      "train | epoch 17 | train_steps 18 | train_precision@1=0.976628  | train_batches 1 | time 0.075s\n",
      "\n",
      "train | epoch 18 | train_steps 19 | train_precision@1=0.981636  | train_batches 1 | time 0.068s\n",
      "\n",
      "train | epoch 19 | train_steps 20 | train_precision@1=0.988314  | train_batches 1 | time 0.080s\n",
      "\n",
      "train | epoch 20 | train_steps 21 | train_precision@1=0.988314  | train_batches 1 | time 0.069s\n",
      "\n",
      "train | epoch 21 | train_steps 22 | train_precision@1=0.991653  | train_batches 1 | time 0.072s\n",
      "\n",
      "train | epoch 22 | train_steps 23 | train_precision@1=0.993322  | train_batches 1 | time 0.070s\n",
      "\n",
      "train | epoch 23 | train_steps 24 | train_precision@1=0.996661  | train_batches 1 | time 0.059s\n",
      "\n",
      "train | epoch 24 | train_steps 25 | train_precision@1=1  | train_batches 1 | time 0.097s\n",
      "\n",
      "train | epoch 25 | train_steps 26 | train_precision@1=1  | train_batches 1 | time 0.056s\n",
      "\n",
      "train | epoch 26 | train_steps 27 | train_precision@1=1  | train_batches 1 | time 0.075s\n",
      "\n",
      "train | epoch 27 | train_steps 28 | train_precision@1=1  | train_batches 1 | time 0.079s\n",
      "\n",
      "train | epoch 28 | train_steps 29 | train_precision@1=1  | train_batches 1 | time 0.061s\n",
      "\n",
      "train | epoch 29 | train_steps 30 | train_precision@1=1  | train_batches 1 | time 0.072s\n",
      "\n",
      "train | epoch 30 | train_steps 31 | train_precision@1=1  | train_batches 1 | time 0.062s\n",
      "\n",
      "train | epoch 31 | train_steps 32 | train_precision@1=1  | train_batches 1 | time 0.067s\n",
      "\n",
      "train | epoch 32 | train_steps 33 | train_precision@1=1  | train_batches 1 | time 0.074s\n",
      "\n",
      "train | epoch 33 | train_steps 34 | train_precision@1=1  | train_batches 1 | time 0.068s\n",
      "\n",
      "train | epoch 34 | train_steps 35 | train_precision@1=1  | train_batches 1 | time 0.078s\n",
      "\n",
      "train | epoch 35 | train_steps 36 | train_precision@1=1  | train_batches 1 | time 0.079s\n",
      "\n",
      "train | epoch 36 | train_steps 37 | train_precision@1=1  | train_batches 1 | time 0.063s\n",
      "\n",
      "train | epoch 37 | train_steps 38 | train_precision@1=1  | train_batches 1 | time 0.089s\n",
      "\n",
      "train | epoch 38 | train_steps 39 | train_precision@1=1  | train_batches 1 | time 0.063s\n",
      "\n",
      "train | epoch 39 | train_steps 40 | train_precision@1=1  | train_batches 1 | time 0.077s\n",
      "\n",
      "train | epoch 40 | train_steps 41 | train_precision@1=1  | train_batches 1 | time 0.066s\n",
      "\n",
      "train | epoch 41 | train_steps 42 | train_precision@1=1  | train_batches 1 | time 0.089s\n",
      "\n",
      "train | epoch 42 | train_steps 43 | train_precision@1=1  | train_batches 1 | time 0.068s\n",
      "\n",
      "train | epoch 43 | train_steps 44 | train_precision@1=1  | train_batches 1 | time 0.066s\n",
      "\n",
      "train | epoch 44 | train_steps 45 | train_precision@1=1  | train_batches 1 | time 0.080s\n",
      "\n",
      "train | epoch 45 | train_steps 46 | train_precision@1=1  | train_batches 1 | time 0.080s\n",
      "\n",
      "train | epoch 46 | train_steps 47 | train_precision@1=1  | train_batches 1 | time 0.078s\n",
      "\n",
      "train | epoch 47 | train_steps 48 | train_precision@1=1  | train_batches 1 | time 0.073s\n",
      "\n",
      "train | epoch 48 | train_steps 49 | train_precision@1=1  | train_batches 1 | time 0.067s\n",
      "\n",
      "train | epoch 49 | train_steps 50 | train_precision@1=1  | train_batches 1 | time 0.069s\n",
      "\n"
     ]
    },
    {
     "data": {
      "text/plain": [
       "{'epoch_times': [2.3410000801086426,\n",
       "  0.08399999886751175,\n",
       "  0.07400000095367432,\n",
       "  0.06800000369548798,\n",
       "  0.07999999821186066,\n",
       "  0.0689999982714653,\n",
       "  0.07699999958276749,\n",
       "  0.07400000095367432,\n",
       "  0.0729999989271164,\n",
       "  0.08299999684095383,\n",
       "  0.057999998331069946,\n",
       "  0.08500000089406967,\n",
       "  0.08900000154972076,\n",
       "  0.06599999964237213,\n",
       "  0.07800000160932541,\n",
       "  0.07599999755620956,\n",
       "  0.07599999755620956,\n",
       "  0.08299999684095383,\n",
       "  0.07000000029802322,\n",
       "  0.0820000022649765,\n",
       "  0.07100000232458115,\n",
       "  0.07999999821186066,\n",
       "  0.08100000023841858,\n",
       "  0.06300000101327896,\n",
       "  0.0989999994635582,\n",
       "  0.05700000002980232,\n",
       "  0.0820000022649765,\n",
       "  0.08299999684095383,\n",
       "  0.06400000303983688,\n",
       "  0.0729999989271164,\n",
       "  0.06300000101327896,\n",
       "  0.07000000029802322,\n",
       "  0.08100000023841858,\n",
       "  0.0689999982714653,\n",
       "  0.08100000023841858,\n",
       "  0.08100000023841858,\n",
       "  0.06800000369548798,\n",
       "  0.09700000286102295,\n",
       "  0.07000000029802322,\n",
       "  0.07999999821186066,\n",
       "  0.07199999690055847,\n",
       "  0.09099999815225601,\n",
       "  0.07000000029802322,\n",
       "  0.0689999982714653,\n",
       "  0.08399999886751175,\n",
       "  0.0820000022649765,\n",
       "  0.07900000363588333,\n",
       "  0.07500000298023224,\n",
       "  0.07599999755620956,\n",
       "  0.07900000363588333],\n",
       " 'train_precision@1': [0.04173622652888298,\n",
       "  0.7328881621360779,\n",
       "  0.7963272333145142,\n",
       "  0.7929883003234863,\n",
       "  0.7846410870552063,\n",
       "  0.7846410870552063,\n",
       "  0.7846410870552063,\n",
       "  0.7863104939460754,\n",
       "  0.808013379573822,\n",
       "  0.826377272605896,\n",
       "  0.8514190316200256,\n",
       "  0.8848080039024353,\n",
       "  0.913188636302948,\n",
       "  0.9265442490577698,\n",
       "  0.9432387351989746,\n",
       "  0.9582637548446655,\n",
       "  0.9716193675994873,\n",
       "  0.9766277074813843,\n",
       "  0.9816360473632812,\n",
       "  0.9883138537406921,\n",
       "  0.9883138537406921,\n",
       "  0.9916527271270752,\n",
       "  0.9933221936225891,\n",
       "  0.9966611266136169,\n",
       "  1.0,\n",
       "  1.0,\n",
       "  1.0,\n",
       "  1.0,\n",
       "  1.0,\n",
       "  1.0,\n",
       "  1.0,\n",
       "  1.0,\n",
       "  1.0,\n",
       "  1.0,\n",
       "  1.0,\n",
       "  1.0,\n",
       "  1.0,\n",
       "  1.0,\n",
       "  1.0,\n",
       "  1.0,\n",
       "  1.0,\n",
       "  1.0,\n",
       "  1.0,\n",
       "  1.0,\n",
       "  1.0,\n",
       "  1.0,\n",
       "  1.0,\n",
       "  1.0,\n",
       "  1.0,\n",
       "  1.0]}"
      ]
     },
     "execution_count": 11,
     "metadata": {},
     "output_type": "execute_result"
    }
   ],
   "source": [
    "model.train(train_file, epochs=50, learning_rate=0.001, metrics=[\"precision@1\"])"
   ]
  },
  {
   "cell_type": "code",
   "execution_count": 12,
   "metadata": {},
   "outputs": [
    {
     "name": "stdout",
     "output_type": "stream",
     "text": [
      "loading data | source './datasets/curekart/curekart_test.csv'\n",
      "loading data | source './datasets/curekart/curekart_test.csv' | vectors 459 | batches 1 | time 0.018s | complete\n",
      "\n",
      "validate | epoch 50 | train_steps 50 | val_precision@1=0.840959  | val_batches 1 | time 0.027s\n",
      "\n",
      "{'val_times': [0.027000000700354576], 'val_precision@1': [0.8409585952758789]}\n"
     ]
    }
   ],
   "source": [
    "metrics = model.evaluate(test_file, metrics=[\"precision@1\"])\n",
    "print(metrics)"
   ]
  },
  {
   "cell_type": "code",
   "execution_count": null,
   "metadata": {},
   "outputs": [],
   "source": [
    "model.predict({\"query\":\"test query\"})"
   ]
  }
 ],
 "metadata": {
  "kernelspec": {
   "display_name": "Python 3",
   "language": "python",
   "name": "python3"
  },
  "language_info": {
   "codemirror_mode": {
    "name": "ipython",
    "version": 3
   },
   "file_extension": ".py",
   "mimetype": "text/x-python",
   "name": "python",
   "nbconvert_exporter": "python",
   "pygments_lexer": "ipython3",
   "version": "3.9.5"
  },
  "orig_nbformat": 4
 },
 "nbformat": 4,
 "nbformat_minor": 2
}
