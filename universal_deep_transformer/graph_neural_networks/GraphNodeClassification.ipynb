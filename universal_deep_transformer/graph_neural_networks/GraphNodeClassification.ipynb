{
 "cells": [
  {
   "attachments": {},
   "cell_type": "markdown",
   "metadata": {},
   "source": [
    "# Graph Node Classification with ThirdAI's Universal Deep Transformer\n",
    "This notebook shows how to build a node classification model on a graph with ThirdAI's Universal Deep Transformer (UDT) model. In this demo, we will train and evaluate the model on the YelpCHI dataset, but you can easily replace this with your own dataset.\n",
    "\n",
    "UDT reaches SOTA accuracy on YelpChi extremely quickly. Below, we report accuracy numbers for some standard node classification methods from the paper [New Benchmarks for Learning on Non-Homophilous Graphs\n",
    "](https://arxiv.org/pdf/2104.01404.pdf), the results of timing tests on a CPU for those methods, as well as UDT's numbers when it is integrated into their [benchmark repo](https://github.com/CUAI/Non-Homophily-Benchmarks).\n",
    "\n",
    "| Method  | AUC ROC  | Training Time* | Entire Graph Inference Time** | Single Node Inference Time\n",
    "| -----------                             | -----------       | --            | --                | --  |\n",
    "| Graph Convolutional Network (GCN)       | 63.62 ± 1.00      | ~15 min       | **0.74s ± 0.10s**     | Not Possible |\n",
    "| Graph Attention Network (GAT)           | 81.42 ± 2.12      | ~1 hour       | 2.95s ± 0.17s     | Not Possible |\n",
    "| GAT w/ Jumping Knowledge (GAT+JK)       | 90.04 ± 0.61      | ~1 hour       | 2.91s ± 0.16s     | Not Possible |\n",
    "| **ThirdAI**    | **91.04 ± 0.73**  | **~1 min**    | 1.43s ± 0.09s     | **0.5 ms** |\n",
    "\n",
    "*Training time on a 16 core Intel Xeon CPU (no GPU). Not including the hyperparameter search, which is only feasible on GPUs (and only necessary for the non UDT methods). The benchmark methods use batch size = graph size and run for 500 epochs, and UDT uses batch size = 2048 and runs for 15 epochs.\n",
    "\n",
    "**Time to run inference on all nodes in the graph.\n",
    "\n",
    "We also can increase UDT's AUC to 93% at the cost of training time; see below for more details.\n",
    "\n",
    "You can immediately run a version of this notebook in your browser on Google Colab at the following link:\n",
    "\n",
    "https://githubtocolab.com/ThirdAILabs/Demos/blob/main/universal_deep_transformer/graph_neural_networks/GraphNodeClassification.ipynb\n",
    "\n",
    "This notebook uses an activation key that will only work with this demo. If you want to try us out on your own dataset, you can obtain a free trial license at the following link: https://www.thirdai.com/try-bolt/"
   ]
  },
  {
   "cell_type": "code",
   "execution_count": null,
   "metadata": {},
   "outputs": [],
   "source": [
    "!pip3 install thirdai --upgrade\n",
    "!pip3 install scikit-learn\n",
    "\n",
    "# This activates the ThirdAI package with a key that is only good for this demo\n",
    "import thirdai\n",
    "\n",
    "thirdai.licensing.activate(\"MWHE-FVNH-3XN3-KWXY-TFRA-X3VJ-U7FT-RLVR\")"
   ]
  },
  {
   "attachments": {},
   "cell_type": "markdown",
   "metadata": {},
   "source": [
    "# Dataset Download\n",
    "We will use the demos module in the thirdai package to download the YelpCHI dataset. You can replace this step and the next step with a download method and a UDT initialization step that is specific to your dataset."
   ]
  },
  {
   "cell_type": "code",
   "execution_count": null,
   "metadata": {},
   "outputs": [],
   "source": [
    "from thirdai.demos import download_yelp_chi_dataset\n",
    "\n",
    "train_data_path, eval_data_path, inference_samples, _ = download_yelp_chi_dataset()"
   ]
  },
  {
   "attachments": {},
   "cell_type": "markdown",
   "metadata": {},
   "source": [
    "# UDT Initialization\n",
    "We can now create a UDT model by passing in the types of each column in the dataset and the target column we want to be able to predict. The input format for training UDT on a graph dataset is a CSV where every row represents a single node in the graph. The bolt.types.node_id() column should be a unique integer identifying the node, while the bolt.types.neighbors() column should be a space separated list of node ids corresponding to the node's neighbors. For YelpChi, each node additionally has 32 numerical features (a \"feature vector\"), as well as a target column we wish to predict."
   ]
  },
  {
   "cell_type": "code",
   "execution_count": null,
   "metadata": {},
   "outputs": [],
   "source": [
    "from thirdai import bolt\n",
    "\n",
    "model = bolt.UniversalDeepTransformer(\n",
    "    data_types={\n",
    "        \"node_id\": bolt.types.node_id(),\n",
    "        **{f\"col_{i}\": bolt.types.numerical([0, 1]) for i in range(32)},\n",
    "        \"target\": bolt.types.categorical(),\n",
    "        \"neighbors\": bolt.types.neighbors(),\n",
    "    },\n",
    "    target=\"target\",\n",
    "    n_target_classes=2,\n",
    "    integer_target=True,\n",
    "    # Optional: you can uncomment the next line to increase AUC to ~0.93 at the\n",
    "    # cost of increasing training time\n",
    "    # options={\"contextual_columns\": True},\n",
    ")"
   ]
  },
  {
   "attachments": {},
   "cell_type": "markdown",
   "metadata": {},
   "source": [
    "# Indexing\n",
    "Graph models with UDT require an additional *indexing* step before training. Since nodes in the train set have neighbors in the eval set, we must tell the model about the node features of nodes in the eval set before training. This effectively gives the UDT model complete knowledge of the graph structure and features before training. The eval set has all labels set to 0, so this is not leaking testing information."
   ]
  },
  {
   "cell_type": "code",
   "execution_count": null,
   "metadata": {},
   "outputs": [],
   "source": [
    "model.index_nodes(eval_data_path)"
   ]
  },
  {
   "attachments": {},
   "cell_type": "markdown",
   "metadata": {},
   "source": [
    "# Training\n",
    "We can now train our UDT graph model! Feel free to customize the number of epochs and the learning rate; we have chosen values that give good convergence."
   ]
  },
  {
   "cell_type": "code",
   "execution_count": null,
   "metadata": {},
   "outputs": [],
   "source": [
    "model.train(\n",
    "    train_data_path, learning_rate=0.001, epochs=15, metrics=[\"categorical_accuracy\"]\n",
    ")"
   ]
  },
  {
   "attachments": {},
   "cell_type": "markdown",
   "metadata": {},
   "source": [
    "# Evaluation\n",
    "We can evaluate the performance of UDT by calculating the [ROC AUC](https://scikit-learn.org/stable/modules/generated/sklearn.metrics.roc_auc_score.html). UDT achieves about 91% with the default configurations in this notebook, and as noted above we achieve 93-94% with longer training time (the previous SOTA was [90%](https://paperswithcode.com/sota/node-classification-on-yelpchi)). Here, we show the predict API, where we pass in samples without labels."
   ]
  },
  {
   "cell_type": "code",
   "execution_count": null,
   "metadata": {},
   "outputs": [],
   "source": [
    "import numpy as np\n",
    "from sklearn import metrics\n",
    "\n",
    "ground_truth = [inference_sample[1] for inference_sample in inference_samples]\n",
    "\n",
    "predictions = []\n",
    "ground_truths = []\n",
    "for sample, ground_truth in inference_samples:\n",
    "    prediction = model.predict(sample)\n",
    "    predictions.append(prediction)\n",
    "    ground_truths.append(ground_truth)\n",
    "predictions = np.array(predictions)\n",
    "\n",
    "auc = metrics.roc_auc_score(ground_truths, predictions[:, 1])\n",
    "\n",
    "print(\"Test AUC:\", auc)"
   ]
  }
 ],
 "metadata": {
  "kernelspec": {
   "display_name": "Python 3",
   "language": "python",
   "name": "python3"
  },
  "language_info": {
   "codemirror_mode": {
    "name": "ipython",
    "version": 3
   },
   "file_extension": ".py",
   "mimetype": "text/x-python",
   "name": "python",
   "nbconvert_exporter": "python",
   "pygments_lexer": "ipython3",
   "version": "3.10.8"
  },
  "orig_nbformat": 4,
  "vscode": {
   "interpreter": {
    "hash": "b0fa6594d8f4cbf19f97940f81e996739fb7646882a419484c72d19e05852a7e"
   }
  }
 },
 "nbformat": 4,
 "nbformat_minor": 2
}
