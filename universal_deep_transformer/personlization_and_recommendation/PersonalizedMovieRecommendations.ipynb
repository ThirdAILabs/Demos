{
 "cells": [
  {
   "attachments": {},
   "cell_type": "markdown",
   "metadata": {},
   "source": [
    "# Personalized Movie Recommendations\n",
    "This notebook shows how to build a personalized movie recommendation model with ThirdAI's Universal Deep Transformer (UDT) model, our all-purpose classifier for tabular datasets. In this demo, we will train and evaluate the model on the Movielens 1M dataset, but you can easily replace this with your own dataset.\n",
    "\n",
    "You can immediately run a version of this notebook in your browser on Google Colab at the following link:\n",
    "\n",
    "https://githubtocolab.com/ThirdAILabs/Demos/blob/main/universal_deep_transformer/personlization_and_recommendation/PersonalizedMovieRecommendations.ipynb\n",
    "\n",
    "This notebook uses an activation key that will only work with this demo. If you want to try us out on your own dataset, you can obtain a free trial license at the following link: https://www.thirdai.com/try-bolt/"
   ]
  },
  {
   "cell_type": "code",
   "execution_count": 1,
   "metadata": {},
   "outputs": [],
   "source": [
    "!pip3 install thirdai --upgrade\n",
    "\n",
    "import thirdai\n",
    "thirdai.licensing.activate(\"Y9MT-TV7T-4JTP-L4XH-PWYC-4KEF-VX93-3HV7\")"
   ]
  },
  {
   "cell_type": "markdown",
   "metadata": {},
   "source": [
    "# Dataset Download\n",
    "We will use the demos module in the thirdai package to download the Movielens 1M dataset. You can replace this step and the next step with a download method and a UDT initialization step that is specific to your dataset."
   ]
  },
  {
   "cell_type": "code",
   "execution_count": 4,
   "metadata": {},
   "outputs": [],
   "source": [
    "from thirdai.demos import download_movielens\n",
    "\n",
    "train_filename, test_filename, inference_batch, index_batch = download_movielens()"
   ]
  },
  {
   "cell_type": "markdown",
   "metadata": {},
   "source": [
    "# UDT Initialization\n",
    "We can now create a UDT model by passing in the types of each column in the dataset and the target column we want to be able to predict.\n",
    "\n",
    "For this demo, we additionally want to use \"temporal context\" to make predictions. Adding temporal context requires a single bolt.types.date() column to use to track the timestamp of training data. We pass in a dictionary called temporal_tracking_relationships that tells UDT we want to track movies over time for each user. This allows UDT to make better predictions for the target column by creating temporal features that take into account the historical relationship between users and movies."
   ]
  },
  {
   "cell_type": "code",
   "execution_count": 2,
   "metadata": {},
   "outputs": [],
   "source": [
    "from thirdai import bolt\n",
    "\n",
    "model = bolt.UniversalDeepTransformer(\n",
    "    data_types={\n",
    "        \"userId\": bolt.types.categorical(),\n",
    "        \"movieTitle\": bolt.types.categorical(),\n",
    "        \"timestamp\": bolt.types.date(),\n",
    "    },\n",
    "    temporal_tracking_relationships={\"userId\": [\"movieTitle\"]},\n",
    "    target=\"movieTitle\",\n",
    "    n_target_classes=3706,\n",
    ")"
   ]
  },
  {
   "cell_type": "markdown",
   "metadata": {},
   "source": [
    "# Training\n",
    "We can now train our UDT model with just one line! Feel free to customize the number of epochs and the learning rate; we have chosen values that give good convergence."
   ]
  },
  {
   "cell_type": "code",
   "execution_count": 5,
   "metadata": {},
   "outputs": [
    {
     "name": "stdout",
     "output_type": "stream",
     "text": [
      "train | epoch 0 | train_steps 440 | train_recall@10=0.340965  | train_batches 440 | time 46.866s\n",
      "\n",
      "train | epoch 1 | train_steps 880 | train_recall@10=0.389169  | train_batches 440 | time 43.284s\n",
      "\n",
      "train | epoch 2 | train_steps 1320 | train_recall@10=0.522863  | train_batches 440 | time 43.128s\n",
      "\n"
     ]
    }
   ],
   "source": [
    "model.train(train_filename, epochs=3, learning_rate=0.001, metrics=[\"recall@10\"]);"
   ]
  },
  {
   "cell_type": "markdown",
   "metadata": {},
   "source": [
    "# Evaluation\n",
    "Evaluating the performance of the UDT model is also just one line!"
   ]
  },
  {
   "cell_type": "code",
   "execution_count": 6,
   "metadata": {},
   "outputs": [
    {
     "name": "stdout",
     "output_type": "stream",
     "text": [
      "validate | epoch 3 | train_steps 1320 | val_recall@100=0.424861 val_recall@10=0.129703 val_recall@1=0.0234751  | val_batches 49 | time 1.469s\n",
      "\n"
     ]
    }
   ],
   "source": [
    "model.evaluate(test_filename, metrics=[\"recall@1\", \"recall@10\", \"recall@100\"]);"
   ]
  },
  {
   "cell_type": "markdown",
   "metadata": {},
   "source": [
    "# Saving and Loading\n",
    "Saving and loading a trained UDT model to disk is also extremely straight forward."
   ]
  },
  {
   "cell_type": "code",
   "execution_count": 7,
   "metadata": {},
   "outputs": [],
   "source": [
    "save_location = \"personalized_movie_recommendation.model\"\n",
    "\n",
    "# Saving\n",
    "model.save(save_location)\n",
    "\n",
    "# Loading\n",
    "model = bolt.UniversalDeepTransformer.load(save_location)"
   ]
  },
  {
   "attachments": {},
   "cell_type": "markdown",
   "metadata": {},
   "source": [
    "# Testing Predictions\n",
    "The evaluation method is great for testing, but it requires labels, which don't exist in a production setting. We also have a predict method that can take in an in-memory batch of rows or a single row (without the target column), allowing easy integration into production pipelines.\n",
    "\n",
    "In the following cell, let's say we have a new user with an ID \"6040\"."
   ]
  },
  {
   "cell_type": "code",
   "execution_count": 10,
   "metadata": {},
   "outputs": [],
   "source": [
    "## resetting temporal trackers erases all users watch history. \n",
    "## It still has the model intact, but all subsequent predictions will assume all users as new users.\n",
    "## We are resetting temporal trackers here to introduce a new use \"6040\" for the demo purposes. Use this API carefully in real use cases.\n",
    "\n",
    "model.reset_temporal_trackers()\n",
    "\n",
    "sample_input = {\n",
    "    \"userId\":\"6040\",\n",
    "    \"timestamp\": \"2000-04-25 23:05:32\"\n",
    "    }"
   ]
  },
  {
   "cell_type": "code",
   "execution_count": 11,
   "metadata": {},
   "outputs": [
    {
     "name": "stdout",
     "output_type": "stream",
     "text": [
      "Input: {'userId': '6040', 'timestamp': '2000-04-25 23:05:32'} Prediction: Star Wars: Episode VI - Return of the Jedi (1983) \n",
      "\n"
     ]
    }
   ],
   "source": [
    "import numpy as np\n",
    "\n",
    "prediction = model.predict(sample_input)\n",
    "class_name = model.class_name(np.argmax(prediction))\n",
    "print(\"Input:\", sample_input, \"Prediction:\", class_name, \"\\n\")"
   ]
  },
  {
   "attachments": {},
   "cell_type": "markdown",
   "metadata": {},
   "source": [
    "You can see that for a new user \"6040\", the model recommends \"Star Wars: Episode VI - Return of the Jedi (1983)\" which makes sense as it was the most popular movie in this dataset. \n",
    " \n",
    "Now, let's say user \"6040\" went ahead and watched \"Godfather The (1972)\" instead of the recommended one, we can always incrementally update the model by using the model.index() API as shown below."
   ]
  },
  {
   "cell_type": "code",
   "execution_count": 13,
   "metadata": {},
   "outputs": [],
   "source": [
    "new_observation = {'userId': '6040', 'movieTitle': 'Godfather The (1972)', 'timestamp': '2000-04-25 23:05:40'}\n",
    "\n",
    "model.index(new_observation)"
   ]
  },
  {
   "attachments": {},
   "cell_type": "markdown",
   "metadata": {},
   "source": [
    "And now, let's make a recommendation again."
   ]
  },
  {
   "cell_type": "code",
   "execution_count": 15,
   "metadata": {},
   "outputs": [],
   "source": [
    "new_sample_input = {\n",
    "    \"userId\":\"6040\",\n",
    "    \"timestamp\": \"2000-04-25 23:05:54\"\n",
    "    }"
   ]
  },
  {
   "cell_type": "code",
   "execution_count": 17,
   "metadata": {},
   "outputs": [
    {
     "name": "stdout",
     "output_type": "stream",
     "text": [
      "Input: {'userId': '6040', 'timestamp': '2000-04-25 23:05:54'} Prediction: Godfather: Part II The (1974) \n",
      "\n"
     ]
    }
   ],
   "source": [
    "prediction = model.predict(new_sample_input)\n",
    "class_name = model.class_name(np.argmax(prediction))\n",
    "print(\"Input:\", sample_input, \"Prediction:\", class_name, \"\\n\")"
   ]
  },
  {
   "attachments": {},
   "cell_type": "markdown",
   "metadata": {},
   "source": [
    "Voila! You can see that the model now predicts \"Godfather: Part II The (1974)\" instead of \"Star Wars: Episode VI - Return of the Jedi (1983)\".\n",
    "\n",
    "Until we update UDT's temporal trackers with new observations of a user, we keep recommending the same movies to the same person. If we \"index\" new observations as we get them, then UDT will take advantage of this new information to make better predictions. When you run the following cell, notice how the prediction changes in response to new data."
   ]
  }
 ],
 "metadata": {
  "kernelspec": {
   "display_name": "Python 3 (ipykernel)",
   "language": "python",
   "name": "python3"
  },
  "language_info": {
   "codemirror_mode": {
    "name": "ipython",
    "version": 3
   },
   "file_extension": ".py",
   "mimetype": "text/x-python",
   "name": "python",
   "nbconvert_exporter": "python",
   "pygments_lexer": "ipython3",
   "version": "3.11.5"
  },
  "vscode": {
   "interpreter": {
    "hash": "b0fa6594d8f4cbf19f97940f81e996739fb7646882a419484c72d19e05852a7e"
   }
  }
 },
 "nbformat": 4,
 "nbformat_minor": 4
}
