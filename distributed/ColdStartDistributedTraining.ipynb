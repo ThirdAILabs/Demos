{
 "cells": [
  {
   "attachments": {},
   "cell_type": "markdown",
   "metadata": {},
   "source": [
    "# [Distributed] Pre-training and fine-tuning an LLM on CPU on AG News with ThirdAI's UDT\n",
    "\n",
    "This training script shows how to run data parallel pre-training of an LLM from scratch on the popular AG News Dataset (https://www.kaggle.com/datasets/amananandrai/ag-news-classification-dataset) using ThirdAI's Universal Deep Transformer (UDT)."
   ]
  },
  {
   "attachments": {},
   "cell_type": "markdown",
   "metadata": {},
   "source": [
    "## 1. Import thirdai and activate license"
   ]
  },
  {
   "cell_type": "code",
   "execution_count": 1,
   "metadata": {},
   "outputs": [
    {
     "name": "stdout",
     "output_type": "stream",
     "text": [
      "Requirement already satisfied: datasets in /home/mritunjay/miniconda3/lib/python3.8/site-packages (2.14.2)\n",
      "Requirement already satisfied: numpy>=1.17 in /home/mritunjay/miniconda3/lib/python3.8/site-packages (from datasets) (1.24.4)\n",
      "Requirement already satisfied: pyarrow>=8.0.0 in /home/mritunjay/miniconda3/lib/python3.8/site-packages (from datasets) (12.0.1)\n",
      "Requirement already satisfied: dill<0.3.8,>=0.3.0 in /home/mritunjay/miniconda3/lib/python3.8/site-packages (from datasets) (0.3.7)\n",
      "Requirement already satisfied: pandas in /home/mritunjay/miniconda3/lib/python3.8/site-packages (from datasets) (2.0.3)\n",
      "Requirement already satisfied: requests>=2.19.0 in /home/mritunjay/miniconda3/lib/python3.8/site-packages (from datasets) (2.31.0)\n",
      "Requirement already satisfied: tqdm>=4.62.1 in /home/mritunjay/miniconda3/lib/python3.8/site-packages (from datasets) (4.65.0)\n",
      "Requirement already satisfied: xxhash in /home/mritunjay/miniconda3/lib/python3.8/site-packages (from datasets) (3.3.0)\n",
      "Requirement already satisfied: multiprocess in /home/mritunjay/miniconda3/lib/python3.8/site-packages (from datasets) (0.70.15)\n",
      "Requirement already satisfied: fsspec[http]>=2021.11.1 in /home/mritunjay/miniconda3/lib/python3.8/site-packages (from datasets) (2023.6.0)\n",
      "Requirement already satisfied: aiohttp in /home/mritunjay/miniconda3/lib/python3.8/site-packages (from datasets) (3.8.5)\n",
      "Requirement already satisfied: huggingface-hub<1.0.0,>=0.14.0 in /home/mritunjay/miniconda3/lib/python3.8/site-packages (from datasets) (0.16.4)\n",
      "Requirement already satisfied: packaging in /home/mritunjay/miniconda3/lib/python3.8/site-packages (from datasets) (23.0)\n",
      "Requirement already satisfied: pyyaml>=5.1 in /home/mritunjay/miniconda3/lib/python3.8/site-packages (from datasets) (6.0.1)\n",
      "Requirement already satisfied: attrs>=17.3.0 in /home/mritunjay/miniconda3/lib/python3.8/site-packages (from aiohttp->datasets) (23.1.0)\n",
      "Requirement already satisfied: charset-normalizer<4.0,>=2.0 in /home/mritunjay/miniconda3/lib/python3.8/site-packages (from aiohttp->datasets) (3.2.0)\n",
      "Requirement already satisfied: multidict<7.0,>=4.5 in /home/mritunjay/miniconda3/lib/python3.8/site-packages (from aiohttp->datasets) (6.0.4)\n",
      "Requirement already satisfied: async-timeout<5.0,>=4.0.0a3 in /home/mritunjay/miniconda3/lib/python3.8/site-packages (from aiohttp->datasets) (4.0.2)\n",
      "Requirement already satisfied: yarl<2.0,>=1.0 in /home/mritunjay/miniconda3/lib/python3.8/site-packages (from aiohttp->datasets) (1.9.2)\n",
      "Requirement already satisfied: frozenlist>=1.1.1 in /home/mritunjay/miniconda3/lib/python3.8/site-packages (from aiohttp->datasets) (1.4.0)\n",
      "Requirement already satisfied: aiosignal>=1.1.2 in /home/mritunjay/miniconda3/lib/python3.8/site-packages (from aiohttp->datasets) (1.3.1)\n",
      "Requirement already satisfied: filelock in /home/mritunjay/miniconda3/lib/python3.8/site-packages (from huggingface-hub<1.0.0,>=0.14.0->datasets) (3.12.2)\n",
      "Requirement already satisfied: typing-extensions>=3.7.4.3 in /home/mritunjay/miniconda3/lib/python3.8/site-packages (from huggingface-hub<1.0.0,>=0.14.0->datasets) (4.7.1)\n",
      "Requirement already satisfied: idna<4,>=2.5 in /home/mritunjay/miniconda3/lib/python3.8/site-packages (from requests>=2.19.0->datasets) (3.4)\n",
      "Requirement already satisfied: urllib3<3,>=1.21.1 in /home/mritunjay/miniconda3/lib/python3.8/site-packages (from requests>=2.19.0->datasets) (1.26.16)\n",
      "Requirement already satisfied: certifi>=2017.4.17 in /home/mritunjay/miniconda3/lib/python3.8/site-packages (from requests>=2.19.0->datasets) (2023.7.22)\n",
      "Requirement already satisfied: python-dateutil>=2.8.2 in /home/mritunjay/miniconda3/lib/python3.8/site-packages (from pandas->datasets) (2.8.2)\n",
      "Requirement already satisfied: pytz>=2020.1 in /home/mritunjay/miniconda3/lib/python3.8/site-packages (from pandas->datasets) (2023.3)\n",
      "Requirement already satisfied: tzdata>=2022.1 in /home/mritunjay/miniconda3/lib/python3.8/site-packages (from pandas->datasets) (2023.3)\n",
      "Requirement already satisfied: six>=1.5 in /home/mritunjay/miniconda3/lib/python3.8/site-packages (from python-dateutil>=2.8.2->pandas->datasets) (1.16.0)\n",
      "Requirement already satisfied: ray in /home/mritunjay/miniconda3/lib/python3.8/site-packages (2.6.1)\n",
      "Requirement already satisfied: click>=7.0 in /home/mritunjay/miniconda3/lib/python3.8/site-packages (from ray) (8.1.6)\n",
      "Requirement already satisfied: filelock in /home/mritunjay/miniconda3/lib/python3.8/site-packages (from ray) (3.12.2)\n",
      "Requirement already satisfied: jsonschema in /home/mritunjay/miniconda3/lib/python3.8/site-packages (from ray) (4.18.4)\n",
      "Requirement already satisfied: msgpack<2.0.0,>=1.0.0 in /home/mritunjay/miniconda3/lib/python3.8/site-packages (from ray) (1.0.5)\n",
      "Requirement already satisfied: packaging in /home/mritunjay/miniconda3/lib/python3.8/site-packages (from ray) (23.0)\n",
      "Requirement already satisfied: protobuf!=3.19.5,>=3.15.3 in /home/mritunjay/miniconda3/lib/python3.8/site-packages (from ray) (4.23.4)\n",
      "Requirement already satisfied: pyyaml in /home/mritunjay/miniconda3/lib/python3.8/site-packages (from ray) (6.0.1)\n",
      "Requirement already satisfied: aiosignal in /home/mritunjay/miniconda3/lib/python3.8/site-packages (from ray) (1.3.1)\n",
      "Requirement already satisfied: frozenlist in /home/mritunjay/miniconda3/lib/python3.8/site-packages (from ray) (1.4.0)\n",
      "Requirement already satisfied: requests in /home/mritunjay/miniconda3/lib/python3.8/site-packages (from ray) (2.31.0)\n",
      "Requirement already satisfied: grpcio>=1.32.0 in /home/mritunjay/miniconda3/lib/python3.8/site-packages (from ray) (1.51.3)\n",
      "Requirement already satisfied: numpy>=1.16 in /home/mritunjay/miniconda3/lib/python3.8/site-packages (from ray) (1.24.4)\n",
      "Requirement already satisfied: attrs>=22.2.0 in /home/mritunjay/miniconda3/lib/python3.8/site-packages (from jsonschema->ray) (23.1.0)\n",
      "Requirement already satisfied: importlib-resources>=1.4.0 in /home/mritunjay/miniconda3/lib/python3.8/site-packages (from jsonschema->ray) (6.0.0)\n",
      "Requirement already satisfied: jsonschema-specifications>=2023.03.6 in /home/mritunjay/miniconda3/lib/python3.8/site-packages (from jsonschema->ray) (2023.7.1)\n",
      "Requirement already satisfied: pkgutil-resolve-name>=1.3.10 in /home/mritunjay/miniconda3/lib/python3.8/site-packages (from jsonschema->ray) (1.3.10)\n",
      "Requirement already satisfied: referencing>=0.28.4 in /home/mritunjay/miniconda3/lib/python3.8/site-packages (from jsonschema->ray) (0.30.0)\n",
      "Requirement already satisfied: rpds-py>=0.7.1 in /home/mritunjay/miniconda3/lib/python3.8/site-packages (from jsonschema->ray) (0.9.2)\n",
      "Requirement already satisfied: charset-normalizer<4,>=2 in /home/mritunjay/miniconda3/lib/python3.8/site-packages (from requests->ray) (3.2.0)\n",
      "Requirement already satisfied: idna<4,>=2.5 in /home/mritunjay/miniconda3/lib/python3.8/site-packages (from requests->ray) (3.4)\n",
      "Requirement already satisfied: urllib3<3,>=1.21.1 in /home/mritunjay/miniconda3/lib/python3.8/site-packages (from requests->ray) (1.26.16)\n",
      "Requirement already satisfied: certifi>=2017.4.17 in /home/mritunjay/miniconda3/lib/python3.8/site-packages (from requests->ray) (2023.7.22)\n",
      "Requirement already satisfied: zipp>=3.1.0 in /home/mritunjay/miniconda3/lib/python3.8/site-packages (from importlib-resources>=1.4.0->jsonschema->ray) (3.16.2)\n",
      "Requirement already satisfied: torch in /home/mritunjay/miniconda3/lib/python3.8/site-packages (2.0.1)\n",
      "Requirement already satisfied: filelock in /home/mritunjay/miniconda3/lib/python3.8/site-packages (from torch) (3.12.2)\n",
      "Requirement already satisfied: typing-extensions in /home/mritunjay/miniconda3/lib/python3.8/site-packages (from torch) (4.7.1)\n",
      "Requirement already satisfied: sympy in /home/mritunjay/miniconda3/lib/python3.8/site-packages (from torch) (1.12)\n",
      "Requirement already satisfied: networkx in /home/mritunjay/miniconda3/lib/python3.8/site-packages (from torch) (3.1)\n",
      "Requirement already satisfied: jinja2 in /home/mritunjay/miniconda3/lib/python3.8/site-packages (from torch) (3.1.2)\n",
      "Requirement already satisfied: nvidia-cuda-nvrtc-cu11==11.7.99 in /home/mritunjay/miniconda3/lib/python3.8/site-packages (from torch) (11.7.99)\n",
      "Requirement already satisfied: nvidia-cuda-runtime-cu11==11.7.99 in /home/mritunjay/miniconda3/lib/python3.8/site-packages (from torch) (11.7.99)\n",
      "Requirement already satisfied: nvidia-cuda-cupti-cu11==11.7.101 in /home/mritunjay/miniconda3/lib/python3.8/site-packages (from torch) (11.7.101)\n",
      "Requirement already satisfied: nvidia-cudnn-cu11==8.5.0.96 in /home/mritunjay/miniconda3/lib/python3.8/site-packages (from torch) (8.5.0.96)\n",
      "Requirement already satisfied: nvidia-cublas-cu11==11.10.3.66 in /home/mritunjay/miniconda3/lib/python3.8/site-packages (from torch) (11.10.3.66)\n",
      "Requirement already satisfied: nvidia-cufft-cu11==10.9.0.58 in /home/mritunjay/miniconda3/lib/python3.8/site-packages (from torch) (10.9.0.58)\n",
      "Requirement already satisfied: nvidia-curand-cu11==10.2.10.91 in /home/mritunjay/miniconda3/lib/python3.8/site-packages (from torch) (10.2.10.91)\n",
      "Requirement already satisfied: nvidia-cusolver-cu11==11.4.0.1 in /home/mritunjay/miniconda3/lib/python3.8/site-packages (from torch) (11.4.0.1)\n",
      "Requirement already satisfied: nvidia-cusparse-cu11==11.7.4.91 in /home/mritunjay/miniconda3/lib/python3.8/site-packages (from torch) (11.7.4.91)\n",
      "Requirement already satisfied: nvidia-nccl-cu11==2.14.3 in /home/mritunjay/miniconda3/lib/python3.8/site-packages (from torch) (2.14.3)\n",
      "Requirement already satisfied: nvidia-nvtx-cu11==11.7.91 in /home/mritunjay/miniconda3/lib/python3.8/site-packages (from torch) (11.7.91)\n",
      "Requirement already satisfied: triton==2.0.0 in /home/mritunjay/miniconda3/lib/python3.8/site-packages (from torch) (2.0.0)\n",
      "Requirement already satisfied: setuptools in /home/mritunjay/miniconda3/lib/python3.8/site-packages (from nvidia-cublas-cu11==11.10.3.66->torch) (68.0.0)\n",
      "Requirement already satisfied: wheel in /home/mritunjay/miniconda3/lib/python3.8/site-packages (from nvidia-cublas-cu11==11.10.3.66->torch) (0.38.4)\n",
      "Requirement already satisfied: cmake in /home/mritunjay/miniconda3/lib/python3.8/site-packages (from triton==2.0.0->torch) (3.27.0)\n",
      "Requirement already satisfied: lit in /home/mritunjay/miniconda3/lib/python3.8/site-packages (from triton==2.0.0->torch) (16.0.6)\n",
      "Requirement already satisfied: MarkupSafe>=2.0 in /home/mritunjay/miniconda3/lib/python3.8/site-packages (from jinja2->torch) (2.1.3)\n",
      "Requirement already satisfied: mpmath>=0.19 in /home/mritunjay/miniconda3/lib/python3.8/site-packages (from sympy->torch) (1.3.0)\n"
     ]
    },
    {
     "name": "stderr",
     "output_type": "stream",
     "text": [
      "/home/mritunjay/miniconda3/lib/python3.8/site-packages/tqdm/auto.py:21: TqdmWarning: IProgress not found. Please update jupyter and ipywidgets. See https://ipywidgets.readthedocs.io/en/stable/user_install.html\n",
      "  from .autonotebook import tqdm as notebook_tqdm\n",
      "2023-08-08 08:17:23,292\tINFO util.py:159 -- Missing packages: ['ipywidgets']. Run `pip install -U ipywidgets`, then restart the notebook server for rich notebook output.\n",
      "2023-08-08 08:17:27,194\tWARNING collective.py:20 -- NCCL seems unavailable. Please install Cupy following the guide at: https://docs.cupy.dev/en/stable/install.html.\n",
      "2023-08-08 08:17:27,610\tINFO util.py:159 -- Missing packages: ['ipywidgets']. Run `pip install -U ipywidgets`, then restart the notebook server for rich notebook output.\n",
      "2023-08-08 08:17:27,874\tINFO util.py:159 -- Missing packages: ['ipywidgets']. Run `pip install -U ipywidgets`, then restart the notebook server for rich notebook output.\n"
     ]
    }
   ],
   "source": [
    "!pip3 install datasets\n",
    "# !pip3 install thirdai --upgrade\n",
    "!pip3 install ray\n",
    "!pip3 install torch\n",
    "\n",
    "import thirdai\n",
    "from thirdai import bolt\n",
    "import thirdai.distributed_bolt as dist  \n",
    "# thirdai.licensing.activate('71FC4B-F20E8F-D7C39E-4E936C-404BC9-V3')"
   ]
  },
  {
   "attachments": {},
   "cell_type": "markdown",
   "metadata": {},
   "source": [
    "## 2. Ray Cluster Initialization\n",
    " For the purpose of this demo, we will be initializing a mock ray cluster of 2 nodes here. Change num_cpus accordingly."
   ]
  },
  {
   "cell_type": "code",
   "execution_count": 2,
   "metadata": {},
   "outputs": [
    {
     "name": "stderr",
     "output_type": "stream",
     "text": [
      "2023-08-08 08:17:31,019\tINFO worker.py:1612 -- Started a local Ray instance. View the dashboard at \u001b[1m\u001b[32mhttp://127.0.0.1:8265 \u001b[39m\u001b[22m\n"
     ]
    }
   ],
   "source": [
    "import ray\n",
    "from ray.air import ScalingConfig, session\n",
    "\n",
    "cpus_per_node = (dist.get_num_cpus() - 1) // 2\n",
    "\n",
    "ray.init(ignore_reinit_error=True)\n",
    "scaling_config = ScalingConfig(\n",
    "    num_workers=2,\n",
    "    use_gpu=False,\n",
    "    trainer_resources={\"CPU\": 1},\n",
    "    resources_per_worker={\"CPU\": cpus_per_node},\n",
    "    placement_strategy=\"PACK\",\n",
    ")"
   ]
  },
  {
   "attachments": {},
   "cell_type": "markdown",
   "metadata": {},
   "source": [
    "## 3. Download and process the dataset into a csv file. <br>\n",
    "### 3.1 We divide our dataset into 2 datasets for purpose of data-parallel training. "
   ]
  },
  {
   "cell_type": "code",
   "execution_count": 3,
   "metadata": {},
   "outputs": [],
   "source": [
    "from datasets import load_dataset\n",
    "\n",
    "file_1 = open('agnews_train_0.csv', 'w')\n",
    "file_2 = open('agnews_train_1.csv', 'w')\n",
    "\n",
    "corpus = load_dataset(\"ag_news\")[\"train\"][\"text\"]\n",
    "num_datapoints = len(corpus)\n",
    "\n",
    "file_1.write(\"id,text\\n\")\n",
    "file_2.write(\"id,text\\n\")\n",
    "\n",
    "idx = 0\n",
    "for line in corpus:\n",
    "    if idx < num_datapoints//2:\n",
    "        nothing = file_1.write(str(idx) + \",\" + line.replace(\",\", \" \").lower() + \"\\n\")\n",
    "    else:\n",
    "        nothing = file_2.write(str(idx) + \",\" + line.replace(\",\", \" \").lower() + \"\\n\")\n",
    "\n",
    "    idx += 1\n",
    "\n",
    "file_1.close()\n",
    "file_2.close()\n",
    "\n",
    "train_filenames = ['agnews_train_0.csv', 'agnews_train_1.csv']"
   ]
  },
  {
   "attachments": {},
   "cell_type": "markdown",
   "metadata": {},
   "source": [
    "### 3.2 Looking at the dataset\n",
    "In the above step, *agnews_train_[0/1].csv* files refers to the corpus file with document id and text. We can have even more columns with other metadata for each row. <br>\n",
    "\n",
    "A couple of sample rows of the *corpus_file* are shown below."
   ]
  },
  {
   "cell_type": "code",
   "execution_count": 4,
   "metadata": {},
   "outputs": [
    {
     "data": {
      "text/html": [
       "<div>\n",
       "<style scoped>\n",
       "    .dataframe tbody tr th:only-of-type {\n",
       "        vertical-align: middle;\n",
       "    }\n",
       "\n",
       "    .dataframe tbody tr th {\n",
       "        vertical-align: top;\n",
       "    }\n",
       "\n",
       "    .dataframe thead th {\n",
       "        text-align: right;\n",
       "    }\n",
       "</style>\n",
       "<table border=\"1\" class=\"dataframe\">\n",
       "  <thead>\n",
       "    <tr style=\"text-align: right;\">\n",
       "      <th></th>\n",
       "      <th>id</th>\n",
       "      <th>text</th>\n",
       "    </tr>\n",
       "  </thead>\n",
       "  <tbody>\n",
       "    <tr>\n",
       "      <th>0</th>\n",
       "      <td>0</td>\n",
       "      <td>wall st. bears claw back into the black (reuters) reuters - short-sellers  wall street's dwindling\\band of ultra-cynics  are seeing green again.</td>\n",
       "    </tr>\n",
       "    <tr>\n",
       "      <th>1</th>\n",
       "      <td>1</td>\n",
       "      <td>carlyle looks toward commercial aerospace (reuters) reuters - private investment firm carlyle group \\which has a reputation for making well-timed and occasionally\\controversial plays in the defense industry  has quietly placed\\its bets on another part of the market.</td>\n",
       "    </tr>\n",
       "    <tr>\n",
       "      <th>2</th>\n",
       "      <td>2</td>\n",
       "      <td>oil and economy cloud stocks' outlook (reuters) reuters - soaring crude prices plus worries\\about the economy and the outlook for earnings are expected to\\hang over the stock market next week during the depth of the\\summer doldrums.</td>\n",
       "    </tr>\n",
       "    <tr>\n",
       "      <th>3</th>\n",
       "      <td>3</td>\n",
       "      <td>iraq halts oil exports from main southern pipeline (reuters) reuters - authorities have halted oil export\\flows from the main pipeline in southern iraq after\\intelligence showed a rebel militia could strike\\infrastructure  an oil official said on saturday.</td>\n",
       "    </tr>\n",
       "  </tbody>\n",
       "</table>\n",
       "</div>"
      ],
      "text/plain": [
       "   id  \\\n",
       "0   0   \n",
       "1   1   \n",
       "2   2   \n",
       "3   3   \n",
       "\n",
       "                                                                                                                                                                                                                                                                         text  \n",
       "0                                                                                                                            wall st. bears claw back into the black (reuters) reuters - short-sellers  wall street's dwindling\\band of ultra-cynics  are seeing green again.  \n",
       "1  carlyle looks toward commercial aerospace (reuters) reuters - private investment firm carlyle group \\which has a reputation for making well-timed and occasionally\\controversial plays in the defense industry  has quietly placed\\its bets on another part of the market.  \n",
       "2                                    oil and economy cloud stocks' outlook (reuters) reuters - soaring crude prices plus worries\\about the economy and the outlook for earnings are expected to\\hang over the stock market next week during the depth of the\\summer doldrums.  \n",
       "3            iraq halts oil exports from main southern pipeline (reuters) reuters - authorities have halted oil export\\flows from the main pipeline in southern iraq after\\intelligence showed a rebel militia could strike\\infrastructure  an oil official said on saturday.  "
      ]
     },
     "execution_count": 4,
     "metadata": {},
     "output_type": "execute_result"
    }
   ],
   "source": [
    "import pandas as pd\n",
    "\n",
    "pd.options.display.max_colwidth = 700\n",
    "pd.read_csv(train_filenames[0], nrows=4)"
   ]
  },
  {
   "attachments": {},
   "cell_type": "markdown",
   "metadata": {},
   "source": [
    "## 4. Define a UDT model and training loop\n",
    "\n",
    "In the UDT model, <i>data_type</i> *query* can be anything of your choice but *id* should match with the one in the header of the *corpus_file*.\n",
    "\n",
    "The <b><i>train_loop_per_worker</i></b> defines the training that will run on each worker node.\n",
    "\n",
    "Pre-training with UDT supports two types of columns, strong and weak. For the purpose of this demo, we choose *text* to be the strong column and leave the weak column list to be empty.<br>\n",
    "We will now train a UDT model in distributed data parallel fashion. Feel free to customize the number of epochs and the learning rate. <br>\n",
    "<u><b>PLEASE NOTE :</b></u> Currently, UDT's cold_start function requires the *id* to be an integer. We will add support for other formats in a future release."
   ]
  },
  {
   "cell_type": "code",
   "execution_count": 5,
   "metadata": {},
   "outputs": [],
   "source": [
    "def get_udt_model(model_config_path):\n",
    "    model = bolt.UniversalDeepTransformer(\n",
    "        data_types={\n",
    "            \"query\": bolt.types.text(),\n",
    "            \"id\": bolt.types.categorical(delimiter=':'),\n",
    "        },\n",
    "        target=\"id\",\n",
    "        n_target_classes=num_datapoints,\n",
    "        integer_target=True,\n",
    "        model_config=model_config_path,\n",
    "    )\n",
    "    return model\n",
    "    \n",
    "def train_loop_per_worker(config):\n",
    "    # thirdai.licensing.deactivate()\n",
    "    # thirdai.licensing.activate(\"HN7J-W79C-KN9U-WTKE-9PNM-4PVR-CNPJ-WTWE\") \n",
    "\n",
    "    model_config_path = os.path.join(config[\"curr_dir\"], '../configs/embeddings_and_cold_start_0.005.config')\n",
    "    model = get_udt_model(model_config_path)\n",
    "    model = dist.prepare_model(model)\n",
    "\n",
    "    metrics = model.coldstart_distributed_v2(\n",
    "        filename=os.path.join(config[\"curr_dir\"], train_filenames[session.get_world_rank()]),\n",
    "        strong_column_names=[\"text\"],\n",
    "        weak_column_names=[],\n",
    "        learning_rate=0.001,\n",
    "        epochs=5,\n",
    "        metrics=[\"categorical_accuracy\"],\n",
    "        verbose=True,\n",
    "    )\n",
    "\n",
    "    session.report(\n",
    "        metrics=metrics,\n",
    "        checkpoint=dist.UDTCheckPoint.from_model(model),\n",
    "    )\n"
   ]
  },
  {
   "attachments": {},
   "cell_type": "markdown",
   "metadata": {},
   "source": [
    "## 5. Distributed Training\n",
    "\n",
    "Now, we start the training using <b>ThirdAI</b> <i>BoltTrainer</i> which runs the <i>train_loop_per_worker</i> function on different worker nodes."
   ]
  },
  {
   "cell_type": "code",
   "execution_count": 6,
   "metadata": {},
   "outputs": [
    {
     "data": {
      "text/html": [
       "<div class=\"tuneStatus\">\n",
       "  <div style=\"display: flex;flex-direction: row\">\n",
       "    <div style=\"display: flex;flex-direction: column;\">\n",
       "      <h3>Tune Status</h3>\n",
       "      <table>\n",
       "<tbody>\n",
       "<tr><td>Current time:</td><td>2023-08-08 08:17:52</td></tr>\n",
       "<tr><td>Running for: </td><td>00:00:00.14        </td></tr>\n",
       "<tr><td>Memory:      </td><td>64.4/251.7 GiB     </td></tr>\n",
       "</tbody>\n",
       "</table>\n",
       "    </div>\n",
       "    <div class=\"vDivider\"></div>\n",
       "    <div class=\"systemInfo\">\n",
       "      <h3>System Info</h3>\n",
       "      Using FIFO scheduling algorithm.<br>Logical resource usage: 0/48 CPUs, 0/0 GPUs\n",
       "    </div>\n",
       "    \n",
       "  </div>\n",
       "  <div class=\"hDivider\"></div>\n",
       "  <div class=\"trialStatus\">\n",
       "    <h3>Trial Status</h3>\n",
       "    <table>\n",
       "<thead>\n",
       "<tr><th>Trial name             </th><th>status  </th><th>loc  </th></tr>\n",
       "</thead>\n",
       "<tbody>\n",
       "<tr><td>BoltTrainer_11b15_00000</td><td>PENDING </td><td>     </td></tr>\n",
       "</tbody>\n",
       "</table>\n",
       "  </div>\n",
       "</div>\n",
       "<style>\n",
       ".tuneStatus {\n",
       "  color: var(--jp-ui-font-color1);\n",
       "}\n",
       ".tuneStatus .systemInfo {\n",
       "  display: flex;\n",
       "  flex-direction: column;\n",
       "}\n",
       ".tuneStatus td {\n",
       "  white-space: nowrap;\n",
       "}\n",
       ".tuneStatus .trialStatus {\n",
       "  display: flex;\n",
       "  flex-direction: column;\n",
       "}\n",
       ".tuneStatus h3 {\n",
       "  font-weight: bold;\n",
       "}\n",
       ".tuneStatus .hDivider {\n",
       "  border-bottom-width: var(--jp-border-width);\n",
       "  border-bottom-color: var(--jp-border-color0);\n",
       "  border-bottom-style: solid;\n",
       "}\n",
       ".tuneStatus .vDivider {\n",
       "  border-left-width: var(--jp-border-width);\n",
       "  border-left-color: var(--jp-border-color0);\n",
       "  border-left-style: solid;\n",
       "  margin: 0.5em 1em 0.5em 1em;\n",
       "}\n",
       "</style>\n"
      ],
      "text/plain": [
       "<IPython.core.display.HTML object>"
      ]
     },
     "metadata": {},
     "output_type": "display_data"
    },
    {
     "name": "stderr",
     "output_type": "stream",
     "text": [
      "\u001b[2m\u001b[36m(pid=863909)\u001b[0m NCCL seems unavailable. Please install Cupy following the guide at: https://docs.cupy.dev/en/stable/install.html.\n",
      "\u001b[2m\u001b[36m(BoltTrainer pid=863909)\u001b[0m Starting distributed worker processes: ['863982 (192.168.1.5)', '863983 (192.168.1.5)']\n",
      "\u001b[2m\u001b[36m(RayTrainWorker pid=863982)\u001b[0m Setting up process group for: env:// [rank=0, world_size=2]\n",
      "\u001b[2m\u001b[36m(RayTrainWorker pid=863982)\u001b[0m NCCL seems unavailable. Please install Cupy following the guide at: https://docs.cupy.dev/en/stable/install.html.\n"
     ]
    },
    {
     "name": "stdout",
     "output_type": "stream",
     "text": [
      "\u001b[2m\u001b[36m(RayTrainWorker pid=863982)\u001b[0m loading data | source '/home/mritunjay/Demos/distributed/agnews_train_0.csv'\n",
      "\u001b[2m\u001b[36m(RayTrainWorker pid=863982)\u001b[0m loaded data | source '/home/mritunjay/Demos/distributed/agnews_train_0.csv' | vectors 60000 | batches 30 | time 0s | complete\n",
      "\u001b[2m\u001b[36m(RayTrainWorker pid=863982)\u001b[0m \n",
      "train: [                                                  ] 0%          \n",
      "\u001b[2m\u001b[36m(RayTrainWorker pid=863983)\u001b[0m loading data | source '/home/mritunjay/Demos/distributed/agnews_train_1.csv'\n",
      "train: [==                                                ] 3%\n",
      "\u001b[2m\u001b[36m(RayTrainWorker pid=863983)\u001b[0m loaded data | source '/home/mritunjay/Demos/distributed/agnews_train_1.csv' | vectors 60000 | batches 30 | time 0s | complete\n",
      "\u001b[2m\u001b[36m(RayTrainWorker pid=863983)\u001b[0m \n",
      "train: [                                                  ] 0%          \n",
      "train: [===                                               ] 6%\n",
      "train: [==                                                ] 3%\n",
      "train: [=====                                             ] 10%\n",
      "train: [===                                               ] 6%\n",
      "train: [=======                                           ] 13%\n",
      "train: [=====                                             ] 10%\n",
      "train: [========                                          ] 16%\n",
      "train: [=======                                           ] 13%\n",
      "train: [==========                                        ] 20%\n",
      "train: [========                                          ] 16%\n",
      "train: [============                                      ] 23%\n",
      "train: [==========                                        ] 20%\n",
      "train: [=============                                     ] 26%\n",
      "train: [============                                      ] 23%\n",
      "train: [===============                                   ] 30%\n",
      "train: [=============                                     ] 26%\n",
      "train: [=================                                 ] 33%\n",
      "train: [===============                                   ] 30%\n",
      "train: [==================                                ] 36%\n",
      "train: [=================                                 ] 33%\n",
      "train: [====================                              ] 40%\n",
      "train: [==================                                ] 36%\n"
     ]
    }
   ],
   "source": [
    "import os\n",
    "from ray.train.torch import TorchConfig\n",
    "\n",
    "# thirdai.licensing.activate(\"HN7J-W79C-KN9U-WTKE-9PNM-4PVR-CNPJ-WTWE\") \n",
    "licensing_lambda = None\n",
    "# if hasattr(thirdai._thirdai, \"licensing\"):\n",
    "#     license_state = thirdai._thirdai.licensing._get_license_state()\n",
    "#     licensing_lambda = lambda: thirdai._thirdai.licensing._set_license_state(license_state)\n",
    "\n",
    "trainer = dist.BoltTrainer(\n",
    "    train_loop_per_worker=train_loop_per_worker,\n",
    "    train_loop_config={\n",
    "        \"curr_dir\": os.path.abspath(os.getcwd()),\n",
    "    },\n",
    "    scaling_config=scaling_config,\n",
    "    backend_config=TorchConfig(backend=\"gloo\"),\n",
    ")\n",
    "\n",
    "result_checkpoint_and_history = trainer.fit()"
   ]
  },
  {
   "attachments": {},
   "cell_type": "markdown",
   "metadata": {},
   "source": [
    "## 6. Save and load the model"
   ]
  },
  {
   "cell_type": "code",
   "execution_count": null,
   "metadata": {},
   "outputs": [],
   "source": [
    "model = result_checkpoint_and_history.checkpoint.get_model()\n",
    "model.save('./agnews.model')\n",
    "\n",
    "model = bolt.UniversalDeepTransformer.load('./agnews.model')"
   ]
  },
  {
   "attachments": {},
   "cell_type": "markdown",
   "metadata": {},
   "source": [
    "## 7. Make Predictions\n",
    "\n",
    "### Example 1"
   ]
  },
  {
   "cell_type": "code",
   "execution_count": null,
   "metadata": {},
   "outputs": [],
   "source": [
    "import numpy as np\n",
    "import pandas as pd\n",
    "\n",
    "from thirdai.demos import download_agnews_dataset\n",
    "\n",
    "corpus_file = './agnews.csv'\n",
    "download_agnews_dataset(corpus_file)\n",
    "\n",
    "df = pd.read_csv(corpus_file)\n",
    "\n",
    "activations = model.predict({'query':'BRITAIN: BLAIR WARNS OF CLIMATE THREAT Prime Minister Tony Blair urged the international community to consider global warming a dire threat and agree on a plan of action to curb the  quot;alarming quot; growth of greenhouse gases'})\n",
    "top_preds = np.argsort(-activations)[:5]\n",
    "\n",
    "df.iloc[top_preds]"
   ]
  },
  {
   "attachments": {},
   "cell_type": "markdown",
   "metadata": {},
   "source": [
    "For the same example, here are the top-5 results that OpenAI's Search and Recommendation notebook (https://github.com/openai/openai-cookbook/blob/main/examples/Recommendation_using_embeddings.ipynb) gets.\n",
    "\n",
    "| text |\n",
    "| --- |\n",
    "| THE re-election of British Prime Minister Tony Blair would be seen as an endorsement of the military action in Iraq, Prime Minister John Howard said today |\n",
    "| LONDON, England -- A US scientist is reported to have observed a surprising jump in the amount of carbon dioxide, the main greenhouse gas. |\n",
    "| The anguish of hostage Kenneth Bigley in Iraq hangs over Prime Minister Tony Blair today as he faces the twin test of a local election and a debate by his Labour Party about the divisive war. |\n",
    "| Israel is prepared to back a Middle East conference convened by Tony Blair early next year despite having expressed fears that the British plans were over-ambitious and designed |\n",
    "| AFP - A battle group of British troops rolled out of southern Iraq on a US-requested mission to deadlier areas near Baghdad, in a major political gamble for British Prime Minister Tony Blair. |\n",
    "\n",
    "\n",
    "### Example 2"
   ]
  },
  {
   "cell_type": "code",
   "execution_count": null,
   "metadata": {},
   "outputs": [],
   "source": [
    "activations = model.predict({'query':'PC World - Upcoming chip set will include built-in security features for your PC'})\n",
    "top_preds = np.argsort(-activations)[:5]\n",
    "\n",
    "df.iloc[top_preds]"
   ]
  },
  {
   "attachments": {},
   "cell_type": "markdown",
   "metadata": {},
   "source": [
    "For the same example, here are the top-5 results that OpenAI's Search and Recommendation notebook (https://github.com/openai/openai-cookbook/blob/main/examples/Recommendation_using_embeddings.ipynb) gets.\n",
    "\n",
    "| text |\n",
    "| --- |\n",
    "| PC World - Updated antivirus software for businesses adds intrusion prevention features. |\n",
    "| PC World - The one-time World Class Product of the Year PDA gets a much-needed upgrade. |\n",
    "| PC World - Send your video throughout your house--wirelessly--with new gateways and media adapters. |\n",
    "| PC World - Symantec, McAfee hope raising virus-definition fees will move users to\\  suites. |\n",
    "| Gateway computers will be more widely available at Office Depot, in the PC maker #39;s latest move to broaden distribution at retail stores since acquiring rival eMachines this year. |"
   ]
  }
 ],
 "metadata": {
  "kernelspec": {
   "display_name": "Python 3",
   "language": "python",
   "name": "python3"
  },
  "language_info": {
   "codemirror_mode": {
    "name": "ipython",
    "version": 3
   },
   "file_extension": ".py",
   "mimetype": "text/x-python",
   "name": "python",
   "nbconvert_exporter": "python",
   "pygments_lexer": "ipython3",
   "version": "3.8.16"
  },
  "orig_nbformat": 4
 },
 "nbformat": 4,
 "nbformat_minor": 2
}
