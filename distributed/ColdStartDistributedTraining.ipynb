{
 "cells": [
  {
   "attachments": {},
   "cell_type": "markdown",
   "metadata": {},
   "source": [
    "# [Distributed] Pre-training and fine-tuning an LLM on CPU on AG News with ThirdAI's UDT\n",
    "\n",
    "This training script shows how to run data parallel pre-training of an LLM from scratch on the popular AG News Dataset (https://www.kaggle.com/datasets/amananandrai/ag-news-classification-dataset) using ThirdAI's Universal Deep Transformer (UDT)."
   ]
  },
  {
   "attachments": {},
   "cell_type": "markdown",
   "metadata": {},
   "source": [
    "## 1. Import thirdai and activate license"
   ]
  },
  {
   "cell_type": "code",
   "execution_count": 1,
   "metadata": {},
   "outputs": [
    {
     "name": "stdout",
     "output_type": "stream",
     "text": [
      "/bin/pip3:6: DeprecationWarning: pkg_resources is deprecated as an API. See https://setuptools.pypa.io/en/latest/pkg_resources.html\n",
      "  from pkg_resources import load_entry_point\n",
      "Requirement already satisfied: datasets in /home/pratik/.local/lib/python3.8/site-packages (2.13.1)\n",
      "Requirement already satisfied: numpy>=1.17 in /home/pratik/.local/lib/python3.8/site-packages (from datasets) (1.23.5)\n",
      "Requirement already satisfied: pyarrow>=8.0.0 in /home/pratik/.local/lib/python3.8/site-packages (from datasets) (12.0.1)\n",
      "Requirement already satisfied: dill<0.3.7,>=0.3.0 in /home/pratik/.local/lib/python3.8/site-packages (from datasets) (0.3.6)\n",
      "Requirement already satisfied: pandas in /home/pratik/.local/lib/python3.8/site-packages (from datasets) (2.0.2)\n",
      "Requirement already satisfied: requests>=2.19.0 in /home/pratik/.local/lib/python3.8/site-packages (from datasets) (2.31.0)\n",
      "Requirement already satisfied: tqdm>=4.62.1 in /home/pratik/.local/lib/python3.8/site-packages (from datasets) (4.65.0)\n",
      "Requirement already satisfied: xxhash in /home/pratik/.local/lib/python3.8/site-packages (from datasets) (3.2.0)\n",
      "Requirement already satisfied: multiprocess in /home/pratik/.local/lib/python3.8/site-packages (from datasets) (0.70.14)\n",
      "Requirement already satisfied: fsspec[http]>=2021.11.1 in /home/pratik/.local/lib/python3.8/site-packages (from datasets) (2023.6.0)\n",
      "Requirement already satisfied: aiohttp in /home/pratik/.local/lib/python3.8/site-packages (from datasets) (3.8.4)\n",
      "Requirement already satisfied: huggingface-hub<1.0.0,>=0.11.0 in /home/pratik/.local/lib/python3.8/site-packages (from datasets) (0.15.1)\n",
      "Requirement already satisfied: packaging in /home/pratik/.local/lib/python3.8/site-packages (from datasets) (23.1)\n",
      "Requirement already satisfied: pyyaml>=5.1 in /home/pratik/.local/lib/python3.8/site-packages (from datasets) (6.0)\n",
      "Requirement already satisfied: python-dateutil>=2.8.2 in /home/pratik/.local/lib/python3.8/site-packages (from pandas->datasets) (2.8.2)\n",
      "Requirement already satisfied: pytz>=2020.1 in /home/pratik/.local/lib/python3.8/site-packages (from pandas->datasets) (2023.3)\n",
      "Requirement already satisfied: tzdata>=2022.1 in /home/pratik/.local/lib/python3.8/site-packages (from pandas->datasets) (2023.3)\n",
      "Requirement already satisfied: charset-normalizer<4,>=2 in /home/pratik/.local/lib/python3.8/site-packages (from requests>=2.19.0->datasets) (3.1.0)\n",
      "Requirement already satisfied: idna<4,>=2.5 in /home/pratik/.local/lib/python3.8/site-packages (from requests>=2.19.0->datasets) (3.4)\n",
      "Requirement already satisfied: urllib3<3,>=1.21.1 in /home/pratik/.local/lib/python3.8/site-packages (from requests>=2.19.0->datasets) (2.0.3)\n",
      "Requirement already satisfied: certifi>=2017.4.17 in /home/pratik/.local/lib/python3.8/site-packages (from requests>=2.19.0->datasets) (2023.5.7)\n",
      "Requirement already satisfied: attrs>=17.3.0 in /home/pratik/.local/lib/python3.8/site-packages (from aiohttp->datasets) (23.1.0)\n",
      "Requirement already satisfied: multidict<7.0,>=4.5 in /home/pratik/.local/lib/python3.8/site-packages (from aiohttp->datasets) (6.0.4)\n",
      "Requirement already satisfied: async-timeout<5.0,>=4.0.0a3 in /home/pratik/.local/lib/python3.8/site-packages (from aiohttp->datasets) (4.0.2)\n",
      "Requirement already satisfied: yarl<2.0,>=1.0 in /home/pratik/.local/lib/python3.8/site-packages (from aiohttp->datasets) (1.9.2)\n",
      "Requirement already satisfied: frozenlist>=1.1.1 in /home/pratik/.local/lib/python3.8/site-packages (from aiohttp->datasets) (1.3.3)\n",
      "Requirement already satisfied: aiosignal>=1.1.2 in /home/pratik/.local/lib/python3.8/site-packages (from aiohttp->datasets) (1.3.1)\n",
      "Requirement already satisfied: filelock in /home/pratik/.local/lib/python3.8/site-packages (from huggingface-hub<1.0.0,>=0.11.0->datasets) (3.12.2)\n",
      "Requirement already satisfied: typing-extensions>=3.7.4.3 in /home/pratik/.local/lib/python3.8/site-packages (from huggingface-hub<1.0.0,>=0.11.0->datasets) (4.6.3)\n",
      "Requirement already satisfied: six>=1.5 in /home/pratik/.local/lib/python3.8/site-packages (from python-dateutil>=2.8.2->pandas->datasets) (1.16.0)\n",
      "/bin/pip3:6: DeprecationWarning: pkg_resources is deprecated as an API. See https://setuptools.pypa.io/en/latest/pkg_resources.html\n",
      "  from pkg_resources import load_entry_point\n",
      "Requirement already up-to-date: thirdai in /home/pratik/.local/lib/python3.8/site-packages (0.7.16)\n",
      "Requirement already satisfied, skipping upgrade: numpy in /home/pratik/.local/lib/python3.8/site-packages (from thirdai) (1.23.5)\n",
      "Requirement already satisfied, skipping upgrade: typing-extensions in /home/pratik/.local/lib/python3.8/site-packages (from thirdai) (4.6.3)\n",
      "Requirement already satisfied, skipping upgrade: requests in /home/pratik/.local/lib/python3.8/site-packages (from thirdai) (2.31.0)\n",
      "Requirement already satisfied, skipping upgrade: pandas>=1.2.0 in /home/pratik/.local/lib/python3.8/site-packages (from thirdai) (2.0.2)\n",
      "Requirement already satisfied, skipping upgrade: charset-normalizer<4,>=2 in /home/pratik/.local/lib/python3.8/site-packages (from requests->thirdai) (3.1.0)\n",
      "Requirement already satisfied, skipping upgrade: idna<4,>=2.5 in /home/pratik/.local/lib/python3.8/site-packages (from requests->thirdai) (3.4)\n",
      "Requirement already satisfied, skipping upgrade: urllib3<3,>=1.21.1 in /home/pratik/.local/lib/python3.8/site-packages (from requests->thirdai) (2.0.3)\n",
      "Requirement already satisfied, skipping upgrade: certifi>=2017.4.17 in /home/pratik/.local/lib/python3.8/site-packages (from requests->thirdai) (2023.5.7)\n",
      "Requirement already satisfied, skipping upgrade: python-dateutil>=2.8.2 in /home/pratik/.local/lib/python3.8/site-packages (from pandas>=1.2.0->thirdai) (2.8.2)\n",
      "Requirement already satisfied, skipping upgrade: pytz>=2020.1 in /home/pratik/.local/lib/python3.8/site-packages (from pandas>=1.2.0->thirdai) (2023.3)\n",
      "Requirement already satisfied, skipping upgrade: tzdata>=2022.1 in /home/pratik/.local/lib/python3.8/site-packages (from pandas>=1.2.0->thirdai) (2023.3)\n",
      "Requirement already satisfied, skipping upgrade: six>=1.5 in /home/pratik/.local/lib/python3.8/site-packages (from python-dateutil>=2.8.2->pandas>=1.2.0->thirdai) (1.16.0)\n",
      "/bin/pip3:6: DeprecationWarning: pkg_resources is deprecated as an API. See https://setuptools.pypa.io/en/latest/pkg_resources.html\n",
      "  from pkg_resources import load_entry_point\n",
      "Requirement already satisfied: ray in /home/pratik/.local/lib/python3.8/site-packages (2.6.1)\n",
      "Requirement already satisfied: click>=7.0 in /home/pratik/.local/lib/python3.8/site-packages (from ray) (8.1.3)\n",
      "Requirement already satisfied: filelock in /home/pratik/.local/lib/python3.8/site-packages (from ray) (3.12.2)\n",
      "Requirement already satisfied: jsonschema in /home/pratik/.local/lib/python3.8/site-packages (from ray) (4.17.3)\n",
      "Requirement already satisfied: msgpack<2.0.0,>=1.0.0 in /home/pratik/.local/lib/python3.8/site-packages (from ray) (1.0.5)\n",
      "Requirement already satisfied: packaging in /home/pratik/.local/lib/python3.8/site-packages (from ray) (23.1)\n",
      "Requirement already satisfied: protobuf!=3.19.5,>=3.15.3 in /home/pratik/.local/lib/python3.8/site-packages (from ray) (3.20.0)\n",
      "Requirement already satisfied: pyyaml in /home/pratik/.local/lib/python3.8/site-packages (from ray) (6.0)\n",
      "Requirement already satisfied: aiosignal in /home/pratik/.local/lib/python3.8/site-packages (from ray) (1.3.1)\n",
      "Requirement already satisfied: frozenlist in /home/pratik/.local/lib/python3.8/site-packages (from ray) (1.3.3)\n",
      "Requirement already satisfied: requests in /home/pratik/.local/lib/python3.8/site-packages (from ray) (2.31.0)\n",
      "Requirement already satisfied: grpcio>=1.32.0; python_version < \"3.10\" in /home/pratik/.local/lib/python3.8/site-packages (from ray) (1.51.3)\n",
      "Requirement already satisfied: numpy>=1.16; python_version < \"3.9\" in /home/pratik/.local/lib/python3.8/site-packages (from ray) (1.23.5)\n",
      "Requirement already satisfied: attrs>=17.4.0 in /home/pratik/.local/lib/python3.8/site-packages (from jsonschema->ray) (23.1.0)\n",
      "Requirement already satisfied: importlib-resources>=1.4.0; python_version < \"3.9\" in /home/pratik/.local/lib/python3.8/site-packages (from jsonschema->ray) (5.12.0)\n",
      "Requirement already satisfied: pkgutil-resolve-name>=1.3.10; python_version < \"3.9\" in /home/pratik/.local/lib/python3.8/site-packages (from jsonschema->ray) (1.3.10)\n",
      "Requirement already satisfied: pyrsistent!=0.17.0,!=0.17.1,!=0.17.2,>=0.14.0 in /home/pratik/.local/lib/python3.8/site-packages (from jsonschema->ray) (0.19.3)\n",
      "Requirement already satisfied: charset-normalizer<4,>=2 in /home/pratik/.local/lib/python3.8/site-packages (from requests->ray) (3.1.0)\n",
      "Requirement already satisfied: idna<4,>=2.5 in /home/pratik/.local/lib/python3.8/site-packages (from requests->ray) (3.4)\n",
      "Requirement already satisfied: urllib3<3,>=1.21.1 in /home/pratik/.local/lib/python3.8/site-packages (from requests->ray) (2.0.3)\n",
      "Requirement already satisfied: certifi>=2017.4.17 in /home/pratik/.local/lib/python3.8/site-packages (from requests->ray) (2023.5.7)\n",
      "Requirement already satisfied: zipp>=3.1.0; python_version < \"3.10\" in /home/pratik/.local/lib/python3.8/site-packages (from importlib-resources>=1.4.0; python_version < \"3.9\"->jsonschema->ray) (3.15.0)\n",
      "/bin/pip3:6: DeprecationWarning: pkg_resources is deprecated as an API. See https://setuptools.pypa.io/en/latest/pkg_resources.html\n",
      "  from pkg_resources import load_entry_point\n",
      "Requirement already satisfied: torch in /home/pratik/.local/lib/python3.8/site-packages (2.0.1)\n",
      "Requirement already satisfied: filelock in /home/pratik/.local/lib/python3.8/site-packages (from torch) (3.12.2)\n",
      "Requirement already satisfied: typing-extensions in /home/pratik/.local/lib/python3.8/site-packages (from torch) (4.6.3)\n",
      "Requirement already satisfied: sympy in /home/pratik/.local/lib/python3.8/site-packages (from torch) (1.12)\n",
      "Requirement already satisfied: networkx in /home/pratik/.local/lib/python3.8/site-packages (from torch) (3.1)\n",
      "Requirement already satisfied: jinja2 in /home/pratik/.local/lib/python3.8/site-packages (from torch) (3.1.2)\n",
      "Requirement already satisfied: nvidia-cuda-nvrtc-cu11==11.7.99; platform_system == \"Linux\" and platform_machine == \"x86_64\" in /home/pratik/.local/lib/python3.8/site-packages (from torch) (11.7.99)\n",
      "Requirement already satisfied: nvidia-cuda-runtime-cu11==11.7.99; platform_system == \"Linux\" and platform_machine == \"x86_64\" in /home/pratik/.local/lib/python3.8/site-packages (from torch) (11.7.99)\n",
      "Requirement already satisfied: nvidia-cuda-cupti-cu11==11.7.101; platform_system == \"Linux\" and platform_machine == \"x86_64\" in /home/pratik/.local/lib/python3.8/site-packages (from torch) (11.7.101)\n",
      "Requirement already satisfied: nvidia-cudnn-cu11==8.5.0.96; platform_system == \"Linux\" and platform_machine == \"x86_64\" in /home/pratik/.local/lib/python3.8/site-packages (from torch) (8.5.0.96)\n",
      "Requirement already satisfied: nvidia-cublas-cu11==11.10.3.66; platform_system == \"Linux\" and platform_machine == \"x86_64\" in /home/pratik/.local/lib/python3.8/site-packages (from torch) (11.10.3.66)\n",
      "Requirement already satisfied: nvidia-cufft-cu11==10.9.0.58; platform_system == \"Linux\" and platform_machine == \"x86_64\" in /home/pratik/.local/lib/python3.8/site-packages (from torch) (10.9.0.58)\n",
      "Requirement already satisfied: nvidia-curand-cu11==10.2.10.91; platform_system == \"Linux\" and platform_machine == \"x86_64\" in /home/pratik/.local/lib/python3.8/site-packages (from torch) (10.2.10.91)\n",
      "Requirement already satisfied: nvidia-cusolver-cu11==11.4.0.1; platform_system == \"Linux\" and platform_machine == \"x86_64\" in /home/pratik/.local/lib/python3.8/site-packages (from torch) (11.4.0.1)\n",
      "Requirement already satisfied: nvidia-cusparse-cu11==11.7.4.91; platform_system == \"Linux\" and platform_machine == \"x86_64\" in /home/pratik/.local/lib/python3.8/site-packages (from torch) (11.7.4.91)\n",
      "Requirement already satisfied: nvidia-nccl-cu11==2.14.3; platform_system == \"Linux\" and platform_machine == \"x86_64\" in /home/pratik/.local/lib/python3.8/site-packages (from torch) (2.14.3)\n",
      "Requirement already satisfied: nvidia-nvtx-cu11==11.7.91; platform_system == \"Linux\" and platform_machine == \"x86_64\" in /home/pratik/.local/lib/python3.8/site-packages (from torch) (11.7.91)\n",
      "Requirement already satisfied: triton==2.0.0; platform_system == \"Linux\" and platform_machine == \"x86_64\" in /home/pratik/.local/lib/python3.8/site-packages (from torch) (2.0.0)\n",
      "Requirement already satisfied: mpmath>=0.19 in /home/pratik/.local/lib/python3.8/site-packages (from sympy->torch) (1.3.0)\n",
      "Requirement already satisfied: MarkupSafe>=2.0 in /home/pratik/.local/lib/python3.8/site-packages (from jinja2->torch) (2.1.3)\n",
      "Requirement already satisfied: setuptools in /home/pratik/.local/lib/python3.8/site-packages (from nvidia-cuda-runtime-cu11==11.7.99; platform_system == \"Linux\" and platform_machine == \"x86_64\"->torch) (68.0.0)\n",
      "Requirement already satisfied: wheel in /home/pratik/.local/lib/python3.8/site-packages (from nvidia-cuda-runtime-cu11==11.7.99; platform_system == \"Linux\" and platform_machine == \"x86_64\"->torch) (0.40.0)\n",
      "Requirement already satisfied: cmake in /home/pratik/.local/lib/python3.8/site-packages (from triton==2.0.0; platform_system == \"Linux\" and platform_machine == \"x86_64\"->torch) (3.26.4)\n",
      "Requirement already satisfied: lit in /home/pratik/.local/lib/python3.8/site-packages (from triton==2.0.0; platform_system == \"Linux\" and platform_machine == \"x86_64\"->torch) (16.0.6)\n"
     ]
    },
    {
     "name": "stderr",
     "output_type": "stream",
     "text": [
      "/home/pratik/.local/lib/python3.8/site-packages/tqdm/auto.py:21: TqdmWarning: IProgress not found. Please update jupyter and ipywidgets. See https://ipywidgets.readthedocs.io/en/stable/user_install.html\n",
      "  from .autonotebook import tqdm as notebook_tqdm\n",
      "2023-08-18 08:44:45,131\tINFO util.py:159 -- Missing packages: ['ipywidgets']. Run `pip install -U ipywidgets`, then restart the notebook server for rich notebook output.\n",
      "2023-08-18 08:44:46,417\tWARNING collective.py:20 -- NCCL seems unavailable. Please install Cupy following the guide at: https://docs.cupy.dev/en/stable/install.html.\n",
      "2023-08-18 08:44:46,570\tINFO util.py:159 -- Missing packages: ['ipywidgets']. Run `pip install -U ipywidgets`, then restart the notebook server for rich notebook output.\n",
      "2023-08-18 08:44:46,825\tINFO util.py:159 -- Missing packages: ['ipywidgets']. Run `pip install -U ipywidgets`, then restart the notebook server for rich notebook output.\n"
     ]
    },
    {
     "ename": "RuntimeError",
     "evalue": "The license was found to be invalid: The licensing server says that your license is invalid. It returned the following message: does not exist",
     "output_type": "error",
     "traceback": [
      "\u001b[0;31m---------------------------------------------------------------------------\u001b[0m",
      "\u001b[0;31mRuntimeError\u001b[0m                              Traceback (most recent call last)",
      "\u001b[1;32m/home/pratik/Demos/distributed/ColdStartDistributedTraining.ipynb Cell 3\u001b[0m in \u001b[0;36m1\n\u001b[1;32m      <a href='vscode-notebook-cell://ssh-remote%2Bremote10/home/pratik/Demos/distributed/ColdStartDistributedTraining.ipynb#W2sdnNjb2RlLXJlbW90ZQ%3D%3D?line=7'>8</a>\u001b[0m \u001b[39mimport\u001b[39;00m \u001b[39mos\u001b[39;00m\n\u001b[1;32m      <a href='vscode-notebook-cell://ssh-remote%2Bremote10/home/pratik/Demos/distributed/ColdStartDistributedTraining.ipynb#W2sdnNjb2RlLXJlbW90ZQ%3D%3D?line=8'>9</a>\u001b[0m \u001b[39mimport\u001b[39;00m \u001b[39mthirdai\u001b[39;00m\u001b[39m.\u001b[39;00m\u001b[39mdistributed_bolt\u001b[39;00m \u001b[39mas\u001b[39;00m \u001b[39mdist\u001b[39;00m  \n\u001b[0;32m---> <a href='vscode-notebook-cell://ssh-remote%2Bremote10/home/pratik/Demos/distributed/ColdStartDistributedTraining.ipynb#W2sdnNjb2RlLXJlbW90ZQ%3D%3D?line=9'>10</a>\u001b[0m thirdai\u001b[39m.\u001b[39;49mlicensing\u001b[39m.\u001b[39;49mactivate(\u001b[39m'\u001b[39;49m\u001b[39m7XFTR-LPUL-HFRY-V4A3-NAR4-YEUK-X9VT-MNLR\u001b[39;49m\u001b[39m'\u001b[39;49m)\n",
      "\u001b[0;31mRuntimeError\u001b[0m: The license was found to be invalid: The licensing server says that your license is invalid. It returned the following message: does not exist"
     ]
    }
   ],
   "source": [
    "!pip3 install datasets\n",
    "!pip3 install thirdai --upgrade\n",
    "!pip3 install ray\n",
    "!pip3 install torch\n",
    "\n",
    "import thirdai\n",
    "from thirdai import bolt\n",
    "import os\n",
    "import thirdai.distributed_bolt as dist  \n",
    "thirdai.licensing.activate('XFTR-LPUL-HFRY-V4A3-NAR4-YEUK-X9VT-MNLR')"
   ]
  },
  {
   "attachments": {},
   "cell_type": "markdown",
   "metadata": {},
   "source": [
    "## 2. Ray Cluster Initialization\n",
    " For the purpose of this demo, we will be initializing a mock ray cluster of 2 nodes here. Change num_cpus accordingly."
   ]
  },
  {
   "cell_type": "code",
   "execution_count": null,
   "metadata": {},
   "outputs": [
    {
     "name": "stderr",
     "output_type": "stream",
     "text": [
      "2023-08-18 07:32:03,745\tINFO worker.py:1612 -- Started a local Ray instance. View the dashboard at \u001b[1m\u001b[32mhttp://127.0.0.1:8265 \u001b[39m\u001b[22m\n"
     ]
    }
   ],
   "source": [
    "import ray\n",
    "from ray.air import ScalingConfig, session\n",
    "\n",
    "cpus_per_node = (dist.get_num_cpus() - 1) // 2\n",
    "\n",
    "ray.init(ignore_reinit_error=True, runtime_env={\"env_vars\": {\"OMP_NUM_THREADS\": f\"{cpus_per_node}\"}})\n",
    "scaling_config = ScalingConfig(\n",
    "    num_workers=2,\n",
    "    use_gpu=False,\n",
    "    trainer_resources={\"CPU\": 1},\n",
    "    resources_per_worker={\"CPU\": cpus_per_node},\n",
    "    placement_strategy=\"PACK\",\n",
    ")"
   ]
  },
  {
   "attachments": {},
   "cell_type": "markdown",
   "metadata": {},
   "source": [
    "## 3. Download and process the dataset into a csv file. <br>\n",
    "### 3.1 We divide our dataset into 2 datasets for purpose of data-parallel training. "
   ]
  },
  {
   "cell_type": "code",
   "execution_count": null,
   "metadata": {},
   "outputs": [
    {
     "name": "stderr",
     "output_type": "stream",
     "text": [
      "Found cached dataset ag_news (/home/pratik/.cache/huggingface/datasets/ag_news/default/0.0.0/bc2bcb40336ace1a0374767fc29bb0296cdaf8a6da7298436239c54d79180548)\n",
      "100%|██████████| 2/2 [00:00<00:00, 469.16it/s]\n"
     ]
    }
   ],
   "source": [
    "from datasets import load_dataset\n",
    "\n",
    "file_1 = open('agnews_train_0.csv', 'w')\n",
    "file_2 = open('agnews_train_1.csv', 'w')\n",
    "\n",
    "corpus = load_dataset(\"ag_news\")[\"train\"][\"text\"]\n",
    "num_datapoints = len(corpus)\n",
    "\n",
    "file_1.write(\"id,text\\n\")\n",
    "file_2.write(\"id,text\\n\")\n",
    "\n",
    "idx = 0\n",
    "for line in corpus:\n",
    "    if idx < num_datapoints//2:\n",
    "        nothing = file_1.write(str(idx) + \",\" + line.replace(\",\", \" \").lower() + \"\\n\")\n",
    "    else:\n",
    "        nothing = file_2.write(str(idx) + \",\" + line.replace(\",\", \" \").lower() + \"\\n\")\n",
    "\n",
    "    idx += 1\n",
    "\n",
    "file_1.close()\n",
    "file_2.close()\n",
    "\n",
    "train_filenames = ['agnews_train_0.csv', 'agnews_train_1.csv']"
   ]
  },
  {
   "attachments": {},
   "cell_type": "markdown",
   "metadata": {},
   "source": [
    "### 3.2 Looking at the dataset\n",
    "In the above step, *agnews_train_[0/1].csv* files refers to the corpus file with document id and text. We can have even more columns with other metadata for each row. <br>\n",
    "\n",
    "A couple of sample rows of the *corpus_file* are shown below."
   ]
  },
  {
   "cell_type": "code",
   "execution_count": null,
   "metadata": {},
   "outputs": [
    {
     "data": {
      "text/html": [
       "<div>\n",
       "<style scoped>\n",
       "    .dataframe tbody tr th:only-of-type {\n",
       "        vertical-align: middle;\n",
       "    }\n",
       "\n",
       "    .dataframe tbody tr th {\n",
       "        vertical-align: top;\n",
       "    }\n",
       "\n",
       "    .dataframe thead th {\n",
       "        text-align: right;\n",
       "    }\n",
       "</style>\n",
       "<table border=\"1\" class=\"dataframe\">\n",
       "  <thead>\n",
       "    <tr style=\"text-align: right;\">\n",
       "      <th></th>\n",
       "      <th>id</th>\n",
       "      <th>text</th>\n",
       "    </tr>\n",
       "  </thead>\n",
       "  <tbody>\n",
       "    <tr>\n",
       "      <th>0</th>\n",
       "      <td>0</td>\n",
       "      <td>wall st. bears claw back into the black (reuters) reuters - short-sellers  wall street's dwindling\\band of ultra-cynics  are seeing green again.</td>\n",
       "    </tr>\n",
       "    <tr>\n",
       "      <th>1</th>\n",
       "      <td>1</td>\n",
       "      <td>carlyle looks toward commercial aerospace (reuters) reuters - private investment firm carlyle group \\which has a reputation for making well-timed and occasionally\\controversial plays in the defense industry  has quietly placed\\its bets on another part of the market.</td>\n",
       "    </tr>\n",
       "    <tr>\n",
       "      <th>2</th>\n",
       "      <td>2</td>\n",
       "      <td>oil and economy cloud stocks' outlook (reuters) reuters - soaring crude prices plus worries\\about the economy and the outlook for earnings are expected to\\hang over the stock market next week during the depth of the\\summer doldrums.</td>\n",
       "    </tr>\n",
       "    <tr>\n",
       "      <th>3</th>\n",
       "      <td>3</td>\n",
       "      <td>iraq halts oil exports from main southern pipeline (reuters) reuters - authorities have halted oil export\\flows from the main pipeline in southern iraq after\\intelligence showed a rebel militia could strike\\infrastructure  an oil official said on saturday.</td>\n",
       "    </tr>\n",
       "  </tbody>\n",
       "</table>\n",
       "</div>"
      ],
      "text/plain": [
       "   id  \\\n",
       "0   0   \n",
       "1   1   \n",
       "2   2   \n",
       "3   3   \n",
       "\n",
       "                                                                                                                                                                                                                                                                         text  \n",
       "0                                                                                                                            wall st. bears claw back into the black (reuters) reuters - short-sellers  wall street's dwindling\\band of ultra-cynics  are seeing green again.  \n",
       "1  carlyle looks toward commercial aerospace (reuters) reuters - private investment firm carlyle group \\which has a reputation for making well-timed and occasionally\\controversial plays in the defense industry  has quietly placed\\its bets on another part of the market.  \n",
       "2                                    oil and economy cloud stocks' outlook (reuters) reuters - soaring crude prices plus worries\\about the economy and the outlook for earnings are expected to\\hang over the stock market next week during the depth of the\\summer doldrums.  \n",
       "3            iraq halts oil exports from main southern pipeline (reuters) reuters - authorities have halted oil export\\flows from the main pipeline in southern iraq after\\intelligence showed a rebel militia could strike\\infrastructure  an oil official said on saturday.  "
      ]
     },
     "execution_count": 4,
     "metadata": {},
     "output_type": "execute_result"
    }
   ],
   "source": [
    "import pandas as pd\n",
    "\n",
    "pd.options.display.max_colwidth = 700\n",
    "pd.read_csv(train_filenames[0], nrows=4)"
   ]
  },
  {
   "attachments": {},
   "cell_type": "markdown",
   "metadata": {},
   "source": [
    "## 4. Define a UDT model and training loop\n",
    "\n",
    "In the UDT model, <i>data_type</i> *query* can be anything of your choice but *id* should match with the one in the header of the *corpus_file*.\n",
    "\n",
    "The <b><i>train_loop_per_worker</i></b> defines the training that will run on each worker node.\n",
    "\n",
    "Pre-training with UDT supports two types of columns, strong and weak. For the purpose of this demo, we choose *text* to be the strong column and leave the weak column list to be empty.<br>\n",
    "We will now train a UDT model in distributed data parallel fashion. Feel free to customize the number of epochs and the learning rate. <br>\n",
    "<u><b>PLEASE NOTE :</b></u> Currently, UDT's cold_start function requires the *id* to be an integer. We will add support for other formats in a future release."
   ]
  },
  {
   "cell_type": "code",
   "execution_count": null,
   "metadata": {},
   "outputs": [],
   "source": [
    "def get_udt_model(model_config_path):\n",
    "    model = bolt.UniversalDeepTransformer(\n",
    "        data_types={\n",
    "            \"query\": bolt.types.text(),\n",
    "            \"id\": bolt.types.categorical(delimiter=':'),\n",
    "        },\n",
    "        target=\"id\",\n",
    "        n_target_classes=num_datapoints,\n",
    "        integer_target=True,\n",
    "        model_config=model_config_path,\n",
    "    )\n",
    "    return model\n",
    "    \n",
    "def train_loop_per_worker(config):\n",
    "    # thirdai.licensing.deactivate()\n",
    "    # thirdai.licensing.activate(\"HN7J-W79C-KN9U-WTKE-9PNM-4PVR-CNPJ-WTWE\")\n",
    "    thirdai.logging.setup(log_to_stderr=False, path=\"log.txt\", level=\"info\")\n",
    "    thirdai.licensing.activate('XFTR-LPUL-HFRY-V4A3-NAR4-YEUK-X9VT-MNLR')\n",
    "    \n",
    "    \n",
    "    model_config_path = os.path.join(config[\"curr_dir\"], '../configs/embeddings_and_cold_start_0.005.config')\n",
    "    model = get_udt_model(model_config_path)\n",
    "    model = dist.prepare_model(model)\n",
    "\n",
    "    metrics = model.coldstart_distributed_v2(\n",
    "        filename=os.path.join(config[\"curr_dir\"], train_filenames[session.get_world_rank()]),\n",
    "        strong_column_names=[\"text\"],\n",
    "        weak_column_names=[],\n",
    "        learning_rate=0.001,\n",
    "        epochs=5,\n",
    "        metrics=[\"categorical_accuracy\"],\n",
    "        verbose=True,\n",
    "    )\n",
    "\n",
    "    session.report(\n",
    "        metrics=metrics,\n",
    "        checkpoint=dist.UDTCheckPoint.from_model(model),\n",
    "    )\n"
   ]
  },
  {
   "attachments": {},
   "cell_type": "markdown",
   "metadata": {},
   "source": [
    "## 5. Distributed Training\n",
    "\n",
    "Now, we start the training using <b>ThirdAI</b> <i>BoltTrainer</i> which runs the <i>train_loop_per_worker</i> function on different worker nodes."
   ]
  },
  {
   "cell_type": "code",
   "execution_count": null,
   "metadata": {},
   "outputs": [
    {
     "name": "stderr",
     "output_type": "stream",
     "text": [
      "\u001b[2m\u001b[36m(pid=2996037)\u001b[0m NCCL seems unavailable. Please install Cupy following the guide at: https://docs.cupy.dev/en/stable/install.html.\n",
      "\u001b[2m\u001b[36m(BoltTrainer pid=2996037)\u001b[0m Starting distributed worker processes: ['2996143 (192.168.1.10)', '2996144 (192.168.1.10)']\n",
      "\u001b[2m\u001b[36m(RayTrainWorker pid=2996143)\u001b[0m Setting up process group for: env:// [rank=0, world_size=2]\n",
      "2023-08-18 07:32:31,484\tERROR tune_controller.py:911 -- Trial task failed for trial BoltTrainer_56884_00000\n",
      "Traceback (most recent call last):\n",
      "  File \"/home/pratik/.local/lib/python3.8/site-packages/ray/air/execution/_internal/event_manager.py\", line 110, in resolve_future\n",
      "    result = ray.get(future)\n",
      "  File \"/home/pratik/.local/lib/python3.8/site-packages/ray/_private/auto_init_hook.py\", line 24, in auto_init_wrapper\n",
      "    return fn(*args, **kwargs)\n",
      "  File \"/home/pratik/.local/lib/python3.8/site-packages/ray/_private/client_mode_hook.py\", line 103, in wrapper\n",
      "    return func(*args, **kwargs)\n",
      "  File \"/home/pratik/.local/lib/python3.8/site-packages/ray/_private/worker.py\", line 2493, in get\n",
      "    raise value.as_instanceof_cause()\n",
      "ray.exceptions.RayTaskError(RuntimeError): \u001b[36mray::_Inner.train()\u001b[39m (pid=2996037, ip=192.168.1.10, actor_id=926b0a3eb8faaea2e1ace1a901000000, repr=BoltTrainer)\n",
      "  File \"/home/pratik/.local/lib/python3.8/site-packages/ray/tune/trainable/trainable.py\", line 375, in train\n",
      "    raise skipped from exception_cause(skipped)\n",
      "  File \"/home/pratik/.local/lib/python3.8/site-packages/ray/train/_internal/utils.py\", line 54, in check_for_failure\n",
      "    ray.get(object_ref)\n",
      "ray.exceptions.RayTaskError(RuntimeError): \u001b[36mray::_RayTrainWorker__execute.get_next()\u001b[39m (pid=2996143, ip=192.168.1.10, actor_id=627afe4affdf9312bb2e0b8c01000000, repr=<ray.train._internal.worker_group.RayTrainWorker object at 0x7f2c7dbb0eb0>)\n",
      "  File \"/home/pratik/.local/lib/python3.8/site-packages/ray/train/_internal/worker_group.py\", line 32, in __execute\n",
      "    raise skipped from exception_cause(skipped)\n",
      "  File \"/home/pratik/.local/lib/python3.8/site-packages/ray/train/_internal/utils.py\", line 129, in discard_return_wrapper\n",
      "    train_func(*args, **kwargs)\n",
      "  File \"/tmp/ipykernel_2993923/3204964688.py\", line 25, in train_loop_per_worker\n",
      "  File \"/home/pratik/.local/lib/python3.8/site-packages/thirdai/_distributed_bolt/distributed_v2.py\", line 84, in udt_coldstart_distributed_v2\n",
      "    metrics = self.cold_start(*args, **kwargs)\n",
      "  File \"/home/pratik/.local/lib/python3.8/site-packages/thirdai/bolt/udt_modifications.py\", line 207, in wrapped_cold_start\n",
      "    return original_cold_start(\n",
      "RuntimeError: The license was found to be invalid: This dataset is not authorized under this license.\n",
      "2023-08-18 07:32:31,496\tERROR tune.py:1144 -- Trials did not complete: [BoltTrainer_56884_00000]\n",
      "2023-08-18 07:32:31,497\tINFO tune.py:1148 -- Total run time: 22.89 seconds (22.86 seconds for the tuning loop).\n",
      "2023-08-18 07:32:31,502\tWARNING experiment_analysis.py:916 -- Failed to read the results for 1 trials:\n",
      "- /home/pratik/ray_results/BoltTrainer_2023-08-18_07-32-08/BoltTrainer_56884_00000_0_2023-08-18_07-32-08\n"
     ]
    },
    {
     "ename": "TrainingFailedError",
     "evalue": "The Ray Train run failed. Please inspect the previous error messages for a cause. After fixing the issue (assuming that the error is not caused by your own application logic, but rather an error such as OOM), you can restart the run from scratch or continue this run.\nTo continue this run, you can use: `trainer = BoltTrainer.restore(\"/home/pratik/ray_results/BoltTrainer_2023-08-18_07-32-08\")`.\nTo start a new run that will retry on training failures, set `air.RunConfig(failure_config=air.FailureConfig(max_failures))` in the Trainer's `run_config` with `max_failures > 0`, or `max_failures = -1` for unlimited retries.",
     "output_type": "error",
     "traceback": [
      "\u001b[0;31m---------------------------------------------------------------------------\u001b[0m",
      "\u001b[0;31mRayTaskError(RuntimeError)\u001b[0m                Traceback (most recent call last)",
      "\u001b[0;31mRayTaskError(RuntimeError)\u001b[0m: \u001b[36mray::_Inner.train()\u001b[39m (pid=2996037, ip=192.168.1.10, actor_id=926b0a3eb8faaea2e1ace1a901000000, repr=BoltTrainer)\n  File \"/home/pratik/.local/lib/python3.8/site-packages/ray/tune/trainable/trainable.py\", line 375, in train\n    raise skipped from exception_cause(skipped)\n  File \"/home/pratik/.local/lib/python3.8/site-packages/ray/train/_internal/utils.py\", line 54, in check_for_failure\n    ray.get(object_ref)\nray.exceptions.RayTaskError(RuntimeError): \u001b[36mray::_RayTrainWorker__execute.get_next()\u001b[39m (pid=2996143, ip=192.168.1.10, actor_id=627afe4affdf9312bb2e0b8c01000000, repr=<ray.train._internal.worker_group.RayTrainWorker object at 0x7f2c7dbb0eb0>)\n  File \"/home/pratik/.local/lib/python3.8/site-packages/ray/train/_internal/worker_group.py\", line 32, in __execute\n    raise skipped from exception_cause(skipped)\n  File \"/home/pratik/.local/lib/python3.8/site-packages/ray/train/_internal/utils.py\", line 129, in discard_return_wrapper\n    train_func(*args, **kwargs)\n  File \"/tmp/ipykernel_2993923/3204964688.py\", line 25, in train_loop_per_worker\n  File \"/home/pratik/.local/lib/python3.8/site-packages/thirdai/_distributed_bolt/distributed_v2.py\", line 84, in udt_coldstart_distributed_v2\n    metrics = self.cold_start(*args, **kwargs)\n  File \"/home/pratik/.local/lib/python3.8/site-packages/thirdai/bolt/udt_modifications.py\", line 207, in wrapped_cold_start\n    return original_cold_start(\nRuntimeError: The license was found to be invalid: This dataset is not authorized under this license.",
      "\nThe above exception was the direct cause of the following exception:\n",
      "\u001b[0;31mTrainingFailedError\u001b[0m                       Traceback (most recent call last)",
      "\u001b[1;32m/home/pratik/Demos/distributed/ColdStartDistributedTraining.ipynb Cell 13\u001b[0m in \u001b[0;36m1\n\u001b[1;32m      <a href='vscode-notebook-cell://ssh-remote%2Bremote10/home/pratik/Demos/distributed/ColdStartDistributedTraining.ipynb#X15sdnNjb2RlLXJlbW90ZQ%3D%3D?line=1'>2</a>\u001b[0m \u001b[39mfrom\u001b[39;00m \u001b[39mray\u001b[39;00m\u001b[39m.\u001b[39;00m\u001b[39mtrain\u001b[39;00m\u001b[39m.\u001b[39;00m\u001b[39mtorch\u001b[39;00m \u001b[39mimport\u001b[39;00m TorchConfig\n\u001b[1;32m      <a href='vscode-notebook-cell://ssh-remote%2Bremote10/home/pratik/Demos/distributed/ColdStartDistributedTraining.ipynb#X15sdnNjb2RlLXJlbW90ZQ%3D%3D?line=3'>4</a>\u001b[0m trainer \u001b[39m=\u001b[39m dist\u001b[39m.\u001b[39mBoltTrainer(\n\u001b[1;32m      <a href='vscode-notebook-cell://ssh-remote%2Bremote10/home/pratik/Demos/distributed/ColdStartDistributedTraining.ipynb#X15sdnNjb2RlLXJlbW90ZQ%3D%3D?line=4'>5</a>\u001b[0m     train_loop_per_worker\u001b[39m=\u001b[39mtrain_loop_per_worker,\n\u001b[1;32m      <a href='vscode-notebook-cell://ssh-remote%2Bremote10/home/pratik/Demos/distributed/ColdStartDistributedTraining.ipynb#X15sdnNjb2RlLXJlbW90ZQ%3D%3D?line=5'>6</a>\u001b[0m     train_loop_config\u001b[39m=\u001b[39m{\n\u001b[0;32m   (...)\u001b[0m\n\u001b[1;32m     <a href='vscode-notebook-cell://ssh-remote%2Bremote10/home/pratik/Demos/distributed/ColdStartDistributedTraining.ipynb#X15sdnNjb2RlLXJlbW90ZQ%3D%3D?line=9'>10</a>\u001b[0m     backend_config\u001b[39m=\u001b[39mTorchConfig(backend\u001b[39m=\u001b[39m\u001b[39m\"\u001b[39m\u001b[39mgloo\u001b[39m\u001b[39m\"\u001b[39m),\n\u001b[1;32m     <a href='vscode-notebook-cell://ssh-remote%2Bremote10/home/pratik/Demos/distributed/ColdStartDistributedTraining.ipynb#X15sdnNjb2RlLXJlbW90ZQ%3D%3D?line=10'>11</a>\u001b[0m )\n\u001b[0;32m---> <a href='vscode-notebook-cell://ssh-remote%2Bremote10/home/pratik/Demos/distributed/ColdStartDistributedTraining.ipynb#X15sdnNjb2RlLXJlbW90ZQ%3D%3D?line=12'>13</a>\u001b[0m result_checkpoint_and_history \u001b[39m=\u001b[39m trainer\u001b[39m.\u001b[39;49mfit()\n",
      "File \u001b[0;32m~/.local/lib/python3.8/site-packages/ray/train/base_trainer.py:630\u001b[0m, in \u001b[0;36mBaseTrainer.fit\u001b[0;34m(self)\u001b[0m\n\u001b[1;32m    626\u001b[0m result \u001b[39m=\u001b[39m result_grid[\u001b[39m0\u001b[39m]\n\u001b[1;32m    627\u001b[0m \u001b[39mif\u001b[39;00m result\u001b[39m.\u001b[39merror:\n\u001b[1;32m    628\u001b[0m     \u001b[39m# Raise trainable errors to the user with a message to restore\u001b[39;00m\n\u001b[1;32m    629\u001b[0m     \u001b[39m# or configure `FailureConfig` in a new run.\u001b[39;00m\n\u001b[0;32m--> 630\u001b[0m     \u001b[39mraise\u001b[39;00m TrainingFailedError(\n\u001b[1;32m    631\u001b[0m         \u001b[39m\"\u001b[39m\u001b[39m\\n\u001b[39;00m\u001b[39m\"\u001b[39m\u001b[39m.\u001b[39mjoin([restore_msg, TrainingFailedError\u001b[39m.\u001b[39m_FAILURE_CONFIG_MSG])\n\u001b[1;32m    632\u001b[0m     ) \u001b[39mfrom\u001b[39;00m \u001b[39mresult\u001b[39;00m\u001b[39m.\u001b[39;00m\u001b[39merror\u001b[39;00m\n\u001b[1;32m    633\u001b[0m \u001b[39mreturn\u001b[39;00m result\n",
      "\u001b[0;31mTrainingFailedError\u001b[0m: The Ray Train run failed. Please inspect the previous error messages for a cause. After fixing the issue (assuming that the error is not caused by your own application logic, but rather an error such as OOM), you can restart the run from scratch or continue this run.\nTo continue this run, you can use: `trainer = BoltTrainer.restore(\"/home/pratik/ray_results/BoltTrainer_2023-08-18_07-32-08\")`.\nTo start a new run that will retry on training failures, set `air.RunConfig(failure_config=air.FailureConfig(max_failures))` in the Trainer's `run_config` with `max_failures > 0`, or `max_failures = -1` for unlimited retries."
     ]
    }
   ],
   "source": [
    "import os\n",
    "from ray.train.torch import TorchConfig\n",
    "\n",
    "trainer = dist.BoltTrainer(\n",
    "    train_loop_per_worker=train_loop_per_worker,\n",
    "    train_loop_config={\n",
    "        \"curr_dir\": os.path.abspath(os.getcwd()),\n",
    "    },\n",
    "    scaling_config=scaling_config,\n",
    "    backend_config=TorchConfig(backend=\"gloo\"),\n",
    ")\n",
    "\n",
    "result_checkpoint_and_history = trainer.fit()"
   ]
  },
  {
   "attachments": {},
   "cell_type": "markdown",
   "metadata": {},
   "source": [
    "## 6. Save and load the model"
   ]
  },
  {
   "cell_type": "code",
   "execution_count": null,
   "metadata": {},
   "outputs": [],
   "source": [
    "model = result_checkpoint_and_history.checkpoint.get_model()\n",
    "model.save('./agnews.model')\n",
    "\n",
    "model = bolt.UniversalDeepTransformer.load('./agnews.model')"
   ]
  },
  {
   "attachments": {},
   "cell_type": "markdown",
   "metadata": {},
   "source": [
    "## 7. Make Predictions\n",
    "\n",
    "### Example 1"
   ]
  },
  {
   "cell_type": "code",
   "execution_count": null,
   "metadata": {},
   "outputs": [],
   "source": [
    "import numpy as np\n",
    "import pandas as pd\n",
    "\n",
    "from thirdai.demos import download_agnews_dataset\n",
    "\n",
    "corpus_file = './agnews.csv'\n",
    "download_agnews_dataset(corpus_file)\n",
    "\n",
    "df = pd.read_csv(corpus_file)\n",
    "\n",
    "activations = model.predict({'query':'BRITAIN: BLAIR WARNS OF CLIMATE THREAT Prime Minister Tony Blair urged the international community to consider global warming a dire threat and agree on a plan of action to curb the  quot;alarming quot; growth of greenhouse gases'})\n",
    "top_preds = np.argsort(-activations)[:5]\n",
    "\n",
    "df.iloc[top_preds]"
   ]
  },
  {
   "attachments": {},
   "cell_type": "markdown",
   "metadata": {},
   "source": [
    "For the same example, here are the top-5 results that OpenAI's Search and Recommendation notebook (https://github.com/openai/openai-cookbook/blob/main/examples/Recommendation_using_embeddings.ipynb) gets.\n",
    "\n",
    "| text |\n",
    "| --- |\n",
    "| THE re-election of British Prime Minister Tony Blair would be seen as an endorsement of the military action in Iraq, Prime Minister John Howard said today |\n",
    "| LONDON, England -- A US scientist is reported to have observed a surprising jump in the amount of carbon dioxide, the main greenhouse gas. |\n",
    "| The anguish of hostage Kenneth Bigley in Iraq hangs over Prime Minister Tony Blair today as he faces the twin test of a local election and a debate by his Labour Party about the divisive war. |\n",
    "| Israel is prepared to back a Middle East conference convened by Tony Blair early next year despite having expressed fears that the British plans were over-ambitious and designed |\n",
    "| AFP - A battle group of British troops rolled out of southern Iraq on a US-requested mission to deadlier areas near Baghdad, in a major political gamble for British Prime Minister Tony Blair. |\n",
    "\n",
    "\n",
    "### Example 2"
   ]
  },
  {
   "cell_type": "code",
   "execution_count": null,
   "metadata": {},
   "outputs": [],
   "source": [
    "activations = model.predict({'query':'PC World - Upcoming chip set will include built-in security features for your PC'})\n",
    "top_preds = np.argsort(-activations)[:5]\n",
    "\n",
    "df.iloc[top_preds]"
   ]
  },
  {
   "attachments": {},
   "cell_type": "markdown",
   "metadata": {},
   "source": [
    "For the same example, here are the top-5 results that OpenAI's Search and Recommendation notebook (https://github.com/openai/openai-cookbook/blob/main/examples/Recommendation_using_embeddings.ipynb) gets.\n",
    "\n",
    "| text |\n",
    "| --- |\n",
    "| PC World - Updated antivirus software for businesses adds intrusion prevention features. |\n",
    "| PC World - The one-time World Class Product of the Year PDA gets a much-needed upgrade. |\n",
    "| PC World - Send your video throughout your house--wirelessly--with new gateways and media adapters. |\n",
    "| PC World - Symantec, McAfee hope raising virus-definition fees will move users to\\  suites. |\n",
    "| Gateway computers will be more widely available at Office Depot, in the PC maker #39;s latest move to broaden distribution at retail stores since acquiring rival eMachines this year. |"
   ]
  },
  {
   "attachments": {},
   "cell_type": "markdown",
   "metadata": {},
   "source": [
    "# Ray Cluster Teardown"
   ]
  },
  {
   "cell_type": "code",
   "execution_count": null,
   "metadata": {},
   "outputs": [],
   "source": [
    "ray.shutdown()"
   ]
  }
 ],
 "metadata": {
  "kernelspec": {
   "display_name": "Python 3",
   "language": "python",
   "name": "python3"
  },
  "language_info": {
   "codemirror_mode": {
    "name": "ipython",
    "version": 3
   },
   "file_extension": ".py",
   "mimetype": "text/x-python",
   "name": "python",
   "nbconvert_exporter": "python",
   "pygments_lexer": "ipython3",
   "version": "3.8.10"
  },
  "orig_nbformat": 4
 },
 "nbformat": 4,
 "nbformat_minor": 2
}
