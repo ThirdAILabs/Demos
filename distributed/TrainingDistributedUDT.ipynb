{
 "cells": [
  {
   "attachments": {},
   "cell_type": "markdown",
   "metadata": {},
   "source": [
    "## Data Parallel Training for ThirdAI's UDT\n",
    "\n",
    "This notebook shows how to run Data Parallel Training for ThirdAI's UDT. We will be using CLINC 150 small dataset for training and evaluation for this demo. But, you can easily replace this with your workload. \n",
    "\n",
    "ThirdAI's Distributed Data Parallel Training assumes that you already have a ray cluster running. For this demo, we would be using the ray mock cluster to simulate the ray cluster. For seetting up a ray cluster, see here: https://docs.ray.io/en/latest/cluster/getting-started.html"
   ]
  },
  {
   "cell_type": "code",
   "execution_count": 1,
   "metadata": {},
   "outputs": [
    {
     "name": "stdout",
     "output_type": "stream",
     "text": [
      "Requirement already satisfied: ray in /home/mritunjay/miniconda3/lib/python3.8/site-packages (2.6.1)\n",
      "Requirement already satisfied: click>=7.0 in /home/mritunjay/miniconda3/lib/python3.8/site-packages (from ray) (8.1.6)\n",
      "Requirement already satisfied: filelock in /home/mritunjay/miniconda3/lib/python3.8/site-packages (from ray) (3.12.2)\n",
      "Requirement already satisfied: jsonschema in /home/mritunjay/miniconda3/lib/python3.8/site-packages (from ray) (4.18.4)\n",
      "Requirement already satisfied: msgpack<2.0.0,>=1.0.0 in /home/mritunjay/miniconda3/lib/python3.8/site-packages (from ray) (1.0.5)\n",
      "Requirement already satisfied: packaging in /home/mritunjay/miniconda3/lib/python3.8/site-packages (from ray) (23.0)\n",
      "Requirement already satisfied: protobuf!=3.19.5,>=3.15.3 in /home/mritunjay/miniconda3/lib/python3.8/site-packages (from ray) (4.23.4)\n",
      "Requirement already satisfied: pyyaml in /home/mritunjay/miniconda3/lib/python3.8/site-packages (from ray) (6.0.1)\n",
      "Requirement already satisfied: aiosignal in /home/mritunjay/miniconda3/lib/python3.8/site-packages (from ray) (1.3.1)\n",
      "Requirement already satisfied: frozenlist in /home/mritunjay/miniconda3/lib/python3.8/site-packages (from ray) (1.4.0)\n",
      "Requirement already satisfied: requests in /home/mritunjay/miniconda3/lib/python3.8/site-packages (from ray) (2.31.0)\n",
      "Requirement already satisfied: grpcio>=1.32.0 in /home/mritunjay/miniconda3/lib/python3.8/site-packages (from ray) (1.51.3)\n",
      "Requirement already satisfied: numpy>=1.16 in /home/mritunjay/miniconda3/lib/python3.8/site-packages (from ray) (1.24.4)\n",
      "Requirement already satisfied: attrs>=22.2.0 in /home/mritunjay/miniconda3/lib/python3.8/site-packages (from jsonschema->ray) (23.1.0)\n",
      "Requirement already satisfied: importlib-resources>=1.4.0 in /home/mritunjay/miniconda3/lib/python3.8/site-packages (from jsonschema->ray) (6.0.0)\n",
      "Requirement already satisfied: jsonschema-specifications>=2023.03.6 in /home/mritunjay/miniconda3/lib/python3.8/site-packages (from jsonschema->ray) (2023.7.1)\n",
      "Requirement already satisfied: pkgutil-resolve-name>=1.3.10 in /home/mritunjay/miniconda3/lib/python3.8/site-packages (from jsonschema->ray) (1.3.10)\n",
      "Requirement already satisfied: referencing>=0.28.4 in /home/mritunjay/miniconda3/lib/python3.8/site-packages (from jsonschema->ray) (0.30.0)\n",
      "Requirement already satisfied: rpds-py>=0.7.1 in /home/mritunjay/miniconda3/lib/python3.8/site-packages (from jsonschema->ray) (0.9.2)\n",
      "Requirement already satisfied: charset-normalizer<4,>=2 in /home/mritunjay/miniconda3/lib/python3.8/site-packages (from requests->ray) (3.2.0)\n",
      "Requirement already satisfied: idna<4,>=2.5 in /home/mritunjay/miniconda3/lib/python3.8/site-packages (from requests->ray) (3.4)\n",
      "Requirement already satisfied: urllib3<3,>=1.21.1 in /home/mritunjay/miniconda3/lib/python3.8/site-packages (from requests->ray) (1.26.16)\n",
      "Requirement already satisfied: certifi>=2017.4.17 in /home/mritunjay/miniconda3/lib/python3.8/site-packages (from requests->ray) (2023.7.22)\n",
      "Requirement already satisfied: zipp>=3.1.0 in /home/mritunjay/miniconda3/lib/python3.8/site-packages (from importlib-resources>=1.4.0->jsonschema->ray) (3.16.2)\n",
      "Requirement already satisfied: torch in /home/mritunjay/miniconda3/lib/python3.8/site-packages (2.0.1)\n",
      "Requirement already satisfied: filelock in /home/mritunjay/miniconda3/lib/python3.8/site-packages (from torch) (3.12.2)\n",
      "Requirement already satisfied: typing-extensions in /home/mritunjay/miniconda3/lib/python3.8/site-packages (from torch) (4.7.1)\n",
      "Requirement already satisfied: sympy in /home/mritunjay/miniconda3/lib/python3.8/site-packages (from torch) (1.12)\n",
      "Requirement already satisfied: networkx in /home/mritunjay/miniconda3/lib/python3.8/site-packages (from torch) (3.1)\n",
      "Requirement already satisfied: jinja2 in /home/mritunjay/miniconda3/lib/python3.8/site-packages (from torch) (3.1.2)\n",
      "Requirement already satisfied: nvidia-cuda-nvrtc-cu11==11.7.99 in /home/mritunjay/miniconda3/lib/python3.8/site-packages (from torch) (11.7.99)\n",
      "Requirement already satisfied: nvidia-cuda-runtime-cu11==11.7.99 in /home/mritunjay/miniconda3/lib/python3.8/site-packages (from torch) (11.7.99)\n",
      "Requirement already satisfied: nvidia-cuda-cupti-cu11==11.7.101 in /home/mritunjay/miniconda3/lib/python3.8/site-packages (from torch) (11.7.101)\n",
      "Requirement already satisfied: nvidia-cudnn-cu11==8.5.0.96 in /home/mritunjay/miniconda3/lib/python3.8/site-packages (from torch) (8.5.0.96)\n",
      "Requirement already satisfied: nvidia-cublas-cu11==11.10.3.66 in /home/mritunjay/miniconda3/lib/python3.8/site-packages (from torch) (11.10.3.66)\n",
      "Requirement already satisfied: nvidia-cufft-cu11==10.9.0.58 in /home/mritunjay/miniconda3/lib/python3.8/site-packages (from torch) (10.9.0.58)\n",
      "Requirement already satisfied: nvidia-curand-cu11==10.2.10.91 in /home/mritunjay/miniconda3/lib/python3.8/site-packages (from torch) (10.2.10.91)\n",
      "Requirement already satisfied: nvidia-cusolver-cu11==11.4.0.1 in /home/mritunjay/miniconda3/lib/python3.8/site-packages (from torch) (11.4.0.1)\n",
      "Requirement already satisfied: nvidia-cusparse-cu11==11.7.4.91 in /home/mritunjay/miniconda3/lib/python3.8/site-packages (from torch) (11.7.4.91)\n",
      "Requirement already satisfied: nvidia-nccl-cu11==2.14.3 in /home/mritunjay/miniconda3/lib/python3.8/site-packages (from torch) (2.14.3)\n",
      "Requirement already satisfied: nvidia-nvtx-cu11==11.7.91 in /home/mritunjay/miniconda3/lib/python3.8/site-packages (from torch) (11.7.91)\n",
      "Requirement already satisfied: triton==2.0.0 in /home/mritunjay/miniconda3/lib/python3.8/site-packages (from torch) (2.0.0)\n",
      "Requirement already satisfied: setuptools in /home/mritunjay/miniconda3/lib/python3.8/site-packages (from nvidia-cublas-cu11==11.10.3.66->torch) (68.0.0)\n",
      "Requirement already satisfied: wheel in /home/mritunjay/miniconda3/lib/python3.8/site-packages (from nvidia-cublas-cu11==11.10.3.66->torch) (0.38.4)\n",
      "Requirement already satisfied: cmake in /home/mritunjay/miniconda3/lib/python3.8/site-packages (from triton==2.0.0->torch) (3.27.0)\n",
      "Requirement already satisfied: lit in /home/mritunjay/miniconda3/lib/python3.8/site-packages (from triton==2.0.0->torch) (16.0.6)\n",
      "Requirement already satisfied: MarkupSafe>=2.0 in /home/mritunjay/miniconda3/lib/python3.8/site-packages (from jinja2->torch) (2.1.3)\n",
      "Requirement already satisfied: mpmath>=0.19 in /home/mritunjay/miniconda3/lib/python3.8/site-packages (from sympy->torch) (1.3.0)\n"
     ]
    },
    {
     "name": "stderr",
     "output_type": "stream",
     "text": [
      "/home/mritunjay/miniconda3/lib/python3.8/site-packages/tqdm/auto.py:21: TqdmWarning: IProgress not found. Please update jupyter and ipywidgets. See https://ipywidgets.readthedocs.io/en/stable/user_install.html\n",
      "  from .autonotebook import tqdm as notebook_tqdm\n",
      "2023-08-08 08:22:17,557\tINFO util.py:159 -- Missing packages: ['ipywidgets']. Run `pip install -U ipywidgets`, then restart the notebook server for rich notebook output.\n",
      "2023-08-08 08:22:19,603\tWARNING collective.py:20 -- NCCL seems unavailable. Please install Cupy following the guide at: https://docs.cupy.dev/en/stable/install.html.\n",
      "2023-08-08 08:22:19,881\tINFO util.py:159 -- Missing packages: ['ipywidgets']. Run `pip install -U ipywidgets`, then restart the notebook server for rich notebook output.\n",
      "2023-08-08 08:22:20,026\tINFO util.py:159 -- Missing packages: ['ipywidgets']. Run `pip install -U ipywidgets`, then restart the notebook server for rich notebook output.\n"
     ]
    }
   ],
   "source": [
    "#!pip3 install thirdai --upgrade --no-cache-dir --force-reinstall\n",
    "!pip3 install ray\n",
    "!pip3 install torch\n",
    "\n",
    "import thirdai\n",
    "from thirdai import bolt\n",
    "import thirdai.distributed_bolt as dist     "
   ]
  },
  {
   "attachments": {},
   "cell_type": "markdown",
   "metadata": {},
   "source": [
    "## Ray Cluster Initialization\n",
    "For the purpose of this demo, we will be initializing a mock ray cluster of 2 nodes here."
   ]
  },
  {
   "cell_type": "code",
   "execution_count": 2,
   "metadata": {},
   "outputs": [
    {
     "name": "stderr",
     "output_type": "stream",
     "text": [
      "2023-08-08 08:22:37,625\tINFO worker.py:1612 -- Started a local Ray instance. View the dashboard at \u001b[1m\u001b[32mhttp://127.0.0.1:8266 \u001b[39m\u001b[22m\n"
     ]
    }
   ],
   "source": [
    "import ray\n",
    "from ray.air import ScalingConfig, session\n",
    "\n",
    "cpus_per_node = (dist.get_num_cpus() - 1) // 2\n",
    "\n",
    "ray.init(ignore_reinit_error=True)\n",
    "scaling_config = ScalingConfig(\n",
    "    num_workers=2,\n",
    "    use_gpu=False,\n",
    "    trainer_resources={\"CPU\": 1},\n",
    "    resources_per_worker={\"CPU\": cpus_per_node},\n",
    "    placement_strategy=\"PACK\",\n",
    ")"
   ]
  },
  {
   "attachments": {},
   "cell_type": "markdown",
   "metadata": {},
   "source": [
    "# Dataset Download\n",
    "\n",
    "We will use the demos module in the thirdai package to download the CLINC 150 small dataset. You can replace theis step and the next step with a download method and a UDT initialization that is specific to your dataset."
   ]
  },
  {
   "cell_type": "code",
   "execution_count": 3,
   "metadata": {},
   "outputs": [],
   "source": [
    "from thirdai.demos import download_clinc_dataset\n",
    "\n",
    "train_filenames, test_filename , _ = download_clinc_dataset(num_training_files=2, clinc_small=True)"
   ]
  },
  {
   "attachments": {},
   "cell_type": "markdown",
   "metadata": {},
   "source": [
    "# UDT Initialization\n",
    "We can now create a UDT model by passing in the types of each column in the dataset and the target column we want to be able to predict."
   ]
  },
  {
   "cell_type": "code",
   "execution_count": 4,
   "metadata": {},
   "outputs": [],
   "source": [
    "def get_udt_model():\n",
    "    model = bolt.UniversalDeepTransformer(\n",
    "        data_types={\n",
    "            \"text\": bolt.types.text(),\n",
    "            \"category\": bolt.types.categorical(),\n",
    "        },\n",
    "        target=\"category\",\n",
    "        n_target_classes=151,\n",
    "        integer_target=True,\n",
    "    )\n",
    "    return model\n",
    "    \n",
    "def train_loop_per_worker(config):\n",
    "    # thirdai.licensing.deactivate()\n",
    "    # thirdai.licensing.activate(\"HN7J-W79C-KN9U-WTKE-9PNM-4PVR-CNPJ-WTWE\") \n",
    "\n",
    "    model = get_udt_model()\n",
    "    model = dist.prepare_model(model)\n",
    "\n",
    "    metrics = model.train_distributed_v2(\n",
    "        filename=os.path.join(config[\"curr_dir\"], train_filenames[session.get_world_rank()]),\n",
    "        learning_rate=0.02,\n",
    "        epochs=1,\n",
    "        batch_size=256,\n",
    "        metrics=[\"categorical_accuracy\"],\n",
    "        verbose=True,\n",
    "    )\n",
    "\n",
    "    session.report(\n",
    "        metrics=metrics,\n",
    "        checkpoint=dist.UDTCheckPoint.from_model(model),\n",
    "    )\n",
    "\n"
   ]
  },
  {
   "attachments": {},
   "cell_type": "markdown",
   "metadata": {},
   "source": [
    "## Distributed Training\n",
    "\n",
    "We will now train a UDT model in distributed data parallel fashion. Feel free to customize the number of epochs and the learning rate; we have chosen values that give good convergence. "
   ]
  },
  {
   "cell_type": "code",
   "execution_count": 5,
   "metadata": {},
   "outputs": [
    {
     "ename": "NameError",
     "evalue": "name 'licensing_lambda' is not defined",
     "output_type": "error",
     "traceback": [
      "\u001b[0;31m---------------------------------------------------------------------------\u001b[0m",
      "\u001b[0;31mNameError\u001b[0m                                 Traceback (most recent call last)",
      "Cell \u001b[0;32mIn[5], line 8\u001b[0m\n\u001b[1;32m      1\u001b[0m \u001b[39mimport\u001b[39;00m \u001b[39mos\u001b[39;00m\n\u001b[1;32m      2\u001b[0m \u001b[39mfrom\u001b[39;00m \u001b[39mray\u001b[39;00m\u001b[39m.\u001b[39;00m\u001b[39mtrain\u001b[39;00m\u001b[39m.\u001b[39;00m\u001b[39mtorch\u001b[39;00m \u001b[39mimport\u001b[39;00m TorchConfig\n\u001b[1;32m      4\u001b[0m trainer \u001b[39m=\u001b[39m dist\u001b[39m.\u001b[39mBoltTrainer(\n\u001b[1;32m      5\u001b[0m     train_loop_per_worker\u001b[39m=\u001b[39mtrain_loop_per_worker,\n\u001b[1;32m      6\u001b[0m     train_loop_config\u001b[39m=\u001b[39m{\n\u001b[1;32m      7\u001b[0m         \u001b[39m\"\u001b[39m\u001b[39mcurr_dir\u001b[39m\u001b[39m\"\u001b[39m: os\u001b[39m.\u001b[39mpath\u001b[39m.\u001b[39mabspath(os\u001b[39m.\u001b[39mgetcwd()),\n\u001b[0;32m----> 8\u001b[0m         \u001b[39m\"\u001b[39m\u001b[39mlicensing_lambda\u001b[39m\u001b[39m\"\u001b[39m: licensing_lambda,\n\u001b[1;32m      9\u001b[0m     },\n\u001b[1;32m     10\u001b[0m     scaling_config\u001b[39m=\u001b[39mscaling_config,\n\u001b[1;32m     11\u001b[0m     backend_config\u001b[39m=\u001b[39mTorchConfig(backend\u001b[39m=\u001b[39m\u001b[39m\"\u001b[39m\u001b[39mgloo\u001b[39m\u001b[39m\"\u001b[39m),\n\u001b[1;32m     12\u001b[0m )\n\u001b[1;32m     14\u001b[0m result_checkpoint_and_history \u001b[39m=\u001b[39m trainer\u001b[39m.\u001b[39mfit()\n",
      "\u001b[0;31mNameError\u001b[0m: name 'licensing_lambda' is not defined"
     ]
    }
   ],
   "source": [
    "import os\n",
    "from ray.train.torch import TorchConfig\n",
    "\n",
    "trainer = dist.BoltTrainer(\n",
    "    train_loop_per_worker=train_loop_per_worker,\n",
    "    train_loop_config={\n",
    "        \"curr_dir\": os.path.abspath(os.getcwd()),\n",
    "        #\"licensing_lambda\": licensing_lambda,\n",
    "    },\n",
    "    scaling_config=scaling_config,\n",
    "    backend_config=TorchConfig(backend=\"gloo\"),\n",
    ")\n",
    "\n",
    "result_checkpoint_and_history = trainer.fit()\n"
   ]
  },
  {
   "attachments": {},
   "cell_type": "markdown",
   "metadata": {},
   "source": [
    "# Evaluation\n",
    "Evaluating the performance of the UDT model is just one line!"
   ]
  },
  {
   "cell_type": "code",
   "execution_count": null,
   "metadata": {},
   "outputs": [],
   "source": [
    "model = result_checkpoint_and_history.checkpoint.get_model()\n",
    "model.evaluate(test_filename, metrics=[\"categorical_accuracy\"])"
   ]
  }
 ],
 "metadata": {
  "interpreter": {
   "hash": "fafa2ae3b9bcbc6d7aa32fa0c85028d7b19786ae305b93c12494f7ce2a7a639d"
  },
  "kernelspec": {
   "display_name": "Python 3.8.10 64-bit ('3.8.10')",
   "language": "python",
   "name": "python3"
  },
  "language_info": {
   "codemirror_mode": {
    "name": "ipython",
    "version": 3
   },
   "file_extension": ".py",
   "mimetype": "text/x-python",
   "name": "python",
   "nbconvert_exporter": "python",
   "pygments_lexer": "ipython3",
   "version": "3.8.16"
  }
 },
 "nbformat": 4,
 "nbformat_minor": 2
}
