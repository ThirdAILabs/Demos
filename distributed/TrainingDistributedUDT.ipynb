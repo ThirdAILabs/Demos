{
 "cells": [
  {
   "attachments": {},
   "cell_type": "markdown",
   "metadata": {},
   "source": [
    "## Data Parallel Training for ThirdAI's UDT\n",
    "\n",
    "This notebook shows how to run Data Parallel Training for ThirdAI's UDT. We will be using CLINC 150 small dataset for training and evaluation for this demo. But, you can easily replace this with your workload. \n",
    "\n",
    "ThirdAI's Distributed Data Parallel Training assumes that you already have a ray cluster running. For this demo, we would be using the ray mock cluster to simulate the ray cluster. For seetting up a ray cluster, see here: https://docs.ray.io/en/latest/cluster/getting-started.html"
   ]
  },
  {
   "cell_type": "code",
   "execution_count": 1,
   "metadata": {},
   "outputs": [
    {
     "name": "stdout",
     "output_type": "stream",
     "text": [
      "/bin/pip3:6: DeprecationWarning: pkg_resources is deprecated as an API. See https://setuptools.pypa.io/en/latest/pkg_resources.html\n",
      "  from pkg_resources import load_entry_point\n",
      "Requirement already satisfied: ray in /home/pratik/.local/lib/python3.8/site-packages (2.6.1)\n",
      "Requirement already satisfied: click>=7.0 in /home/pratik/.local/lib/python3.8/site-packages (from ray) (8.1.3)\n",
      "Requirement already satisfied: filelock in /home/pratik/.local/lib/python3.8/site-packages (from ray) (3.12.2)\n",
      "Requirement already satisfied: jsonschema in /home/pratik/.local/lib/python3.8/site-packages (from ray) (4.17.3)\n",
      "Requirement already satisfied: msgpack<2.0.0,>=1.0.0 in /home/pratik/.local/lib/python3.8/site-packages (from ray) (1.0.5)\n",
      "Requirement already satisfied: packaging in /home/pratik/.local/lib/python3.8/site-packages (from ray) (23.1)\n",
      "Requirement already satisfied: protobuf!=3.19.5,>=3.15.3 in /home/pratik/.local/lib/python3.8/site-packages (from ray) (3.20.0)\n",
      "Requirement already satisfied: pyyaml in /home/pratik/.local/lib/python3.8/site-packages (from ray) (6.0)\n",
      "Requirement already satisfied: aiosignal in /home/pratik/.local/lib/python3.8/site-packages (from ray) (1.3.1)\n",
      "Requirement already satisfied: frozenlist in /home/pratik/.local/lib/python3.8/site-packages (from ray) (1.3.3)\n",
      "Requirement already satisfied: requests in /home/pratik/.local/lib/python3.8/site-packages (from ray) (2.31.0)\n",
      "Requirement already satisfied: grpcio>=1.32.0; python_version < \"3.10\" in /home/pratik/.local/lib/python3.8/site-packages (from ray) (1.51.3)\n",
      "Requirement already satisfied: numpy>=1.16; python_version < \"3.9\" in /home/pratik/.local/lib/python3.8/site-packages (from ray) (1.23.5)\n",
      "Requirement already satisfied: attrs>=17.4.0 in /home/pratik/.local/lib/python3.8/site-packages (from jsonschema->ray) (23.1.0)\n",
      "Requirement already satisfied: importlib-resources>=1.4.0; python_version < \"3.9\" in /home/pratik/.local/lib/python3.8/site-packages (from jsonschema->ray) (5.12.0)\n",
      "Requirement already satisfied: pkgutil-resolve-name>=1.3.10; python_version < \"3.9\" in /home/pratik/.local/lib/python3.8/site-packages (from jsonschema->ray) (1.3.10)\n",
      "Requirement already satisfied: pyrsistent!=0.17.0,!=0.17.1,!=0.17.2,>=0.14.0 in /home/pratik/.local/lib/python3.8/site-packages (from jsonschema->ray) (0.19.3)\n",
      "Requirement already satisfied: charset-normalizer<4,>=2 in /home/pratik/.local/lib/python3.8/site-packages (from requests->ray) (3.1.0)\n",
      "Requirement already satisfied: idna<4,>=2.5 in /home/pratik/.local/lib/python3.8/site-packages (from requests->ray) (3.4)\n",
      "Requirement already satisfied: urllib3<3,>=1.21.1 in /home/pratik/.local/lib/python3.8/site-packages (from requests->ray) (2.0.3)\n",
      "Requirement already satisfied: certifi>=2017.4.17 in /home/pratik/.local/lib/python3.8/site-packages (from requests->ray) (2023.5.7)\n",
      "Requirement already satisfied: zipp>=3.1.0; python_version < \"3.10\" in /home/pratik/.local/lib/python3.8/site-packages (from importlib-resources>=1.4.0; python_version < \"3.9\"->jsonschema->ray) (3.15.0)\n",
      "/bin/pip3:6: DeprecationWarning: pkg_resources is deprecated as an API. See https://setuptools.pypa.io/en/latest/pkg_resources.html\n",
      "  from pkg_resources import load_entry_point\n",
      "Requirement already satisfied: torch in /home/pratik/.local/lib/python3.8/site-packages (2.0.1)\n",
      "Requirement already satisfied: filelock in /home/pratik/.local/lib/python3.8/site-packages (from torch) (3.12.2)\n",
      "Requirement already satisfied: typing-extensions in /home/pratik/.local/lib/python3.8/site-packages (from torch) (4.6.3)\n",
      "Requirement already satisfied: sympy in /home/pratik/.local/lib/python3.8/site-packages (from torch) (1.12)\n",
      "Requirement already satisfied: networkx in /home/pratik/.local/lib/python3.8/site-packages (from torch) (3.1)\n",
      "Requirement already satisfied: jinja2 in /home/pratik/.local/lib/python3.8/site-packages (from torch) (3.1.2)\n",
      "Requirement already satisfied: nvidia-cuda-nvrtc-cu11==11.7.99; platform_system == \"Linux\" and platform_machine == \"x86_64\" in /home/pratik/.local/lib/python3.8/site-packages (from torch) (11.7.99)\n",
      "Requirement already satisfied: nvidia-cuda-runtime-cu11==11.7.99; platform_system == \"Linux\" and platform_machine == \"x86_64\" in /home/pratik/.local/lib/python3.8/site-packages (from torch) (11.7.99)\n",
      "Requirement already satisfied: nvidia-cuda-cupti-cu11==11.7.101; platform_system == \"Linux\" and platform_machine == \"x86_64\" in /home/pratik/.local/lib/python3.8/site-packages (from torch) (11.7.101)\n",
      "Requirement already satisfied: nvidia-cudnn-cu11==8.5.0.96; platform_system == \"Linux\" and platform_machine == \"x86_64\" in /home/pratik/.local/lib/python3.8/site-packages (from torch) (8.5.0.96)\n",
      "Requirement already satisfied: nvidia-cublas-cu11==11.10.3.66; platform_system == \"Linux\" and platform_machine == \"x86_64\" in /home/pratik/.local/lib/python3.8/site-packages (from torch) (11.10.3.66)\n",
      "Requirement already satisfied: nvidia-cufft-cu11==10.9.0.58; platform_system == \"Linux\" and platform_machine == \"x86_64\" in /home/pratik/.local/lib/python3.8/site-packages (from torch) (10.9.0.58)\n",
      "Requirement already satisfied: nvidia-curand-cu11==10.2.10.91; platform_system == \"Linux\" and platform_machine == \"x86_64\" in /home/pratik/.local/lib/python3.8/site-packages (from torch) (10.2.10.91)\n",
      "Requirement already satisfied: nvidia-cusolver-cu11==11.4.0.1; platform_system == \"Linux\" and platform_machine == \"x86_64\" in /home/pratik/.local/lib/python3.8/site-packages (from torch) (11.4.0.1)\n",
      "Requirement already satisfied: nvidia-cusparse-cu11==11.7.4.91; platform_system == \"Linux\" and platform_machine == \"x86_64\" in /home/pratik/.local/lib/python3.8/site-packages (from torch) (11.7.4.91)\n",
      "Requirement already satisfied: nvidia-nccl-cu11==2.14.3; platform_system == \"Linux\" and platform_machine == \"x86_64\" in /home/pratik/.local/lib/python3.8/site-packages (from torch) (2.14.3)\n",
      "Requirement already satisfied: nvidia-nvtx-cu11==11.7.91; platform_system == \"Linux\" and platform_machine == \"x86_64\" in /home/pratik/.local/lib/python3.8/site-packages (from torch) (11.7.91)\n",
      "Requirement already satisfied: triton==2.0.0; platform_system == \"Linux\" and platform_machine == \"x86_64\" in /home/pratik/.local/lib/python3.8/site-packages (from torch) (2.0.0)\n",
      "Requirement already satisfied: mpmath>=0.19 in /home/pratik/.local/lib/python3.8/site-packages (from sympy->torch) (1.3.0)\n",
      "Requirement already satisfied: MarkupSafe>=2.0 in /home/pratik/.local/lib/python3.8/site-packages (from jinja2->torch) (2.1.3)\n",
      "Requirement already satisfied: setuptools in /home/pratik/.local/lib/python3.8/site-packages (from nvidia-cuda-runtime-cu11==11.7.99; platform_system == \"Linux\" and platform_machine == \"x86_64\"->torch) (68.0.0)\n",
      "Requirement already satisfied: wheel in /home/pratik/.local/lib/python3.8/site-packages (from nvidia-cuda-runtime-cu11==11.7.99; platform_system == \"Linux\" and platform_machine == \"x86_64\"->torch) (0.40.0)\n",
      "Requirement already satisfied: cmake in /home/pratik/.local/lib/python3.8/site-packages (from triton==2.0.0; platform_system == \"Linux\" and platform_machine == \"x86_64\"->torch) (3.26.4)\n",
      "Requirement already satisfied: lit in /home/pratik/.local/lib/python3.8/site-packages (from triton==2.0.0; platform_system == \"Linux\" and platform_machine == \"x86_64\"->torch) (16.0.6)\n"
     ]
    },
    {
     "name": "stderr",
     "output_type": "stream",
     "text": [
      "/home/pratik/.local/lib/python3.8/site-packages/tqdm/auto.py:21: TqdmWarning: IProgress not found. Please update jupyter and ipywidgets. See https://ipywidgets.readthedocs.io/en/stable/user_install.html\n",
      "  from .autonotebook import tqdm as notebook_tqdm\n",
      "2023-08-18 08:41:27,838\tINFO util.py:159 -- Missing packages: ['ipywidgets']. Run `pip install -U ipywidgets`, then restart the notebook server for rich notebook output.\n",
      "2023-08-18 08:41:29,151\tWARNING collective.py:20 -- NCCL seems unavailable. Please install Cupy following the guide at: https://docs.cupy.dev/en/stable/install.html.\n",
      "2023-08-18 08:41:29,315\tINFO util.py:159 -- Missing packages: ['ipywidgets']. Run `pip install -U ipywidgets`, then restart the notebook server for rich notebook output.\n",
      "2023-08-18 08:41:29,573\tINFO util.py:159 -- Missing packages: ['ipywidgets']. Run `pip install -U ipywidgets`, then restart the notebook server for rich notebook output.\n"
     ]
    }
   ],
   "source": [
    "#!pip3 install thirdai --upgrade --no-cache-dir --force-reinstall\n",
    "!pip3 install ray\n",
    "!pip3 install torch\n",
    "\n",
    "import thirdai\n",
    "from thirdai import bolt\n",
    "import thirdai.distributed_bolt as dist     "
   ]
  },
  {
   "attachments": {},
   "cell_type": "markdown",
   "metadata": {},
   "source": [
    "## Ray Cluster Initialization\n",
    "For the purpose of this demo, we will be initializing a mock ray cluster of 2 nodes here."
   ]
  },
  {
   "cell_type": "code",
   "execution_count": 2,
   "metadata": {},
   "outputs": [
    {
     "name": "stderr",
     "output_type": "stream",
     "text": [
      "2023-08-18 08:41:32,187\tINFO worker.py:1612 -- Started a local Ray instance. View the dashboard at \u001b[1m\u001b[32mhttp://127.0.0.1:8265 \u001b[39m\u001b[22m\n"
     ]
    }
   ],
   "source": [
    "import ray\n",
    "from ray.air import ScalingConfig, session\n",
    "\n",
    "cpus_per_node = (dist.get_num_cpus() - 1) // 2\n",
    "\n",
    "ray.init(ignore_reinit_error=True, runtime_env={\"env_vars\": {\"OMP_NUM_THREADS\": f\"{cpus_per_node}\"}})\n",
    "scaling_config = ScalingConfig(\n",
    "    num_workers=2,\n",
    "    use_gpu=False,\n",
    "    trainer_resources={\"CPU\": 1},\n",
    "    resources_per_worker={\"CPU\": cpus_per_node},\n",
    "    placement_strategy=\"PACK\",\n",
    ")\n",
    "thirdai.licensing.activate(\"WUAT-V7FP-TXLJ-97KR-3MCV-H4UC-7ERL-JYAF\") "
   ]
  },
  {
   "cell_type": "code",
   "execution_count": 3,
   "metadata": {},
   "outputs": [
    {
     "name": "stdout",
     "output_type": "stream",
     "text": [
      "None\n"
     ]
    }
   ],
   "source": [
    "import os\n",
    "print(os.getenv('OMP_NUM_THREADS'))"
   ]
  },
  {
   "attachments": {},
   "cell_type": "markdown",
   "metadata": {},
   "source": [
    "# Dataset Download\n",
    "\n",
    "We will use the demos module in the thirdai package to download the CLINC 150 small dataset. You can replace theis step and the next step with a download method and a UDT initialization that is specific to your dataset."
   ]
  },
  {
   "cell_type": "code",
   "execution_count": 4,
   "metadata": {},
   "outputs": [],
   "source": [
    "from thirdai.demos import download_clinc_dataset\n",
    "\n",
    "train_filenames, test_filename , _ = download_clinc_dataset(num_training_files=2, clinc_small=True)"
   ]
  },
  {
   "attachments": {},
   "cell_type": "markdown",
   "metadata": {},
   "source": [
    "# UDT Initialization\n",
    "We can now create a UDT model by passing in the types of each column in the dataset and the target column we want to be able to predict."
   ]
  },
  {
   "cell_type": "code",
   "execution_count": 5,
   "metadata": {},
   "outputs": [],
   "source": [
    "def get_udt_model():\n",
    "    model = bolt.UniversalDeepTransformer(\n",
    "        data_types={\n",
    "            \"text\": bolt.types.text(),\n",
    "            \"category\": bolt.types.categorical(),\n",
    "        },\n",
    "        target=\"category\",\n",
    "        n_target_classes=151,\n",
    "        integer_target=True,\n",
    "    )\n",
    "    return model\n",
    "    \n",
    "def train_loop_per_worker(config):\n",
    "    # thirdai.licensing.deactivate()\n",
    "    thirdai.licensing.activate(\"WUAT-V7FP-TXLJ-97KR-3MCV-H4UC-7ERL-JYAF\") \n",
    "    thirdai.logging.setup(log_to_stderr=False, path=\"log.txt\", level=\"info\")\n",
    "    \n",
    "    model = get_udt_model()\n",
    "    model = dist.prepare_model(model)\n",
    "\n",
    "    metrics = model.train_distributed_v2(\n",
    "        filename=os.path.join(config[\"curr_dir\"], train_filenames[session.get_world_rank()]),\n",
    "        learning_rate=0.02,\n",
    "        epochs=1,\n",
    "        batch_size=256,\n",
    "        metrics=[\"categorical_accuracy\"],\n",
    "        verbose=True,\n",
    "    )\n",
    "\n",
    "    session.report(\n",
    "        metrics=metrics,\n",
    "        checkpoint=dist.UDTCheckPoint.from_model(model),\n",
    "    )\n",
    "\n"
   ]
  },
  {
   "attachments": {},
   "cell_type": "markdown",
   "metadata": {},
   "source": [
    "## Distributed Training\n",
    "\n",
    "We will now train a UDT model in distributed data parallel fashion. Feel free to customize the number of epochs and the learning rate; we have chosen values that give good convergence. "
   ]
  },
  {
   "cell_type": "code",
   "execution_count": 6,
   "metadata": {},
   "outputs": [
    {
     "name": "stderr",
     "output_type": "stream",
     "text": [
      "\u001b[2m\u001b[36m(pid=3006101)\u001b[0m NCCL seems unavailable. Please install Cupy following the guide at: https://docs.cupy.dev/en/stable/install.html.\n",
      "\u001b[2m\u001b[36m(BoltTrainer pid=3006101)\u001b[0m Starting distributed worker processes: ['3006208 (192.168.1.10)', '3006209 (192.168.1.10)']\n",
      "\u001b[2m\u001b[36m(RayTrainWorker pid=3006208)\u001b[0m Setting up process group for: env:// [rank=0, world_size=2]\n"
     ]
    },
    {
     "name": "stdout",
     "output_type": "stream",
     "text": [
      "\u001b[2m\u001b[36m(RayTrainWorker pid=3006208)\u001b[0m loaded data | source '/home/pratik/Demos/distributed/clinc_train_0.csv' | vectors 3750 | batches 15 | time 0s | complete\n",
      "\u001b[2m\u001b[36m(RayTrainWorker pid=3006208)\u001b[0m \n",
      "train: [                                                  ] 0%          \n",
      "train: [===                                               ] 6%\n",
      "train: [=======                                           ] 13%\n",
      "train: [==========                                        ] 20%\n",
      "train: [=============                                     ] 26%\n",
      "train: [=================                                 ] 33%\n",
      "train: [====================                              ] 40%\n",
      "train: [=======================                           ] 46%\n",
      "\u001b[2m\u001b[36m(RayTrainWorker pid=3006209)\u001b[0m loaded data | source '/home/pratik/Demos/distributed/clinc_train_1.csv' | vectors 3750 | batches 15 | time 0s | complete\n",
      "\u001b[2m\u001b[36m(RayTrainWorker pid=3006209)\u001b[0m \n",
      "train: [===========================                       ] 53%\n",
      "train: [==============================                    ] 60%\n",
      "train: [                                                  ] 0%          \n",
      "train: [=================================                 ] 66%\n",
      "train: [===                                               ] 6%\n",
      "train: [=====================================             ] 73%\n",
      "train: [=======                                           ] 13%\n",
      "train: [========================================          ] 80%\n",
      "train: [==========                                        ] 20%\n",
      "train: [===========================================       ] 86%\n",
      "train: [=============                                     ] 26%\n",
      "train: [===============================================   ] 93%\n",
      "train | epoch 0 | train_steps 15 | train_categorical_accuracy=0.529067  | train_batches 15 | time 8s\n",
      "\u001b[2m\u001b[36m(RayTrainWorker pid=3006209)\u001b[0m \n",
      "train: [=================                                 ] 33%\n"
     ]
    },
    {
     "name": "stderr",
     "output_type": "stream",
     "text": [
      "2023-08-18 08:42:04,784\tINFO tune.py:1148 -- Total run time: 28.28 seconds (28.24 seconds for the tuning loop).\n"
     ]
    }
   ],
   "source": [
    "import os\n",
    "from ray.train.torch import TorchConfig\n",
    "\n",
    "trainer = dist.BoltTrainer(\n",
    "    train_loop_per_worker=train_loop_per_worker,\n",
    "    train_loop_config={\n",
    "        \"curr_dir\": os.path.abspath(os.getcwd()),\n",
    "    },\n",
    "    scaling_config=scaling_config,\n",
    "    backend_config=TorchConfig(backend=\"gloo\"),\n",
    ")\n",
    "\n",
    "result_checkpoint_and_history = trainer.fit()\n"
   ]
  },
  {
   "attachments": {},
   "cell_type": "markdown",
   "metadata": {},
   "source": [
    "# Evaluation\n",
    "Evaluating the performance of the UDT model is just two line!"
   ]
  },
  {
   "cell_type": "code",
   "execution_count": 7,
   "metadata": {},
   "outputs": [
    {
     "name": "stdout",
     "output_type": "stream",
     "text": [
      "loaded data | source './clinc_test.csv' | vectors 4500 | batches 3 | time 0s | complete\n",
      "\n",
      "validate | epoch 0 | train_steps 15 | val_categorical_accuracy=0.830889  | val_batches 3 | time 0s\n",
      "\n"
     ]
    },
    {
     "data": {
      "text/plain": [
       "{'val_times': [0.0], 'val_categorical_accuracy': [0.8308888673782349]}"
      ]
     },
     "execution_count": 7,
     "metadata": {},
     "output_type": "execute_result"
    }
   ],
   "source": [
    "model = result_checkpoint_and_history.checkpoint.get_model()\n",
    "model.evaluate(test_filename, metrics=[\"categorical_accuracy\"])"
   ]
  },
  {
   "attachments": {},
   "cell_type": "markdown",
   "metadata": {},
   "source": [
    "# Ray Cluster Teardown"
   ]
  },
  {
   "cell_type": "code",
   "execution_count": 8,
   "metadata": {},
   "outputs": [],
   "source": [
    "ray.shutdown()"
   ]
  }
 ],
 "metadata": {
  "interpreter": {
   "hash": "fafa2ae3b9bcbc6d7aa32fa0c85028d7b19786ae305b93c12494f7ce2a7a639d"
  },
  "kernelspec": {
   "display_name": "Python 3.8.10 64-bit ('3.8.10')",
   "language": "python",
   "name": "python3"
  },
  "language_info": {
   "codemirror_mode": {
    "name": "ipython",
    "version": 3
   },
   "file_extension": ".py",
   "mimetype": "text/x-python",
   "name": "python",
   "nbconvert_exporter": "python",
   "pygments_lexer": "ipython3",
   "version": "3.8.10"
  }
 },
 "nbformat": 4,
 "nbformat_minor": 2
}
