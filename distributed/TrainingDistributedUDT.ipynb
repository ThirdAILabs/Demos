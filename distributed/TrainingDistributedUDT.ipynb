{
 "cells": [
  {
   "attachments": {},
   "cell_type": "markdown",
   "metadata": {},
   "source": [
    "## Data Parallel Training for ThirdAI's UDT\n",
    "\n",
    "This notebook shows how to run Data Parallel Training for ThirdAI's UDT. We will be using CLINC 150 small dataset for training and evaluation for this demo. But, you can easily replace this with your workload. \n",
    "\n",
    "ThirdAI's Distributed Data Parallel Training assumes that you already have a ray cluster running. For this demo, we would be using the ray mock cluster to simulate the ray cluster. For seetting up a ray cluster, see here: https://docs.ray.io/en/latest/cluster/getting-started.html"
   ]
  },
  {
   "cell_type": "code",
   "execution_count": 1,
   "metadata": {},
   "outputs": [
    {
     "name": "stdout",
     "output_type": "stream",
     "text": [
      "Requirement already satisfied: ray in /Users/mjay/miniconda3/envs/py_3.9/lib/python3.9/site-packages (2.4.0)\n",
      "Requirement already satisfied: protobuf!=3.19.5,>=3.15.3 in /Users/mjay/miniconda3/envs/py_3.9/lib/python3.9/site-packages (from ray) (4.23.2)\n",
      "Requirement already satisfied: attrs in /Users/mjay/miniconda3/envs/py_3.9/lib/python3.9/site-packages (from ray) (23.1.0)\n",
      "Requirement already satisfied: click>=7.0 in /Users/mjay/miniconda3/envs/py_3.9/lib/python3.9/site-packages (from ray) (8.1.3)\n",
      "Requirement already satisfied: msgpack<2.0.0,>=1.0.0 in /Users/mjay/miniconda3/envs/py_3.9/lib/python3.9/site-packages (from ray) (1.0.5)\n",
      "Requirement already satisfied: virtualenv<20.21.1,>=20.0.24 in /Users/mjay/miniconda3/envs/py_3.9/lib/python3.9/site-packages (from ray) (20.21.0)\n",
      "Requirement already satisfied: pyyaml in /Users/mjay/miniconda3/envs/py_3.9/lib/python3.9/site-packages (from ray) (6.0)\n",
      "Requirement already satisfied: aiosignal in /Users/mjay/miniconda3/envs/py_3.9/lib/python3.9/site-packages (from ray) (1.3.1)\n",
      "Requirement already satisfied: grpcio<=1.49.1,>=1.32.0 in /Users/mjay/miniconda3/envs/py_3.9/lib/python3.9/site-packages (from ray) (1.49.1)\n",
      "Requirement already satisfied: numpy>=1.19.3 in /Users/mjay/miniconda3/envs/py_3.9/lib/python3.9/site-packages (from ray) (1.24.3)\n",
      "Requirement already satisfied: frozenlist in /Users/mjay/miniconda3/envs/py_3.9/lib/python3.9/site-packages (from ray) (1.3.3)\n",
      "Requirement already satisfied: jsonschema in /Users/mjay/miniconda3/envs/py_3.9/lib/python3.9/site-packages (from ray) (4.17.3)\n",
      "Requirement already satisfied: requests in /Users/mjay/miniconda3/envs/py_3.9/lib/python3.9/site-packages (from ray) (2.31.0)\n",
      "Requirement already satisfied: filelock in /Users/mjay/miniconda3/envs/py_3.9/lib/python3.9/site-packages (from ray) (3.12.0)\n",
      "Requirement already satisfied: six>=1.5.2 in /Users/mjay/miniconda3/envs/py_3.9/lib/python3.9/site-packages (from grpcio<=1.49.1,>=1.32.0->ray) (1.16.0)\n",
      "Requirement already satisfied: platformdirs<4,>=2.4 in /Users/mjay/miniconda3/envs/py_3.9/lib/python3.9/site-packages (from virtualenv<20.21.1,>=20.0.24->ray) (3.5.1)\n",
      "Requirement already satisfied: distlib<1,>=0.3.6 in /Users/mjay/miniconda3/envs/py_3.9/lib/python3.9/site-packages (from virtualenv<20.21.1,>=20.0.24->ray) (0.3.6)\n",
      "Requirement already satisfied: pyrsistent!=0.17.0,!=0.17.1,!=0.17.2,>=0.14.0 in /Users/mjay/miniconda3/envs/py_3.9/lib/python3.9/site-packages (from jsonschema->ray) (0.19.3)\n",
      "Requirement already satisfied: certifi>=2017.4.17 in /Users/mjay/miniconda3/envs/py_3.9/lib/python3.9/site-packages (from requests->ray) (2023.5.7)\n",
      "Requirement already satisfied: charset-normalizer<4,>=2 in /Users/mjay/miniconda3/envs/py_3.9/lib/python3.9/site-packages (from requests->ray) (3.1.0)\n",
      "Requirement already satisfied: idna<4,>=2.5 in /Users/mjay/miniconda3/envs/py_3.9/lib/python3.9/site-packages (from requests->ray) (3.4)\n",
      "Requirement already satisfied: urllib3<3,>=1.21.1 in /Users/mjay/miniconda3/envs/py_3.9/lib/python3.9/site-packages (from requests->ray) (2.0.2)\n"
     ]
    }
   ],
   "source": [
    "#!pip3 install thirdai --upgrade\n",
    "!pip3 install ray\n",
    "\n",
    "import thirdai\n",
    "#thirdai.licensing.activate(\"HN7J-W79C-KN9U-WTKE-9PNM-4PVR-CNPJ-WTWE\")       "
   ]
  },
  {
   "attachments": {},
   "cell_type": "markdown",
   "metadata": {},
   "source": [
    "## Ray Cluster Initialization\n",
    "For the purpose of this demo, we will be initializing a mock ray cluster here."
   ]
  },
  {
   "cell_type": "code",
   "execution_count": 2,
   "metadata": {},
   "outputs": [
    {
     "name": "stderr",
     "output_type": "stream",
     "text": [
      "/Users/mjay/miniconda3/envs/py_3.9/lib/python3.9/site-packages/tqdm/auto.py:21: TqdmWarning: IProgress not found. Please update jupyter and ipywidgets. See https://ipywidgets.readthedocs.io/en/stable/user_install.html\n",
      "  from .autonotebook import tqdm as notebook_tqdm\n",
      "Failed to bind to 127.0.0.1:8265 because it's already occupied. You can use `ray start --dashboard-port ...` or `ray.init(dashboard_port=...)` to select a different port.\n"
     ]
    },
    {
     "data": {
      "text/plain": [
       "<ray._private.node.Node at 0x13724b250>"
      ]
     },
     "execution_count": 2,
     "metadata": {},
     "output_type": "execute_result"
    }
   ],
   "source": [
    "from ray.cluster_utils import Cluster\n",
    "\n",
    "mini_cluster = Cluster(\n",
    "    initialize_head=True,\n",
    "    head_node_args={\n",
    "        \"num_cpus\": 1,\n",
    "    },\n",
    ")\n",
    "mini_cluster.add_node(num_cpus=1)"
   ]
  },
  {
   "attachments": {},
   "cell_type": "markdown",
   "metadata": {},
   "source": [
    "# Dataset Download\n",
    "\n",
    "We will use the demos module in the thirdai package to download the CLINC 150 small dataset. You can replace theis step and the next step with a download method and a UDT initialization that is specific to yourd ataset."
   ]
  },
  {
   "cell_type": "code",
   "execution_count": 3,
   "metadata": {},
   "outputs": [
    {
     "name": "stdout",
     "output_type": "stream",
     "text": [
      "<class 'list'>\n",
      "['clinc_train_0.csv', 'clinc_train_1.csv']\n"
     ]
    }
   ],
   "source": [
    "from thirdai.demos import download_clinc_dataset\n",
    "\n",
    "train_filenames, test_filename , _ = download_clinc_dataset(num_training_files=2, clinc_small=True)\n",
    "print(type(train_filenames))\n",
    "print(train_filenames)"
   ]
  },
  {
   "attachments": {},
   "cell_type": "markdown",
   "metadata": {},
   "source": [
    "# UDT Initialization\n",
    "We can now create a UDT model by passing in the types of each column in the dataset and the target column we want to be able to predict."
   ]
  },
  {
   "cell_type": "code",
   "execution_count": 4,
   "metadata": {},
   "outputs": [],
   "source": [
    "from thirdai import bolt\n",
    "\n",
    "model = bolt.UniversalDeepTransformer(\n",
    "    data_types={\n",
    "        \"text\": bolt.types.text(),\n",
    "        \"category\": bolt.types.categorical(),\n",
    "    },\n",
    "    target=\"category\",\n",
    "    n_target_classes=151,\n",
    "    integer_target=True,\n",
    ")"
   ]
  },
  {
   "attachments": {},
   "cell_type": "markdown",
   "metadata": {},
   "source": [
    "## Distributed Training\n",
    "\n",
    "We will now train a UDT model in distributed data parallel fashion. Feel free to customize the number of epochs and the learning rate; we have chosen values that give good convergence. "
   ]
  },
  {
   "cell_type": "code",
   "execution_count": 5,
   "metadata": {},
   "outputs": [
    {
     "name": "stderr",
     "output_type": "stream",
     "text": [
      "NCCL seems unavailable. Please install Cupy following the guide at: https://docs.cupy.dev/en/stable/install.html.\n",
      "2023-06-05 22:45:35,558\tINFO worker.py:1432 -- Connecting to existing Ray cluster at address: 127.0.0.1:59956...\n",
      "2023-06-05 22:45:35,572\tINFO worker.py:1625 -- Connected to Ray cluster.\n",
      "\u001b[2m\u001b[36m(pid=49993)\u001b[0m 2023-06-05 22:45:42,428\tWARNING collective.py:20 -- NCCL seems unavailable. Please install Cupy following the guide at: https://docs.cupy.dev/en/stable/install.html.\n"
     ]
    },
    {
     "name": "stdout",
     "output_type": "stream",
     "text": [
      "\u001b[2m\u001b[36m(ReplicaWorker pid=49994)\u001b[0m loading data | source 'clinc_train_1.csv'\n",
      "\u001b[2m\u001b[36m(ReplicaWorker pid=49994)\u001b[0m loaded data | source 'clinc_train_1.csv' | vectors 3750 | batches 30 | time 0s | complete\n",
      "\u001b[2m\u001b[36m(ReplicaWorker pid=49994)\u001b[0m \n",
      "\u001b[2m\u001b[36m(PrimaryWorker pid=49993)\u001b[0m loading data | source 'clinc_train_0.csv'\u001b[32m [repeated 2x across cluster] (Ray deduplicates logs by default. Set RAY_DEDUP_LOGS=0 to disable log deduplication, or see https://docs.ray.io/en/master/ray-observability/ray-logging.html#log-deduplication for more options.)\u001b[0m\n",
      "\u001b[2m\u001b[36m(PrimaryWorker pid=49993)\u001b[0m loading data | source 'clinc_train_0.csv'\n",
      "\u001b[2m\u001b[36m(PrimaryWorker pid=49993)\u001b[0m loading data | source 'clinc_train_0.csv'\n",
      "\u001b[2m\u001b[36m(PrimaryWorker pid=49993)\u001b[0m loaded data | source 'clinc_train_0.csv' | vectors 3750 | batches 30 | time 0s | complete\n",
      "\u001b[2m\u001b[36m(PrimaryWorker pid=49993)\u001b[0m \n"
     ]
    },
    {
     "data": {
      "text/plain": [
       "{'total_batches_trained': 30,\n",
       " 'train_metrics': [{'categorical_accuracy': [0.6399999856948853]},\n",
       "  {'categorical_accuracy': [0.6034666895866394]}],\n",
       " 'validation_metrics': []}"
      ]
     },
     "execution_count": 5,
     "metadata": {},
     "output_type": "execute_result"
    }
   ],
   "source": [
    "\n",
    "\n",
    "import thirdai.distributed_bolt as dist_bolt\n",
    "import os\n",
    "\n",
    "cluster_config = dist_bolt.RayTrainingClusterConfig(\n",
    "    num_workers=2,\n",
    "    cluster_address=mini_cluster.address,\n",
    "    requested_cpus_per_node=1,\n",
    "    communication_type=\"linear\",\n",
    "    ignore_reinit_error=True,\n",
    ")\n",
    "\n",
    "\n",
    "\n",
    "model.train_distributed(\n",
    "        cluster_config=cluster_config,\n",
    "        filenames=train_filenames,\n",
    "        batch_size=256,\n",
    "        epochs=1,\n",
    "        learning_rate=0.02,\n",
    "        metrics=[\"categorical_accuracy\"],\n",
    "        verbose=True,\n",
    "    )"
   ]
  },
  {
   "attachments": {},
   "cell_type": "markdown",
   "metadata": {},
   "source": [
    "# Evaluation\n",
    "Evaluating the performance of the UDT model is just one line!"
   ]
  },
  {
   "cell_type": "code",
   "execution_count": 6,
   "metadata": {},
   "outputs": [
    {
     "name": "stdout",
     "output_type": "stream",
     "text": [
      "loading data | source './clinc_test.csv'\n",
      "loaded data | source './clinc_test.csv' | vectors 4500 | batches 3 | time 0s | complete\n",
      "\n",
      "validate | epoch 0 | train_steps 30 | val_categorical_accuracy=0.854667  | val_batches 3 | time 1s\n",
      "\n"
     ]
    }
   ],
   "source": [
    "model.evaluate(test_filename, metrics=[\"categorical_accuracy\"]);"
   ]
  }
 ],
 "metadata": {
  "interpreter": {
   "hash": "fafa2ae3b9bcbc6d7aa32fa0c85028d7b19786ae305b93c12494f7ce2a7a639d"
  },
  "kernelspec": {
   "display_name": "Python 3.8.10 64-bit ('3.8.10')",
   "language": "python",
   "name": "python3"
  },
  "language_info": {
   "codemirror_mode": {
    "name": "ipython",
    "version": 3
   },
   "file_extension": ".py",
   "mimetype": "text/x-python",
   "name": "python",
   "nbconvert_exporter": "python",
   "pygments_lexer": "ipython3",
   "version": "3.9.16"
  }
 },
 "nbformat": 4,
 "nbformat_minor": 2
}
