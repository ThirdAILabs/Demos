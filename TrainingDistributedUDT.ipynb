{
 "cells": [
  {
   "cell_type": "markdown",
   "metadata": {},
   "source": [
    "## Data Parallel Training for ThirdAI's UDT\n",
    "\n",
    "This notebook shows how to run Data Parallel Training for ThirdAI's UDT. We will be using CLINC 150 small dataset for training and evaluation for this demo. But, you can easily replace this with your workload. \n",
    "\n",
    "ThirdAI's Distributed Data Parallel Training assumes that you already have a ray cluster running. For this demo, we would be using the ray mock cluster to simulate the ray cluster. For seetting up a ray cluster, see here: https://docs.ray.io/en/latest/cluster/getting-started.html"
   ]
  },
  {
   "cell_type": "code",
   "execution_count": null,
   "metadata": {},
   "outputs": [],
   "source": [
    "!pip3 install thirdai --upgrade\n",
    "!pip3 install ray\n",
    "\n",
    "import thirdai\n",
    "thirdai.licensing.activate(\"HN7J-W79C-KN9U-WTKE-9PNM-4PVR-CNPJ-WTWE\")"
   ]
  },
  {
   "cell_type": "markdown",
   "metadata": {},
   "source": [
    "## Ray Cluster Initialization\n",
    "For the purpose of this demo, we will be initializing a mock ray cluster here."
   ]
  },
  {
   "cell_type": "code",
   "execution_count": null,
   "metadata": {},
   "outputs": [],
   "source": [
    "from ray.cluster_utils import Cluster\n",
    "\n",
    "mini_cluster = Cluster(\n",
    "    initialize_head=True,\n",
    "    head_node_args={\n",
    "        \"num_cpus\": 1,\n",
    "    },\n",
    ")\n",
    "mini_cluster.add_node(num_cpus=1)"
   ]
  },
  {
   "cell_type": "markdown",
   "metadata": {},
   "source": [
    "# Dataset Download\n",
    "\n",
    "We will use the demos module in the thirdai package to download the CLINC 150 small dataset. You can replace theis step and the next step with a download method and a UDT initialization that is specific to yourd ataset."
   ]
  },
  {
   "cell_type": "code",
   "execution_count": null,
   "metadata": {},
   "outputs": [],
   "source": [
    "from thirdai.demos import download_clinc_dataset\n",
    "\n",
    "train_filenames, test_filename , _ = download_clinc_dataset(num_training_files=2, clinc_small=True)"
   ]
  },
  {
   "cell_type": "markdown",
   "metadata": {},
   "source": [
    "# UDT Initialization\n",
    "We can now create a UDT model by passing in the types of each column in the dataset and the target column we want to be able to predict."
   ]
  },
  {
   "cell_type": "code",
   "execution_count": null,
   "metadata": {},
   "outputs": [],
   "source": [
    "from thirdai import bolt\n",
    "\n",
    "model = bolt.UniversalDeepTransformer(\n",
    "    data_types={\n",
    "        \"text\": bolt.types.text(),\n",
    "        \"category\": bolt.types.categorical(),\n",
    "    },\n",
    "    target=\"category\",\n",
    "    n_target_classes=151,\n",
    "    integer_target=True,\n",
    ")"
   ]
  },
  {
   "cell_type": "markdown",
   "metadata": {},
   "source": [
    "## Distributed Training\n",
    "\n",
    "We will now train a UDT model in distributed data parallel fashion. Feel free to customize the number of epochs and the learning rate; we have chosen values that give good convergence. "
   ]
  },
  {
   "cell_type": "code",
   "execution_count": null,
   "metadata": {},
   "outputs": [],
   "source": [
    "\n",
    "\n",
    "import thirdai.distributed_bolt as dist_bolt\n",
    "import os\n",
    "\n",
    "cluster_config = dist_bolt.RayTrainingClusterConfig(\n",
    "    num_workers=2,\n",
    "    cluster_address=mini_cluster.address,\n",
    "    requested_cpus_per_node=1,\n",
    "    communication_type=\"linear\",\n",
    "    ignore_reinit_error=True,\n",
    ")\n",
    "\n",
    "\n",
    "\n",
    "model.train_distributed(\n",
    "        cluster_config=cluster_config,\n",
    "        filenames=train_filenames,\n",
    "        batch_size=256,\n",
    "        epochs=1,\n",
    "        learning_rate=0.02,\n",
    "        metrics=[\"mean_squared_error\"],\n",
    "        verbose=True,\n",
    "    )"
   ]
  },
  {
   "cell_type": "markdown",
   "metadata": {},
   "source": [
    "# Evaluation\n",
    "Evaluating the performance of the UDT model is just one line!"
   ]
  },
  {
   "cell_type": "code",
   "execution_count": null,
   "metadata": {},
   "outputs": [],
   "source": [
    "model.evaluate(test_filename, metrics=[\"categorical_accuracy\"]);"
   ]
  }
 ],
 "metadata": {
  "interpreter": {
   "hash": "fafa2ae3b9bcbc6d7aa32fa0c85028d7b19786ae305b93c12494f7ce2a7a639d"
  },
  "kernelspec": {
   "display_name": "Python 3.8.10 64-bit ('3.8.10')",
   "language": "python",
   "name": "python3"
  },
  "language_info": {
   "codemirror_mode": {
    "name": "ipython",
    "version": 3
   },
   "file_extension": ".py",
   "mimetype": "text/x-python",
   "name": "python",
   "nbconvert_exporter": "python",
   "pygments_lexer": "ipython3",
   "version": "3.8.10"
  }
 },
 "nbformat": 4,
 "nbformat_minor": 2
}
