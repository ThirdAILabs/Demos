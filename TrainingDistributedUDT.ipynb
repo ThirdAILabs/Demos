{
 "cells": [
  {
   "cell_type": "markdown",
   "metadata": {},
   "source": [
    "## Data Parallel Training for ThirdAI's UDT\n",
    "\n",
    "This notebook shows how to run Data Parallel Training for ThirdAI's UDT. We will be using CLINC 150 small dataset for training and evaluation for this demo. But, you can easily replace this with your workload. \n",
    "\n",
    "ThirdAI's Distributed Data Parallel Training assumes that you already have a ray cluster running. For this demo, we would be using the ray mock cluster to simulate the ray cluster. For seetting up a ray cluster, see here: https://docs.ray.io/en/latest/cluster/getting-started.html"
   ]
  },
  {
   "cell_type": "code",
   "execution_count": 1,
   "metadata": {},
   "outputs": [
    {
     "name": "stdout",
     "output_type": "stream",
     "text": [
      "\u001b[33mWARNING: Ignoring invalid distribution -irdai (/Users/pratikqpranav/.pyenv/versions/3.9.13/lib/python3.9/site-packages)\u001b[0m\u001b[33m\n",
      "\u001b[0m\u001b[33mWARNING: Ignoring invalid distribution -umpy (/Users/pratikqpranav/.pyenv/versions/3.9.13/lib/python3.9/site-packages)\u001b[0m\u001b[33m\n",
      "\u001b[0m\u001b[33mWARNING: Ignoring invalid distribution -irdai (/Users/pratikqpranav/.pyenv/versions/3.9.13/lib/python3.9/site-packages)\u001b[0m\u001b[33m\n",
      "\u001b[0m\u001b[33mWARNING: Ignoring invalid distribution -hirdai (/Users/pratikqpranav/.pyenv/versions/3.9.13/lib/python3.9/site-packages)\u001b[0m\u001b[33m\n",
      "\u001b[0m\u001b[33mWARNING: Ignoring invalid distribution - (/Users/pratikqpranav/.pyenv/versions/3.9.13/lib/python3.9/site-packages)\u001b[0m\u001b[33m\n",
      "\u001b[0m\u001b[33mWARNING: Ignoring invalid distribution -irdai (/Users/pratikqpranav/.pyenv/versions/3.9.13/lib/python3.9/site-packages)\u001b[0m\u001b[33m\n",
      "\u001b[0m\u001b[33mWARNING: Ignoring invalid distribution -umpy (/Users/pratikqpranav/.pyenv/versions/3.9.13/lib/python3.9/site-packages)\u001b[0m\u001b[33m\n",
      "\u001b[0m\u001b[33mWARNING: Ignoring invalid distribution -irdai (/Users/pratikqpranav/.pyenv/versions/3.9.13/lib/python3.9/site-packages)\u001b[0m\u001b[33m\n",
      "\u001b[0m\u001b[33mWARNING: Ignoring invalid distribution -hirdai (/Users/pratikqpranav/.pyenv/versions/3.9.13/lib/python3.9/site-packages)\u001b[0m\u001b[33m\n",
      "\u001b[0m\u001b[33mWARNING: Ignoring invalid distribution - (/Users/pratikqpranav/.pyenv/versions/3.9.13/lib/python3.9/site-packages)\u001b[0m\u001b[33m\n",
      "\u001b[0mRequirement already satisfied: ray in /Users/pratikqpranav/.pyenv/versions/3.9.13/lib/python3.9/site-packages (2.2.0)\n",
      "Requirement already satisfied: virtualenv>=20.0.24 in /Users/pratikqpranav/.pyenv/versions/3.9.13/lib/python3.9/site-packages (from ray) (20.17.1)\n",
      "Requirement already satisfied: grpcio>=1.32.0 in /Users/pratikqpranav/.pyenv/versions/3.9.13/lib/python3.9/site-packages (from ray) (1.51.1)\n",
      "Requirement already satisfied: filelock in /Users/pratikqpranav/.pyenv/versions/3.9.13/lib/python3.9/site-packages (from ray) (3.8.2)\n",
      "Requirement already satisfied: msgpack<2.0.0,>=1.0.0 in /Users/pratikqpranav/.pyenv/versions/3.9.13/lib/python3.9/site-packages (from ray) (1.0.4)\n",
      "Requirement already satisfied: click>=7.0 in /Users/pratikqpranav/.pyenv/versions/3.9.13/lib/python3.9/site-packages (from ray) (8.1.3)\n",
      "Requirement already satisfied: pyyaml in /Users/pratikqpranav/.pyenv/versions/3.9.13/lib/python3.9/site-packages (from ray) (6.0)\n",
      "Requirement already satisfied: jsonschema in /Users/pratikqpranav/.pyenv/versions/3.9.13/lib/python3.9/site-packages (from ray) (4.17.3)\n",
      "Requirement already satisfied: protobuf!=3.19.5,>=3.15.3 in /Users/pratikqpranav/.pyenv/versions/3.9.13/lib/python3.9/site-packages (from ray) (3.19.6)\n",
      "Requirement already satisfied: frozenlist in /Users/pratikqpranav/.pyenv/versions/3.9.13/lib/python3.9/site-packages (from ray) (1.3.3)\n",
      "Requirement already satisfied: aiosignal in /Users/pratikqpranav/.pyenv/versions/3.9.13/lib/python3.9/site-packages (from ray) (1.3.1)\n",
      "Requirement already satisfied: numpy>=1.19.3 in /Users/pratikqpranav/.pyenv/versions/3.9.13/lib/python3.9/site-packages (from ray) (1.23.5)\n",
      "Requirement already satisfied: attrs in /Users/pratikqpranav/.pyenv/versions/3.9.13/lib/python3.9/site-packages (from ray) (22.2.0)\n",
      "Requirement already satisfied: requests in /Users/pratikqpranav/.pyenv/versions/3.9.13/lib/python3.9/site-packages (from ray) (2.28.1)\n",
      "Requirement already satisfied: distlib<1,>=0.3.6 in /Users/pratikqpranav/.pyenv/versions/3.9.13/lib/python3.9/site-packages (from virtualenv>=20.0.24->ray) (0.3.6)\n",
      "Requirement already satisfied: platformdirs<3,>=2.4 in /Users/pratikqpranav/.pyenv/versions/3.9.13/lib/python3.9/site-packages (from virtualenv>=20.0.24->ray) (2.6.0)\n",
      "Requirement already satisfied: pyrsistent!=0.17.0,!=0.17.1,!=0.17.2,>=0.14.0 in /Users/pratikqpranav/.pyenv/versions/3.9.13/lib/python3.9/site-packages (from jsonschema->ray) (0.19.2)\n",
      "Requirement already satisfied: idna<4,>=2.5 in /Users/pratikqpranav/.pyenv/versions/3.9.13/lib/python3.9/site-packages (from requests->ray) (3.4)\n",
      "Requirement already satisfied: certifi>=2017.4.17 in /Users/pratikqpranav/.pyenv/versions/3.9.13/lib/python3.9/site-packages (from requests->ray) (2022.12.7)\n",
      "Requirement already satisfied: charset-normalizer<3,>=2 in /Users/pratikqpranav/.pyenv/versions/3.9.13/lib/python3.9/site-packages (from requests->ray) (2.1.1)\n",
      "Requirement already satisfied: urllib3<1.27,>=1.21.1 in /Users/pratikqpranav/.pyenv/versions/3.9.13/lib/python3.9/site-packages (from requests->ray) (1.26.13)\n",
      "\u001b[33mWARNING: Ignoring invalid distribution -irdai (/Users/pratikqpranav/.pyenv/versions/3.9.13/lib/python3.9/site-packages)\u001b[0m\u001b[33m\n",
      "\u001b[0m\u001b[33mWARNING: Ignoring invalid distribution -umpy (/Users/pratikqpranav/.pyenv/versions/3.9.13/lib/python3.9/site-packages)\u001b[0m\u001b[33m\n",
      "\u001b[0m\u001b[33mWARNING: Ignoring invalid distribution -irdai (/Users/pratikqpranav/.pyenv/versions/3.9.13/lib/python3.9/site-packages)\u001b[0m\u001b[33m\n",
      "\u001b[0m\u001b[33mWARNING: Ignoring invalid distribution -hirdai (/Users/pratikqpranav/.pyenv/versions/3.9.13/lib/python3.9/site-packages)\u001b[0m\u001b[33m\n",
      "\u001b[0m\u001b[33mWARNING: Ignoring invalid distribution - (/Users/pratikqpranav/.pyenv/versions/3.9.13/lib/python3.9/site-packages)\u001b[0m\u001b[33m\n",
      "\u001b[0m\u001b[33mWARNING: Ignoring invalid distribution -irdai (/Users/pratikqpranav/.pyenv/versions/3.9.13/lib/python3.9/site-packages)\u001b[0m\u001b[33m\n",
      "\u001b[0m\u001b[33mWARNING: Ignoring invalid distribution -umpy (/Users/pratikqpranav/.pyenv/versions/3.9.13/lib/python3.9/site-packages)\u001b[0m\u001b[33m\n",
      "\u001b[0m\u001b[33mWARNING: Ignoring invalid distribution -irdai (/Users/pratikqpranav/.pyenv/versions/3.9.13/lib/python3.9/site-packages)\u001b[0m\u001b[33m\n",
      "\u001b[0m\u001b[33mWARNING: Ignoring invalid distribution -hirdai (/Users/pratikqpranav/.pyenv/versions/3.9.13/lib/python3.9/site-packages)\u001b[0m\u001b[33m\n",
      "\u001b[0m\u001b[33mWARNING: Ignoring invalid distribution - (/Users/pratikqpranav/.pyenv/versions/3.9.13/lib/python3.9/site-packages)\u001b[0m\u001b[33m\n",
      "\u001b[0m\u001b[33mWARNING: Ignoring invalid distribution -irdai (/Users/pratikqpranav/.pyenv/versions/3.9.13/lib/python3.9/site-packages)\u001b[0m\u001b[33m\n",
      "\u001b[0m\u001b[33mWARNING: Ignoring invalid distribution -umpy (/Users/pratikqpranav/.pyenv/versions/3.9.13/lib/python3.9/site-packages)\u001b[0m\u001b[33m\n",
      "\u001b[0m\u001b[33mWARNING: Ignoring invalid distribution -irdai (/Users/pratikqpranav/.pyenv/versions/3.9.13/lib/python3.9/site-packages)\u001b[0m\u001b[33m\n",
      "\u001b[0m\u001b[33mWARNING: Ignoring invalid distribution -hirdai (/Users/pratikqpranav/.pyenv/versions/3.9.13/lib/python3.9/site-packages)\u001b[0m\u001b[33m\n",
      "\u001b[0m\u001b[33mWARNING: Ignoring invalid distribution - (/Users/pratikqpranav/.pyenv/versions/3.9.13/lib/python3.9/site-packages)\u001b[0m\u001b[33m\n",
      "\u001b[0m\u001b[33mWARNING: Ignoring invalid distribution -irdai (/Users/pratikqpranav/.pyenv/versions/3.9.13/lib/python3.9/site-packages)\u001b[0m\u001b[33m\n",
      "\u001b[0m\u001b[33mWARNING: Ignoring invalid distribution -umpy (/Users/pratikqpranav/.pyenv/versions/3.9.13/lib/python3.9/site-packages)\u001b[0m\u001b[33m\n",
      "\u001b[0m\u001b[33mWARNING: Ignoring invalid distribution -irdai (/Users/pratikqpranav/.pyenv/versions/3.9.13/lib/python3.9/site-packages)\u001b[0m\u001b[33m\n",
      "\u001b[0m\u001b[33mWARNING: Ignoring invalid distribution -hirdai (/Users/pratikqpranav/.pyenv/versions/3.9.13/lib/python3.9/site-packages)\u001b[0m\u001b[33m\n",
      "\u001b[0m\u001b[33mWARNING: Ignoring invalid distribution - (/Users/pratikqpranav/.pyenv/versions/3.9.13/lib/python3.9/site-packages)\u001b[0m\u001b[33m\n",
      "\u001b[0m"
     ]
    }
   ],
   "source": [
    "!pip3 install thirdai --upgrade\n",
    "!pip3 install ray"
   ]
  },
  {
   "cell_type": "markdown",
   "metadata": {},
   "source": [
    "## Ray Cluster Initialization\n",
    "For the purpose of this demo, we will be initializing a mock ray cluster here."
   ]
  },
  {
   "cell_type": "code",
   "execution_count": 2,
   "metadata": {},
   "outputs": [
    {
     "data": {
      "text/plain": [
       "<ray._private.node.Node at 0x105983fa0>"
      ]
     },
     "execution_count": 2,
     "metadata": {},
     "output_type": "execute_result"
    }
   ],
   "source": [
    "from ray.cluster_utils import Cluster\n",
    "\n",
    "mini_cluster = Cluster(\n",
    "    initialize_head=True,\n",
    "    head_node_args={\n",
    "        \"num_cpus\": 1,\n",
    "    },\n",
    ")\n",
    "mini_cluster.add_node(num_cpus=1)"
   ]
  },
  {
   "cell_type": "markdown",
   "metadata": {},
   "source": [
    "#Dataset Download\n",
    "\n",
    "We will use the demos module in the thirdai package to download the CLINC 150 small dataset. You can replace theis step and the next step with a download method and a UDT initialization that is specific to yourd ataset."
   ]
  },
  {
   "cell_type": "code",
   "execution_count": 3,
   "metadata": {},
   "outputs": [],
   "source": [
    "from thirdai.demos import download_clinc_dataset\n",
    "\n",
    "train_filenames, test_filename , _ = download_clinc_dataset(num_training_files=2, clinc_small=True)"
   ]
  },
  {
   "cell_type": "markdown",
   "metadata": {},
   "source": [
    "# UDT Initialization\n",
    "We can now create a UDT model by passing in the types of each column in the dataset and the target column we want to be able to predict."
   ]
  },
  {
   "cell_type": "code",
   "execution_count": 4,
   "metadata": {},
   "outputs": [],
   "source": [
    "from thirdai import bolt\n",
    "\n",
    "model = bolt.UniversalDeepTransformer(\n",
    "    data_types={\n",
    "        \"text\": bolt.types.text(),\n",
    "        \"category\": bolt.types.categorical(),\n",
    "    },\n",
    "    target=\"category\",\n",
    "    n_target_classes=151,\n",
    "    integer_target=True,\n",
    ")"
   ]
  },
  {
   "cell_type": "markdown",
   "metadata": {},
   "source": [
    "## Distributed Training\n",
    "\n",
    "We will now train a UDT model in distributed data parallel fashion. Feel free to customize the number of epochs and the learning rate; we have chosen values that give good convergence. "
   ]
  },
  {
   "cell_type": "code",
   "execution_count": 5,
   "metadata": {},
   "outputs": [
    {
     "name": "stderr",
     "output_type": "stream",
     "text": [
      "NCCL seems unavailable. Please install Cupy following the guide at: https://docs.cupy.dev/en/stable/install.html.\n",
      "2023-01-31 12:42:12,114\tINFO worker.py:1352 -- Connecting to existing Ray cluster at address: 127.0.0.1:62096...\n",
      "2023-01-31 12:42:12,118\tINFO worker.py:1529 -- Connected to Ray cluster. View the dashboard at \u001b[1m\u001b[32m127.0.0.1:8265 \u001b[39m\u001b[22m\n",
      "2023-01-31 12:42:12,163\tINFO packaging.py:546 -- Creating a file package for local directory '/Users/pratikqpranav/ThirdAI/Tests'.\n",
      "2023-01-31 12:42:12,185\tINFO packaging.py:373 -- Pushing file package 'gcs://_ray_pkg_689eafd7eeb19963.zip' (10.89MiB) to Ray cluster...\n",
      "2023-01-31 12:42:12,242\tINFO packaging.py:386 -- Successfully pushed file package 'gcs://_ray_pkg_689eafd7eeb19963.zip'.\n",
      "\u001b[2m\u001b[36m(pid=58357)\u001b[0m 2023-01-31 12:42:16,084\tWARNING collective.py:20 -- NCCL seems unavailable. Please install Cupy following the guide at: https://docs.cupy.dev/en/stable/install.html.\n"
     ]
    },
    {
     "name": "stdout",
     "output_type": "stream",
     "text": [
      "\u001b[2m\u001b[36m(ReplicaWorker pid=58357)\u001b[0m loaded data | source 'clinc_train_1.csv' | vectors 3750 | batches 30 | time 0s | complete\n",
      "\u001b[2m\u001b[36m(ReplicaWorker pid=58357)\u001b[0m \n"
     ]
    },
    {
     "name": "stderr",
     "output_type": "stream",
     "text": [
      "\u001b[2m\u001b[36m(pid=58359)\u001b[0m 2023-01-31 12:42:18,135\tWARNING collective.py:20 -- NCCL seems unavailable. Please install Cupy following the guide at: https://docs.cupy.dev/en/stable/install.html.\n"
     ]
    },
    {
     "name": "stdout",
     "output_type": "stream",
     "text": [
      "\u001b[2m\u001b[36m(PrimaryWorker pid=58359)\u001b[0m loaded data | source 'clinc_train_0.csv' | vectors 3750 | batches 30 | time 0s | complete\n",
      "\u001b[2m\u001b[36m(PrimaryWorker pid=58359)\u001b[0m \n",
      "\u001b[2m\u001b[36m(ReplicaWorker pid=58357)\u001b[0m loaded data | source 'clinc_train_1.csv' | vectors 3750 | batches 30 | time 0s | complete\n",
      "\u001b[2m\u001b[36m(ReplicaWorker pid=58357)\u001b[0m \n",
      "\u001b[2m\u001b[36m(PrimaryWorker pid=58359)\u001b[0m loaded data | source 'clinc_train_0.csv' | vectors 3750 | batches 30 | time 0s | complete\n",
      "\u001b[2m\u001b[36m(PrimaryWorker pid=58359)\u001b[0m \n"
     ]
    },
    {
     "data": {
      "text/plain": [
       "{'time': 51.867286682128906, 'total_batches_trained': 30}"
      ]
     },
     "execution_count": 5,
     "metadata": {},
     "output_type": "execute_result"
    }
   ],
   "source": [
    "\n",
    "\n",
    "import thirdai.distributed_bolt as dist_bolt\n",
    "import os\n",
    "\n",
    "cluster_config = dist_bolt.RayTrainingClusterConfig(\n",
    "    num_workers=2,\n",
    "    cluster_address=mini_cluster.address,\n",
    "    requested_cpus_per_node=1,\n",
    "    communication_type=\"linear\",\n",
    "    runtime_env={\"working_dir\": os.getcwd()},\n",
    "    ignore_reinit_error=True,\n",
    ")\n",
    "\n",
    "\n",
    "\n",
    "model.train_distributed(\n",
    "        cluster_config=cluster_config,\n",
    "        filenames=train_filenames,\n",
    "        batch_size=256,\n",
    "        epochs=1,\n",
    "        learning_rate=0.02,\n",
    "        metrics=[\"mean_squared_error\"],\n",
    "        verbose=True,\n",
    "    )"
   ]
  },
  {
   "cell_type": "markdown",
   "metadata": {},
   "source": [
    "# Evaluation\n",
    "Evaluating the performance of the UDT model is just one line!"
   ]
  },
  {
   "cell_type": "code",
   "execution_count": 6,
   "metadata": {},
   "outputs": [
    {
     "name": "stdout",
     "output_type": "stream",
     "text": [
      "loaded data | source './clinc_test.csv' | vectors 4500 | batches 3 | time 0s | complete\n",
      "\n",
      "evaluate | epoch 0 | train_steps 30 | {categorical_accuracy: 0.854667} | eval_batches 3 | time 407ms\n",
      "\n"
     ]
    }
   ],
   "source": [
    "model.evaluate(test_filename, metrics=[\"categorical_accuracy\"]);"
   ]
  }
 ],
 "metadata": {
  "interpreter": {
   "hash": "e478801100a6f48254279184871aa12183c939aa91791896c59c23c958ae79f0"
  },
  "kernelspec": {
   "display_name": "Python 3.9.13 64-bit ('3.9.13')",
   "language": "python",
   "name": "python3"
  },
  "language_info": {
   "codemirror_mode": {
    "name": "ipython",
    "version": 3
   },
   "file_extension": ".py",
   "mimetype": "text/x-python",
   "name": "python",
   "nbconvert_exporter": "python",
   "pygments_lexer": "ipython3",
   "version": "3.9.13"
  }
 },
 "nbformat": 4,
 "nbformat_minor": 2
}
