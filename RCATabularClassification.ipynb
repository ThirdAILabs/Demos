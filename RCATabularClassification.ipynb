{
 "cells": [
  {
   "cell_type": "code",
   "execution_count": null,
   "metadata": {},
   "outputs": [
    {
     "ename": "",
     "evalue": "",
     "output_type": "error",
     "traceback": [
      "\u001b[1;31mJupyter cannot be started. Error attempting to locate jupyter: Select an Interpreter to start Jupyter\n",
      "Run the following command to install 'jupyter and notebook' into the Python environment. \n",
      "Command: 'python -m pip install jupyter notebook -U\n",
      "or\n",
      "conda install jupyter notebook -U'\n",
      "Click <a href='https://aka.ms/installJupyterForVSCode'>here</a> for more info."
     ]
    }
   ],
   "source": [
    "from thirdai import bolt\n",
    "import os\n",
    "import pandas as pd\n",
    "\n",
    "CENSUS_INCOME_BASE_DOWNLOAD_URL = (\n",
    "    \"https://archive.ics.uci.edu/ml/machine-learning-databases/adult/\"\n",
    ")\n",
    "\n",
    "TABULAR_TRAIN_FILE = \"./census_income_train.csv\"\n",
    "\n",
    "column_names = [\n",
    "    \"age\", \"workclass\", \"fnlwgt\", \"education\", \"education-num\", \"marital-status\", \n",
    "    \"occupation\", \"relationship\", \"race\", \"sex\", \"capital-gain\", \"capital-loss\", \"hours-per-week\", \"native-country\", \"label\"\n",
    "]\n",
    "\n",
    "def download_census_income_dataset():\n",
    "    if not os.path.exists(TABULAR_TRAIN_FILE):\n",
    "        os.system(\n",
    "            f\"curl {CENSUS_INCOME_BASE_DOWNLOAD_URL}adult.data --output {TABULAR_TRAIN_FILE}\"\n",
    "        )\n",
    "\n",
    "def reformat_train_csv():\n",
    "    with open(TABULAR_TRAIN_FILE, \"r\") as file:\n",
    "        data = file.readlines()\n",
    "    with open(TABULAR_TRAIN_FILE, \"w\") as file:\n",
    "        file.write(\",\".join(column_names) + \"\\n\")\n",
    "        file.writelines([line.replace(\", \", \",\") for line in data])\n",
    "\n",
    "\n",
    "download_census_income_dataset()\n",
    "reformat_train_csv()"
   ]
  },
  {
   "cell_type": "code",
   "execution_count": null,
   "metadata": {},
   "outputs": [
    {
     "name": "stdout",
     "output_type": "stream",
     "text": [
      "\n",
      "======================= Bolt Model =======================\n",
      "input_1 (Input): dim=100000\n",
      "input_1 -> fc_1 (FullyConnected): dim=512, sparsity=1, act_func=ReLU\n",
      "fc_1 -> fc_2 (FullyConnected): dim=2, sparsity=1, act_func=Softmax\n",
      "============================================================\n",
      "\n",
      "Loading vectors from './census_income_train.csv'\n"
     ]
    },
    {
     "ename": "ValueError",
     "evalue": "[ThreadSafeVocabulary] Expected 2 unique strings but found more.",
     "output_type": "error",
     "traceback": [
      "\u001b[0;31m---------------------------------------------------------------------------\u001b[0m",
      "\u001b[0;31mValueError\u001b[0m                                Traceback (most recent call last)",
      "\u001b[1;32m/Users/pratikqpranav/Desktop/RCATabularClassification.ipynb Cell 2'\u001b[0m in \u001b[0;36m<cell line: 25>\u001b[0;34m()\u001b[0m\n\u001b[1;32m      <a href='vscode-notebook-cell:/Users/pratikqpranav/Desktop/RCATabularClassification.ipynb#ch0000001?line=0'>1</a>\u001b[0m tabular_model \u001b[39m=\u001b[39m bolt\u001b[39m.\u001b[39mUniversalDeepTransformer(\n\u001b[1;32m      <a href='vscode-notebook-cell:/Users/pratikqpranav/Desktop/RCATabularClassification.ipynb#ch0000001?line=1'>2</a>\u001b[0m     data_types\u001b[39m=\u001b[39m{\n\u001b[1;32m      <a href='vscode-notebook-cell:/Users/pratikqpranav/Desktop/RCATabularClassification.ipynb#ch0000001?line=2'>3</a>\u001b[0m         \u001b[39m\"\u001b[39m\u001b[39mage\u001b[39m\u001b[39m\"\u001b[39m: bolt\u001b[39m.\u001b[39mtypes\u001b[39m.\u001b[39mnumerical(\u001b[39mrange\u001b[39m\u001b[39m=\u001b[39m(\u001b[39m17\u001b[39m, \u001b[39m90\u001b[39m)),\n\u001b[0;32m   (...)\u001b[0m\n\u001b[1;32m     <a href='vscode-notebook-cell:/Users/pratikqpranav/Desktop/RCATabularClassification.ipynb#ch0000001?line=18'>19</a>\u001b[0m     target\u001b[39m=\u001b[39m\u001b[39m\"\u001b[39m\u001b[39mlabel\u001b[39m\u001b[39m\"\u001b[39m\n\u001b[1;32m     <a href='vscode-notebook-cell:/Users/pratikqpranav/Desktop/RCATabularClassification.ipynb#ch0000001?line=19'>20</a>\u001b[0m )\n\u001b[1;32m     <a href='vscode-notebook-cell:/Users/pratikqpranav/Desktop/RCATabularClassification.ipynb#ch0000001?line=21'>22</a>\u001b[0m train_config \u001b[39m=\u001b[39m (bolt\u001b[39m.\u001b[39mTrainConfig(epochs\u001b[39m=\u001b[39m\u001b[39m5\u001b[39m, learning_rate\u001b[39m=\u001b[39m\u001b[39m0.01\u001b[39m)\n\u001b[1;32m     <a href='vscode-notebook-cell:/Users/pratikqpranav/Desktop/RCATabularClassification.ipynb#ch0000001?line=22'>23</a>\u001b[0m                     \u001b[39m.\u001b[39mwith_metrics([\u001b[39m\"\u001b[39m\u001b[39mcategorical_accuracy\u001b[39m\u001b[39m\"\u001b[39m]))\n\u001b[0;32m---> <a href='vscode-notebook-cell:/Users/pratikqpranav/Desktop/RCATabularClassification.ipynb#ch0000001?line=24'>25</a>\u001b[0m tabular_model\u001b[39m.\u001b[39;49mtrain(TABULR_TRAIN_FILE, train_config)\n",
      "\u001b[0;31mValueError\u001b[0m: [ThreadSafeVocabulary] Expected 2 unique strings but found more."
     ]
    },
    {
     "ename": "",
     "evalue": "",
     "output_type": "error",
     "traceback": [
      "\u001b[1;31mJupyter cannot be started. Error attempting to locate jupyter: Select an Interpreter to start Jupyter\n",
      "Run the following command to install 'jupyter and notebook' into the Python environment. \n",
      "Command: 'python -m pip install jupyter notebook -U\n",
      "or\n",
      "conda install jupyter notebook -U'\n",
      "Click <a href='https://aka.ms/installJupyterForVSCode'>here</a> for more info."
     ]
    }
   ],
   "source": [
    "tabular_model = bolt.UniversalDeepTransformer(\n",
    "    data_types={\n",
    "        \"age\": bolt.types.numerical(range=(17, 90)),\n",
    "        \"workclass\": bolt.types.categorical(n_unique_classes=9),\n",
    "        \"fnlwgt\": bolt.types.numerical(range=(12285, 1484705)),\n",
    "        \"education\": bolt.types.categorical(n_unique_classes=16),\n",
    "        \"education-num\": bolt.types.categorical(n_unique_classes=16),\n",
    "        \"marital-status\": bolt.types.categorical(n_unique_classes=7),\n",
    "        \"occupation\": bolt.types.categorical(n_unique_classes=15),\n",
    "        \"relationship\": bolt.types.categorical(n_unique_classes=6),\n",
    "        \"race\": bolt.types.categorical(n_unique_classes=5),\n",
    "        \"sex\": bolt.types.categorical(n_unique_classes=2),\n",
    "        \"capital-gain\": bolt.types.numerical(range=(0, 99999)),\n",
    "        \"capital-loss\": bolt.types.numerical(range=(0, 4356)),\n",
    "        \"hours-per-week\": bolt.types.numerical(range=(1, 99)),\n",
    "        \"native-country\": bolt.types.categorical(n_unique_classes=42),\n",
    "        \"label\": bolt.types.categorical(n_unique_classes=2),\n",
    "    },\n",
    "    target=\"label\"\n",
    ")\n",
    "\n",
    "train_config = (bolt.TrainConfig(epochs=5, learning_rate=0.01)\n",
    "                    .with_metrics([\"categorical_accuracy\"]))\n",
    "\n",
    "tabular_model.train(TABULR_TRAIN_FILE, train_config)"
   ]
  },
  {
   "cell_type": "code",
   "execution_count": null,
   "metadata": {},
   "outputs": [
    {
     "name": "stdout",
     "output_type": "stream",
     "text": [
      "column_name: \"relationship\" | keyword: \"Own-child\" | percentage_significance: 19.2944\n",
      "column_name: \"age\" | keyword: \"25\" | percentage_significance: 18.0571\n",
      "column_name: \"marital-status\" | keyword: \"Never-married\" | percentage_significance: 16.3937\n",
      "column_name: \"capital-gain\" | keyword: \"0\" | percentage_significance: 11.1975\n",
      "column_name: \"occupation\" | keyword: \"Machine-op-inspct\" | percentage_significance: 11.0844\n",
      "column_name: \"education\" | keyword: \"11th\" | percentage_significance: 6.69032\n",
      "column_name: \"race\" | keyword: \"Black\" | percentage_significance: 6.5515\n",
      "column_name: \"education-num\" | keyword: \"7\" | percentage_significance: 6.49143\n",
      "column_name: \"capital-loss\" | keyword: \"0\" | percentage_significance: 1.771\n",
      "column_name: \"hours-per-week\" | keyword: \"40\" | percentage_significance: 1.51048\n",
      "column_name: \"fnlwgt\" | keyword: \"226802\" | percentage_significance: -0.476827\n",
      "column_name: \"native-country\" | keyword: \"United-States\" | percentage_significance: -0.353798\n",
      "column_name: \"workclass\" | keyword: \"Private\" | percentage_significance: 0.0726322\n",
      "column_name: \"sex\" | keyword: \" Male\" | percentage_significance: 0.0549398\n"
     ]
    },
    {
     "ename": "",
     "evalue": "",
     "output_type": "error",
     "traceback": [
      "\u001b[1;31mJupyter cannot be started. Error attempting to locate jupyter: Select an Interpreter to start Jupyter\n",
      "Run the following command to install 'jupyter and notebook' into the Python environment. \n",
      "Command: 'python -m pip install jupyter notebook -U\n",
      "or\n",
      "conda install jupyter notebook -U'\n",
      "Click <a href='https://aka.ms/installJupyterForVSCode'>here</a> for more info."
     ]
    }
   ],
   "source": [
    "#25,Private,226802,11th,7,Never-married,Machine-op-inspct,Own-child,Black,Male,0,0,40,United-States,<=50K\n",
    "\n",
    "dict_for_explainability = {\n",
    "    \"age\": \"25\",\n",
    "    \"workclass\": \"Private\",\n",
    "    \"fnlwgt\": \"226802\",\n",
    "    \"education\": \"11th\",\n",
    "    \"education-num\": \"7\",\n",
    "    \"marital-status\": \"Never-married\",\n",
    "    \"occupation\": \"Machine-op-inspct\",\n",
    "    \"relationship\": \"Own-child\",\n",
    "    \"race\": \"Black\",\n",
    "    \"sex\": \" Male\",\n",
    "    \"capital-gain\": \"0\",\n",
    "    \"capital-loss\": \"0\",\n",
    "    \"hours-per-week\": \"40\",\n",
    "    \"native-country\": \"United-States\"\n",
    "}\n",
    "\n",
    "\n",
    "explanations = tabular_model.explain(input_sample=dict_for_explainability, target_class=\"<=50K\",)\n",
    "for explanation in explanations:\n",
    "    print(explanation)"
   ]
  },
  {
   "cell_type": "code",
   "execution_count": null,
   "metadata": {},
   "outputs": [
    {
     "ename": "NameError",
     "evalue": "name 'TABULAR_TRAIN_FILE' is not defined",
     "output_type": "error",
     "traceback": [
      "\u001b[0;31m---------------------------------------------------------------------------\u001b[0m",
      "\u001b[0;31mNameError\u001b[0m                                 Traceback (most recent call last)",
      "\u001b[1;32m/Users/pratikqpranav/Desktop/RCATabularClassification.ipynb Cell 4'\u001b[0m in \u001b[0;36m<cell line: 1>\u001b[0;34m()\u001b[0m\n\u001b[0;32m----> <a href='vscode-notebook-cell:/Users/pratikqpranav/Desktop/RCATabularClassification.ipynb#ch0000003?line=0'>1</a>\u001b[0m os\u001b[39m.\u001b[39mremove(TABULAR_TRAIN_FILE)\n",
      "\u001b[0;31mNameError\u001b[0m: name 'TABULAR_TRAIN_FILE' is not defined"
     ]
    },
    {
     "ename": "",
     "evalue": "",
     "output_type": "error",
     "traceback": [
      "\u001b[1;31mJupyter cannot be started. Error attempting to locate jupyter: Select an Interpreter to start Jupyter\n",
      "Run the following command to install 'jupyter and notebook' into the Python environment. \n",
      "Command: 'python -m pip install jupyter notebook -U\n",
      "or\n",
      "conda install jupyter notebook -U'\n",
      "Click <a href='https://aka.ms/installJupyterForVSCode'>here</a> for more info."
     ]
    }
   ],
   "source": [
    "os.remove(TABULAR_TRAIN_FILE)\n"
   ]
  }
 ],
 "metadata": {
  "interpreter": {
   "hash": "e478801100a6f48254279184871aa12183c939aa91791896c59c23c958ae79f0"
  },
  "kernelspec": {
   "display_name": "Python 3.9.13 64-bit ('3.9.13')",
   "language": "python",
   "name": "python3"
  },
  "language_info": {
   "codemirror_mode": {
    "name": "ipython",
    "version": 3
   },
   "file_extension": ".py",
   "mimetype": "text/x-python",
   "name": "python",
   "nbconvert_exporter": "python",
   "pygments_lexer": "ipython3",
   "version": "3.9.13"
  },
  "orig_nbformat": 4
 },
 "nbformat": 4,
 "nbformat_minor": 2
}
