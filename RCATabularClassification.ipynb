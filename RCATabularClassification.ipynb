{
 "cells": [
  {
   "cell_type": "markdown",
   "metadata": {},
   "source": [
    "## Explainability for Tabular Data\n",
    "\n",
    "This tutorial will go through how we can use the thirdai library to add explainability to tabular models. "
   ]
  },
  {
   "cell_type": "markdown",
   "metadata": {},
   "source": [
    "## Download Training Data\n",
    "\n",
    "For this tutorial, we are using Census Income Dataset. The task for this dataset is to predict whether the income exceeds $50K/yr based on census data.\n",
    "\n",
    "See here for more info about the dataset: https://archive.ics.uci.edu/ml/datasets/census+income"
   ]
  },
  {
   "cell_type": "code",
   "execution_count": null,
   "metadata": {},
   "outputs": [],
   "source": [
    "from thirdai import bolt\n",
    "import os\n",
    "import pandas as pd\n",
    "\n",
    "CENSUS_INCOME_BASE_DOWNLOAD_URL = (\n",
    "    \"https://archive.ics.uci.edu/ml/machine-learning-databases/adult/\"\n",
    ")\n",
    "\n",
    "TABULAR_TRAIN_FILE = \"./census_income_train.csv\"\n",
    "\n",
    "column_names = [\n",
    "    \"age\", \"workclass\", \"fnlwgt\", \"education\", \"education-num\", \"marital-status\", \n",
    "    \"occupation\", \"relationship\", \"race\", \"sex\", \"capital-gain\", \"capital-loss\", \"hours-per-week\", \"native-country\", \"label\"\n",
    "]\n",
    "\n",
    "def download_census_income_dataset():\n",
    "    if not os.path.exists(TABULAR_TRAIN_FILE):\n",
    "        os.system(\n",
    "            f\"curl {CENSUS_INCOME_BASE_DOWNLOAD_URL}adult.data --output {TABULAR_TRAIN_FILE}\"\n",
    "        )\n",
    "\n",
    "def reformat_train_csv():\n",
    "    with open(TABULAR_TRAIN_FILE, \"r\") as file:\n",
    "        data = file.readlines()\n",
    "    with open(TABULAR_TRAIN_FILE, \"w\") as file:\n",
    "        file.write(\",\".join(column_names) + \"\\n\")\n",
    "        file.writelines([line.replace(\", \", \",\") for line in data])\n",
    "\n",
    "\n",
    "download_census_income_dataset()\n",
    "reformat_train_csv()"
   ]
  },
  {
   "cell_type": "markdown",
   "metadata": {},
   "source": [
    "## Training Tabular Model\n",
    "\n",
    "Here, we will train ThirdAI's Universal Deep Transformer(UDT). We need to specify all the column type and target(which contains the prediction for UDT). It will return a Bolt Model. \n",
    "\n",
    "For training, we will need to specify a config. Once the training config is specified, we can pass it to the train function along with training data, as specified below."
   ]
  },
  {
   "cell_type": "code",
   "execution_count": null,
   "metadata": {},
   "outputs": [],
   "source": [
    "tabular_model = bolt.UniversalDeepTransformer(\n",
    "    data_types={\n",
    "        \"age\": bolt.types.numerical(range=(17, 90)),\n",
    "        \"workclass\": bolt.types.categorical(n_unique_classes=9),\n",
    "        \"fnlwgt\": bolt.types.numerical(range=(12285, 1484705)),\n",
    "        \"education\": bolt.types.categorical(n_unique_classes=16),\n",
    "        \"education-num\": bolt.types.categorical(n_unique_classes=16),\n",
    "        \"marital-status\": bolt.types.categorical(n_unique_classes=7),\n",
    "        \"occupation\": bolt.types.categorical(n_unique_classes=15),\n",
    "        \"relationship\": bolt.types.categorical(n_unique_classes=6),\n",
    "        \"race\": bolt.types.categorical(n_unique_classes=5),\n",
    "        \"sex\": bolt.types.categorical(n_unique_classes=2),\n",
    "        \"capital-gain\": bolt.types.numerical(range=(0, 99999)),\n",
    "        \"capital-loss\": bolt.types.numerical(range=(0, 4356)),\n",
    "        \"hours-per-week\": bolt.types.numerical(range=(1, 99)),\n",
    "        \"native-country\": bolt.types.categorical(n_unique_classes=42),\n",
    "        \"label\": bolt.types.categorical(n_unique_classes=2),\n",
    "    },\n",
    "    target=\"label\"\n",
    ")\n",
    "\n",
    "train_config = (bolt.TrainConfig(epochs=5, learning_rate=0.01)\n",
    "                    .with_metrics([\"categorical_accuracy\"]))\n",
    "\n",
    "tabular_model.train(TABULAR_TRAIN_FILE, train_config)"
   ]
  },
  {
   "cell_type": "markdown",
   "metadata": {},
   "source": [
    "## Explanations\n",
    "\n",
    "Below is how we can identify the model that is most responsible for a predicted outcome, with a value which shows their percentage significance"
   ]
  },
  {
   "cell_type": "code",
   "execution_count": null,
   "metadata": {},
   "outputs": [],
   "source": [
    "#25,Private,226802,11th,7,Never-married,Machine-op-inspct,Own-child,Black,Male,0,0,40,United-States,<=50K\n",
    "\n",
    "dict_for_explainability = {\n",
    "    \"age\": \"25\",\n",
    "    \"workclass\": \"Private\",\n",
    "    \"fnlwgt\": \"226802\",\n",
    "    \"education\": \"11th\",\n",
    "    \"education-num\": \"7\",\n",
    "    \"marital-status\": \"Never-married\",\n",
    "    \"occupation\": \"Machine-op-inspct\",\n",
    "    \"relationship\": \"Own-child\",\n",
    "    \"race\": \"Black\",\n",
    "    \"sex\": \" Male\",\n",
    "    \"capital-gain\": \"0\",\n",
    "    \"capital-loss\": \"0\",\n",
    "    \"hours-per-week\": \"40\",\n",
    "    \"native-country\": \"United-States\",\n",
    "    \"label\": \"<=50K\",\n",
    "}\n",
    "\n",
    "\n",
    "\n",
    "explanations = tabular_model.explain(input_sample=dict_for_explainability)\n",
    "for explanation in explanations:\n",
    "    print(explanation)"
   ]
  },
  {
   "cell_type": "markdown",
   "metadata": {},
   "source": [
    "Suppose we want to know what factors(columns in our case) we need to change and how much to have a salary above 50K.\n",
    "\n",
    "We can use explain function for that too. We need to specify the target_class to be the target we want. In our case, \">50K\""
   ]
  },
  {
   "cell_type": "code",
   "execution_count": null,
   "metadata": {},
   "outputs": [],
   "source": [
    "#25,Private,226802,11th,7,Never-married,Machine-op-inspct,Own-child,Black,Male,0,0,40,United-States,<=50K\n",
    "\n",
    "\n",
    "\n",
    "explanations = tabular_model.explain(input_sample=dict_for_explainability, target_class=\">50K\")\n",
    "for explanation in explanations:\n",
    "    print(explanation)"
   ]
  },
  {
   "cell_type": "markdown",
   "metadata": {},
   "source": [
    "## Delete Train Data"
   ]
  },
  {
   "cell_type": "code",
   "execution_count": null,
   "metadata": {},
   "outputs": [],
   "source": [
    "os.remove(TABULAR_TRAIN_FILE)"
   ]
  }
 ],
 "metadata": {
  "interpreter": {
   "hash": "e478801100a6f48254279184871aa12183c939aa91791896c59c23c958ae79f0"
  },
  "kernelspec": {
   "display_name": "Python 3.9.13 64-bit ('3.9.13')",
   "language": "python",
   "name": "python3"
  },
  "language_info": {
   "codemirror_mode": {
    "name": "ipython",
    "version": 3
   },
   "file_extension": ".py",
   "mimetype": "text/x-python",
   "name": "python",
   "nbconvert_exporter": "python",
   "pygments_lexer": "ipython3",
   "version": "3.9.13"
  },
  "orig_nbformat": 4
 },
 "nbformat": 4,
 "nbformat_minor": 2
}
