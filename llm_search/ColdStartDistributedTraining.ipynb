{
 "cells": [
  {
   "attachments": {},
   "cell_type": "markdown",
   "metadata": {},
   "source": [
    "# Pre-training and fine-tuning an LLM on CPU on AG News with ThirdAI's UDT\n",
    "\n",
    "In this notebook, we will pre-train an LLM from scratch on the popular AG News Dataset (https://www.kaggle.com/datasets/amananandrai/ag-news-classification-dataset) using ThirdAI's Universal Deep Transformer (UDT). We will demonstrate how UDT can just pre-train on a small dataset and outperform the Semantic Search offering of OpenAI. \n",
    "\n",
    "This demo shows that one-model for all is sub-optimal and pre-training/fine-tuning on specific downstream datasets is required to get the best results.\n",
    "\n",
    "While most LLMs cannot be fine-tuned even on a powerful GPU, ThirdAI's UDT can train a billion parameter model on just a moderate CPU in few minutes.\n",
    "\n",
    "You can immediately run a version of this notebook in your browser on Google Colab at the following link:\n",
    "\n",
    "https://githubtocolab.com/ThirdAILabs/Demos/blob/main/llm_search/AgNewsDemo.ipynb\n",
    "\n",
    "This notebook uses an activation key that will only work with this demo. If you want to try us out on your own dataset, you can obtain a free trial license at the following link: https://www.thirdai.com/try-bolt/"
   ]
  },
  {
   "attachments": {},
   "cell_type": "markdown",
   "metadata": {},
   "source": [
    "### Import thirdai and activate license"
   ]
  },
  {
   "cell_type": "code",
   "execution_count": 1,
   "metadata": {},
   "outputs": [
    {
     "name": "stdout",
     "output_type": "stream",
     "text": [
      "Requirement already satisfied: datasets in /Users/mjay/miniconda3/envs/py_3.9/lib/python3.9/site-packages (2.12.0)\n",
      "Requirement already satisfied: responses<0.19 in /Users/mjay/miniconda3/envs/py_3.9/lib/python3.9/site-packages (from datasets) (0.18.0)\n",
      "Requirement already satisfied: xxhash in /Users/mjay/miniconda3/envs/py_3.9/lib/python3.9/site-packages (from datasets) (3.2.0)\n",
      "Requirement already satisfied: requests>=2.19.0 in /Users/mjay/miniconda3/envs/py_3.9/lib/python3.9/site-packages (from datasets) (2.31.0)\n",
      "Requirement already satisfied: aiohttp in /Users/mjay/miniconda3/envs/py_3.9/lib/python3.9/site-packages (from datasets) (3.8.4)\n",
      "Requirement already satisfied: pyyaml>=5.1 in /Users/mjay/miniconda3/envs/py_3.9/lib/python3.9/site-packages (from datasets) (6.0)\n",
      "Requirement already satisfied: multiprocess in /Users/mjay/miniconda3/envs/py_3.9/lib/python3.9/site-packages (from datasets) (0.70.14)\n",
      "Requirement already satisfied: fsspec[http]>=2021.11.1 in /Users/mjay/miniconda3/envs/py_3.9/lib/python3.9/site-packages (from datasets) (2023.5.0)\n",
      "Requirement already satisfied: numpy>=1.17 in /Users/mjay/miniconda3/envs/py_3.9/lib/python3.9/site-packages (from datasets) (1.24.3)\n",
      "Requirement already satisfied: huggingface-hub<1.0.0,>=0.11.0 in /Users/mjay/miniconda3/envs/py_3.9/lib/python3.9/site-packages (from datasets) (0.15.1)\n",
      "Requirement already satisfied: packaging in /Users/mjay/miniconda3/envs/py_3.9/lib/python3.9/site-packages (from datasets) (23.1)\n",
      "Requirement already satisfied: pandas in /Users/mjay/miniconda3/envs/py_3.9/lib/python3.9/site-packages (from datasets) (2.0.2)\n",
      "Requirement already satisfied: dill<0.3.7,>=0.3.0 in /Users/mjay/miniconda3/envs/py_3.9/lib/python3.9/site-packages (from datasets) (0.3.6)\n",
      "Requirement already satisfied: pyarrow>=8.0.0 in /Users/mjay/miniconda3/envs/py_3.9/lib/python3.9/site-packages (from datasets) (12.0.0)\n",
      "Requirement already satisfied: tqdm>=4.62.1 in /Users/mjay/miniconda3/envs/py_3.9/lib/python3.9/site-packages (from datasets) (4.65.0)\n",
      "Requirement already satisfied: frozenlist>=1.1.1 in /Users/mjay/miniconda3/envs/py_3.9/lib/python3.9/site-packages (from aiohttp->datasets) (1.3.3)\n",
      "Requirement already satisfied: yarl<2.0,>=1.0 in /Users/mjay/miniconda3/envs/py_3.9/lib/python3.9/site-packages (from aiohttp->datasets) (1.9.2)\n",
      "Requirement already satisfied: attrs>=17.3.0 in /Users/mjay/miniconda3/envs/py_3.9/lib/python3.9/site-packages (from aiohttp->datasets) (23.1.0)\n",
      "Requirement already satisfied: async-timeout<5.0,>=4.0.0a3 in /Users/mjay/miniconda3/envs/py_3.9/lib/python3.9/site-packages (from aiohttp->datasets) (4.0.2)\n",
      "Requirement already satisfied: multidict<7.0,>=4.5 in /Users/mjay/miniconda3/envs/py_3.9/lib/python3.9/site-packages (from aiohttp->datasets) (6.0.4)\n",
      "Requirement already satisfied: charset-normalizer<4.0,>=2.0 in /Users/mjay/miniconda3/envs/py_3.9/lib/python3.9/site-packages (from aiohttp->datasets) (3.1.0)\n",
      "Requirement already satisfied: aiosignal>=1.1.2 in /Users/mjay/miniconda3/envs/py_3.9/lib/python3.9/site-packages (from aiohttp->datasets) (1.3.1)\n",
      "Requirement already satisfied: typing-extensions>=3.7.4.3 in /Users/mjay/miniconda3/envs/py_3.9/lib/python3.9/site-packages (from huggingface-hub<1.0.0,>=0.11.0->datasets) (4.6.3)\n",
      "Requirement already satisfied: filelock in /Users/mjay/miniconda3/envs/py_3.9/lib/python3.9/site-packages (from huggingface-hub<1.0.0,>=0.11.0->datasets) (3.12.0)\n",
      "Requirement already satisfied: urllib3<3,>=1.21.1 in /Users/mjay/miniconda3/envs/py_3.9/lib/python3.9/site-packages (from requests>=2.19.0->datasets) (2.0.2)\n",
      "Requirement already satisfied: certifi>=2017.4.17 in /Users/mjay/miniconda3/envs/py_3.9/lib/python3.9/site-packages (from requests>=2.19.0->datasets) (2023.5.7)\n",
      "Requirement already satisfied: idna<4,>=2.5 in /Users/mjay/miniconda3/envs/py_3.9/lib/python3.9/site-packages (from requests>=2.19.0->datasets) (3.4)\n",
      "Requirement already satisfied: pytz>=2020.1 in /Users/mjay/miniconda3/envs/py_3.9/lib/python3.9/site-packages (from pandas->datasets) (2023.3)\n",
      "Requirement already satisfied: python-dateutil>=2.8.2 in /Users/mjay/miniconda3/envs/py_3.9/lib/python3.9/site-packages (from pandas->datasets) (2.8.2)\n",
      "Requirement already satisfied: tzdata>=2022.1 in /Users/mjay/miniconda3/envs/py_3.9/lib/python3.9/site-packages (from pandas->datasets) (2023.3)\n",
      "Requirement already satisfied: six>=1.5 in /Users/mjay/miniconda3/envs/py_3.9/lib/python3.9/site-packages (from python-dateutil>=2.8.2->pandas->datasets) (1.16.0)\n",
      "Requirement already satisfied: ray in /Users/mjay/miniconda3/envs/py_3.9/lib/python3.9/site-packages (2.4.0)\n",
      "Requirement already satisfied: protobuf!=3.19.5,>=3.15.3 in /Users/mjay/miniconda3/envs/py_3.9/lib/python3.9/site-packages (from ray) (4.23.2)\n",
      "Requirement already satisfied: grpcio<=1.49.1,>=1.32.0 in /Users/mjay/miniconda3/envs/py_3.9/lib/python3.9/site-packages (from ray) (1.49.1)\n",
      "Requirement already satisfied: filelock in /Users/mjay/miniconda3/envs/py_3.9/lib/python3.9/site-packages (from ray) (3.12.0)\n",
      "Requirement already satisfied: msgpack<2.0.0,>=1.0.0 in /Users/mjay/miniconda3/envs/py_3.9/lib/python3.9/site-packages (from ray) (1.0.5)\n",
      "Requirement already satisfied: attrs in /Users/mjay/miniconda3/envs/py_3.9/lib/python3.9/site-packages (from ray) (23.1.0)\n",
      "Requirement already satisfied: numpy>=1.19.3 in /Users/mjay/miniconda3/envs/py_3.9/lib/python3.9/site-packages (from ray) (1.24.3)\n",
      "Requirement already satisfied: virtualenv<20.21.1,>=20.0.24 in /Users/mjay/miniconda3/envs/py_3.9/lib/python3.9/site-packages (from ray) (20.21.0)\n",
      "Requirement already satisfied: click>=7.0 in /Users/mjay/miniconda3/envs/py_3.9/lib/python3.9/site-packages (from ray) (8.1.3)\n",
      "Requirement already satisfied: pyyaml in /Users/mjay/miniconda3/envs/py_3.9/lib/python3.9/site-packages (from ray) (6.0)\n",
      "Requirement already satisfied: aiosignal in /Users/mjay/miniconda3/envs/py_3.9/lib/python3.9/site-packages (from ray) (1.3.1)\n",
      "Requirement already satisfied: requests in /Users/mjay/miniconda3/envs/py_3.9/lib/python3.9/site-packages (from ray) (2.31.0)\n",
      "Requirement already satisfied: jsonschema in /Users/mjay/miniconda3/envs/py_3.9/lib/python3.9/site-packages (from ray) (4.17.3)\n",
      "Requirement already satisfied: frozenlist in /Users/mjay/miniconda3/envs/py_3.9/lib/python3.9/site-packages (from ray) (1.3.3)\n",
      "Requirement already satisfied: six>=1.5.2 in /Users/mjay/miniconda3/envs/py_3.9/lib/python3.9/site-packages (from grpcio<=1.49.1,>=1.32.0->ray) (1.16.0)\n",
      "Requirement already satisfied: distlib<1,>=0.3.6 in /Users/mjay/miniconda3/envs/py_3.9/lib/python3.9/site-packages (from virtualenv<20.21.1,>=20.0.24->ray) (0.3.6)\n",
      "Requirement already satisfied: platformdirs<4,>=2.4 in /Users/mjay/miniconda3/envs/py_3.9/lib/python3.9/site-packages (from virtualenv<20.21.1,>=20.0.24->ray) (3.5.1)\n",
      "Requirement already satisfied: pyrsistent!=0.17.0,!=0.17.1,!=0.17.2,>=0.14.0 in /Users/mjay/miniconda3/envs/py_3.9/lib/python3.9/site-packages (from jsonschema->ray) (0.19.3)\n",
      "Requirement already satisfied: charset-normalizer<4,>=2 in /Users/mjay/miniconda3/envs/py_3.9/lib/python3.9/site-packages (from requests->ray) (3.1.0)\n",
      "Requirement already satisfied: urllib3<3,>=1.21.1 in /Users/mjay/miniconda3/envs/py_3.9/lib/python3.9/site-packages (from requests->ray) (2.0.2)\n",
      "Requirement already satisfied: certifi>=2017.4.17 in /Users/mjay/miniconda3/envs/py_3.9/lib/python3.9/site-packages (from requests->ray) (2023.5.7)\n",
      "Requirement already satisfied: idna<4,>=2.5 in /Users/mjay/miniconda3/envs/py_3.9/lib/python3.9/site-packages (from requests->ray) (3.4)\n"
     ]
    }
   ],
   "source": [
    "!pip3 install datasets\n",
    "# !pip3 install thirdai --upgrade\n",
    "!pip3 install ray\n",
    "\n",
    "import thirdai"
   ]
  },
  {
   "attachments": {},
   "cell_type": "markdown",
   "metadata": {},
   "source": [
    "## Ray Cluster Initialization\n",
    "For the purpose of this demo, we will be initializing a mock ray cluster here."
   ]
  },
  {
   "cell_type": "code",
   "execution_count": 2,
   "metadata": {},
   "outputs": [
    {
     "name": "stderr",
     "output_type": "stream",
     "text": [
      "/Users/mjay/miniconda3/envs/py_3.9/lib/python3.9/site-packages/tqdm/auto.py:21: TqdmWarning: IProgress not found. Please update jupyter and ipywidgets. See https://ipywidgets.readthedocs.io/en/stable/user_install.html\n",
      "  from .autonotebook import tqdm as notebook_tqdm\n",
      "Failed to bind to 127.0.0.1:8265 because it's already occupied. You can use `ray start --dashboard-port ...` or `ray.init(dashboard_port=...)` to select a different port.\n"
     ]
    },
    {
     "data": {
      "text/plain": [
       "<ray._private.node.Node at 0x13b326c10>"
      ]
     },
     "execution_count": 2,
     "metadata": {},
     "output_type": "execute_result"
    }
   ],
   "source": [
    "from ray.cluster_utils import Cluster\n",
    "\n",
    "mini_cluster = Cluster(\n",
    "    initialize_head=True,\n",
    "    head_node_args={\n",
    "        \"num_cpus\": 3,\n",
    "    },\n",
    ")\n",
    "mini_cluster.add_node(num_cpus=3)"
   ]
  },
  {
   "attachments": {},
   "cell_type": "markdown",
   "metadata": {},
   "source": [
    "### Download and process the dataset into a csv file."
   ]
  },
  {
   "cell_type": "code",
   "execution_count": 3,
   "metadata": {},
   "outputs": [
    {
     "name": "stderr",
     "output_type": "stream",
     "text": [
      "Found cached dataset ag_news (/Users/mjay/.cache/huggingface/datasets/ag_news/default/0.0.0/bc2bcb40336ace1a0374767fc29bb0296cdaf8a6da7298436239c54d79180548)\n",
      "100%|██████████| 2/2 [00:00<00:00, 64.63it/s]\n"
     ]
    }
   ],
   "source": [
    "from datasets import load_dataset\n",
    "\n",
    "file_1 = open('agnews_train_0.csv', 'w')\n",
    "file_2 = open('agnews_train_1.csv', 'w')\n",
    "\n",
    "corpus = load_dataset(\"ag_news\")[\"train\"][\"text\"]\n",
    "num_datapoints = len(corpus)\n",
    "\n",
    "file_1.write(\"id,text\\n\")\n",
    "file_2.write(\"id,text\\n\")\n",
    "\n",
    "idx = 0\n",
    "for line in corpus:\n",
    "    if idx < num_datapoints//2:\n",
    "        nothing = file_1.write(str(idx) + \",\" + line.replace(\",\", \" \").lower() + \"\\n\")\n",
    "    else:\n",
    "        nothing = file_2.write(str(idx) + \",\" + line.replace(\",\", \" \").lower() + \"\\n\")\n",
    "\n",
    "    idx += 1\n",
    "\n",
    "file_1.close()\n",
    "file_2.close()\n",
    "\n",
    "train_filenames = ['agnews_train_0.csv', 'agnews_train_1.csv']"
   ]
  },
  {
   "attachments": {},
   "cell_type": "markdown",
   "metadata": {},
   "source": [
    "In the above step, *corpus_file* refers to the corpus file with document id and text. We can have even more columns with other metadata for each row. Pre-training with UDT supports two types of columns, strong and weak. For the purpose of this demo, we choose *text* to be the strong column and leave the weak column list to be empty.\n",
    "\n",
    "A couple of sample rows of the *corpus_file* are shown below.\n",
    "\n",
    "PLEASE NOTE: Currently, UDT's cold_start function requires the *id* to be an integer. We will add support for other formats in a future release."
   ]
  },
  {
   "cell_type": "code",
   "execution_count": 4,
   "metadata": {},
   "outputs": [
    {
     "data": {
      "text/html": [
       "<div>\n",
       "<style scoped>\n",
       "    .dataframe tbody tr th:only-of-type {\n",
       "        vertical-align: middle;\n",
       "    }\n",
       "\n",
       "    .dataframe tbody tr th {\n",
       "        vertical-align: top;\n",
       "    }\n",
       "\n",
       "    .dataframe thead th {\n",
       "        text-align: right;\n",
       "    }\n",
       "</style>\n",
       "<table border=\"1\" class=\"dataframe\">\n",
       "  <thead>\n",
       "    <tr style=\"text-align: right;\">\n",
       "      <th></th>\n",
       "      <th>id</th>\n",
       "      <th>text</th>\n",
       "    </tr>\n",
       "  </thead>\n",
       "  <tbody>\n",
       "    <tr>\n",
       "      <th>0</th>\n",
       "      <td>0</td>\n",
       "      <td>wall st. bears claw back into the black (reuters) reuters - short-sellers  wall street's dwindling\\band of ultra-cynics  are seeing green again.</td>\n",
       "    </tr>\n",
       "    <tr>\n",
       "      <th>1</th>\n",
       "      <td>1</td>\n",
       "      <td>carlyle looks toward commercial aerospace (reuters) reuters - private investment firm carlyle group \\which has a reputation for making well-timed and occasionally\\controversial plays in the defense industry  has quietly placed\\its bets on another part of the market.</td>\n",
       "    </tr>\n",
       "  </tbody>\n",
       "</table>\n",
       "</div>"
      ],
      "text/plain": [
       "   id  \\\n",
       "0   0   \n",
       "1   1   \n",
       "\n",
       "                                                                                                                                                                                                                                                                         text  \n",
       "0                                                                                                                            wall st. bears claw back into the black (reuters) reuters - short-sellers  wall street's dwindling\\band of ultra-cynics  are seeing green again.  \n",
       "1  carlyle looks toward commercial aerospace (reuters) reuters - private investment firm carlyle group \\which has a reputation for making well-timed and occasionally\\controversial plays in the defense industry  has quietly placed\\its bets on another part of the market.  "
      ]
     },
     "execution_count": 4,
     "metadata": {},
     "output_type": "execute_result"
    }
   ],
   "source": [
    "import pandas as pd\n",
    "\n",
    "pd.options.display.max_colwidth = 700\n",
    "pd.read_csv(train_filenames[0], nrows=2)"
   ]
  },
  {
   "attachments": {},
   "cell_type": "markdown",
   "metadata": {},
   "source": [
    "### Define a UDT model\n",
    "\n",
    "The column name *query* can be anything of your choice.\n",
    "The column name *id* should match with the one in the header of the *corpus_file*."
   ]
  },
  {
   "cell_type": "code",
   "execution_count": 5,
   "metadata": {},
   "outputs": [],
   "source": [
    "from thirdai import bolt\n",
    "\n",
    "model = bolt.UniversalDeepTransformer(\n",
    "    data_types={\n",
    "        \"query\": bolt.types.text(),\n",
    "        \"id\": bolt.types.categorical(delimiter=':'),\n",
    "    },\n",
    "    target=\"id\",\n",
    "    n_target_classes=num_datapoints,\n",
    "    integer_target=True,\n",
    "    model_config='../configs/embeddings_and_cold_start_0.005.config',\n",
    ")"
   ]
  },
  {
   "attachments": {},
   "cell_type": "markdown",
   "metadata": {},
   "source": [
    "## Distributed Training\n",
    "\n",
    "We will now train a UDT model in distributed data parallel fashion. Feel free to customize the number of epochs and the learning rate; we have chosen values that give good convergence. "
   ]
  },
  {
   "cell_type": "code",
   "execution_count": 6,
   "metadata": {},
   "outputs": [
    {
     "name": "stderr",
     "output_type": "stream",
     "text": [
      "NCCL seems unavailable. Please install Cupy following the guide at: https://docs.cupy.dev/en/stable/install.html.\n",
      "2023-06-05 18:12:54,042\tINFO worker.py:1432 -- Connecting to existing Ray cluster at address: 127.0.0.1:58887...\n",
      "2023-06-05 18:12:54,055\tINFO worker.py:1625 -- Connected to Ray cluster.\n",
      "\u001b[2m\u001b[36m(pid=47352)\u001b[0m 2023-06-05 18:13:00,393\tWARNING collective.py:20 -- NCCL seems unavailable. Please install Cupy following the guide at: https://docs.cupy.dev/en/stable/install.html.\n"
     ]
    },
    {
     "name": "stdout",
     "output_type": "stream",
     "text": [
      "\u001b[2m\u001b[36m(ReplicaWorker pid=47352)\u001b[0m loading data | source 'agnews_train_1.csv'\n",
      "\u001b[2m\u001b[36m(ReplicaWorker pid=47352)\u001b[0m loaded data | source 'agnews_train_1.csv' | vectors 60000 | batches 59 | time 0s | complete\n",
      "\u001b[2m\u001b[36m(ReplicaWorker pid=47352)\u001b[0m \n"
     ]
    }
   ],
   "source": [
    "import thirdai.distributed_bolt as dist_bolt\n",
    "import os\n",
    "\n",
    "cluster_config = dist_bolt.RayTrainingClusterConfig(\n",
    "    num_workers=2,\n",
    "    cluster_address=mini_cluster.address,\n",
    "    requested_cpus_per_node=3,\n",
    "    communication_type=\"linear\",\n",
    "    ignore_reinit_error=True,\n",
    ")\n",
    "\n",
    "model.cold_start_distributed(\n",
    "    cluster_config=cluster_config,\n",
    "    filenames=train_filenames,\n",
    "    strong_column_names=[\"text\"],\n",
    "    weak_column_names=[],\n",
    "    learning_rate=0.001,\n",
    "    epochs=5,\n",
    "    metrics=['categorical_accuracy'],\n",
    ")"
   ]
  },
  {
   "attachments": {},
   "cell_type": "markdown",
   "metadata": {},
   "source": [
    "### Save and load the model"
   ]
  },
  {
   "cell_type": "code",
   "execution_count": null,
   "metadata": {},
   "outputs": [],
   "source": [
    "model.save('./agnews.model')\n",
    "\n",
    "model = bolt.UniversalDeepTransformer.load('./agnews.model')"
   ]
  },
  {
   "attachments": {},
   "cell_type": "markdown",
   "metadata": {},
   "source": [
    "## Make Predictions\n",
    "\n",
    "### Example 1"
   ]
  },
  {
   "cell_type": "code",
   "execution_count": null,
   "metadata": {},
   "outputs": [
    {
     "data": {
      "text/html": [
       "<div>\n",
       "<style scoped>\n",
       "    .dataframe tbody tr th:only-of-type {\n",
       "        vertical-align: middle;\n",
       "    }\n",
       "\n",
       "    .dataframe tbody tr th {\n",
       "        vertical-align: top;\n",
       "    }\n",
       "\n",
       "    .dataframe thead th {\n",
       "        text-align: right;\n",
       "    }\n",
       "</style>\n",
       "<table border=\"1\" class=\"dataframe\">\n",
       "  <thead>\n",
       "    <tr style=\"text-align: right;\">\n",
       "      <th></th>\n",
       "      <th>id</th>\n",
       "      <th>text</th>\n",
       "    </tr>\n",
       "  </thead>\n",
       "  <tbody>\n",
       "    <tr>\n",
       "      <th>27868</th>\n",
       "      <td>27868</td>\n",
       "      <td>world briefings britain: blair warns of climate threat prime minister tony blair urged the international community to consider global warming a dire threat and agree on a plan of action to curb the  quot;alarming quot; growth of greenhouse gases.</td>\n",
       "    </tr>\n",
       "    <tr>\n",
       "      <th>113457</th>\n",
       "      <td>113457</td>\n",
       "      <td>ecological forum gets greenhouse gas report a new report on ecological damage from greenhouse gases dominated the sidelines of a un conference on global warming saturday as delegates from nearly 200 nations</td>\n",
       "    </tr>\n",
       "    <tr>\n",
       "      <th>74462</th>\n",
       "      <td>74462</td>\n",
       "      <td>nations to discuss what to do after kyoto treaty the ice is melting and the heat is on for international delegates assembling in buenos aires this week to find new ways to confront global warming under the 194-nation treaty on climate change.</td>\n",
       "    </tr>\n",
       "    <tr>\n",
       "      <th>78602</th>\n",
       "      <td>78602</td>\n",
       "      <td>arctic endangered by greenhouse gases: report washington: greenhouse gases have contributed to a gradual warming of the ecologically-fragile arctic region  causing massive climate changes  including melting glaciers and sea ice  according to a soon-to-be-released environmental study.</td>\n",
       "    </tr>\n",
       "    <tr>\n",
       "      <th>100819</th>\n",
       "      <td>100819</td>\n",
       "      <td>group passes on addressing global warming (ap) ap - although faced with fresh evidence of global warming  the united states and other members the arctic council on wednesday failed to make any recommendations to combat a problem most scientists say is causing sea ice to melt and temperatures to rise.</td>\n",
       "    </tr>\n",
       "  </tbody>\n",
       "</table>\n",
       "</div>"
      ],
      "text/plain": [
       "            id  \\\n",
       "27868    27868   \n",
       "113457  113457   \n",
       "74462    74462   \n",
       "78602    78602   \n",
       "100819  100819   \n",
       "\n",
       "                                                                                                                                                                                                                                                                                                                 text  \n",
       "27868                                                          world briefings britain: blair warns of climate threat prime minister tony blair urged the international community to consider global warming a dire threat and agree on a plan of action to curb the  quot;alarming quot; growth of greenhouse gases.  \n",
       "113457                                                                                                ecological forum gets greenhouse gas report a new report on ecological damage from greenhouse gases dominated the sidelines of a un conference on global warming saturday as delegates from nearly 200 nations   \n",
       "74462                                                              nations to discuss what to do after kyoto treaty the ice is melting and the heat is on for international delegates assembling in buenos aires this week to find new ways to confront global warming under the 194-nation treaty on climate change.  \n",
       "78602                    arctic endangered by greenhouse gases: report washington: greenhouse gases have contributed to a gradual warming of the ecologically-fragile arctic region  causing massive climate changes  including melting glaciers and sea ice  according to a soon-to-be-released environmental study.  \n",
       "100819  group passes on addressing global warming (ap) ap - although faced with fresh evidence of global warming  the united states and other members the arctic council on wednesday failed to make any recommendations to combat a problem most scientists say is causing sea ice to melt and temperatures to rise.  "
      ]
     },
     "metadata": {},
     "output_type": "display_data"
    }
   ],
   "source": [
    "import numpy as np\n",
    "import pandas as pd\n",
    "\n",
    "df = pd.read_csv(corpus_file)\n",
    "\n",
    "activations = model.predict({'query':'BRITAIN: BLAIR WARNS OF CLIMATE THREAT Prime Minister Tony Blair urged the international community to consider global warming a dire threat and agree on a plan of action to curb the  quot;alarming quot; growth of greenhouse gases'})\n",
    "top_preds = np.argsort(-activations)[:5]\n",
    "\n",
    "df.iloc[top_preds]"
   ]
  },
  {
   "attachments": {},
   "cell_type": "markdown",
   "metadata": {},
   "source": [
    "For the same example, here are the top-5 results that OpenAI's Search and Recommendation notebook (https://github.com/openai/openai-cookbook/blob/main/examples/Recommendation_using_embeddings.ipynb) gets.\n",
    "\n",
    "| text |\n",
    "| --- |\n",
    "| THE re-election of British Prime Minister Tony Blair would be seen as an endorsement of the military action in Iraq, Prime Minister John Howard said today |\n",
    "| LONDON, England -- A US scientist is reported to have observed a surprising jump in the amount of carbon dioxide, the main greenhouse gas. |\n",
    "| The anguish of hostage Kenneth Bigley in Iraq hangs over Prime Minister Tony Blair today as he faces the twin test of a local election and a debate by his Labour Party about the divisive war. |\n",
    "| Israel is prepared to back a Middle East conference convened by Tony Blair early next year despite having expressed fears that the British plans were over-ambitious and designed |\n",
    "| AFP - A battle group of British troops rolled out of southern Iraq on a US-requested mission to deadlier areas near Baghdad, in a major political gamble for British Prime Minister Tony Blair. |\n",
    "\n",
    "\n",
    "### Example 2"
   ]
  },
  {
   "cell_type": "code",
   "execution_count": null,
   "metadata": {},
   "outputs": [
    {
     "data": {
      "text/html": [
       "<div>\n",
       "<style scoped>\n",
       "    .dataframe tbody tr th:only-of-type {\n",
       "        vertical-align: middle;\n",
       "    }\n",
       "\n",
       "    .dataframe tbody tr th {\n",
       "        vertical-align: top;\n",
       "    }\n",
       "\n",
       "    .dataframe thead th {\n",
       "        text-align: right;\n",
       "    }\n",
       "</style>\n",
       "<table border=\"1\" class=\"dataframe\">\n",
       "  <thead>\n",
       "    <tr style=\"text-align: right;\">\n",
       "      <th></th>\n",
       "      <th>id</th>\n",
       "      <th>text</th>\n",
       "    </tr>\n",
       "  </thead>\n",
       "  <tbody>\n",
       "    <tr>\n",
       "      <th>66178</th>\n",
       "      <td>66178</td>\n",
       "      <td>nvidia puts a firewall on a motherboard (pc world) pc world - upcoming chip set will include built-in security features for your pc.</td>\n",
       "    </tr>\n",
       "    <tr>\n",
       "      <th>110674</th>\n",
       "      <td>110674</td>\n",
       "      <td>nvidia will supply graphics chip for new playstation nvidia will supply the graphics chip for the successor to the playstation 2 games console being developed by sony computer entertainment inc.</td>\n",
       "    </tr>\n",
       "    <tr>\n",
       "      <th>71475</th>\n",
       "      <td>71475</td>\n",
       "      <td>intel prepares for the next 20 years chip maker plans for smaller  faster  less power-hungry processors.</td>\n",
       "    </tr>\n",
       "    <tr>\n",
       "      <th>30177</th>\n",
       "      <td>30177</td>\n",
       "      <td>ibm builds in pc security safekeeper module stores passwords  encryption keys in thinkcentre desktops.</td>\n",
       "    </tr>\n",
       "    <tr>\n",
       "      <th>84918</th>\n",
       "      <td>84918</td>\n",
       "      <td>mcafee unveils 2005 security suite security software maker has released updated versions of its offerings for home computer users.\\</td>\n",
       "    </tr>\n",
       "  </tbody>\n",
       "</table>\n",
       "</div>"
      ],
      "text/plain": [
       "            id  \\\n",
       "66178    66178   \n",
       "110674  110674   \n",
       "71475    71475   \n",
       "30177    30177   \n",
       "84918    84918   \n",
       "\n",
       "                                                                                                                                                                                                      text  \n",
       "66178                                                                 nvidia puts a firewall on a motherboard (pc world) pc world - upcoming chip set will include built-in security features for your pc.  \n",
       "110674  nvidia will supply graphics chip for new playstation nvidia will supply the graphics chip for the successor to the playstation 2 games console being developed by sony computer entertainment inc.  \n",
       "71475                                                                                             intel prepares for the next 20 years chip maker plans for smaller  faster  less power-hungry processors.  \n",
       "30177                                                                                               ibm builds in pc security safekeeper module stores passwords  encryption keys in thinkcentre desktops.  \n",
       "84918                                                                  mcafee unveils 2005 security suite security software maker has released updated versions of its offerings for home computer users.\\  "
      ]
     },
     "metadata": {},
     "output_type": "display_data"
    }
   ],
   "source": [
    "activations = model.predict({'query':'PC World - Upcoming chip set will include built-in security features for your PC'})\n",
    "top_preds = np.argsort(-activations)[:5]\n",
    "\n",
    "df.iloc[top_preds]"
   ]
  },
  {
   "attachments": {},
   "cell_type": "markdown",
   "metadata": {},
   "source": [
    "For the same example, here are the top-5 results that OpenAI's Search and Recommendation notebook (https://github.com/openai/openai-cookbook/blob/main/examples/Recommendation_using_embeddings.ipynb) gets.\n",
    "\n",
    "| text |\n",
    "| --- |\n",
    "| PC World - Updated antivirus software for businesses adds intrusion prevention features. |\n",
    "| PC World - The one-time World Class Product of the Year PDA gets a much-needed upgrade. |\n",
    "| PC World - Send your video throughout your house--wirelessly--with new gateways and media adapters. |\n",
    "| PC World - Symantec, McAfee hope raising virus-definition fees will move users to\\  suites. |\n",
    "| Gateway computers will be more widely available at Office Depot, in the PC maker #39;s latest move to broaden distribution at retail stores since acquiring rival eMachines this year. |"
   ]
  }
 ],
 "metadata": {
  "kernelspec": {
   "display_name": "Python 3",
   "language": "python",
   "name": "python3"
  },
  "language_info": {
   "codemirror_mode": {
    "name": "ipython",
    "version": 3
   },
   "file_extension": ".py",
   "mimetype": "text/x-python",
   "name": "python",
   "nbconvert_exporter": "python",
   "pygments_lexer": "ipython3",
   "version": "3.9.16"
  },
  "orig_nbformat": 4
 },
 "nbformat": 4,
 "nbformat_minor": 2
}
