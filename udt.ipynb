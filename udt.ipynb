{
 "cells": [
  {
   "cell_type": "markdown",
   "metadata": {},
   "source": [
    "# **Text Classification**\n",
    "\n",
    "### **Dataset: CLINC 150**"
   ]
  },
  {
   "cell_type": "code",
   "execution_count": null,
   "metadata": {},
   "outputs": [],
   "source": [
    "text_train_file = \"clinc_train.csv\"\n",
    "text_test_file = \"clinc_test.csv\"\n",
    "\n",
    "with open(text_train_file) as f:\n",
    "    for _ in range(5):\n",
    "        print(next(f))"
   ]
  },
  {
   "cell_type": "markdown",
   "metadata": {},
   "source": [
    "### **Define the model**"
   ]
  },
  {
   "cell_type": "code",
   "execution_count": null,
   "metadata": {},
   "outputs": [],
   "source": [
    "from thirdai import bolt\n",
    "\n",
    "text_model = bolt.UniversalDeepTransformer(\n",
    "    data_types={\n",
    "        \"text\": bolt.types.text(force_atttention=True),\n",
    "        \"label\": bolt.types.categorical()\n",
    "    },\n",
    "    target=\"label\"\n",
    ")"
   ]
  },
  {
   "cell_type": "markdown",
   "metadata": {},
   "source": [
    "### **Train and evaluate**"
   ]
  },
  {
   "cell_type": "code",
   "execution_count": null,
   "metadata": {},
   "outputs": [],
   "source": [
    "train_config = (bolt.TrainConfig(epochs=3, learning_rate=0.0001)\n",
    "                    .with_metrics([\"categorical_accuracy\"]))\n",
    "\n",
    "text_model.train(text_train_file, train_config)\n",
    "\n",
    "test_config = (bolt.EvalConfig()\n",
    "                   .with_metrics([\"categorical_accuracy\"]))\n",
    "\n",
    "text_model.evaluate(text_test_file, test_config)"
   ]
  },
  {
   "cell_type": "markdown",
   "metadata": {},
   "source": [
    "# **Tabular Classification**\n",
    "\n",
    "### **Dataset: Census Income**"
   ]
  },
  {
   "cell_type": "code",
   "execution_count": null,
   "metadata": {},
   "outputs": [],
   "source": [
    "tabular_train_file = \"census_train.csv\"\n",
    "tabular_test_file = \"census_test.csv\"\n",
    "\n",
    "with open(tabular_train_file) as f:\n",
    "    for _ in range(5):\n",
    "        print(next(f))"
   ]
  },
  {
   "cell_type": "code",
   "execution_count": null,
   "metadata": {},
   "outputs": [],
   "source": [
    "from thirdai import bolt\n",
    "\n",
    "tabular_model = bolt.UniversalDeepTransformer(\n",
    "    data_types={\n",
    "        \"age\": bolt.types.numerical(range=(17, 90)),\n",
    "        \"workclass\": bolt.types.categorical(n_unique_classes=9),\n",
    "        \"fnlwgt\": bolt.types.numerical(range=(12285, 1484705)),\n",
    "        \"education\": bolt.types.categorical(n_unique_classes=16),\n",
    "        \"education-num\": bolt.types.categorical(n_unique_classes=16),\n",
    "        \"marital-status\": bolt.types.categorical(n_unique_classes=7),\n",
    "        \"occupation\": bolt.types.categorical(n_unique_classes=15),\n",
    "        \"relationship\": bolt.types.categorical(n_unique_classes=6),\n",
    "        \"race\": bolt.types.categorical(n_unique_classes=5),\n",
    "        \"sex\": bolt.types.categorical(n_unique_classes=2),\n",
    "        \"capital-gain\": bolt.types.numerical(range=(0, 99999)),\n",
    "        \"capital-loss\": bolt.types.numerical(range=(0, 4356)),\n",
    "        \"hours-per-week\": bolt.types.numerical(range=(1, 99)),\n",
    "        \"native-country\": bolt.types.categorical(n_unique_classes=42),\n",
    "        \"label\": bolt.types.categorical(n_unique_classes=2),\n",
    "    },\n",
    "    target=\"label\"\n",
    ")\n",
    "\n",
    "train_config = (bolt.TrainConfig(epochs=5, learning_rate=0.01)\n",
    "                    .with_metrics([\"categorical_accuracy\"]))\n",
    "\n",
    "tabular_model.train(tabular_train_file, train_config)\n",
    "\n",
    "test_config = (bolt.EvalConfig()\n",
    "                   .with_metrics([\"categorical_accuracy\"]))\n",
    "\n",
    "tabular_model.evaluate(tabular_test_file, test_config)"
   ]
  },
  {
   "cell_type": "markdown",
   "metadata": {},
   "source": [
    "# **Product Recommendation**\n",
    "\n",
    "### **Dataset: Movielens 1M**"
   ]
  },
  {
   "cell_type": "code",
   "execution_count": null,
   "metadata": {},
   "outputs": [],
   "source": [
    "movie_train_file = \"movielens_train.csv\"\n",
    "movie_test_file = \"movielens_test.csv\"\n",
    "\n",
    "with open(movie_train_file) as f:\n",
    "    for _ in range(5):\n",
    "        print(next(f))"
   ]
  },
  {
   "cell_type": "code",
   "execution_count": null,
   "metadata": {},
   "outputs": [],
   "source": [
    "from thirdai import bolt\n",
    "\n",
    "movie_model = bolt.UniversalDeepTransformer(\n",
    "    data_types={\n",
    "        \"userId\": bolt.types.categorical(n_unique_classes=6040),\n",
    "        \"movieId\": bolt.types.categorical(n_unique_classes=3706),\n",
    "        \"timestamp\": bolt.types.date(),\n",
    "    },\n",
    "    temporal_tracking_relationships={\n",
    "        \"userId\": [\"movieId\"]\n",
    "    },\n",
    "    target=\"movieId\",\n",
    ")\n",
    "\n",
    "train_config = (bolt.TrainConfig(epochs=3, learning_rate=0.0001)\n",
    "                    .with_metrics([\"recall@10\"]))\n",
    "\n",
    "movie_model.train(movie_train_file, train_config)\n",
    "\n",
    "test_config = (bolt.EvalConfig()\n",
    "                   .with_metrics([\"recall@1\", \"recall@10\", \"recall@100\"]))\n",
    "\n",
    "movie_model.evaluate(movie_test_file, test_config)"
   ]
  },
  {
   "cell_type": "code",
   "execution_count": null,
   "metadata": {},
   "outputs": [],
   "source": [
    "import time\n",
    "\n",
    "a = time.time()\n",
    "text_model.predict({\"text\": \"what expression would i use to say i love you if i were an italian\"})\n",
    "tabular_model.predict({\"age\": \"39\", \"workclass\": \"State-gov\", \"fnlwgt\": \"77516\", \"education\": \"Bachelors\", \"education-num\": \"13\", \"marital-status\": \"Never-married\", \"occupation\": \"Adm-clerical\", \"relationship\": \"Not-in-family\", \"race\": \"White\", \"sex\": \"Male\", \"capital-gain\": \"2174\", \"capital-loss\": \"0\", \"hours-per-week\": \"40\", \"native-country\": \"United-States\"})\n",
    "movie_model.predict({\"userId\": \"4958\", \"timestamp\": \"2003-02-28\"})\n",
    "b = time.time()\n",
    "\n",
    "print((b-a) * 1000, \"ms\")"
   ]
  },
  {
   "cell_type": "code",
   "execution_count": null,
   "metadata": {},
   "outputs": [],
   "source": []
  },
  {
   "cell_type": "code",
   "execution_count": null,
   "metadata": {},
   "outputs": [],
   "source": []
  }
 ],
 "metadata": {
  "kernelspec": {
   "display_name": "Python 3.10.6 64-bit",
   "language": "python",
   "name": "python3"
  },
  "language_info": {
   "codemirror_mode": {
    "name": "ipython",
    "version": 3
   },
   "file_extension": ".py",
   "mimetype": "text/x-python",
   "name": "python",
   "nbconvert_exporter": "python",
   "pygments_lexer": "ipython3",
   "version": "3.10.6"
  },
  "orig_nbformat": 4,
  "vscode": {
   "interpreter": {
    "hash": "b0fa6594d8f4cbf19f97940f81e996739fb7646882a419484c72d19e05852a7e"
   }
  }
 },
 "nbformat": 4,
 "nbformat_minor": 2
}
