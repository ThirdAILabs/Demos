{
 "cells": [
  {
   "cell_type": "markdown",
   "metadata": {},
   "source": [
    "# **Text Classification**\n",
    "*\"Map a sentence to the right class\"*\n",
    "\n",
    "### **Dataset: CLINC 150**"
   ]
  },
  {
   "cell_type": "code",
   "execution_count": null,
   "metadata": {},
   "outputs": [],
   "source": [
    "text_train_file = \"clinc_train.txt\"\n",
    "text_test_file = \"clinc_test.txt\"\n",
    "\n",
    "with open(text_train_file) as f:\n",
    "    for _ in range(5):\n",
    "        print(next(f))"
   ]
  },
  {
   "cell_type": "code",
   "execution_count": null,
   "metadata": {},
   "outputs": [],
   "source": [
    "from thirdai import bolt, deployment\n",
    "\n",
    "text_model = deployment.UniversalDeepTransformer(\n",
    "    data_types={},\n",
    "    target=\"\"\n",
    ")"
   ]
  },
  {
   "cell_type": "code",
   "execution_count": null,
   "metadata": {},
   "outputs": [],
   "source": [
    "train_config = (bolt.graph.TrainConfig\n",
    "                    .make(epochs=3, learning_rate=0.0001)\n",
    "                    .with_metrics([\"recall@10\"]))\n",
    "    \n",
    "\n",
    "text_model.train(text_train_file, train_config)\n",
    "\n",
    "test_config = (bolt.graph.PredictConfig.make()\n",
    "                   .with_metrics([\"recall@1\", \"recall@10\", \"recall@100\"]))\n",
    "\n",
    "text_model.evaluate(text_test_file, test_config)"
   ]
  },
  {
   "cell_type": "markdown",
   "metadata": {},
   "source": [
    "# **Tabular Classification**\n",
    "\n",
    "### **Dataset: Census Income**"
   ]
  },
  {
   "cell_type": "code",
   "execution_count": null,
   "metadata": {},
   "outputs": [],
   "source": [
    "tabular_train_file = \"census_train.txt\"\n",
    "tabular_test_file = \"census_test.txt\"\n",
    "\n",
    "with open(tabular_train_file) as f:\n",
    "    for _ in range(5):\n",
    "        print(next(f))"
   ]
  },
  {
   "cell_type": "code",
   "execution_count": null,
   "metadata": {},
   "outputs": [],
   "source": [
    "tabular_model = deployment.UniversalDeepTransformer(\n",
    "    data_types={\n",
    "        \"age\":bolt.types.numerical(),\n",
    "        \"workclass\":bolt.types.categorical(n_unique_classes=9),\n",
    "        \"fnlwgt\":bolt.types.numerical(),\n",
    "        \"education\":bolt.types.categorical(n_unique_classes=16),\n",
    "        \"education-num\":bolt.types.categorical(n_unique_classes=16),\n",
    "        \"marital-status\":bolt.types.categorical(n_unique_classes=7),\n",
    "        \"occupation\":bolt.types.categorical(n_unique_classes=15),\n",
    "        \"relationship\":bolt.types.categorical(n_unique_classes=6),\n",
    "        \"race\":bolt.types.categorical(n_unique_classes=5),\n",
    "        \"sex\":bolt.types.categorical(n_unique_classes=2),\n",
    "        \"capital-gain\":bolt.types.numerical(),\n",
    "        \"capital-loss\":bolt.types.numerical(),\n",
    "        \"hours-per-week\":bolt.types.numerical(),\n",
    "        \"native-country\":bolt.types.categorical(n_unique_classes=42),\n",
    "        \"label\":bolt.types.categorical(n_unique_classes=2),\n",
    "    },\n",
    "    target=\"label\"\n",
    ")\n",
    "\n",
    "train_config = (bolt.graph.TrainConfig\n",
    "                    .make(epochs=3, learning_rate=0.0001)\n",
    "                    .with_metrics([\"categorical_accuracy\"]))\n",
    "\n",
    "tabular_model.train(tabular_train_file, train_config)\n",
    "\n",
    "test_config = (bolt.graph.PredictConfig.make()\n",
    "                   .with_metrics([\"categorical_accuracy\"]))\n",
    "\n",
    "tabular_model.evaluate(tabular_test_file, test_config)"
   ]
  },
  {
   "cell_type": "markdown",
   "metadata": {},
   "source": [
    "# **Movie Recommendation**\n",
    "*\"Recommend the next movie for a user to watch\"*\n",
    "\n",
    "### **Dataset: Movielens 1M**"
   ]
  },
  {
   "cell_type": "code",
   "execution_count": null,
   "metadata": {},
   "outputs": [],
   "source": [
    "movie_train_file = \"movielens_train.txt\"\n",
    "movie_test_file = \"movielens_test.txt\"\n",
    "\n",
    "with open(movie_train_file) as f:\n",
    "    for _ in range(5):\n",
    "        print(next(f))"
   ]
  },
  {
   "cell_type": "code",
   "execution_count": null,
   "metadata": {},
   "outputs": [],
   "source": [
    "movie_model = deployment.UniversalDeepTransformer(\n",
    "    data_types={\n",
    "        \"userId\": bolt.types.categorical(n_unique_classes=6040),\n",
    "        \"movieId\": bolt.types.categorical(n_unique_classes=3706),\n",
    "        \"timestamp\": bolt.types.date(),\n",
    "    },\n",
    "    target=\"movieId\",\n",
    ")\n",
    "\n",
    "train_config = (bolt.graph.TrainConfig\n",
    "                    .make(epochs=3, learning_rate=0.0001)\n",
    "                    .with_metrics([\"recall@10\"]))\n",
    "\n",
    "movie_model.train(movie_train_file, train_config)\n",
    "\n",
    "test_config = (bolt.graph.PredictConfig.make()\n",
    "                   .with_metrics([\"recall@1\", \"recall@10\", \"recall@100\"]))\n",
    "\n",
    "movie_model.evaluate(movie_test_file, test_config)"
   ]
  }
 ],
 "metadata": {
  "kernelspec": {
   "display_name": "Python 3.10.6 64-bit",
   "language": "python",
   "name": "python3"
  },
  "language_info": {
   "name": "python",
   "version": "3.10.6"
  },
  "orig_nbformat": 4,
  "vscode": {
   "interpreter": {
    "hash": "b0fa6594d8f4cbf19f97940f81e996739fb7646882a419484c72d19e05852a7e"
   }
  }
 },
 "nbformat": 4,
 "nbformat_minor": 2
}
