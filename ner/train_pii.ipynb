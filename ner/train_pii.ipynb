{
 "cells": [
  {
   "cell_type": "markdown",
   "metadata": {},
   "source": [
    "# Scripts to train a NER Model on PII Dataset\n",
    "\n",
    "This script uses ThirdAI's NER library to train a model on a sample PII datasets."
   ]
  },
  {
   "cell_type": "code",
   "execution_count": null,
   "metadata": {},
   "outputs": [],
   "source": [
    "from thirdai import bolt, dataset"
   ]
  },
  {
   "cell_type": "markdown",
   "metadata": {},
   "source": [
    "Creates a small PII training dataset"
   ]
  },
  {
   "cell_type": "code",
   "execution_count": null,
   "metadata": {},
   "outputs": [],
   "source": [
    "import json\n",
    "\n",
    "pii_sentences = [\n",
    "    (\"John's social security number is 123-45-6789\", [\"B-PER\", \"O\", \"O\", \"O\", \"O\", \"B-PII\"]),\n",
    "    (\"Contact Jane Doe at 555-1234 for more information\", [\"O\", \"B-PER\", \"I-PER\", \"O\", \"B-PII\", \"O\", \"O\", \"O\"]),\n",
    "    (\"The credit card number 4111-1111-1111-1111 is invalid\", [\"O\", \"O\", \"O\", \"O\", \"B-PII\", \"O\", \"O\"]),\n",
    "    (\"Bob's phone number is (123)-456-7890\", [\"B-PER\", \"O\", \"O\", \"O\", \"B-PII\"]),\n",
    "    (\"Email john.doe@example.com for further details\", [\"O\", \"B-PII\", \"O\", \"O\", \"O\"]),\n",
    "]\n",
    "\n",
    "pii_filename = \"pii_ner_data.json\"\n",
    "with open(pii_filename, \"w\") as file:\n",
    "    for sentence, tags in pii_sentences:\n",
    "        tokens = sentence.split()\n",
    "        data = {\"source\": tokens, \"target\": tags}\n",
    "        json_line = json.dumps(data)\n",
    "        file.write(json_line + \"\\n\")\n",
    "\n",
    "unique_tags = sorted({tag for _, tags in pii_sentences for tag in tags})\n",
    "tag_map = {tag: idx for idx, tag in enumerate(unique_tags)}\n"
   ]
  },
  {
   "cell_type": "markdown",
   "metadata": {},
   "source": [
    "Initializes a Bolt NER model for PII."
   ]
  },
  {
   "cell_type": "code",
   "execution_count": null,
   "metadata": {},
   "outputs": [],
   "source": [
    "ner_model = bolt.NER(\"source\", \"target\", tag_map)"
   ]
  },
  {
   "cell_type": "markdown",
   "metadata": {},
   "source": [
    "Trains the model on training file created"
   ]
  },
  {
   "cell_type": "code",
   "execution_count": null,
   "metadata": {},
   "outputs": [],
   "source": [
    "\n",
    "train_data_source = dataset.NerDataSource(pii_filename)\n",
    "\n",
    "ner_model.train(\n",
    "    train_data=train_data_source,\n",
    "    epochs=3,\n",
    "    learning_rate=0.001,\n",
    "    batch_size=1024,\n",
    "    train_metrics=[\"loss\"],\n",
    ")"
   ]
  },
  {
   "cell_type": "markdown",
   "metadata": {},
   "source": [
    "Predicts the relevant PII Tags"
   ]
  },
  {
   "cell_type": "code",
   "execution_count": null,
   "metadata": {},
   "outputs": [],
   "source": [
    "tokens = pii_sentences[0][0].split()\n",
    "predicted_tags = ner_model.get_ner_tags([tokens])"
   ]
  },
  {
   "cell_type": "markdown",
   "metadata": {},
   "source": [
    "Delete the files"
   ]
  },
  {
   "cell_type": "code",
   "execution_count": null,
   "metadata": {},
   "outputs": [],
   "source": [
    "import os\n",
    "os.remove(pii_filename)"
   ]
  }
 ],
 "metadata": {
  "kernelspec": {
   "display_name": "Python 3",
   "language": "python",
   "name": "python3"
  },
  "language_info": {
   "codemirror_mode": {
    "name": "ipython",
    "version": 3
   },
   "file_extension": ".py",
   "mimetype": "text/x-python",
   "name": "python",
   "nbconvert_exporter": "python",
   "pygments_lexer": "ipython3",
   "version": "3.8.10"
  }
 },
 "nbformat": 4,
 "nbformat_minor": 2
}
