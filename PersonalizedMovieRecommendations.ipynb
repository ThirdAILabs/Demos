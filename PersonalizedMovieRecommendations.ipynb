{
 "cells": [
  {
   "cell_type": "markdown",
   "metadata": {},
   "source": [
    "# **Personalized Movie Recommendations**\n",
    "The best online marketplaces create a seamless shopping experience by predicting what customers want based on their recent behavior."
   ]
  },
  {
   "cell_type": "code",
   "execution_count": null,
   "metadata": {},
   "outputs": [],
   "source": [
    "!pip3 install thirdai\n",
    "!pip3 install pandas # Needed by the datasets module to convert datasets to CSV format\n",
    "!pip3 install numpy"
   ]
  },
  {
   "cell_type": "code",
   "execution_count": null,
   "metadata": {},
   "outputs": [],
   "source": [
    "import utils\n",
    "\n",
    "train_filename, test_filename, inference_batch, index_batch = utils.download_movielens()"
   ]
  },
  {
   "cell_type": "code",
   "execution_count": null,
   "metadata": {},
   "outputs": [],
   "source": [
    "from thirdai import bolt\n",
    "\n",
    "model = bolt.UniversalDeepTransformer(\n",
    "    data_types={\n",
    "        \"userId\": bolt.types.categorical(n_unique_classes=6040),\n",
    "        \"movieTitle\": bolt.types.categorical(n_unique_classes=3706),\n",
    "        \"timestamp\": bolt.types.date(),\n",
    "    },\n",
    "    temporal_tracking_relationships={\n",
    "        \"userId\": [\"movieTitle\"]\n",
    "    },\n",
    "    target=\"movieTitle\",\n",
    ")"
   ]
  },
  {
   "cell_type": "code",
   "execution_count": null,
   "metadata": {},
   "outputs": [],
   "source": [
    "train_config = (bolt.TrainConfig(epochs=3, learning_rate=0.001)\n",
    "                    .with_metrics([\"recall@10\"]))\n",
    "\n",
    "model.train(train_filename, train_config)\n",
    "\n",
    "eval_config = (bolt.EvalConfig()\n",
    "                   .with_metrics([\"recall@1\", \"recall@10\", \"recall@100\"]))\n",
    "\n",
    "model.evaluate(test_filename, eval_config);"
   ]
  },
  {
   "cell_type": "code",
   "execution_count": null,
   "metadata": {},
   "outputs": [],
   "source": [
    "print(inference_batch)"
   ]
  },
  {
   "cell_type": "code",
   "execution_count": null,
   "metadata": {},
   "outputs": [],
   "source": [
    "import numpy as np\n",
    "\n",
    "prediction = model.predict(inference_batch[0])\n",
    "class_name = model.class_name(np.argmax(prediction))\n",
    "print(\"Single Prediction Result\")\n",
    "print(\"Input:\", inference_batch[0], \"Prediction:\", class_name, \"\\n\")\n",
    "\n",
    "prediction_batch = model.predict_batch(inference_batch)\n",
    "class_ids = np.argmax(prediction_batch, axis=1)\n",
    "class_names = [model.class_name(class_id) for class_id in class_ids]\n",
    "print(\"Batch Prediction Results\")\n",
    "for input_sample, class_name in zip(inference_batch, class_names):\n",
    "    print(\"Input:\", input_sample, \"Prediction:\", class_name)"
   ]
  },
  {
   "cell_type": "code",
   "execution_count": null,
   "metadata": {},
   "outputs": [],
   "source": [
    "print(index_batch)"
   ]
  },
  {
   "cell_type": "code",
   "execution_count": null,
   "metadata": {},
   "outputs": [],
   "source": [
    "model.reset_temporal_trackers()\n",
    "\n",
    "for input_sample, ground_truth in zip(inference_batch, index_batch):\n",
    "    prediction = model.predict(input_sample)\n",
    "    top_10_ids = np.argsort(-prediction)[:10]\n",
    "\n",
    "    top_10_class_names = [model.class_name(class_id) for class_id in top_10_ids]\n",
    "    \n",
    "    print(\"Single Prediction Result\")\n",
    "    print(\"Input:\", input_sample, \"Predictions:\", top_10_class_names)\n",
    "    \n",
    "    model.index(ground_truth)\n",
    "    print(\"Indexed ground truth sample:\", ground_truth, \"\\n\")\n",
    "\n"
   ]
  },
  {
   "cell_type": "code",
   "execution_count": null,
   "metadata": {},
   "outputs": [],
   "source": []
  }
 ],
 "metadata": {
  "kernelspec": {
   "display_name": "Python 3.10.6 64-bit",
   "language": "python",
   "name": "python3"
  },
  "language_info": {
   "codemirror_mode": {
    "name": "ipython",
    "version": 3
   },
   "file_extension": ".py",
   "mimetype": "text/x-python",
   "name": "python",
   "nbconvert_exporter": "python",
   "pygments_lexer": "ipython3",
   "version": "3.10.6"
  },
  "orig_nbformat": 4,
  "vscode": {
   "interpreter": {
    "hash": "b0fa6594d8f4cbf19f97940f81e996739fb7646882a419484c72d19e05852a7e"
   }
  }
 },
 "nbformat": 4,
 "nbformat_minor": 2
}
