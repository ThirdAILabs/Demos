{
 "cells": [
  {
   "cell_type": "markdown",
   "metadata": {},
   "source": [
    "# Personalized Movie Recommendations\n",
    "This notebook shows how to build a personalized movie recommendation model with ThirdAI's Universal Deep Transformer (UDT) model, our all-purpose classifier for tabular datasets. In this demo, we will train and evaluate the model on the Movielens 1M dataset, but you can easily replace this with your own dataset.\n",
    "\n",
    "You can immediately run a version of this notebook in your browser on Google Colab at the following link:\n",
    "\n",
    "https://githubtocolab.com/ThirdAILabs/Demos/blob/main/PersonalizedMovieRecommendations.ipynb\n",
    "\n",
    "This notebook uses an activation key that will only work with this demo. If you want to try us out on your own dataset, you can obtain a free trial license at the following link: https://www.thirdai.com/try-bolt/"
   ]
  },
  {
   "cell_type": "code",
   "execution_count": null,
   "metadata": {},
   "outputs": [],
   "source": [
    "!pip3 install thirdai --upgrade\n",
    "\n",
    "import thirdai\n",
    "thirdai.licensing.activate(\"Y9MT-TV7T-4JTP-L4XH-PWYC-4KEF-VX93-3HV7\")"
   ]
  },
  {
   "cell_type": "markdown",
   "metadata": {},
   "source": [
    "# Dataset Download\n",
    "We will use the demos module in the thirdai package to download the Movielens 1M dataset. You can replace this step and the next step with a download method and a UDT initialization step that is specific to your dataset."
   ]
  },
  {
   "cell_type": "code",
   "execution_count": null,
   "metadata": {},
   "outputs": [],
   "source": [
    "from thirdai.demos import download_movielens\n",
    "\n",
    "train_filename, test_filename, inference_batch, _ = download_movielens()"
   ]
  },
  {
   "cell_type": "markdown",
   "metadata": {},
   "source": [
    "# UDT Initialization\n",
    "We can now create a UDT model by passing in the types of each column in the dataset and the target column we want to be able to predict.\n",
    "\n",
    "For this demo, we additionally want to use \"temporal context\" to make predictions. Adding temporal context requires a single bolt.types.date() column to use to track the timestamp of training data. We pass in a dictionary called temporal_tracking_relationships that tells UDT we want to track movies over time for each user. This allows UDT to make better predictions for the target column by creating temporal features that take into account the historical relationship between users and movies."
   ]
  },
  {
   "cell_type": "code",
   "execution_count": null,
   "metadata": {},
   "outputs": [],
   "source": [
    "from thirdai import bolt\n",
    "\n",
    "model = bolt.UniversalDeepTransformer(\n",
    "    data_types={\n",
    "        \"userId\": bolt.types.categorical(),\n",
    "        \"movieTitle\": bolt.types.categorical(),\n",
    "        \"timestamp\": bolt.types.date(),\n",
    "    },\n",
    "    temporal_tracking_relationships={\"userId\": [\"movieTitle\"]},\n",
    "    target=\"movieTitle\",\n",
    "    n_target_classes=3706,\n",
    ")"
   ]
  },
  {
   "cell_type": "markdown",
   "metadata": {},
   "source": [
    "# Training\n",
    "We can now train our UDT model with just one line! Feel free to customize the number of epochs and the learning rate; we have chosen values that give good convergence."
   ]
  },
  {
   "cell_type": "code",
   "execution_count": null,
   "metadata": {},
   "outputs": [],
   "source": [
    "model.train(train_filename, epochs=3, learning_rate=0.001, metrics=[\"recall@10\"]);"
   ]
  },
  {
   "cell_type": "markdown",
   "metadata": {},
   "source": [
    "# Evaluation\n",
    "Evaluating the performance of the UDT model is also just one line!"
   ]
  },
  {
   "cell_type": "code",
   "execution_count": null,
   "metadata": {},
   "outputs": [],
   "source": [
    "model.evaluate(test_filename, metrics=[\"recall@1\", \"recall@10\", \"recall@100\"]);"
   ]
  },
  {
   "cell_type": "markdown",
   "metadata": {},
   "source": [
    "# Saving and Loading\n",
    "Saving and loading a trained UDT model to disk is also extremely straight forward."
   ]
  },
  {
   "cell_type": "code",
   "execution_count": null,
   "metadata": {},
   "outputs": [],
   "source": [
    "save_location = \"personalized_movie_recommendation.model\"\n",
    "\n",
    "# Saving\n",
    "model.save(save_location)\n",
    "\n",
    "# Loading\n",
    "model = bolt.UniversalDeepTransformer.load(save_location)"
   ]
  },
  {
   "attachments": {},
   "cell_type": "markdown",
   "metadata": {},
   "source": [
    "# Making Recommendations\n",
    "Let's get a hands-on experience of the benefits of temporal tracking while learning about UDT's inference API. Suppose you are a new user so the model does not have your watch history. What is the first movie that it recommends? We'll find out using the `model.predict()` method. Keep in mind that Movielens contains reviews between 2000 and 2003, so it will only recommend old movies."
   ]
  },
  {
   "cell_type": "code",
   "execution_count": null,
   "metadata": {},
   "outputs": [],
   "source": [
    "import numpy as np\n",
    "\n",
    "user_id = '20382' # Random new user id\n",
    "timestamp = '2023-01-12'\n",
    "\n",
    "# Call model.predict() with a dictionary of column names to values, excluding \n",
    "# the target column. It returns an array of probabilities. Each position in the \n",
    "# array corresponds with a different movie.\n",
    "prediction = model.predict({'userId': user_id, 'timestamp': timestamp})\n",
    "# We are interested in the top recommendation, so we look for the position\n",
    "# with the highest probability and convert it back to a movie title using the\n",
    "# model.class_name() method.\n",
    "prediction_title = model.class_name(np.argmax(prediction))\n",
    "\n",
    "print(\"Recommendation:\", prediction_title)"
   ]
  },
  {
   "attachments": {},
   "cell_type": "markdown",
   "metadata": {},
   "source": [
    "In our tests, the model recommends \"Star Wars VI: Return of the Jedi (1983)\".  It's a very successful franchise so it makes sense that the model recommends this to someone it has never seen before. Unfortunately, you are not a Star Wars fan. In fact, you're not even a fan of science fiction. You ended up watching The Godfather. To tell the model this, we use the `model.index()` method. It adds an entry to your watch history, which is maintained by the model. This does not retrain the model, so it's a very efficient operation."
   ]
  },
  {
   "cell_type": "code",
   "execution_count": null,
   "metadata": {},
   "outputs": [],
   "source": [
    "model.index({\n",
    "    'userId': user_id, \n",
    "    'timestamp': timestamp, \n",
    "    # This is how the title is formatted in the dataset.\n",
    "    'movieTitle': 'Godfather The (1972)' \n",
    "})"
   ]
  },
  {
   "attachments": {},
   "cell_type": "markdown",
   "metadata": {},
   "source": [
    "Now rerun the previous cell. We hope you like the next recommendation."
   ]
  },
  {
   "attachments": {},
   "cell_type": "markdown",
   "metadata": {},
   "source": [
    "# Other methods"
   ]
  },
  {
   "cell_type": "code",
   "execution_count": null,
   "metadata": {},
   "outputs": [],
   "source": [
    "# Like the predict() method but for batches.\n",
    "model.predict_batch([\n",
    "    {\n",
    "        'userId': user_id, \n",
    "        'timestamp': '2023-01-12', \n",
    "    }, {\n",
    "        'userId': user_id, \n",
    "        'timestamp': '2023-01-13', \n",
    "    },\n",
    "])\n",
    "\n",
    "# Like the index() method but for batches.\n",
    "model.index_batch([\n",
    "    {\n",
    "        'userId': user_id, \n",
    "        'timestamp': timestamp, \n",
    "        # This is how the title is formatted in the dataset.\n",
    "        'movieTitle': 'Godfather The (1972)' \n",
    "    }, {\n",
    "        'userId': user_id, \n",
    "        'timestamp': timestamp, \n",
    "        # This is how the title is formatted in the dataset.\n",
    "        'movieTitle': 'Godfather: Part II The (1974)'\n",
    "    },\n",
    "])\n",
    "\n",
    "# Resets the model's temporal trackers; in the case of this demo, it deletes\n",
    "# users' watch histories.\n",
    "model.reset_temporal_trackers()"
   ]
  }
 ],
 "metadata": {
  "kernelspec": {
   "display_name": "Python 3",
   "language": "python",
   "name": "python3"
  },
  "language_info": {
   "codemirror_mode": {
    "name": "ipython",
    "version": 3
   },
   "file_extension": ".py",
   "mimetype": "text/x-python",
   "name": "python",
   "nbconvert_exporter": "python",
   "pygments_lexer": "ipython3",
   "version": "3.8.10"
  },
  "vscode": {
   "interpreter": {
    "hash": "31f2aee4e71d21fbe5cf8b01ff0e069b9275f58929596ceb00d14d90e3e16cd6"
   }
  }
 },
 "nbformat": 4,
 "nbformat_minor": 4
}
