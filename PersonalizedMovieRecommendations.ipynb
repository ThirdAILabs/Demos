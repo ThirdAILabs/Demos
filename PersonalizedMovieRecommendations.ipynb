{
 "cells": [
  {
   "cell_type": "markdown",
   "metadata": {},
   "source": [
    "# **Personalized Movie Recommendations**\n",
    "The best online marketplaces create a seamless shopping experience by predicting what customers want based on their recent behavior. It's a simple "
   ]
  },
  {
   "cell_type": "code",
   "execution_count": 2,
   "metadata": {},
   "outputs": [
    {
     "name": "stderr",
     "output_type": "stream",
     "text": [
      "/Users/benitogeordie/Desktop/Demos/datasets.py:26: ParserWarning: Falling back to the 'python' engine because the 'c' engine does not support regex separators (separators > 1 char and different from '\\s+' are interpreted as regex); you can avoid this warning by specifying engine='python'.\n",
      "  df = pd.read_csv(RATINGS_FILE, header=None, delimiter='::')\n"
     ]
    }
   ],
   "source": [
    "!pip3 install thirdai\n",
    "!pip3 install pandas # Needed by the datasets module to convert datasets to CSV format\n",
    "\n",
    "import datasets\n",
    "\n",
    "train_filename, test_filename, inference_batch, index_batch = datasets.download_movielens()"
   ]
  },
  {
   "cell_type": "code",
   "execution_count": 3,
   "metadata": {},
   "outputs": [
    {
     "name": "stdout",
     "output_type": "stream",
     "text": [
      "\n",
      "======================= Bolt Model =======================\n",
      "input_1 (Input): dim=118607\n",
      "input_1 -> fc_1 (FullyConnected): dim=512, sparsity=1, act_func=ReLU\n",
      "fc_1 -> fc_2 (FullyConnected): dim=3706, sparsity=0.05, act_func=Softmax\n",
      "============================================================\n",
      "\n"
     ]
    }
   ],
   "source": [
    "from thirdai import bolt\n",
    "\n",
    "model = bolt.UniversalDeepTransformer(\n",
    "    data_types={\n",
    "        \"userId\": bolt.types.categorical(n_unique_classes=6040),\n",
    "        \"movieId\": bolt.types.categorical(n_unique_classes=3706),\n",
    "        \"timestamp\": bolt.types.date(),\n",
    "    },\n",
    "    temporal_tracking_relationships={\n",
    "        \"userId\": [\"movieId\"]\n",
    "    },\n",
    "    target=\"movieId\",\n",
    ")"
   ]
  },
  {
   "cell_type": "code",
   "execution_count": null,
   "metadata": {},
   "outputs": [],
   "source": [
    "train_config = (bolt.TrainConfig(epochs=3, learning_rate=0.0001)\n",
    "                    .with_metrics([\"recall@10\"]))\n",
    "\n",
    "model.train(train_filename, train_config)\n",
    "\n",
    "test_config = (bolt.EvalConfig()\n",
    "                   .with_metrics([\"recall@1\", \"recall@10\", \"recall@100\"]))\n",
    "\n",
    "model.evaluate(test_filename, test_config)"
   ]
  },
  {
   "cell_type": "code",
   "execution_count": null,
   "metadata": {},
   "outputs": [],
   "source": [
    "print(inference_batch)\n",
    "print(index_batch)"
   ]
  },
  {
   "cell_type": "code",
   "execution_count": null,
   "metadata": {},
   "outputs": [],
   "source": [
    "model.predict(inference_batch[0])\n",
    "model.predictBatch(inference_batch[1:])"
   ]
  },
  {
   "cell_type": "code",
   "execution_count": null,
   "metadata": {},
   "outputs": [],
   "source": [
    "model.index(index_batch[0])\n",
    "model.predict(inference_batch[1])\n",
    "model.indexBatch(index_batch[1:])"
   ]
  }
 ],
 "metadata": {
  "kernelspec": {
   "display_name": "Python 3.10.6 64-bit",
   "language": "python",
   "name": "python3"
  },
  "language_info": {
   "codemirror_mode": {
    "name": "ipython",
    "version": 3
   },
   "file_extension": ".py",
   "mimetype": "text/x-python",
   "name": "python",
   "nbconvert_exporter": "python",
   "pygments_lexer": "ipython3",
   "version": "3.10.6"
  },
  "orig_nbformat": 4,
  "vscode": {
   "interpreter": {
    "hash": "b0fa6594d8f4cbf19f97940f81e996739fb7646882a419484c72d19e05852a7e"
   }
  }
 },
 "nbformat": 4,
 "nbformat_minor": 2
}
