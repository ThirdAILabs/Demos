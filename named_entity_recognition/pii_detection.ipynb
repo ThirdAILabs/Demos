{
 "cells": [
  {
   "cell_type": "markdown",
   "metadata": {},
   "source": [
    "### PII Detection with a pre-trained BOLT NER model\n",
    "\n",
    "In this notebook, we will show how to use ThirdAI's pre-trained PII detection model on your dataset. This model was trained on a proprietaty synthetic dataset generated from GPT-4. It detects the following types of PII.\n",
    "\n",
    "'PHONEIMEI', 'JOBAREA', 'FIRSTNAME', 'VEHICLEVIN', 'AGE', 'GENDER', 'HEIGHT', 'BUILDINGNUMBER', 'MASKEDNUMBER', 'PASSWORD', 'DOB', 'IPV6', 'NEARBYGPSCOORDINATE', 'USERAGENT', 'TIME', 'JOBTITLE', 'COUNTY', 'EMAIL', 'ACCOUNTNUMBER', 'PIN', 'EYECOLOR', 'LASTNAME', 'IPV4', 'DATE', 'STREET', 'CITY', 'PREFIX', 'MIDDLENAME', 'CREDITCARDISSUER', 'CREDITCARDNUMBER', 'STATE', 'VEHICLEVRM', 'ORDINALDIRECTION', 'SEX', 'JOBTYPE', 'CURRENCYCODE', 'CURRENCYSYMBOL', 'AMOUNT', 'ACCOUNTNAME', 'BITCOINADDRESS', 'LITECOINADDRESS', 'PHONENUMBER', 'MAC', 'CURRENCY', 'IBAN', 'COMPANYNAME', 'CURRENCYNAME', 'ZIPCODE', 'SSN', 'URL', 'IP', 'SECONDARYADDRESS', 'USERNAME', 'ETHEREUMADDRESS', 'CREDITCARDCVV', 'BIC'\n",
    "\n",
    "\n",
    "\n",
    "If you want to train a BOLT NER model on your own dataset, please refer to the other notebook in this folder."
   ]
  },
  {
   "cell_type": "code",
   "execution_count": null,
   "metadata": {},
   "outputs": [],
   "source": [
    "!pip3 install thirdai --upgrade"
   ]
  },
  {
   "cell_type": "markdown",
   "metadata": {},
   "source": [
    "### Activate your ThirdAI License Key\n",
    "\n",
    "You can apply for a trial license [here](https://www.thirdai.com/try-bolt/) ."
   ]
  },
  {
   "cell_type": "code",
   "execution_count": null,
   "metadata": {},
   "outputs": [],
   "source": [
    "import os\n",
    "from thirdai import bolt, licensing\n",
    "\n",
    "import os\n",
    "if \"THIRDAI_KEY\" in os.environ:\n",
    "    licensing.activate(os.environ[\"THIRDAI_KEY\"])\n",
    "else:\n",
    "    licensing.activate(\"\")  # Enter your ThirdAI key here"
   ]
  },
  {
   "cell_type": "markdown",
   "metadata": {},
   "source": [
    "### Download the Model"
   ]
  },
  {
   "cell_type": "code",
   "execution_count": null,
   "metadata": {},
   "outputs": [],
   "source": [
    "import os\n",
    "\n",
    "if not os.path.isdir(\"./models/\"):\n",
    "    os.system(\"mkdir ./models/\")\n",
    "\n",
    "if not os.path.exists(\"./models/pretrained_multilingual.model\"):\n",
    "    os.system(\"wget -nv -O ./models/pretrained_multilingual.model 'https://www.dropbox.com/scl/fi/xx8dnigcd2p5vh8n5kkby/model_unig.bolt?rlkey=tb1jpzzn4p2mj3mrqvrnw565m&st=ik609vvq&dl=0'\")"
   ]
  },
  {
   "cell_type": "markdown",
   "metadata": {},
   "source": [
    "### Load the Model"
   ]
  },
  {
   "cell_type": "code",
   "execution_count": 4,
   "metadata": {},
   "outputs": [],
   "source": [
    "pii_model = bolt.NER.load(\"./models/pretrained_multilingual.model\")"
   ]
  },
  {
   "cell_type": "markdown",
   "metadata": {},
   "source": [
    "### Make predictions on your data"
   ]
  },
  {
   "cell_type": "code",
   "execution_count": 23,
   "metadata": {},
   "outputs": [
    {
     "name": "stdout",
     "output_type": "stream",
     "text": [
      "Robert. : FIRSTNAME\n",
      "Houston. : CITY\n",
      "robbie@gmail.com. : EMAIL\n"
     ]
    }
   ],
   "source": [
    "sample_sentence = \"I'm Robert. I work at ThirdAI Corp. in Houston. I want to apply for a credit card. My email is robbie@gmail.com.\"\n",
    "\n",
    "tokens = sample_sentence.split()\n",
    "\n",
    "predicted_tags = pii_model.get_ner_tags([tokens], top_k=1)\n",
    "\n",
    "for i in range(len(tokens)):\n",
    "    if predicted_tags[0][i][0][0]!='O':\n",
    "        print(tokens[i]+' : '+predicted_tags[0][i][0][0])\n",
    "\n",
    "\n"
   ]
  },
  {
   "cell_type": "code",
   "execution_count": 27,
   "metadata": {},
   "outputs": [
    {
     "name": "stdout",
     "output_type": "stream",
     "text": [
      "Siddharth. : FIRSTNAME\n",
      "Mountain : CITY\n",
      "View. : CITY\n",
      "4147202361663155. : CREDITCARDNUMBER\n"
     ]
    }
   ],
   "source": [
    "sample_sentence = \"I'm Siddharth. I work at Google in Mountain View. I want to cancel my credit card with the number 4147202361663155.\"\n",
    "\n",
    "tokens = sample_sentence.split()\n",
    "\n",
    "predicted_tags = pii_model.get_ner_tags([tokens], top_k=1)\n",
    "\n",
    "for i in range(len(tokens)):\n",
    "    if predicted_tags[0][i][0][0]!='O':\n",
    "        print(tokens[i]+' : '+predicted_tags[0][i][0][0])"
   ]
  }
 ],
 "metadata": {
  "kernelspec": {
   "display_name": "base",
   "language": "python",
   "name": "python3"
  },
  "language_info": {
   "codemirror_mode": {
    "name": "ipython",
    "version": 3
   },
   "file_extension": ".py",
   "mimetype": "text/x-python",
   "name": "python",
   "nbconvert_exporter": "python",
   "pygments_lexer": "ipython3",
   "version": "3.10.10"
  }
 },
 "nbformat": 4,
 "nbformat_minor": 2
}
