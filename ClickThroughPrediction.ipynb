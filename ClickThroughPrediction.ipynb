{
 "cells": [
  {
   "cell_type": "markdown",
   "metadata": {},
   "source": [
    "# Criteo Click Through Prediction using ThirdAI's Universal Deep Transformer(UDT) APIs\n",
    "This notebook shows how to build a Click Through Prediction model using ThirdAI's UDT."
   ]
  },
  {
   "cell_type": "code",
   "execution_count": null,
   "metadata": {},
   "outputs": [],
   "source": [
    "!pip3 install thirdai --upgrade"
   ]
  },
  {
   "cell_type": "markdown",
   "metadata": {},
   "source": [
    "# Download Dataset"
   ]
  },
  {
   "cell_type": "code",
   "execution_count": null,
   "metadata": {},
   "outputs": [],
   "source": []
  },
  {
   "cell_type": "markdown",
   "metadata": {},
   "source": [
    "# UDT Initialization\n"
   ]
  },
  {
   "cell_type": "markdown",
   "metadata": {},
   "source": [
    "We can create a UDT model specific for Criteo Click Through Prediction as follows. Here we define Bolt Datatype for all the columns, specify the target, n_target classes and the embedding dimension for UDT. "
   ]
  },
  {
   "cell_type": "code",
   "execution_count": null,
   "metadata": {},
   "outputs": [],
   "source": [
    "from thirdai import bolt\n",
    "import numpy as np\n",
    "from sklearn.metrics import roc_auc_score\n",
    "\n",
    "\n",
    "tabular_model = bolt.UniversalDeepTransformer(\n",
    "    data_types={\n",
    "        \"numeric_1\": bolt.types.numerical(range=(0, 1500)),\n",
    "        \"numeric_2\": bolt.types.numerical(range=(0, 1500)),\n",
    "        \"numeric_3\": bolt.types.numerical(range=(0, 1500)),\n",
    "        \"numeric_4\": bolt.types.numerical(range=(0, 1500)),\n",
    "        \"numeric_5\": bolt.types.numerical(range=(0, 1500)),\n",
    "        \"numeric_6\": bolt.types.numerical(range=(0, 1500)),\n",
    "        \"numeric_7\": bolt.types.numerical(range=(0, 1500)),\n",
    "        \"numeric_8\": bolt.types.numerical(range=(0, 1500)),\n",
    "        \"numeric_9\": bolt.types.numerical(range=(0, 1500)),\n",
    "        \"numeric_10\": bolt.types.numerical(range=(0, 1500)),\n",
    "        \"numeric_11\": bolt.types.numerical(range=(0, 1500)),\n",
    "        \"numeric_12\": bolt.types.numerical(range=(0, 1500)),\n",
    "        \"numeric_13\": bolt.types.numerical(range=(0, 1500)),\n",
    "        \"cat_1\": bolt.types.categorical(),\n",
    "        \"cat_2\": bolt.types.categorical(),\n",
    "        \"cat_3\": bolt.types.categorical(),\n",
    "        \"cat_4\": bolt.types.categorical(),\n",
    "        \"cat_5\": bolt.types.categorical(),\n",
    "        \"cat_6\": bolt.types.categorical(),\n",
    "        \"cat_7\": bolt.types.categorical(),\n",
    "        \"cat_8\": bolt.types.categorical(),\n",
    "        \"cat_9\": bolt.types.categorical(),\n",
    "        \"cat_10\": bolt.types.categorical(),\n",
    "        \"cat_11\": bolt.types.categorical(),\n",
    "        \"cat_12\": bolt.types.categorical(),\n",
    "        \"cat_13\": bolt.types.categorical(),\n",
    "        \"cat_14\": bolt.types.categorical(),\n",
    "        \"cat_15\": bolt.types.categorical(),\n",
    "        \"cat_16\": bolt.types.categorical(),\n",
    "        \"cat_17\": bolt.types.categorical(),\n",
    "        \"cat_18\": bolt.types.categorical(),\n",
    "        \"cat_19\": bolt.types.categorical(),\n",
    "        \"cat_20\": bolt.types.categorical(),\n",
    "        \"cat_21\": bolt.types.categorical(),\n",
    "        \"cat_22\": bolt.types.categorical(),\n",
    "        \"cat_23\": bolt.types.categorical(),\n",
    "        \"cat_24\": bolt.types.categorical(),\n",
    "        \"cat_25\": bolt.types.categorical(),\n",
    "        \"cat_26\": bolt.types.categorical(),\n",
    "        \"label\": bolt.types.categorical(),\n",
    "    },\n",
    "    target=\"label\",\n",
    "    n_target_classes=2,\n",
    "    options={\"embedding_dimension\": 512},\n",
    ")"
   ]
  },
  {
   "cell_type": "markdown",
   "metadata": {},
   "source": [
    "# Training"
   ]
  },
  {
   "cell_type": "markdown",
   "metadata": {},
   "source": [
    "We will now train the UDT with just one line of code. Here we are specifying the training file name, number of epochs to train and maximum number of batches we want to load in memory at once. You can change max_in_memory_batches based on your RAM specification."
   ]
  },
  {
   "cell_type": "code",
   "execution_count": null,
   "metadata": {},
   "outputs": [],
   "source": [
    "\n",
    "\n",
    "tabular_model.train(filename=\"/share/data/criteo_tb/bigfile.txt\", epochs=1, max_in_memory_batches=1000)\n",
    "\n"
   ]
  },
  {
   "cell_type": "markdown",
   "metadata": {},
   "source": [
    "# Evaluation"
   ]
  },
  {
   "cell_type": "markdown",
   "metadata": {},
   "source": [
    "Evaluating the UDT is also just one line of code. Evaluate function by default returns activations. Then, we are using sklearn's roc_auc_score to calculate roc_auc_score for the model we developed here."
   ]
  },
  {
   "cell_type": "code",
   "execution_count": null,
   "metadata": {},
   "outputs": [],
   "source": [
    "activations = tabular_model.evaluate(filename=\"/share/data/criteo_tb/train_csvs/test\", metrics=[\"categorical_accuracy\"])\n",
    "\n",
    "true_labels = np.zeros(activations.shape[0], dtype=np.float32)\n",
    "with open(\"/share/data/criteo_tb/train_csvs/test\") as f:\n",
    "    header = f.readline()\n",
    "    count = 0\n",
    "    for line in f:\n",
    "        true_labels[count] = np.float32(line.split(\",\")[0])\n",
    "        count += 1\n",
    "\n",
    "roc_auc = roc_auc_score(true_labels, activations[:, 1])\n",
    "\n",
    "print(\"ROC_AUC:\", roc_auc)"
   ]
  }
 ],
 "metadata": {
  "language_info": {
   "name": "python"
  },
  "orig_nbformat": 4
 },
 "nbformat": 4,
 "nbformat_minor": 2
}
