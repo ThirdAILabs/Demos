{
 "cells": [
  {
   "cell_type": "markdown",
   "metadata": {},
   "source": [
    "# Criteo Click Through Prediction using ThirdAI's Universal Deep Transformer(UDT) APIs\n",
    "This notebook shows how to build a Click Through Prediction model using ThirdAI's UDT."
   ]
  },
  {
   "cell_type": "code",
   "execution_count": null,
   "metadata": {},
   "outputs": [],
   "source": [
    "!pip3 install thirdai --upgrade"
   ]
  },
  {
   "cell_type": "markdown",
   "metadata": {},
   "source": [
    "# Download and Process Dataset"
   ]
  },
  {
   "cell_type": "markdown",
   "metadata": {},
   "source": [
    "We will now create a sample dataset for training. Criteo-Click Logs dataset can be downloaded from https://ailab.criteo.com. Once datasets are downloaded convert the datasets into csv format. \n",
    "\n",
    "Column headers: `<label>` is titled as `<label>`, `<integer feature 1>` is titled as `numeric_1` and `<categorical feature 1>` as `cat_1`\n",
    "\n",
    "<span style=\"color:red\">Disclaimer: Remember that the following model is trained on sample data, to achieve better AUC train on the original criteo-dataset.</span>"
   ]
  },
  {
   "cell_type": "code",
   "execution_count": null,
   "metadata": {},
   "outputs": [],
   "source": [
    "import numpy as np\n",
    "import pandas as pd\n",
    "\n",
    "TRAIN_FILE = 'train_file.txt'\n",
    "TEST_FILE = 'test_file.txt'\n",
    "\n",
    "header = 'label,numeric_1,numeric_2,numeric_3,numeric_4,numeric_5,numeric_6,numeric_7,numeric_8,numeric_9,numeric_10,numeric_11,numeric_12,numeric_13,'\n",
    "header += 'cat_1,cat_2,cat_3,cat_4,cat_5,cat_6,cat_7,cat_8,cat_9,cat_10,cat_11,cat_12,cat_13,cat_14,cat_15,cat_16,cat_17,cat_18,cat_19,cat_20,cat_21,'\n",
    "header += 'cat_22,cat_23,cat_24,cat_25,cat_26'\n",
    "\n",
    "column_header=header.split(\",\")\n",
    "\n",
    "num_training_data=1200\n",
    "num_numeric_features=13\n",
    "num_categorical_features=26\n",
    "\n",
    "numeric_data = np.random.randint(1500, size=(num_training_data, num_numeric_features))\n",
    "categorical_data = np.random.randint(10000, size=(num_training_data, num_categorical_features))\n",
    "label = np.random.randint(2, size=(num_training_data, 1))\n",
    "\n",
    "data_X , data_Y = np.concatenate((numeric_data, categorical_data), axis=1), label\n",
    "\n",
    "train_data = np.concatenate((data_Y[:1000], data_X[:1000]), axis=1)\n",
    "train_df = pd.DataFrame(train_data, columns=column_header)\n",
    "train_df.to_csv(TRAIN_FILE, index=False)\n",
    "\n",
    "\n",
    "test_data = np.concatenate((data_Y[1000:], data_X[1000:]), axis=1)\n",
    "train_df = pd.DataFrame(test_data, columns=column_header)\n",
    "train_df.to_csv(TEST_FILE, index=False)\n",
    "\n",
    "train_df.head(10)"
   ]
  },
  {
   "cell_type": "markdown",
   "metadata": {},
   "source": [
    "# UDT Initialization\n"
   ]
  },
  {
   "cell_type": "markdown",
   "metadata": {},
   "source": [
    "We can create a UDT model specific for Criteo Click Through Prediction as follows. Here we define Bolt Datatype for all the columns, specify the target, n_target classes and the embedding dimension for UDT. "
   ]
  },
  {
   "cell_type": "code",
   "execution_count": null,
   "metadata": {},
   "outputs": [],
   "source": [
    "from thirdai import bolt\n",
    "import numpy as np\n",
    "from sklearn.metrics import roc_auc_score\n",
    "\n",
    "\n",
    "tabular_model = bolt.UniversalDeepTransformer(\n",
    "    data_types={\n",
    "        \"numeric_1\": bolt.types.numerical(range=(0, 1500)),\n",
    "        \"numeric_2\": bolt.types.numerical(range=(0, 1500)),\n",
    "        \"numeric_3\": bolt.types.numerical(range=(0, 1500)),\n",
    "        \"numeric_4\": bolt.types.numerical(range=(0, 1500)),\n",
    "        \"numeric_5\": bolt.types.numerical(range=(0, 1500)),\n",
    "        \"numeric_6\": bolt.types.numerical(range=(0, 1500)),\n",
    "        \"numeric_7\": bolt.types.numerical(range=(0, 1500)),\n",
    "        \"numeric_8\": bolt.types.numerical(range=(0, 1500)),\n",
    "        \"numeric_9\": bolt.types.numerical(range=(0, 1500)),\n",
    "        \"numeric_10\": bolt.types.numerical(range=(0, 1500)),\n",
    "        \"numeric_11\": bolt.types.numerical(range=(0, 1500)),\n",
    "        \"numeric_12\": bolt.types.numerical(range=(0, 1500)),\n",
    "        \"numeric_13\": bolt.types.numerical(range=(0, 1500)),\n",
    "        \"cat_1\": bolt.types.categorical(),\n",
    "        \"cat_2\": bolt.types.categorical(),\n",
    "        \"cat_3\": bolt.types.categorical(),\n",
    "        \"cat_4\": bolt.types.categorical(),\n",
    "        \"cat_5\": bolt.types.categorical(),\n",
    "        \"cat_6\": bolt.types.categorical(),\n",
    "        \"cat_7\": bolt.types.categorical(),\n",
    "        \"cat_8\": bolt.types.categorical(),\n",
    "        \"cat_9\": bolt.types.categorical(),\n",
    "        \"cat_10\": bolt.types.categorical(),\n",
    "        \"cat_11\": bolt.types.categorical(),\n",
    "        \"cat_12\": bolt.types.categorical(),\n",
    "        \"cat_13\": bolt.types.categorical(),\n",
    "        \"cat_14\": bolt.types.categorical(),\n",
    "        \"cat_15\": bolt.types.categorical(),\n",
    "        \"cat_16\": bolt.types.categorical(),\n",
    "        \"cat_17\": bolt.types.categorical(),\n",
    "        \"cat_18\": bolt.types.categorical(),\n",
    "        \"cat_19\": bolt.types.categorical(),\n",
    "        \"cat_20\": bolt.types.categorical(),\n",
    "        \"cat_21\": bolt.types.categorical(),\n",
    "        \"cat_22\": bolt.types.categorical(),\n",
    "        \"cat_23\": bolt.types.categorical(),\n",
    "        \"cat_24\": bolt.types.categorical(),\n",
    "        \"cat_25\": bolt.types.categorical(),\n",
    "        \"cat_26\": bolt.types.categorical(),\n",
    "        \"label\": bolt.types.categorical(),\n",
    "    },\n",
    "    target=\"label\",\n",
    "    n_target_classes=2,\n",
    "    options={\"embedding_dimension\": 512},\n",
    ")"
   ]
  },
  {
   "cell_type": "markdown",
   "metadata": {},
   "source": [
    "# Training"
   ]
  },
  {
   "cell_type": "markdown",
   "metadata": {},
   "source": [
    "We will now train the UDT with just one line of code. Here we are specifying the training file name, number of epochs to train and maximum number of batches we want to load in memory at once. `max_in_memory_batches` support loaing data in a streaming fashion. You can change `max_in_memory_batches` based on your own memory specification."
   ]
  },
  {
   "cell_type": "code",
   "execution_count": null,
   "metadata": {},
   "outputs": [],
   "source": [
    "\n",
    "\n",
    "tabular_model.train(filename=TRAIN_FILE, epochs=1, max_in_memory_batches=1000)\n",
    "\n"
   ]
  },
  {
   "cell_type": "markdown",
   "metadata": {},
   "source": [
    "# Evaluation"
   ]
  },
  {
   "cell_type": "markdown",
   "metadata": {},
   "source": [
    "Evaluating the UDT is also just one line of code. Evaluate function by default returns activations. Then, we are using sklearn's roc_auc_score to calculate roc_auc_score for the model we trained."
   ]
  },
  {
   "cell_type": "code",
   "execution_count": null,
   "metadata": {},
   "outputs": [],
   "source": [
    "activations = tabular_model.evaluate(filename=TEST_FILE, metrics=[\"categorical_accuracy\"])\n",
    "\n",
    "true_labels = np.zeros(activations.shape[0], dtype=np.float32)\n",
    "with open(TEST_FILE) as f:\n",
    "    header = f.readline()\n",
    "    count = 0\n",
    "    for line in f:\n",
    "        true_labels[count] = np.float32(line.split(\",\")[0])\n",
    "        count += 1\n",
    "\n",
    "roc_auc = roc_auc_score(true_labels, activations[:, 1])\n",
    "\n",
    "print(\"ROC_AUC:\", roc_auc)\n",
    "\n"
   ]
  },
  {
   "cell_type": "code",
   "execution_count": null,
   "metadata": {},
   "outputs": [],
   "source": [
    "import os\n",
    "os.remove(TRAIN_FILE)\n",
    "os.remove(TEST_FILE)"
   ]
  }
 ],
 "metadata": {
  "interpreter": {
   "hash": "916dbcbb3f70747c44a77c7bcd40155683ae19c65e1c03b4aa3499c5328201f1"
  },
  "kernelspec": {
   "display_name": "Python 3.8.10 64-bit",
   "language": "python",
   "name": "python3"
  },
  "language_info": {
   "codemirror_mode": {
    "name": "ipython",
    "version": 3
   },
   "file_extension": ".py",
   "mimetype": "text/x-python",
   "name": "python",
   "nbconvert_exporter": "python",
   "pygments_lexer": "ipython3",
   "version": "3.8.10"
  },
  "orig_nbformat": 4
 },
 "nbformat": 4,
 "nbformat_minor": 2
}
